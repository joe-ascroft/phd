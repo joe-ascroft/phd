{
 "cells": [
  {
   "cell_type": "code",
   "execution_count": 1,
   "metadata": {},
   "outputs": [
    {
     "name": "stdout",
     "output_type": "stream",
     "text": [
      "           DATE     WTI_HH   NCF_RCF   NCF_WTI     NCF_HH    NCF_NBP  \\\n",
      "0    2009-01-05   8.337907  0.920024  1.597408  13.319039   9.317755   \n",
      "1    2009-01-06   7.960656  0.918079  1.673188  13.319672   9.094982   \n",
      "2    2009-01-07   7.258065  0.911884  1.839766  13.353141   8.969184   \n",
      "3    2009-01-08   6.993289  0.942262  1.898992  13.280201   9.340782   \n",
      "4    2009-01-09   7.266071  0.920958  1.889899  13.732143   9.019865   \n",
      "...         ...        ...       ...       ...        ...        ...   \n",
      "2850 2020-08-25  16.996063  1.017382  1.152421  19.586614  15.375235   \n",
      "2851 2020-08-26  17.146825  1.015322  1.150197  19.722222  15.008563   \n",
      "2852 2020-08-27  17.015873  1.018405  1.161381  19.761905  14.134232   \n",
      "2853 2020-08-28  17.463415  0.969349  1.177840  20.569106  13.098330   \n",
      "2854 2020-08-31  18.526087  0.982042  1.219197  22.586957  13.412611   \n",
      "\n",
      "         NCF_B     RCF_B    RCF_NBP     WTI_B  ...  WTI_HH_r  NCF_RCF_r  \\\n",
      "0     1.564893  1.700927  10.127733  0.979645  ... -0.023000   0.002312   \n",
      "1     1.607956  1.751435   9.906535  0.961013  ... -0.045245  -0.002114   \n",
      "2     1.715002  1.880724   9.835882  0.932185  ... -0.088258  -0.006748   \n",
      "3     1.771883  1.880457   9.913148  0.933065  ... -0.036480   0.033313   \n",
      "4     1.731202  1.879784   9.794002  0.916029  ...  0.039006  -0.022609   \n",
      "...        ...       ...        ...       ...  ...       ...        ...   \n",
      "2850  1.084823  1.066289  15.112543  0.941343  ...  0.029215  -0.001041   \n",
      "2851  1.088957  1.072524  14.782075  0.946757  ...  0.008870  -0.002025   \n",
      "2852  1.104458  1.084498  13.878794  0.950987  ... -0.007637   0.003037   \n",
      "2853  1.104562  1.139489  13.512506  0.937787  ...  0.026301  -0.048170   \n",
      "2854  1.147306  1.168286  13.657885  0.941034  ...  0.060851   0.013094   \n",
      "\n",
      "      NCF_WTI_r  NCF_HH_r  NCF_NBP_r   NCF_B_r   RCF_B_r  RCF_NBP_r   WTI_B_r  \\\n",
      "0     -0.008039 -0.030854  -0.008499 -0.012654 -0.014932  -0.010787 -0.004653   \n",
      "1      0.047439  0.000048  -0.023908  0.027518  0.029694  -0.021841 -0.019019   \n",
      "2      0.099557  0.002513  -0.013832  0.066573  0.073819  -0.007132 -0.029998   \n",
      "3      0.032192 -0.005462   0.041430  0.033166 -0.000142   0.007855  0.000944   \n",
      "4     -0.004788  0.034031  -0.034356 -0.022959 -0.000358  -0.012019 -0.018258   \n",
      "...         ...       ...        ...       ...       ...        ...       ...   \n",
      "2850  -0.015921  0.012829  -0.061853 -0.014928 -0.013901  -0.060876  0.001009   \n",
      "2851  -0.001930  0.006924  -0.023848  0.003810  0.005848  -0.021867  0.005751   \n",
      "2852   0.009723  0.002012  -0.058255  0.014234  0.011164  -0.061107  0.004468   \n",
      "2853   0.014172  0.040846  -0.073290  0.000095  0.050707  -0.026392 -0.013881   \n",
      "2854   0.035113  0.098101   0.023994  0.038697  0.025272   0.010759  0.003462   \n",
      "\n",
      "       NBP_B_r  \n",
      "0    -0.004191  \n",
      "1     0.052686  \n",
      "2     0.081532  \n",
      "3    -0.007935  \n",
      "4     0.011803  \n",
      "...        ...  \n",
      "2850  0.050019  \n",
      "2851  0.028334  \n",
      "2852  0.076974  \n",
      "2853  0.079189  \n",
      "2854  0.014359  \n",
      "\n",
      "[2855 rows x 21 columns]\n"
     ]
    }
   ],
   "source": [
    "import numpy as np\n",
    "import pandas as pd\n",
    "import datetime as dt\n",
    "import datapackage\n",
    "import matplotlib.pyplot as plt\n",
    "import matplotlib.dates as dates\n",
    "import statsmodels.api as sm\n",
    "\n",
    "## investigating volatility linkages between oil, gas, and regionalised coal futures markets ##\n",
    "\n",
    "url = 'https://raw.githubusercontent.com/joe-ascroft/phd/master/df_rr.csv'\n",
    "\n",
    "df_rr = pd.read_csv(url)\n",
    "df_rr[\"DATE\"] = pd.to_datetime(df_rr[\"DATE\"],dayfirst=True)\n",
    "for col in df_rr.columns[1:]:\n",
    "    df_rr[col] = pd.to_numeric(df_rr[col],errors='coerce')\n",
    "\n",
    "print(df_rr)"
   ]
  },
  {
   "cell_type": "code",
   "execution_count": null,
   "metadata": {},
   "outputs": [],
   "source": [
    "## markov regime switching for price ratio returns ##\n",
    "\n",
    "mod = sm.tsa.MarkovRegression(df_rr['NBP_B_r'], k_regimes=2, order=1, switching_variance=True)\n",
    "res_mod = mod.fit()\n",
    "res_mod.summary()"
   ]
  },
  {
   "cell_type": "code",
   "execution_count": null,
   "metadata": {},
   "outputs": [],
   "source": [
    "plt.figure(figsize=(14,8)) \n",
    "plt.plot(df_rr[\"DATE\"],df_rr[\"NBP_B\"])"
   ]
  },
  {
   "cell_type": "code",
   "execution_count": null,
   "metadata": {},
   "outputs": [],
   "source": []
  },
  {
   "cell_type": "code",
   "execution_count": null,
   "metadata": {},
   "outputs": [],
   "source": []
  }
 ],
 "metadata": {
  "kernelspec": {
   "display_name": "Python 3",
   "language": "python",
   "name": "python3"
  },
  "language_info": {
   "codemirror_mode": {
    "name": "ipython",
    "version": 3
   },
   "file_extension": ".py",
   "mimetype": "text/x-python",
   "name": "python",
   "nbconvert_exporter": "python",
   "pygments_lexer": "ipython3",
   "version": "3.8.5"
  }
 },
 "nbformat": 4,
 "nbformat_minor": 4
}
