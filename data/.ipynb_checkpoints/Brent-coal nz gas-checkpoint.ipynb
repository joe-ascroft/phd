{
 "cells": [
  {
   "cell_type": "code",
   "execution_count": 1,
   "metadata": {},
   "outputs": [
    {
     "name": "stdout",
     "output_type": "stream",
     "text": [
      "         DATE  Price_NZ    NZ_BTU  NZ_USD_Q  NZBTU_USD        HH    NBP_raw  \\\n",
      "0  1999-03-01  2.885704  3.044580  0.539400   1.642246  1.903333   9.825882   \n",
      "1  1999-06-01  2.936804  3.098492  0.537400   1.665130  2.290000   9.510690   \n",
      "2  1999-09-01  2.698549  2.847121  0.521433   1.484584  2.693333   9.767143   \n",
      "3  1999-12-01  2.827617  2.983294  0.511567   1.526154  2.383333  10.796316   \n",
      "4  2000-03-01  2.871244  3.029323  0.493033   1.493557  2.830000  14.691452   \n",
      "..        ...       ...       ...       ...        ...       ...        ...   \n",
      "85 2020-06-01  6.278793  6.624478  0.637233   4.221338  1.716667  17.556032   \n",
      "86 2020-09-01  6.594163  6.957211  0.663333   4.614950  2.203333  23.882985   \n",
      "87 2020-12-01  6.825113  7.200877  0.704467   5.072778  2.636667  36.814286   \n",
      "88 2021-03-01  7.414286  7.822487  0.717100   5.609505  3.543333  49.338936   \n",
      "89 2021-06-01  9.099814  9.600814  0.710567   6.822018  3.336667  60.539615   \n",
      "\n",
      "     NBP_USD      Brent   Brent_US  Unnamed: 10  \n",
      "0   1.605058  11.563175  18.888446       1.6335  \n",
      "1   1.528368  15.847705  25.467262       1.6070  \n",
      "2   1.564794  20.689846  33.147203       1.6021  \n",
      "3   1.760447  23.865079  38.914398       1.6306  \n",
      "4   2.360476  26.551406  42.660144       1.6067  \n",
      "..       ...        ...        ...          ...  \n",
      "85  2.180108  33.447344  41.534911       1.2418  \n",
      "86  3.084249  43.380000  56.020932       1.2914  \n",
      "87  4.860958  45.276462  59.783040       1.3204  \n",
      "88  6.804333  61.267619  84.494173       1.3791  \n",
      "89  8.467676  68.965714  96.462345       1.3987  \n",
      "\n",
      "[90 rows x 11 columns]\n"
     ]
    }
   ],
   "source": [
    "import numpy as np\n",
    "import pandas as pd\n",
    "import datetime as dt\n",
    "import datapackage\n",
    "import matplotlib.pyplot as plt\n",
    "import matplotlib.dates as dates\n",
    "import statsmodels.api as sm\n",
    "import statsmodels.formula.api as smf\n",
    "import statsmodels.tsa.stattools as ts\n",
    "\n",
    "### STARGAZER ###\n",
    "\n",
    "from stargazer.stargazer import Stargazer, LineLocation\n",
    "\n",
    "url = 'https://raw.githubusercontent.com/joe-ascroft/phd/master/data/df_nzgas.csv'\n",
    "df = pd.read_csv(url)\n",
    "df[\"DATE\"] = pd.to_datetime(df[\"DATE\"],dayfirst=True)\n",
    "for col in df.columns[1:]:\n",
    "    df[col] = pd.to_numeric(df[col],errors='coerce')\n",
    "\n",
    "df = df.dropna()\n",
    "\n",
    "df2 = df[(df['DATE'] >= '2009-3-1') & (df['DATE'] <= '2022-6-10')]\n",
    "\n",
    "df3 = df[(df['DATE'] < '2009-3-1')]\n",
    "\n",
    "print(df)"
   ]
  },
  {
   "cell_type": "code",
   "execution_count": 2,
   "metadata": {},
   "outputs": [],
   "source": [
    "result1 = smf.ols(formula=\"NZBTU_USD ~ Brent\", data=df).fit()\n",
    "result2 = smf.ols(formula=\"NZBTU_USD ~ Brent\", data=df2).fit()\n",
    "result3 = smf.ols(formula=\"NZBTU_USD ~ Brent\", data=df3).fit()"
   ]
  },
  {
   "cell_type": "code",
   "execution_count": 3,
   "metadata": {},
   "outputs": [
    {
     "name": "stdout",
     "output_type": "stream",
     "text": [
      "(-1.7337082576108767, 0.41383395980219495, 0, 89, {'1%': -3.506057133647011, '5%': -2.8946066061911946, '10%': -2.5844100201994697}, 118.07905552510425)\n",
      "(-1.3494424120128508, 0.606260023806761, 1, 48, {'1%': -3.5745892596209488, '5%': -2.9239543084490744, '10%': -2.6000391840277777}, 29.241739719660586)\n",
      "(-3.2842483364432185, 0.015597425103066814, 1, 38, {'1%': -3.6155091011809297, '5%': -2.941262357486514, '10%': -2.6091995013850418}, 32.21646672198272)\n"
     ]
    }
   ],
   "source": [
    "test1 = ts.adfuller(result1.resid,autolag=\"AIC\")\n",
    "print(test1)\n",
    "\n",
    "\n",
    "test2 = ts.adfuller(result2.resid,autolag=\"AIC\")\n",
    "print(test2)\n",
    "\n",
    "test3 = ts.adfuller(result3.resid,autolag=\"AIC\")\n",
    "print(test3)"
   ]
  },
  {
   "cell_type": "code",
   "execution_count": 4,
   "metadata": {},
   "outputs": [
    {
     "name": "stdout",
     "output_type": "stream",
     "text": [
      "\\begin{table}[!htbp] \\centering\n",
      "\\begin{tabular}{@{\\extracolsep{5pt}}lccc}\n",
      "\\\\[-1.8ex]\\hline\n",
      "\\hline \\\\[-1.8ex]\n",
      "& \\multicolumn{3}{c}{\\textit{Dependent variable:}} \\\n",
      "\\cr \\cline{3-4}\n",
      "\\\\[-1.8ex] & (1) & (2) & (3) \\\\\n",
      "\\hline \\\\[-1.8ex]\n",
      " Brent & 0.044$^{***}$ & 0.023$^{***}$ & 0.033$^{***}$ \\\\\n",
      "  & (0.003) & (0.002) & (0.003) \\\\\n",
      " Intercept & 1.225$^{***}$ & 3.385$^{***}$ & 0.896$^{***}$ \\\\\n",
      "  & (0.234) & (0.195) & (0.160) \\\\\n",
      "\\hline \\\\[-1.8ex]\n",
      " Observations & 90 & 50 & 40 \\\\\n",
      " $R^2$ & 0.651 & 0.654 & 0.760 \\\\\n",
      " Adjusted $R^2$ & 0.647 & 0.647 & 0.754 \\\\\n",
      " Residual Std. Error & 0.964(df = 88) & 0.440(df = 48) & 0.514(df = 38)  \\\\\n",
      " F Statistic & 164.433$^{***}$ (df = 1.0; 88.0) & 90.793$^{***}$ (df = 1.0; 48.0) & 120.406$^{***}$ (df = 1.0; 38.0) \\\\\n",
      "\\hline\n",
      "\\hline \\\\[-1.8ex]\n",
      "\\textit{Note:} & \\multicolumn{3}{r}{$^{*}$p$<$0.1; $^{**}$p$<$0.05; $^{***}$p$<$0.01} \\\\\n",
      "\\end{tabular}\n",
      "\\end{table}\n"
     ]
    }
   ],
   "source": [
    "star = Stargazer([result1, result2, result3 ])\n",
    "print(star.render_latex())"
   ]
  },
  {
   "cell_type": "code",
   "execution_count": null,
   "metadata": {},
   "outputs": [],
   "source": []
  }
 ],
 "metadata": {
  "kernelspec": {
   "display_name": "Python 3",
   "language": "python",
   "name": "python3"
  },
  "language_info": {
   "codemirror_mode": {
    "name": "ipython",
    "version": 3
   },
   "file_extension": ".py",
   "mimetype": "text/x-python",
   "name": "python",
   "nbconvert_exporter": "python",
   "pygments_lexer": "ipython3",
   "version": "3.8.5"
  }
 },
 "nbformat": 4,
 "nbformat_minor": 4
}
