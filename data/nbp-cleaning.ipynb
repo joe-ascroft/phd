{
 "cells": [
  {
   "cell_type": "code",
   "execution_count": 2,
   "metadata": {},
   "outputs": [],
   "source": [
    "import numpy as np\n",
    "import pandas as pd\n",
    "import datetime as dt\n",
    "import datapackage\n",
    "import matplotlib.pyplot as plt\n",
    "import matplotlib.dates as dates\n",
    "\n",
    "## loading packages "
   ]
  },
  {
   "cell_type": "code",
   "execution_count": null,
   "metadata": {},
   "outputs": [],
   "source": [
    "## cleaning nbp data and converting to quarterly from daily ##\n",
    "\n",
    "url = 'https://raw.githubusercontent.com/joe-ascroft/phd/master/data/nbp-daily.csv'\n",
    "df_old = pd.read_csv(url)\n",
    "\n",
    "df = df_old[[\"Date\",\"Price\"]].copy()\n",
    "df[\"Date\"] = pd.to_datetime(df[\"Date\"],dayfirst=True)\n",
    "print(df)\n",
    "plt.plot(df[\"Price\"])"
   ]
  },
  {
   "cell_type": "code",
   "execution_count": null,
   "metadata": {},
   "outputs": [],
   "source": [
    "df_nbp = df.groupby(pd.PeriodIndex(df['Date'], freq=\"Q\"))['Price'].mean()\n",
    "print(df_nbp)"
   ]
  },
  {
   "cell_type": "code",
   "execution_count": null,
   "metadata": {},
   "outputs": [],
   "source": [
    "df_nbp.to_csv('/Users/joe/Documents/GitHub/phd/data/nbp_quarterly.csv',index=False,)"
   ]
  },
  {
   "cell_type": "code",
   "execution_count": 6,
   "metadata": {},
   "outputs": [
    {
     "name": "stdout",
     "output_type": "stream",
     "text": [
      "           Date  Brent\n",
      "0    2021-06-29  74.76\n",
      "1    2021-06-28  74.68\n",
      "2    2021-06-25  76.18\n",
      "3    2021-06-24  75.56\n",
      "4    2021-06-23  75.19\n",
      "...         ...    ...\n",
      "7216 1993-03-23  18.61\n",
      "7217 1993-03-22  18.50\n",
      "7218 1993-03-19  18.89\n",
      "7219 1993-03-18  18.87\n",
      "7220 1993-03-17  18.80\n",
      "\n",
      "[7221 rows x 2 columns]\n",
      "Date\n",
      "1993Q1    18.781818\n",
      "1993Q2    18.876721\n",
      "1993Q3    17.265714\n",
      "1993Q4    15.502034\n",
      "1994Q1    13.743710\n",
      "            ...    \n",
      "2020Q2    33.447344\n",
      "2020Q3    43.380000\n",
      "2020Q4    45.276462\n",
      "2021Q1    61.267619\n",
      "2021Q2    68.965714\n",
      "Freq: Q-DEC, Name: Brent, Length: 114, dtype: float64\n"
     ]
    },
    {
     "data": {
      "image/png": "[encoded data removed]",
      "text/plain": [
       "<Figure size 432x288 with 1 Axes>"
      ]
     },
     "metadata": {
      "needs_background": "light"
     },
     "output_type": "display_data"
    }
   ],
   "source": [
    "## brent cleaning and moving to Q from daily ##\n",
    "\n",
    "url = 'https://raw.githubusercontent.com/joe-ascroft/phd/master/data/brent-daily.csv'\n",
    "df_old = pd.read_csv(url)\n",
    "\n",
    "df = df_old[[\"Date\",\"Brent\"]].copy()\n",
    "df[\"Date\"] = pd.to_datetime(df[\"Date\"],dayfirst=True)\n",
    "print(df)\n",
    "plt.plot(df[\"Brent\"])\n",
    "df_brent = df.groupby(pd.PeriodIndex(df['Date'], freq=\"Q\"))['Brent'].mean()\n",
    "print(df_brent)\n",
    "df_brent.to_csv('/Users/joe/Documents/GitHub/phd/data/brent_quarterly.csv',index=False)"
   ]
  },
  {
   "cell_type": "code",
   "execution_count": null,
   "metadata": {},
   "outputs": [],
   "source": []
  },
  {
   "cell_type": "code",
   "execution_count": null,
   "metadata": {},
   "outputs": [],
   "source": []
  }
 ],
 "metadata": {
  "kernelspec": {
   "display_name": "Python 3",
   "language": "python",
   "name": "python3"
  },
  "language_info": {
   "codemirror_mode": {
    "name": "ipython",
    "version": 3
   },
   "file_extension": ".py",
   "mimetype": "text/x-python",
   "name": "python",
   "nbconvert_exporter": "python",
   "pygments_lexer": "ipython3",
   "version": "3.8.5"
  }
 },
 "nbformat": 4,
 "nbformat_minor": 4
}
