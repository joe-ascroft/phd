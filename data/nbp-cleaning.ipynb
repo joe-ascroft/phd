{
 "cells": [
  {
   "cell_type": "code",
   "execution_count": 2,
   "metadata": {},
   "outputs": [
    {
     "name": "stdout",
     "output_type": "stream",
     "text": [
      "          Date  Price\n",
      "0     29/06/21  82.79\n",
      "1     28/06/21  79.60\n",
      "2     25/06/21  79.88\n",
      "3     24/06/21  78.81\n",
      "4     23/06/21  76.90\n",
      "...        ...    ...\n",
      "5721   5/03/99   9.34\n",
      "5722   4/03/99   9.30\n",
      "5723   3/03/99   9.25\n",
      "5724   2/03/99   9.28\n",
      "5725   1/03/99   9.29\n",
      "\n",
      "[5726 rows x 2 columns]\n"
     ]
    }
   ],
   "source": [
    "import numpy as np\n",
    "import pandas as pd\n",
    "import datetime as dt\n",
    "import datapackage\n",
    "import matplotlib.pyplot as plt\n",
    "import matplotlib.dates as dates\n",
    "\n",
    "## investigating volatility linkages between oil, gas, and regionalised coal futures markets ##\n",
    "\n",
    "## load data from Github into new frame and remove rows with absent data ##\n",
    "\n",
    "url = 'https://raw.githubusercontent.com/joe-ascroft/phd/master/data/nbp-daily.csv'\n",
    "df_old = pd.read_csv(url)\n",
    "\n",
    "df = df[[\"Date\",\"Price\"]].copy()\n",
    "print(df)"
   ]
  },
  {
   "cell_type": "code",
   "execution_count": 5,
   "metadata": {},
   "outputs": [],
   "source": [
    "df_nbp = df.groupby(pd.PeriodIndex(df['Date'], freq=\"Q\"))['Price'].mean()"
   ]
  },
  {
   "cell_type": "code",
   "execution_count": null,
   "metadata": {},
   "outputs": [],
   "source": []
  }
 ],
 "metadata": {
  "kernelspec": {
   "display_name": "Python 3",
   "language": "python",
   "name": "python3"
  },
  "language_info": {
   "codemirror_mode": {
    "name": "ipython",
    "version": 3
   },
   "file_extension": ".py",
   "mimetype": "text/x-python",
   "name": "python",
   "nbconvert_exporter": "python",
   "pygments_lexer": "ipython3",
   "version": "3.8.5"
  }
 },
 "nbformat": 4,
 "nbformat_minor": 4
}
