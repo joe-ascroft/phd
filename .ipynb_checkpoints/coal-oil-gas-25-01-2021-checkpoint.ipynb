{
 "cells": [
  {
   "cell_type": "code",
   "execution_count": null,
   "metadata": {
    "scrolled": false
   },
   "outputs": [],
   "source": [
    "import numpy as np\n",
    "import pandas as pd\n",
    "import datetime as dt\n",
    "import datapackage\n",
    "import matplotlib.pyplot as plt\n",
    "import statsmodels.api as sm\n",
    "\n",
    "## investigating volatility linkages between oil, gas, and regionalised coal futures markets ##\n",
    "\n",
    "## load data from Github into new frame and remove rows with absent data ##\n",
    "\n",
    "url = 'https://raw.githubusercontent.com/joe-ascroft/phd/master/df-combined.csv'\n",
    "df = pd.read_csv(url)\n",
    "df[\"DATE\"] = pd.to_datetime(df[\"DATE\"])\n",
    "for col in df.columns[1:]:\n",
    "    df[col] = pd.to_numeric(df[col],errors='coerce')\n",
    "\n",
    "df = df.dropna()"
   ]
  },
  {
   "cell_type": "code",
   "execution_count": null,
   "metadata": {
    "scrolled": false
   },
   "outputs": [],
   "source": [
    "## calculating returns ##\n",
    "\n",
    "for col in df.columns[5:9]:\n",
    "    df[col+'_r'] = df[col] - df[col].shift(1)\n",
    "    \n",
    "df = df.dropna()\n",
    "print(df)"
   ]
  },
  {
   "cell_type": "code",
   "execution_count": null,
   "metadata": {},
   "outputs": [],
   "source": [
    "## calculating price ratios ##\n",
    "\n",
    "df['HH_NCF'] = df['HH_ln']/df['NCF_ln']\n",
    "print(df)"
   ]
  },
  {
   "cell_type": "code",
   "execution_count": null,
   "metadata": {},
   "outputs": [],
   "source": [
    "## markov regime switching for Henry Hub and Newcastle Gas Futures##\n",
    "\n",
    "mod = sm.tsa.MarkovRegression(df['HH_NCF'][1:], k_regimes=3)\n",
    "res = mod.fit()\n",
    "res.summary()\n",
    "\n",
    "res.smoothed_marginal_probabilities[1].plot(\n",
    "    title='Probability of being in the high regime', figsize=(12,2))"
   ]
  },
  {
   "cell_type": "code",
   "execution_count": null,
   "metadata": {},
   "outputs": [],
   "source": [
    "## OLS on volatility output ##\n",
    "\n",
    "mod1 = sm.OLS(df[\"HH_ln\"],df[\"NCF_ln\"])\n",
    "results = mod1.fit()\n",
    "print(results.summary())"
   ]
  },
  {
   "cell_type": "code",
   "execution_count": null,
   "metadata": {},
   "outputs": [],
   "source": [
    "plt.plot(df.DATE,df.NCF_ln)"
   ]
  },
  {
   "cell_type": "code",
   "execution_count": null,
   "metadata": {},
   "outputs": [],
   "source": []
  }
 ],
 "metadata": {
  "kernelspec": {
   "display_name": "Python 3",
   "language": "python",
   "name": "python3"
  },
  "language_info": {
   "codemirror_mode": {
    "name": "ipython",
    "version": 3
   },
   "file_extension": ".py",
   "mimetype": "text/x-python",
   "name": "python",
   "nbconvert_exporter": "python",
   "pygments_lexer": "ipython3",
   "version": "3.7.7"
  }
 },
 "nbformat": 4,
 "nbformat_minor": 4
}
