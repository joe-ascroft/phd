{
 "cells": [
  {
   "cell_type": "code",
   "execution_count": 2,
   "metadata": {
    "scrolled": false
   },
   "outputs": [],
   "source": [
    "import numpy as np\n",
    "import pandas as pd\n",
    "import datetime as dt\n",
    "import datapackage\n",
    "import matplotlib.pyplot as plt\n",
    "import matplotlib.dates as dates\n",
    "import statsmodels.api as sm\n",
    "\n",
    "## investigating volatility linkages between oil, gas, and regionalised coal futures markets ##\n",
    "\n",
    "## load data from Github into new frame and remove rows with absent data ##\n",
    "\n",
    "url = 'https://raw.githubusercontent.com/joe-ascroft/phd/master/df-combined.csv'\n",
    "df = pd.read_csv(url)\n",
    "df[\"DATE\"] = pd.to_datetime(df[\"DATE\"],dayfirst=True)\n",
    "for col in df.columns[1:]:\n",
    "    df[col] = pd.to_numeric(df[col],errors='coerce')\n",
    "\n",
    "df = df.dropna()"
   ]
  },
  {
   "cell_type": "code",
   "execution_count": 3,
   "metadata": {
    "scrolled": false
   },
   "outputs": [
    {
     "name": "stdout",
     "output_type": "stream",
     "text": [
      "           DATE    NCF    RCF    WTI    HH    NBP  NBP_r\n",
      "4    2009-01-05  77.65  84.40  48.61  5.83  56.66   1.92\n",
      "5    2009-01-06  81.25  88.50  48.56  6.10  59.88   3.22\n",
      "6    2009-01-07  78.65  86.25  42.75  5.89  58.03  -1.85\n",
      "7    2009-01-08  79.15  84.00  41.68  5.96  55.74  -2.29\n",
      "8    2009-01-09  76.90  83.50  40.69  5.60  56.42   0.68\n",
      "...         ...    ...    ...    ...   ...    ...    ...\n",
      "4254 2020-08-25  49.75  48.90  43.17  2.54  24.61   1.39\n",
      "4255 2020-08-26  49.70  48.95  43.21  2.52  25.10   0.49\n",
      "4256 2020-08-27  49.80  48.90  42.88  2.52  26.68   1.58\n",
      "4257 2020-08-28  50.60  52.20  42.96  2.46  28.95   2.27\n",
      "4260 2020-08-31  51.95  52.90  42.61  2.30  28.95   0.00\n",
      "\n",
      "[2901 rows x 7 columns]\n"
     ]
    }
   ],
   "source": [
    "## calculating returns ##\n",
    "\n",
    "for col in df.columns[5:9]:\n",
    "    df[col+'_r'] = df[col] - df[col].shift(1)\n",
    "    \n",
    "df = df.dropna()\n",
    "print(df)"
   ]
  },
  {
   "cell_type": "code",
   "execution_count": 4,
   "metadata": {},
   "outputs": [],
   "source": [
    "## calculating price ratios ##\n",
    "\n",
    "df['NBP_HH'] = df['NBP']/df['HH']\n",
    "df['NBP_HH_r'] = df['NBP_HH'] - df['NBP_HH'].shift(1)\n",
    "df = df.dropna()"
   ]
  },
  {
   "cell_type": "code",
   "execution_count": 6,
   "metadata": {},
   "outputs": [
    {
     "data": {
      "text/plain": [
       "[<matplotlib.lines.Line2D at 0x7fefa800d940>]"
      ]
     },
     "execution_count": 6,
     "metadata": {},
     "output_type": "execute_result"
    },
    {
     "data": {
      "image/png": "[encoded data removed]",
      "text/plain": [
       "<Figure size 432x288 with 1 Axes>"
      ]
     },
     "metadata": {
      "needs_background": "light"
     },
     "output_type": "display_data"
    }
   ],
   "source": [
    "plt.plot(df['DATE'],df['NBP_HH'])"
   ]
  },
  {
   "cell_type": "code",
   "execution_count": null,
   "metadata": {},
   "outputs": [],
   "source": [
    "## markov regime switching for Henry Hub and Newcastle Gas Futures##\n",
    "\n",
    "mod = sm.tsa.MarkovRegression(df['WTI_ln_r'][1:], k_regimes=2, order=1)\n",
    "res_mod = mod.fit()\n",
    "res_mod.summary()"
   ]
  },
  {
   "cell_type": "code",
   "execution_count": null,
   "metadata": {},
   "outputs": [],
   "source": [
    "res.smoothed_marginal_probabilities[3].plot(\n",
    "    title='Probability of being in the high regime', figsize=(12,2))"
   ]
  },
  {
   "cell_type": "code",
   "execution_count": null,
   "metadata": {},
   "outputs": [],
   "source": [
    "## OLS on volatility output ##\n",
    "\n",
    "X = df['NCF_ln']\n",
    "y = df['HH_ln']\n",
    "X = sm.add_constant(X)\n",
    "mod1 = sm.OLS(y,X)\n",
    "results = mod1.fit()\n",
    "print(results.summary())"
   ]
  },
  {
   "cell_type": "code",
   "execution_count": null,
   "metadata": {},
   "outputs": [],
   "source": [
    "sm.qqplot(results.resid,line=\"45\",fit=\"TRUE\")"
   ]
  },
  {
   "cell_type": "code",
   "execution_count": null,
   "metadata": {},
   "outputs": [],
   "source": []
  }
 ],
 "metadata": {
  "kernelspec": {
   "display_name": "Python 3",
   "language": "python",
   "name": "python3"
  },
  "language_info": {
   "codemirror_mode": {
    "name": "ipython",
    "version": 3
   },
   "file_extension": ".py",
   "mimetype": "text/x-python",
   "name": "python",
   "nbconvert_exporter": "python",
   "pygments_lexer": "ipython3",
   "version": "3.8.5"
  }
 },
 "nbformat": 4,
 "nbformat_minor": 4
}
