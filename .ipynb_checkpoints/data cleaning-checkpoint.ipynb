{
 "cells": [
  {
   "cell_type": "code",
   "execution_count": null,
   "metadata": {},
   "outputs": [],
   "source": [
    "import numpy as np\n",
    "import pandas as pd\n",
    "import datetime as dt\n",
    "import datapackage\n",
    "import matplotlib.pyplot as plt\n",
    "import matplotlib.dates as dates\n",
    "\n",
    "## investigating volatility linkages between oil, gas, and regionalised coal futures markets ##\n",
    "\n",
    "## load data from Github into new frame and remove rows with absent data ##\n",
    "\n",
    "url = 'https://raw.githubusercontent.com/joe-ascroft/phd/master/df-combined.csv'\n",
    "df = pd.read_csv(url)\n",
    "for col in df.columns[1:]:\n",
    "    df[col] = pd.to_numeric(df[col],errors='coerce')\n",
    "\n",
    "df = df.dropna()\n",
    "print(df)"
   ]
  },
  {
   "cell_type": "code",
   "execution_count": null,
   "metadata": {},
   "outputs": [],
   "source": [
    "## price ratio calculations \n",
    "\n",
    "df_returns = df[[\"DATE\"]].copy()\n",
    "df_returns[\"WTI_HH\"] = df[\"WTI\"]/df[\"HH\"]\n",
    "df_returns[\"NCF_RCF\"] = df[\"NCF\"]/df[\"RCF\"]\n",
    "df_returns[\"NCF_WTI\"] = df[\"NCF\"]/df[\"WTI\"]\n",
    "df_returns[\"NCF_HH\"] = df[\"NCF\"]/df[\"HH\"]\n",
    "df_returns[\"NCF_NBP\"] = df[\"NCF\"]/df[\"NBP\"]\n",
    "df_returns[\"NCF_B\"] = df[\"NCF\"]/df[\"Brent\"]\n",
    "df_returns[\"RCF_B\"] = df[\"RCF\"]/df[\"Brent\"]\n",
    "df_returns[\"RCF_NBP\"] = df[\"RCF\"]/df[\"NBP\"]\n",
    "df_returns[\"WTI_B\"] = df[\"WTI\"]/df[\"Brent\"]\n",
    "print(df_returns)"
   ]
  },
  {
   "cell_type": "code",
   "execution_count": null,
   "metadata": {},
   "outputs": [],
   "source": [
    "## price ratio return calculations ##\n",
    "\n",
    "for col in df_returns.columns[1:10]:\n",
    "    df_returns[col+'_r'] = (df_returns[col].pct_change())*100\n",
    "df_returns = df_returns.dropna()\n",
    "print(df_returns)"
   ]
  },
  {
   "cell_type": "code",
   "execution_count": null,
   "metadata": {},
   "outputs": [],
   "source": [
    "df_returns.to_csv('df_rr.csv',index=False)"
   ]
  },
  {
   "cell_type": "code",
   "execution_count": null,
   "metadata": {},
   "outputs": [],
   "source": []
  }
 ],
 "metadata": {
  "kernelspec": {
   "display_name": "Python 3",
   "language": "python",
   "name": "python3"
  },
  "language_info": {
   "codemirror_mode": {
    "name": "ipython",
    "version": 3
   },
   "file_extension": ".py",
   "mimetype": "text/x-python",
   "name": "python",
   "nbconvert_exporter": "python",
   "pygments_lexer": "ipython3",
   "version": "3.8.5"
  }
 },
 "nbformat": 4,
 "nbformat_minor": 4
}
