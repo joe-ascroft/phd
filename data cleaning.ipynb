{
 "cells": [
  {
   "cell_type": "code",
   "execution_count": 1,
   "metadata": {},
   "outputs": [
    {
     "name": "stdout",
     "output_type": "stream",
     "text": [
      "           DATE    NCF    RCF    WTI    HH  Brent   NBP_UK  GBP-USD       NBP  \\\n",
      "1    2009-01-02  74.35  81.00  46.17  5.41   46.91   54.74   1.4453  7.911572   \n",
      "4    2009-01-05  77.65  84.40  48.61  5.83   49.62   56.66   1.4708  8.333553   \n",
      "5    2009-01-06  81.25  88.50  48.56  6.10   50.53   59.88   1.4919  8.933497   \n",
      "6    2009-01-07  78.65  86.25  42.75  5.89   45.86   58.03   1.5111  8.768913   \n",
      "7    2009-01-08  79.15  84.00  41.68  5.96   44.67   55.74   1.5202  8.473595   \n",
      "...         ...    ...    ...    ...   ...     ...     ...      ...       ...   \n",
      "4254 2020-08-25  49.75  48.90  43.17  2.54   45.86   24.61   1.3148  3.235723   \n",
      "4255 2020-08-26  49.70  48.95  43.21  2.52   45.64   25.10   1.3193  3.311443   \n",
      "4256 2020-08-27  49.80  48.90  42.88  2.52   45.09   26.68   1.3206  3.523361   \n",
      "4257 2020-08-28  50.60  52.20  42.96  2.46   45.81   28.95   1.3344  3.863088   \n",
      "4260 2020-08-31  51.95  52.90  42.61  2.30   45.28   28.95   1.3379  3.873220   \n",
      "\n",
      "        NBP-HH   NCF-RCF   NCF-WTI     NCF-HH    RCF-NBP  \n",
      "1     1.462398  0.917901  1.610353  13.743068  10.238167  \n",
      "4     1.429426  0.920024  1.597408  13.319039  10.127733  \n",
      "5     1.464508  0.918079  1.673188  13.319672   9.906535  \n",
      "6     1.488780  0.911884  1.839766  13.353141   9.835882  \n",
      "7     1.421744  0.942262  1.898992  13.280201   9.913148  \n",
      "...        ...       ...       ...        ...        ...  \n",
      "4254  1.273907  1.017382  1.152421  19.586614  15.112543  \n",
      "4255  1.314065  1.015322  1.150197  19.722222  14.782075  \n",
      "4256  1.398159  1.018405  1.161381  19.761905  13.878794  \n",
      "4257  1.570361  0.969349  1.177840  20.569106  13.512506  \n",
      "4260  1.684009  0.982042  1.219197  22.586957  13.657885  \n",
      "\n",
      "[2889 rows x 14 columns]\n"
     ]
    }
   ],
   "source": [
    "import numpy as np\n",
    "import pandas as pd\n",
    "import datetime as dt\n",
    "import datapackage\n",
    "import matplotlib.pyplot as plt\n",
    "import matplotlib.dates as dates\n",
    "\n",
    "## investigating volatility linkages between oil, gas, and regionalised coal futures markets ##\n",
    "\n",
    "## load data from Github into new frame and remove rows with absent data ##\n",
    "\n",
    "url = 'https://raw.githubusercontent.com/joe-ascroft/phd/master/df-combined.csv'\n",
    "df = pd.read_csv(url)\n",
    "df[\"DATE\"] = pd.to_datetime(df[\"DATE\"],dayfirst=True)\n",
    "for col in df.columns[1:]:\n",
    "    df[col] = pd.to_numeric(df[col],errors='coerce')\n",
    "\n",
    "df = df.dropna()\n",
    "print(df)"
   ]
  },
  {
   "cell_type": "code",
   "execution_count": null,
   "metadata": {},
   "outputs": [],
   "source": [
    "df.to_csv('df_cleared.csv')"
   ]
  }
 ],
 "metadata": {
  "kernelspec": {
   "display_name": "Python 3",
   "language": "python",
   "name": "python3"
  },
  "language_info": {
   "codemirror_mode": {
    "name": "ipython",
    "version": 3
   },
   "file_extension": ".py",
   "mimetype": "text/x-python",
   "name": "python",
   "nbconvert_exporter": "python",
   "pygments_lexer": "ipython3",
   "version": "3.8.5"
  }
 },
 "nbformat": 4,
 "nbformat_minor": 4
}
