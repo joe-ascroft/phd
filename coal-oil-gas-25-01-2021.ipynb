{
 "cells": [
  {
   "cell_type": "code",
   "execution_count": 25,
   "metadata": {
    "scrolled": false
   },
   "outputs": [],
   "source": [
    "import numpy as np\n",
    "import pandas as pd\n",
    "import datetime as dt\n",
    "import datapackage\n",
    "import matplotlib.pyplot as plt\n",
    "import matplotlib.dates as dates\n",
    "import statsmodels.api as sm\n",
    "\n",
    "## investigating volatility linkages between oil, gas, and regionalised coal futures markets ##\n",
    "\n",
    "## load data from Github into new frame and remove rows with absent data ##\n",
    "\n",
    "url = 'https://raw.githubusercontent.com/joe-ascroft/phd/master/df-combined.csv'\n",
    "df = pd.read_csv(url)\n",
    "df[\"DATE\"] = pd.to_datetime(df[\"DATE\"],dayfirst=True)\n",
    "for col in df.columns[1:]:\n",
    "    df[col] = pd.to_numeric(df[col],errors='coerce')\n",
    "\n",
    "df = df.dropna()"
   ]
  },
  {
   "cell_type": "code",
   "execution_count": 26,
   "metadata": {
    "scrolled": false
   },
   "outputs": [
    {
     "name": "stdout",
     "output_type": "stream",
     "text": [
      "           DATE    NCF    RCF    WTI    HH    NCF_ln    RCF_ln    WTI_ln  \\\n",
      "4    2009-01-05  77.65  84.40  48.61  5.83  4.352212  4.435567  3.883829   \n",
      "5    2009-01-06  81.25  88.50  48.56  6.10  4.397531  4.483003  3.882800   \n",
      "6    2009-01-07  78.65  86.25  42.75  5.89  4.365008  4.457250  3.755369   \n",
      "7    2009-01-08  79.15  84.00  41.68  5.96  4.371345  4.430817  3.730021   \n",
      "8    2009-01-09  76.90  83.50  40.69  5.60  4.342506  4.424847  3.705982   \n",
      "...         ...    ...    ...    ...   ...       ...       ...       ...   \n",
      "4254 2020-08-25  49.75  48.90  43.17  2.54  3.907010  3.889777  3.765146   \n",
      "4255 2020-08-26  49.70  48.95  43.21  2.52  3.906005  3.890799  3.766072   \n",
      "4256 2020-08-27  49.80  48.90  42.88  2.52  3.908015  3.889777  3.758406   \n",
      "4257 2020-08-28  50.60  52.20  42.96  2.46  3.923952  3.955082  3.760269   \n",
      "4260 2020-08-31  51.95  52.90  42.61  2.30  3.950282  3.968403  3.752089   \n",
      "\n",
      "         HH_ln  NCF_ln_r  RCF_ln_r  WTI_ln_r   HH_ln_r  \n",
      "4     1.763017  0.043428  0.041118  0.051499  0.074768  \n",
      "5     1.808289  0.045319  0.047435 -0.001029  0.045272  \n",
      "6     1.773256 -0.032523 -0.025752 -0.127431 -0.035033  \n",
      "7     1.785070  0.006337 -0.026433 -0.025348  0.011814  \n",
      "8     1.722767 -0.028839 -0.005970 -0.024039 -0.062304  \n",
      "...        ...       ...       ...       ...       ...  \n",
      "4254  0.932164  0.001006  0.002047  0.017054 -0.011742  \n",
      "4255  0.924259 -0.001006  0.001022  0.000926 -0.007905  \n",
      "4256  0.924259  0.002010 -0.001022 -0.007666  0.000000  \n",
      "4257  0.900161  0.015937  0.065305  0.001864 -0.024098  \n",
      "4260  0.832909  0.026330  0.013321 -0.008180 -0.067252  \n",
      "\n",
      "[2900 rows x 13 columns]\n"
     ]
    }
   ],
   "source": [
    "## calculating returns ##\n",
    "\n",
    "for col in df.columns[5:9]:\n",
    "    df[col+'_r'] = df[col] - df[col].shift(1)\n",
    "    \n",
    "df = df.dropna()\n",
    "print(df)"
   ]
  },
  {
   "cell_type": "code",
   "execution_count": 27,
   "metadata": {},
   "outputs": [],
   "source": [
    "## calculating price ratios ##\n",
    "\n",
    "df['WTI_HH'] = df['WTI_ln']/df['HH_ln']\n",
    "df['WTI_HH_r'] = df['WTI_HH'] - df['WTI_HH'].shift(1)\n",
    "df = df.dropna()"
   ]
  },
  {
   "cell_type": "code",
   "execution_count": 31,
   "metadata": {},
   "outputs": [
    {
     "data": {
      "text/plain": [
       "[<matplotlib.lines.Line2D at 0x7fd638903580>]"
      ]
     },
     "execution_count": 31,
     "metadata": {},
     "output_type": "execute_result"
    },
    {
     "data": {
      "image/png": "[encoded data removed]",
      "text/plain": [
       "<Figure size 432x288 with 1 Axes>"
      ]
     },
     "metadata": {
      "needs_background": "light"
     },
     "output_type": "display_data"
    }
   ],
   "source": [
    "plt.plot(df['DATE'],df['WTI_HH'])"
   ]
  },
  {
   "cell_type": "code",
   "execution_count": null,
   "metadata": {},
   "outputs": [],
   "source": [
    "## markov regime switching for Henry Hub and Newcastle Gas Futures##\n",
    "\n",
    "mod = sm.tsa.MarkovRegression(df['WTI_ln_r'][1:], k_regimes=2, order=1)\n",
    "res_mod = mod.fit()\n",
    "res_mod.summary()"
   ]
  },
  {
   "cell_type": "code",
   "execution_count": null,
   "metadata": {},
   "outputs": [],
   "source": [
    "res.smoothed_marginal_probabilities[3].plot(\n",
    "    title='Probability of being in the high regime', figsize=(12,2))"
   ]
  },
  {
   "cell_type": "code",
   "execution_count": null,
   "metadata": {},
   "outputs": [],
   "source": [
    "## OLS on volatility output ##\n",
    "\n",
    "X = df['NCF_ln']\n",
    "y = df['HH_ln']\n",
    "X = sm.add_constant(X)\n",
    "mod1 = sm.OLS(y,X)\n",
    "results = mod1.fit()\n",
    "print(results.summary())"
   ]
  },
  {
   "cell_type": "code",
   "execution_count": null,
   "metadata": {},
   "outputs": [],
   "source": [
    "sm.qqplot(results.resid,line=\"45\",fit=\"TRUE\")"
   ]
  },
  {
   "cell_type": "code",
   "execution_count": null,
   "metadata": {},
   "outputs": [],
   "source": []
  }
 ],
 "metadata": {
  "kernelspec": {
   "display_name": "Python 3",
   "language": "python",
   "name": "python3"
  },
  "language_info": {
   "codemirror_mode": {
    "name": "ipython",
    "version": 3
   },
   "file_extension": ".py",
   "mimetype": "text/x-python",
   "name": "python",
   "nbconvert_exporter": "python",
   "pygments_lexer": "ipython3",
   "version": "3.8.5"
  }
 },
 "nbformat": 4,
 "nbformat_minor": 4
}
