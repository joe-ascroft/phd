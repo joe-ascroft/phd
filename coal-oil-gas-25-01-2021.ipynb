{
 "cells": [
  {
   "cell_type": "code",
   "execution_count": 1,
   "metadata": {
    "scrolled": false
   },
   "outputs": [
    {
     "name": "stdout",
     "output_type": "stream",
     "text": [
      "           DATE    NCF    RCF    WTI    HH  NBP_UK  GBP-USD\n",
      "1    2009-01-02  74.35  81.00  46.17  5.41   54.74   1.4453\n",
      "4    2009-01-05  77.65  84.40  48.61  5.83   56.66   1.4708\n",
      "5    2009-01-06  81.25  88.50  48.56  6.10   59.88   1.4919\n",
      "6    2009-01-07  78.65  86.25  42.75  5.89   58.03   1.5111\n",
      "7    2009-01-08  79.15  84.00  41.68  5.96   55.74   1.5202\n",
      "...         ...    ...    ...    ...   ...     ...      ...\n",
      "4254 2020-08-25  49.75  48.90  43.17  2.54   24.61   1.3148\n",
      "4255 2020-08-26  49.70  48.95  43.21  2.52   25.10   1.3193\n",
      "4256 2020-08-27  49.80  48.90  42.88  2.52   26.68   1.3206\n",
      "4257 2020-08-28  50.60  52.20  42.96  2.46   28.95   1.3344\n",
      "4260 2020-08-31  51.95  52.90  42.61  2.30   28.95   1.3379\n",
      "\n",
      "[2890 rows x 7 columns]\n"
     ]
    }
   ],
   "source": [
    "import numpy as np\n",
    "import pandas as pd\n",
    "import datetime as dt\n",
    "import datapackage\n",
    "import matplotlib.pyplot as plt\n",
    "import matplotlib.dates as dates\n",
    "import statsmodels.api as sm\n",
    "\n",
    "## investigating volatility linkages between oil, gas, and regionalised coal futures markets ##\n",
    "\n",
    "## load data from Github into new frame and remove rows with absent data ##\n",
    "\n",
    "url = 'https://raw.githubusercontent.com/joe-ascroft/phd/master/df-combined.csv'\n",
    "df = pd.read_csv(url)\n",
    "df[\"DATE\"] = pd.to_datetime(df[\"DATE\"],dayfirst=True)\n",
    "for col in df.columns[1:]:\n",
    "    df[col] = pd.to_numeric(df[col],errors='coerce')\n",
    "\n",
    "df = df.dropna()\n",
    "print(df)"
   ]
  },
  {
   "cell_type": "code",
   "execution_count": 8,
   "metadata": {},
   "outputs": [
    {
     "name": "stdout",
     "output_type": "stream",
     "text": [
      "4       8.333553\n",
      "5       8.933497\n",
      "6       8.768913\n",
      "7       8.473595\n",
      "8       8.525626\n",
      "          ...   \n",
      "4254    3.235723\n",
      "4255    3.311443\n",
      "4256    3.523361\n",
      "4257    3.863088\n",
      "4260    3.873221\n",
      "Name: NBP, Length: 2889, dtype: float64\n"
     ]
    }
   ],
   "source": [
    "## convert NBP pricing to $/MMBtu ##\n",
    "\n",
    "df[\"NBP\"] = (df[\"NBP_UK\"]*0.1)*df[\"GBP-USD\"]\n",
    "df = df.dropna()\n",
    "print(df[\"NBP\"])"
   ]
  },
  {
   "cell_type": "code",
   "execution_count": 9,
   "metadata": {},
   "outputs": [
    {
     "name": "stdout",
     "output_type": "stream",
     "text": [
      "           DATE    NCF    RCF    WTI    HH  NBP_UK  GBP-USD       NBP  \\\n",
      "5    2009-01-06  81.25  88.50  48.56  6.10   59.88   1.4919  8.933497   \n",
      "6    2009-01-07  78.65  86.25  42.75  5.89   58.03   1.5111  8.768913   \n",
      "7    2009-01-08  79.15  84.00  41.68  5.96   55.74   1.5202  8.473595   \n",
      "8    2009-01-09  76.90  83.50  40.69  5.60   56.42   1.5111  8.525626   \n",
      "11   2009-01-12  78.80  81.50  37.65  5.59   54.71   1.4809  8.102004   \n",
      "...         ...    ...    ...    ...   ...     ...      ...       ...   \n",
      "4254 2020-08-25  49.75  48.90  43.17  2.54   24.61   1.3148  3.235723   \n",
      "4255 2020-08-26  49.70  48.95  43.21  2.52   25.10   1.3193  3.311443   \n",
      "4256 2020-08-27  49.80  48.90  42.88  2.52   26.68   1.3206  3.523361   \n",
      "4257 2020-08-28  50.60  52.20  42.96  2.46   28.95   1.3344  3.863088   \n",
      "4260 2020-08-31  51.95  52.90  42.61  2.30   28.95   1.3379  3.873221   \n",
      "\n",
      "        NBP_HH  NBP_HH_r  \n",
      "5     1.464508  0.035082  \n",
      "6     1.488780  0.024272  \n",
      "7     1.421744 -0.067036  \n",
      "8     1.522433  0.100689  \n",
      "11    1.449375 -0.073059  \n",
      "...        ...       ...  \n",
      "4254  1.273907  0.093933  \n",
      "4255  1.314065  0.040158  \n",
      "4256  1.398159  0.084094  \n",
      "4257  1.570361  0.172202  \n",
      "4260  1.684009  0.113648  \n",
      "\n",
      "[2888 rows x 10 columns]\n",
      "5       1.464508\n",
      "6       1.488780\n",
      "7       1.421744\n",
      "8       1.522433\n",
      "11      1.449375\n",
      "          ...   \n",
      "4254    1.273907\n",
      "4255    1.314065\n",
      "4256    1.398159\n",
      "4257    1.570361\n",
      "4260    1.684009\n",
      "Name: NBP_HH, Length: 2888, dtype: float64\n"
     ]
    }
   ],
   "source": [
    "## calculating price ratios ##\n",
    "\n",
    "df['NBP_HH'] = df['NBP']/df['HH']\n",
    "df['NBP_HH_r'] = df['NBP_HH'] - df['NBP_HH'].shift(1)\n",
    "df = df.dropna()\n",
    "print(df)\n",
    "print(df[\"NBP_HH\"])"
   ]
  },
  {
   "cell_type": "code",
   "execution_count": null,
   "metadata": {},
   "outputs": [],
   "source": [
    "plt.plot(df[\"DATE\"],df['HH'])\n",
    "plt.plot(df[\"DATE\"],df['NBP'])"
   ]
  },
  {
   "cell_type": "code",
   "execution_count": 7,
   "metadata": {},
   "outputs": [
    {
     "name": "stderr",
     "output_type": "stream",
     "text": [
      "/Users/joe/opt/anaconda3/lib/python3.8/site-packages/statsmodels/tsa/base/tsa_model.py:578: ValueWarning: An unsupported index was provided and will be ignored when e.g. forecasting.\n",
      "  warnings.warn('An unsupported index was provided and will be'\n",
      "/Users/joe/opt/anaconda3/lib/python3.8/site-packages/statsmodels/tsa/regime_switching/markov_regression.py:307: RuntimeWarning: invalid value encountered in subtract\n",
      "  variance = np.var(self.endog - np.dot(self.exog, beta))\n",
      "/Users/joe/opt/anaconda3/lib/python3.8/site-packages/statsmodels/tsa/regime_switching/markov_regression.py:312: RuntimeWarning: invalid value encountered in multiply\n",
      "  beta * (i / self.k_regimes))\n",
      "/Users/joe/opt/anaconda3/lib/python3.8/site-packages/statsmodels/tsa/regime_switching/markov_regression.py:172: RuntimeWarning: invalid value encountered in subtract\n",
      "  return self.endog - predict\n",
      "/Users/joe/opt/anaconda3/lib/python3.8/site-packages/statsmodels/base/model.py:566: ConvergenceWarning: Maximum Likelihood optimization failed to converge. Check mle_retvals\n",
      "  warnings.warn(\"Maximum Likelihood optimization failed to \"\n"
     ]
    },
    {
     "data": {
      "text/html": [
       "<table class=\"simpletable\">\n",
       "<caption>Markov Switching Model Results</caption>\n",
       "<tr>\n",
       "  <th>Dep. Variable:</th>        <td>NBP_HH</td>      <th>  No. Observations:  </th> <td>2889</td> \n",
       "</tr>\n",
       "<tr>\n",
       "  <th>Model:</th>           <td>MarkovRegression</td> <th>  Log Likelihood     </th> <td>  nan</td>\n",
       "</tr>\n",
       "<tr>\n",
       "  <th>Date:</th>            <td>Tue, 23 Mar 2021</td> <th>  AIC                </th> <td>  nan</td>\n",
       "</tr>\n",
       "<tr>\n",
       "  <th>Time:</th>                <td>11:36:43</td>     <th>  BIC                </th> <td>  nan</td>\n",
       "</tr>\n",
       "<tr>\n",
       "  <th>Sample:</th>                  <td>0</td>        <th>  HQIC               </th> <td>  nan</td>\n",
       "</tr>\n",
       "<tr>\n",
       "  <th></th>                      <td> - 2889</td>     <th>                     </th>   <td> </td>  \n",
       "</tr>\n",
       "<tr>\n",
       "  <th>Covariance Type:</th>      <td>approx</td>      <th>                     </th>   <td> </td>  \n",
       "</tr>\n",
       "</table>\n",
       "<table class=\"simpletable\">\n",
       "<caption>Regime 0 parameters</caption>\n",
       "<tr>\n",
       "    <td></td>       <th>coef</th>     <th>std err</th>      <th>z</th>      <th>P>|z|</th>  <th>[0.025</th>    <th>0.975]</th>  \n",
       "</tr>\n",
       "<tr>\n",
       "  <th>const</th> <td>       nan</td> <td>      nan</td> <td>      nan</td> <td>   nan</td> <td>      nan</td> <td>      nan</td>\n",
       "</tr>\n",
       "</table>\n",
       "<table class=\"simpletable\">\n",
       "<caption>Regime 1 parameters</caption>\n",
       "<tr>\n",
       "    <td></td>       <th>coef</th>     <th>std err</th>      <th>z</th>      <th>P>|z|</th>  <th>[0.025</th>    <th>0.975]</th>  \n",
       "</tr>\n",
       "<tr>\n",
       "  <th>const</th> <td>       nan</td> <td>      nan</td> <td>      nan</td> <td>   nan</td> <td>      nan</td> <td>      nan</td>\n",
       "</tr>\n",
       "</table>\n",
       "<table class=\"simpletable\">\n",
       "<caption>Non-switching parameters</caption>\n",
       "<tr>\n",
       "     <td></td>       <th>coef</th>     <th>std err</th>      <th>z</th>      <th>P>|z|</th>  <th>[0.025</th>    <th>0.975]</th>  \n",
       "</tr>\n",
       "<tr>\n",
       "  <th>sigma2</th> <td>       nan</td> <td>      nan</td> <td>      nan</td> <td>   nan</td> <td>      nan</td> <td>      nan</td>\n",
       "</tr>\n",
       "</table>\n",
       "<table class=\"simpletable\">\n",
       "<caption>Regime transition parameters</caption>\n",
       "<tr>\n",
       "     <td></td>        <th>coef</th>     <th>std err</th>      <th>z</th>      <th>P>|z|</th>  <th>[0.025</th>    <th>0.975]</th>  \n",
       "</tr>\n",
       "<tr>\n",
       "  <th>p[0->0]</th> <td>       nan</td> <td>      nan</td> <td>      nan</td> <td>   nan</td> <td>      nan</td> <td>      nan</td>\n",
       "</tr>\n",
       "<tr>\n",
       "  <th>p[1->0]</th> <td>       nan</td> <td>      nan</td> <td>      nan</td> <td>   nan</td> <td>      nan</td> <td>      nan</td>\n",
       "</tr>\n",
       "</table><br/><br/>Warnings:<br/>[1] Covariance matrix is singular or near-singular, with condition number    nan. Standard errors may be unstable."
      ],
      "text/plain": [
       "<class 'statsmodels.iolib.summary.Summary'>\n",
       "\"\"\"\n",
       "                        Markov Switching Model Results                        \n",
       "==============================================================================\n",
       "Dep. Variable:                 NBP_HH   No. Observations:                 2889\n",
       "Model:               MarkovRegression   Log Likelihood                     nan\n",
       "Date:                Tue, 23 Mar 2021   AIC                                nan\n",
       "Time:                        11:36:43   BIC                                nan\n",
       "Sample:                             0   HQIC                               nan\n",
       "                               - 2889                                         \n",
       "Covariance Type:               approx                                         \n",
       "                             Regime 0 parameters                              \n",
       "==============================================================================\n",
       "                 coef    std err          z      P>|z|      [0.025      0.975]\n",
       "------------------------------------------------------------------------------\n",
       "const             nan        nan        nan        nan         nan         nan\n",
       "                             Regime 1 parameters                              \n",
       "==============================================================================\n",
       "                 coef    std err          z      P>|z|      [0.025      0.975]\n",
       "------------------------------------------------------------------------------\n",
       "const             nan        nan        nan        nan         nan         nan\n",
       "                           Non-switching parameters                           \n",
       "==============================================================================\n",
       "                 coef    std err          z      P>|z|      [0.025      0.975]\n",
       "------------------------------------------------------------------------------\n",
       "sigma2            nan        nan        nan        nan         nan         nan\n",
       "                         Regime transition parameters                         \n",
       "==============================================================================\n",
       "                 coef    std err          z      P>|z|      [0.025      0.975]\n",
       "------------------------------------------------------------------------------\n",
       "p[0->0]           nan        nan        nan        nan         nan         nan\n",
       "p[1->0]           nan        nan        nan        nan         nan         nan\n",
       "==============================================================================\n",
       "\n",
       "Warnings:\n",
       "[1] Covariance matrix is singular or near-singular, with condition number    nan. Standard errors may be unstable.\n",
       "\"\"\""
      ]
     },
     "execution_count": 7,
     "metadata": {},
     "output_type": "execute_result"
    }
   ],
   "source": [
    "## markov regime switching for Henry Hub and Newcastle Gas Futures##\n",
    "\n",
    "mod = sm.tsa.MarkovRegression(df['NBP_HH'], k_regimes=2, order=1)\n",
    "res_mod = mod.fit()\n",
    "res_mod.summary()"
   ]
  },
  {
   "cell_type": "code",
   "execution_count": null,
   "metadata": {},
   "outputs": [],
   "source": [
    "res.smoothed_marginal_probabilities[3].plot(\n",
    "    title='Probability of being in the high regime', figsize=(12,2))"
   ]
  },
  {
   "cell_type": "code",
   "execution_count": null,
   "metadata": {},
   "outputs": [],
   "source": [
    "## OLS on volatility output ##\n",
    "\n",
    "X = df['NBP']\n",
    "y = df['WTI']\n",
    "X = sm.add_constant(X)\n",
    "mod1 = sm.OLS(y,X)\n",
    "results = mod1.fit()\n",
    "print(results.summary())"
   ]
  },
  {
   "cell_type": "code",
   "execution_count": null,
   "metadata": {},
   "outputs": [],
   "source": [
    "sm.qqplot(results.resid,line=\"45\",fit=\"TRUE\")"
   ]
  },
  {
   "cell_type": "code",
   "execution_count": null,
   "metadata": {},
   "outputs": [],
   "source": []
  }
 ],
 "metadata": {
  "kernelspec": {
   "display_name": "Python 3",
   "language": "python",
   "name": "python3"
  },
  "language_info": {
   "codemirror_mode": {
    "name": "ipython",
    "version": 3
   },
   "file_extension": ".py",
   "mimetype": "text/x-python",
   "name": "python",
   "nbconvert_exporter": "python",
   "pygments_lexer": "ipython3",
   "version": "3.8.5"
  }
 },
 "nbformat": 4,
 "nbformat_minor": 4
}
