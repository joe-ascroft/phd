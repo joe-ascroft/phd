{
 "cells": [
  {
   "cell_type": "code",
   "execution_count": 1,
   "metadata": {
    "scrolled": false
   },
   "outputs": [],
   "source": [
    "import numpy as np\n",
    "import pandas as pd\n",
    "import datetime as dt\n",
    "import datapackage\n",
    "import matplotlib.pyplot as plt\n",
    "import statsmodels.api as sm\n",
    "\n",
    "## investigating volatility linkages between oil, gas, and regionalised coal futures markets ##\n",
    "\n",
    "## load data from Github into new frame and remove rows with absent data ##\n",
    "\n",
    "url = 'https://raw.githubusercontent.com/joe-ascroft/phd/master/df-combined.csv'\n",
    "df = pd.read_csv(url)\n",
    "df[\"DATE\"] = pd.to_datetime(df[\"DATE\"])\n",
    "for col in df.columns[1:]:\n",
    "    df[col] = pd.to_numeric(df[col],errors='coerce')\n",
    "\n",
    "df = df.dropna()"
   ]
  },
  {
   "cell_type": "code",
   "execution_count": 2,
   "metadata": {
    "scrolled": false
   },
   "outputs": [
    {
     "name": "stdout",
     "output_type": "stream",
     "text": [
      "           DATE    NCF    RCF    WTI    HH    NCF_ln    RCF_ln    WTI_ln  \\\n",
      "4    2009-05-01  77.65  84.40  48.61  5.83  4.352212  4.435567  3.883829   \n",
      "5    2009-06-01  81.25  88.50  48.56  6.10  4.397531  4.483003  3.882800   \n",
      "6    2009-07-01  78.65  86.25  42.75  5.89  4.365008  4.457250  3.755369   \n",
      "7    2009-08-01  79.15  84.00  41.68  5.96  4.371345  4.430817  3.730021   \n",
      "8    2009-09-01  76.90  83.50  40.69  5.60  4.342506  4.424847  3.705982   \n",
      "...         ...    ...    ...    ...   ...       ...       ...       ...   \n",
      "4254 2020-08-25  49.75  48.90  43.17  2.54  3.907010  3.889777  3.765146   \n",
      "4255 2020-08-26  49.70  48.95  43.21  2.52  3.906005  3.890799  3.766072   \n",
      "4256 2020-08-27  49.80  48.90  42.88  2.52  3.908015  3.889777  3.758406   \n",
      "4257 2020-08-28  50.60  52.20  42.96  2.46  3.923952  3.955082  3.760269   \n",
      "4260 2020-08-31  51.95  52.90  42.61  2.30  3.950282  3.968403  3.752089   \n",
      "\n",
      "         HH_ln  NCF_ln_r  RCF_ln_r  WTI_ln_r   HH_ln_r  \n",
      "4     1.763017  0.043428  0.041118  0.051499  0.074768  \n",
      "5     1.808289  0.045319  0.047435 -0.001029  0.045272  \n",
      "6     1.773256 -0.032523 -0.025752 -0.127431 -0.035033  \n",
      "7     1.785070  0.006337 -0.026433 -0.025348  0.011814  \n",
      "8     1.722767 -0.028839 -0.005970 -0.024039 -0.062304  \n",
      "...        ...       ...       ...       ...       ...  \n",
      "4254  0.932164  0.001006  0.002047  0.017054 -0.011742  \n",
      "4255  0.924259 -0.001006  0.001022  0.000926 -0.007905  \n",
      "4256  0.924259  0.002010 -0.001022 -0.007666  0.000000  \n",
      "4257  0.900161  0.015937  0.065305  0.001864 -0.024098  \n",
      "4260  0.832909  0.026330  0.013321 -0.008180 -0.067252  \n",
      "\n",
      "[2900 rows x 13 columns]\n"
     ]
    }
   ],
   "source": [
    "## calculating returns ##\n",
    "\n",
    "for col in df.columns[5:9]:\n",
    "    df[col+'_r'] = df[col] - df[col].shift(1)\n",
    "    \n",
    "df = df.dropna()\n",
    "print(df)"
   ]
  },
  {
   "cell_type": "code",
   "execution_count": 3,
   "metadata": {},
   "outputs": [],
   "source": [
    "## calculating price ratios ##\n",
    "\n",
    "df['HH_NCF'] = df['HH_ln']/df['NCF_ln']"
   ]
  },
  {
   "cell_type": "code",
   "execution_count": 4,
   "metadata": {},
   "outputs": [
    {
     "name": "stderr",
     "output_type": "stream",
     "text": [
      "/Users/joe/opt/anaconda3/lib/python3.8/site-packages/statsmodels/tsa/base/tsa_model.py:578: ValueWarning: An unsupported index was provided and will be ignored when e.g. forecasting.\n",
      "  warnings.warn('An unsupported index was provided and will be'\n"
     ]
    },
    {
     "data": {
      "text/plain": [
       "<AxesSubplot:title={'center':'Probability of being in the high regime'}>"
      ]
     },
     "execution_count": 4,
     "metadata": {},
     "output_type": "execute_result"
    },
    {
     "data": {
      "image/png": "[encoded data removed]",
      "text/plain": [
       "<Figure size 864x144 with 1 Axes>"
      ]
     },
     "metadata": {
      "needs_background": "light"
     },
     "output_type": "display_data"
    }
   ],
   "source": [
    "## markov regime switching for Henry Hub and Newcastle Gas Futures##\n",
    "\n",
    "mod = sm.tsa.MarkovRegression(df['HH_NCF'][1:], k_regimes=2)\n",
    "res = mod.fit()\n",
    "res.summary()\n",
    "\n",
    "res.smoothed_marginal_probabilities[1].plot(\n",
    "    title='Probability of being in the high regime', figsize=(12,2))"
   ]
  },
  {
   "cell_type": "code",
   "execution_count": 5,
   "metadata": {},
   "outputs": [
    {
     "name": "stdout",
     "output_type": "stream",
     "text": [
      "                            OLS Regression Results                            \n",
      "==============================================================================\n",
      "Dep. Variable:                  HH_ln   R-squared:                       0.199\n",
      "Model:                            OLS   Adj. R-squared:                  0.199\n",
      "Method:                 Least Squares   F-statistic:                     719.1\n",
      "Date:                Fri, 19 Feb 2021   Prob (F-statistic):          1.11e-141\n",
      "Time:                        11:06:30   Log-Likelihood:                -158.54\n",
      "No. Observations:                2900   AIC:                             321.1\n",
      "Df Residuals:                    2898   BIC:                             333.0\n",
      "Df Model:                           1                                         \n",
      "Covariance Type:            nonrobust                                         \n",
      "==============================================================================\n",
      "                 coef    std err          t      P>|t|      [0.025      0.975]\n",
      "------------------------------------------------------------------------------\n",
      "const         -1.0632      0.083    -12.884      0.000      -1.225      -0.901\n",
      "NCF_ln         0.5019      0.019     26.815      0.000       0.465       0.539\n",
      "==============================================================================\n",
      "Omnibus:                       19.205   Durbin-Watson:                   0.031\n",
      "Prob(Omnibus):                  0.000   Jarque-Bera (JB):               19.234\n",
      "Skew:                           0.187   Prob(JB):                     6.66e-05\n",
      "Kurtosis:                       2.860   Cond. No.                         80.6\n",
      "==============================================================================\n",
      "\n",
      "Notes:\n",
      "[1] Standard Errors assume that the covariance matrix of the errors is correctly specified.\n"
     ]
    }
   ],
   "source": [
    "## OLS on volatility output ##\n",
    "\n",
    "X = df['NCF_ln']\n",
    "y = df['HH_ln']\n",
    "X = sm.add_constant(X)\n",
    "mod1 = sm.OLS(y,X)\n",
    "results = mod1.fit()\n",
    "print(results.summary())"
   ]
  },
  {
   "cell_type": "code",
   "execution_count": null,
   "metadata": {},
   "outputs": [],
   "source": [
    "sm.qqplot(results.resid,line=\"45\",fit=\"TRUE\")"
   ]
  },
  {
   "cell_type": "code",
   "execution_count": null,
   "metadata": {},
   "outputs": [],
   "source": []
  }
 ],
 "metadata": {
  "kernelspec": {
   "display_name": "Python 3",
   "language": "python",
   "name": "python3"
  },
  "language_info": {
   "codemirror_mode": {
    "name": "ipython",
    "version": 3
   },
   "file_extension": ".py",
   "mimetype": "text/x-python",
   "name": "python",
   "nbconvert_exporter": "python",
   "pygments_lexer": "ipython3",
   "version": "3.8.5"
  }
 },
 "nbformat": 4,
 "nbformat_minor": 4
}
