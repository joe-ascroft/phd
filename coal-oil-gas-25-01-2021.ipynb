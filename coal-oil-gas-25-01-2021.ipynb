{
 "cells": [
  {
   "cell_type": "code",
   "execution_count": null,
   "metadata": {
    "scrolled": false
   },
   "outputs": [],
   "source": [
    "import numpy as np\n",
    "import pandas as pd\n",
    "import datetime as dt\n",
    "import datapackage\n",
    "import matplotlib.pyplot as plt\n",
    "import statsmodels.api as sm\n",
    "\n",
    "## investigating volatility linkages between oil, gas, and regionalised coal futures markets ##\n",
    "\n",
    "## load data from Github into new frame and remove rows with absent data ##\n",
    "\n",
    "url = 'https://raw.githubusercontent.com/joe-ascroft/phd/master/df-combined.csv'\n",
    "df = pd.read_csv(url)\n",
    "df[\"DATE\"] = pd.to_datetime(df[\"DATE\"])\n",
    "for col in df.columns[1:]:\n",
    "    df[col] = pd.to_numeric(df[col],errors='coerce')\n",
    "\n",
    "df = df.dropna()"
   ]
  },
  {
   "cell_type": "code",
   "execution_count": null,
   "metadata": {
    "scrolled": false
   },
   "outputs": [],
   "source": [
    "## calculating univariate returns ##\n",
    "\n",
    "for col in df.columns[1:5]:\n",
    "    df[col+'_r'] = df[col].pct_change()\n",
    "    \n",
    "df.dropna()\n",
    "print(df)"
   ]
  },
  {
   "cell_type": "code",
   "execution_count": null,
   "metadata": {},
   "outputs": [],
   "source": [
    "## markov regime switching for Henry Hub and Newcastle Gas Futures##\n",
    "\n",
    "df['HH_r/NCF_r'] = df['HH_r']/df['NCF_r']\n",
    "df = df.dropna()\n",
    "print(df)\n",
    "\n",
    "modhh_ncf = sm.tsa.MarkovRegression(df['HH_r/NCF_r'][1:], k_regimes=2)\n",
    "res_hh_ncf = modhh_ncf.fit()\n",
    "res_hh_ncf.summary()\n",
    "\n",
    "res_hh_ncf.smoothed_marginal_probabilities[1].plot(\n",
    "    title='Probability of being in the high regime', figsize=(12,3));"
   ]
  },
  {
   "cell_type": "code",
   "execution_count": null,
   "metadata": {},
   "outputs": [],
   "source": [
    "## OLS on volatility output ##\n",
    "\n",
    "df[\"NCF_vol\"] = sm.add_constant(df[\"NCF_vol\"])\n",
    "mod1 = sm.OLS(df[\"WTI_vol\"][1:],df[\"NCF_vol\"].dropna())\n",
    "results = mod1.fit()\n",
    "print(results.summary())"
   ]
  }
 ],
 "metadata": {
  "kernelspec": {
   "display_name": "Python 3",
   "language": "python",
   "name": "python3"
  },
  "language_info": {
   "codemirror_mode": {
    "name": "ipython",
    "version": 3
   },
   "file_extension": ".py",
   "mimetype": "text/x-python",
   "name": "python",
   "nbconvert_exporter": "python",
   "pygments_lexer": "ipython3",
   "version": "3.8.5"
  }
 },
 "nbformat": 4,
 "nbformat_minor": 4
}
