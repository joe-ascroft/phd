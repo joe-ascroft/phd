{
 "cells": [
  {
   "cell_type": "code",
   "execution_count": 1,
   "metadata": {
    "scrolled": false
   },
   "outputs": [],
   "source": [
    "import numpy as np\n",
    "import pandas as pd\n",
    "import datetime as dt\n",
    "import datapackage\n",
    "import matplotlib.pyplot as plt\n",
    "import statsmodels.api as sm\n",
    "\n",
    "## investigating volatility linkages between oil, gas, and regionalised coal futures markets ##\n",
    "\n",
    "## load data from Github into new frame and remove rows with absent data ##\n",
    "\n",
    "url = 'https://raw.githubusercontent.com/joe-ascroft/phd/master/df-combined.csv'\n",
    "df = pd.read_csv(url)\n",
    "df[\"DATE\"] = pd.to_datetime(df[\"DATE\"])\n",
    "for col in df.columns[1:]:\n",
    "    df[col] = pd.to_numeric(df[col],errors='coerce')\n",
    "\n",
    "df = df.dropna()"
   ]
  },
  {
   "cell_type": "code",
   "execution_count": 2,
   "metadata": {
    "scrolled": false
   },
   "outputs": [
    {
     "name": "stdout",
     "output_type": "stream",
     "text": [
      "           DATE    NCF    RCF    WTI    HH     NCF_r     RCF_r     WTI_r  \\\n",
      "4    2009-05-01  77.65  84.40  48.61  5.83  0.044385  0.041975  0.052848   \n",
      "5    2009-06-01  81.25  88.50  48.56  6.10  0.046362  0.048578 -0.001029   \n",
      "6    2009-07-01  78.65  86.25  42.75  5.89 -0.032000 -0.025424 -0.119646   \n",
      "7    2009-08-01  79.15  84.00  41.68  5.96  0.006357 -0.026087 -0.025029   \n",
      "8    2009-09-01  76.90  83.50  40.69  5.60 -0.028427 -0.005952 -0.023752   \n",
      "...         ...    ...    ...    ...   ...       ...       ...       ...   \n",
      "4254 2020-08-25  49.75  48.90  43.17  2.54  0.001006  0.002049  0.017201   \n",
      "4255 2020-08-26  49.70  48.95  43.21  2.52 -0.001005  0.001022  0.000927   \n",
      "4256 2020-08-27  49.80  48.90  42.88  2.52  0.002012 -0.001021 -0.007637   \n",
      "4257 2020-08-28  50.60  52.20  42.96  2.46  0.016064  0.067485  0.001866   \n",
      "4260 2020-08-31  51.95  52.90  42.61  2.30  0.026680  0.013410 -0.008147   \n",
      "\n",
      "          HH_r  \n",
      "4     0.077634  \n",
      "5     0.046312  \n",
      "6    -0.034426  \n",
      "7     0.011885  \n",
      "8    -0.060403  \n",
      "...        ...  \n",
      "4254 -0.011673  \n",
      "4255 -0.007874  \n",
      "4256  0.000000  \n",
      "4257 -0.023810  \n",
      "4260 -0.065041  \n",
      "\n",
      "[2902 rows x 9 columns]\n"
     ]
    }
   ],
   "source": [
    "## calculating univariate returns ##\n",
    "\n",
    "for col in df.columns[1:5]:\n",
    "    df[col+'_r'] = df[col].pct_change()\n",
    "    \n",
    "df = df.dropna()\n",
    "print(df)"
   ]
  },
  {
   "cell_type": "code",
   "execution_count": 4,
   "metadata": {},
   "outputs": [
    {
     "name": "stdout",
     "output_type": "stream",
     "text": [
      "           DATE    NCF    RCF    WTI    HH     NCF_r     RCF_r     WTI_r  \\\n",
      "4    2009-05-01  77.65  84.40  48.61  5.83  0.044385  0.041975  0.052848   \n",
      "5    2009-06-01  81.25  88.50  48.56  6.10  0.046362  0.048578 -0.001029   \n",
      "6    2009-07-01  78.65  86.25  42.75  5.89 -0.032000 -0.025424 -0.119646   \n",
      "7    2009-08-01  79.15  84.00  41.68  5.96  0.006357 -0.026087 -0.025029   \n",
      "8    2009-09-01  76.90  83.50  40.69  5.60 -0.028427 -0.005952 -0.023752   \n",
      "...         ...    ...    ...    ...   ...       ...       ...       ...   \n",
      "4253 2020-08-24  49.70  48.80  42.44  2.57 -0.002008  0.003083  0.002836   \n",
      "4254 2020-08-25  49.75  48.90  43.17  2.54  0.001006  0.002049  0.017201   \n",
      "4255 2020-08-26  49.70  48.95  43.21  2.52 -0.001005  0.001022  0.000927   \n",
      "4257 2020-08-28  50.60  52.20  42.96  2.46  0.016064  0.067485  0.001866   \n",
      "4260 2020-08-31  51.95  52.90  42.61  2.30  0.026680  0.013410 -0.008147   \n",
      "\n",
      "          HH_r  hhncfratio  \n",
      "4     0.077634    1.749118  \n",
      "5     0.046312    0.998928  \n",
      "6    -0.034426    1.075820  \n",
      "7     0.011885    1.869440  \n",
      "8    -0.060403    2.124832  \n",
      "...        ...         ...  \n",
      "4253  0.075314  -37.506276  \n",
      "4254 -0.011673  -11.603113  \n",
      "4255 -0.007874    7.834646  \n",
      "4257 -0.023810   -1.482143  \n",
      "4260 -0.065041   -2.437820  \n",
      "\n",
      "[2124 rows x 10 columns]\n"
     ]
    },
    {
     "data": {
      "text/plain": [
       "<matplotlib.axes._subplots.AxesSubplot at 0x1e5a3c42788>"
      ]
     },
     "execution_count": 4,
     "metadata": {},
     "output_type": "execute_result"
    },
    {
     "data": {
      "image/png": "[encoded data removed]",
      "text/plain": [
       "<Figure size 864x216 with 1 Axes>"
      ]
     },
     "metadata": {
      "needs_background": "light"
     },
     "output_type": "display_data"
    }
   ],
   "source": [
    "## markov regime switching for Henry Hub and Newcastle Gas Futures##\n",
    "\n",
    "df['hhncfratio'] = df['HH_r']/df['NCF_r']\n",
    "df = df.dropna()\n",
    "df = df[(df != 0).all(1)]\n",
    "print(df)\n",
    "for col in df.columns[1:]:\n",
    "    df[col] = pd.to_numeric(df[col],errors='coerce')\n",
    "    \n",
    "df['hhncfratio'].plot(title='Return Ratio of Henry Hub and Newcastle Coal Futures', figsize=(12,3))"
   ]
  },
  {
   "cell_type": "code",
   "execution_count": 5,
   "metadata": {},
   "outputs": [
    {
     "name": "stderr",
     "output_type": "stream",
     "text": [
      "C:\\Users\\User\\Anaconda3\\envs\\joe_phd\\lib\\site-packages\\statsmodels\\tsa\\base\\tsa_model.py:214: ValueWarning: An unsupported index was provided and will be ignored when e.g. forecasting.\n",
      "  ' ignored when e.g. forecasting.', ValueWarning)\n",
      "C:\\Users\\User\\Anaconda3\\envs\\joe_phd\\lib\\site-packages\\statsmodels\\tsa\\regime_switching\\markov_regression.py:307: RuntimeWarning: invalid value encountered in subtract\n",
      "  variance = np.var(self.endog - np.dot(self.exog, beta))\n",
      "C:\\Users\\User\\Anaconda3\\envs\\joe_phd\\lib\\site-packages\\statsmodels\\tsa\\regime_switching\\markov_regression.py:312: RuntimeWarning: invalid value encountered in multiply\n",
      "  beta * (i / self.k_regimes))\n",
      "C:\\Users\\User\\Anaconda3\\envs\\joe_phd\\lib\\site-packages\\statsmodels\\tsa\\regime_switching\\markov_regression.py:172: RuntimeWarning: invalid value encountered in subtract\n",
      "  return self.endog - predict\n",
      "C:\\Users\\User\\Anaconda3\\envs\\joe_phd\\lib\\site-packages\\numpy\\linalg\\linalg.py:1965: RuntimeWarning: invalid value encountered in greater\n",
      "  large = s > cutoff\n",
      "C:\\Users\\User\\Anaconda3\\envs\\joe_phd\\lib\\site-packages\\scipy\\special\\_logsumexp.py:120: RuntimeWarning: invalid value encountered in log\n",
      "  out = np.log(s)\n",
      "C:\\Users\\User\\Anaconda3\\envs\\joe_phd\\lib\\site-packages\\statsmodels\\tsa\\regime_switching\\markov_regression.py:188: RuntimeWarning: invalid value encountered in true_divide\n",
      "  -0.5 * resid**2 / variance - 0.5 * np.log(2 * np.pi * variance))\n",
      "C:\\Users\\User\\Anaconda3\\envs\\joe_phd\\lib\\site-packages\\statsmodels\\tsa\\regime_switching\\markov_regression.py:188: RuntimeWarning: invalid value encountered in log\n",
      "  -0.5 * resid**2 / variance - 0.5 * np.log(2 * np.pi * variance))\n",
      "C:\\Users\\User\\Anaconda3\\envs\\joe_phd\\lib\\site-packages\\statsmodels\\tsa\\regime_switching\\markov_switching.py:163: RuntimeWarning: invalid value encountered in log\n",
      "  initial_probabilities = np.log(initial_probabilities)\n",
      "C:\\Users\\User\\Anaconda3\\envs\\joe_phd\\lib\\site-packages\\statsmodels\\tsa\\regime_switching\\markov_switching.py:164: RuntimeWarning: invalid value encountered in log\n",
      "  regime_transition = np.log(np.maximum(regime_transition, 1e-20))\n",
      "C:\\Users\\User\\Anaconda3\\envs\\joe_phd\\lib\\site-packages\\statsmodels\\base\\model.py:568: ConvergenceWarning: Maximum Likelihood optimization failed to converge. Check mle_retvals\n",
      "  \"Check mle_retvals\", ConvergenceWarning)\n",
      "C:\\Users\\User\\Anaconda3\\envs\\joe_phd\\lib\\site-packages\\scipy\\stats\\_distn_infrastructure.py:903: RuntimeWarning: invalid value encountered in greater\n",
      "  return (a < x) & (x < b)\n",
      "C:\\Users\\User\\Anaconda3\\envs\\joe_phd\\lib\\site-packages\\scipy\\stats\\_distn_infrastructure.py:903: RuntimeWarning: invalid value encountered in less\n",
      "  return (a < x) & (x < b)\n",
      "C:\\Users\\User\\Anaconda3\\envs\\joe_phd\\lib\\site-packages\\scipy\\stats\\_distn_infrastructure.py:1912: RuntimeWarning: invalid value encountered in less_equal\n",
      "  cond2 = cond0 & (x <= _a)\n"
     ]
    },
    {
     "data": {
      "text/html": [
       "<table class=\"simpletable\">\n",
       "<caption>Markov Switching Model Results</caption>\n",
       "<tr>\n",
       "  <th>Dep. Variable:</th>         <td>HH_r</td>       <th>  No. Observations:  </th> <td>2123</td> \n",
       "</tr>\n",
       "<tr>\n",
       "  <th>Model:</th>           <td>MarkovRegression</td> <th>  Log Likelihood     </th> <td>  nan</td>\n",
       "</tr>\n",
       "<tr>\n",
       "  <th>Date:</th>            <td>Mon, 15 Feb 2021</td> <th>  AIC                </th> <td>  nan</td>\n",
       "</tr>\n",
       "<tr>\n",
       "  <th>Time:</th>                <td>16:00:40</td>     <th>  BIC                </th> <td>  nan</td>\n",
       "</tr>\n",
       "<tr>\n",
       "  <th>Sample:</th>                  <td>0</td>        <th>  HQIC               </th> <td>  nan</td>\n",
       "</tr>\n",
       "<tr>\n",
       "  <th></th>                      <td> - 2123</td>     <th>                     </th>   <td> </td>  \n",
       "</tr>\n",
       "<tr>\n",
       "  <th>Covariance Type:</th>      <td>approx</td>      <th>                     </th>   <td> </td>  \n",
       "</tr>\n",
       "</table>\n",
       "<table class=\"simpletable\">\n",
       "<caption>Regime 0 parameters</caption>\n",
       "<tr>\n",
       "    <td></td>       <th>coef</th>     <th>std err</th>      <th>z</th>      <th>P>|z|</th>  <th>[0.025</th>    <th>0.975]</th>  \n",
       "</tr>\n",
       "<tr>\n",
       "  <th>const</th> <td>       nan</td> <td>      nan</td> <td>      nan</td> <td>   nan</td> <td>      nan</td> <td>      nan</td>\n",
       "</tr>\n",
       "</table>\n",
       "<table class=\"simpletable\">\n",
       "<caption>Regime 1 parameters</caption>\n",
       "<tr>\n",
       "    <td></td>       <th>coef</th>     <th>std err</th>      <th>z</th>      <th>P>|z|</th>  <th>[0.025</th>    <th>0.975]</th>  \n",
       "</tr>\n",
       "<tr>\n",
       "  <th>const</th> <td>       nan</td> <td>      nan</td> <td>      nan</td> <td>   nan</td> <td>      nan</td> <td>      nan</td>\n",
       "</tr>\n",
       "</table>\n",
       "<table class=\"simpletable\">\n",
       "<caption>Non-switching parameters</caption>\n",
       "<tr>\n",
       "     <td></td>       <th>coef</th>     <th>std err</th>      <th>z</th>      <th>P>|z|</th>  <th>[0.025</th>    <th>0.975]</th>  \n",
       "</tr>\n",
       "<tr>\n",
       "  <th>sigma2</th> <td>       nan</td> <td>      nan</td> <td>      nan</td> <td>   nan</td> <td>      nan</td> <td>      nan</td>\n",
       "</tr>\n",
       "</table>\n",
       "<table class=\"simpletable\">\n",
       "<caption>Regime transition parameters</caption>\n",
       "<tr>\n",
       "     <td></td>        <th>coef</th>     <th>std err</th>      <th>z</th>      <th>P>|z|</th>  <th>[0.025</th>    <th>0.975]</th>  \n",
       "</tr>\n",
       "<tr>\n",
       "  <th>p[0->0]</th> <td>       nan</td> <td>      nan</td> <td>      nan</td> <td>   nan</td> <td>      nan</td> <td>      nan</td>\n",
       "</tr>\n",
       "<tr>\n",
       "  <th>p[1->0]</th> <td>       nan</td> <td>      nan</td> <td>      nan</td> <td>   nan</td> <td>      nan</td> <td>      nan</td>\n",
       "</tr>\n",
       "</table><br/><br/>Warnings:<br/>[1] Covariance matrix is singular or near-singular, with condition number    nan. Standard errors may be unstable."
      ],
      "text/plain": [
       "<class 'statsmodels.iolib.summary.Summary'>\n",
       "\"\"\"\n",
       "                        Markov Switching Model Results                        \n",
       "==============================================================================\n",
       "Dep. Variable:                   HH_r   No. Observations:                 2123\n",
       "Model:               MarkovRegression   Log Likelihood                     nan\n",
       "Date:                Mon, 15 Feb 2021   AIC                                nan\n",
       "Time:                        16:00:40   BIC                                nan\n",
       "Sample:                             0   HQIC                               nan\n",
       "                               - 2123                                         \n",
       "Covariance Type:               approx                                         \n",
       "                             Regime 0 parameters                              \n",
       "==============================================================================\n",
       "                 coef    std err          z      P>|z|      [0.025      0.975]\n",
       "------------------------------------------------------------------------------\n",
       "const             nan        nan        nan        nan         nan         nan\n",
       "                             Regime 1 parameters                              \n",
       "==============================================================================\n",
       "                 coef    std err          z      P>|z|      [0.025      0.975]\n",
       "------------------------------------------------------------------------------\n",
       "const             nan        nan        nan        nan         nan         nan\n",
       "                           Non-switching parameters                           \n",
       "==============================================================================\n",
       "                 coef    std err          z      P>|z|      [0.025      0.975]\n",
       "------------------------------------------------------------------------------\n",
       "sigma2            nan        nan        nan        nan         nan         nan\n",
       "                         Regime transition parameters                         \n",
       "==============================================================================\n",
       "                 coef    std err          z      P>|z|      [0.025      0.975]\n",
       "------------------------------------------------------------------------------\n",
       "p[0->0]           nan        nan        nan        nan         nan         nan\n",
       "p[1->0]           nan        nan        nan        nan         nan         nan\n",
       "==============================================================================\n",
       "\n",
       "Warnings:\n",
       "[1] Covariance matrix is singular or near-singular, with condition number    nan. Standard errors may be unstable.\n",
       "\"\"\""
      ]
     },
     "execution_count": 5,
     "metadata": {},
     "output_type": "execute_result"
    }
   ],
   "source": [
    "modhh_ncf = sm.tsa.MarkovRegression(df.HH_r[1:], k_regimes=2)\n",
    "\n",
    "res_hh_ncf = modhh_ncf.fit()\n",
    "res_hh_ncf.summary()"
   ]
  },
  {
   "cell_type": "code",
   "execution_count": null,
   "metadata": {},
   "outputs": [],
   "source": [
    "res_hh_ncf.smoothed_marginal_probabilities[1].plot(\n",
    "    title='Probability of being in the high regime', figsize=(12,3))\n",
    "\n",
    "## OLS on volatility output ##\n",
    "\n",
    "df[\"NCF_vol\"] = sm.add_constant(df[\"NCF_vol\"])\n",
    "mod1 = sm.OLS(df[\"WTI_vol\"][1:],df[\"NCF_vol\"].dropna())\n",
    "results = mod1.fit()\n",
    "print(results.summary())"
   ]
  }
 ],
 "metadata": {
  "kernelspec": {
   "display_name": "Python 3",
   "language": "python",
   "name": "python3"
  },
  "language_info": {
   "codemirror_mode": {
    "name": "ipython",
    "version": 3
   },
   "file_extension": ".py",
   "mimetype": "text/x-python",
   "name": "python",
   "nbconvert_exporter": "python",
   "pygments_lexer": "ipython3",
   "version": "3.7.7"
  }
 },
 "nbformat": 4,
 "nbformat_minor": 4
}
