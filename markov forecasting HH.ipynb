{
 "cells": [
  {
   "cell_type": "code",
   "execution_count": null,
   "metadata": {},
   "outputs": [],
   "source": [
    "## modelling HH crude front month prices based on markov regime switching model ##\n",
    "\n",
    "import numpy as np\n",
    "import pandas as pd\n",
    "import math\n",
    "import datetime as dt\n",
    "import datapackage\n",
    "import matplotlib.pyplot as plt\n",
    "from scipy.stats import norm\n",
    "from scipy.stats import multinomial\n",
    "from typing import List\n",
    "import seaborn as sns\n",
    "\n",
    "## state definitions s.t. Sn = (mean,variance)\n",
    "\n",
    "p_init = np.array([1, 0, 0])\n",
    "## S1 = State(0,0)\n",
    "## S2 = State(-0.0431,9.2698)\n",
    "## S3 = State(0.9739,110.3372)\n",
    "        \n",
    "## state transition matrix definition ## \n",
    "\n",
    "pT = np.array([[0.2846,0.6879,0.0275], [0.1704,0.8071,0.0225],[0.1458,0.4660,0.3882]])\n",
    "print(pT)"
   ]
  },
  {
   "cell_type": "code",
   "execution_count": null,
   "metadata": {},
   "outputs": [],
   "source": [
    "def equilibrium_distribution(pS):\n",
    "    n_states = pS.shape[0]\n",
    "    A = np.append(\n",
    "        arr=pS.T - np.eye(n_states),\n",
    "        values=np.ones(n_states).reshape(1, -1),\n",
    "        axis=0\n",
    "    )\n",
    "    b = np.transpose(np.array([0] * n_states + [1]))\n",
    "    p_eq = np.linalg.solve(\n",
    "        a=np.transpose(A).dot(A),\n",
    "        b=np.transpose(A).dot(b)\n",
    "    )\n",
    "    return p_eq\n",
    "\n",
    "print(equilibrium_distribution(pT))"
   ]
  },
  {
   "cell_type": "code",
   "execution_count": null,
   "metadata": {},
   "outputs": [],
   "source": [
    "def markov_sequence(p_init: np.array, pT: np.array, sequence_length: int) -> List[int]:\n",
    "    \"\"\"\n",
    "    Generate a Markov sequence based on p_init and p_transition.\n",
    "    \"\"\"\n",
    "    if p_init is None:\n",
    "        p_init = equilibrium_distribution(pT)\n",
    "    initial_state = list(multinomial.rvs(1, p_init)).index(1)\n",
    "\n",
    "    states = [initial_state]\n",
    "    for _ in range(sequence_length - 1):\n",
    "        p_tr = pT[states[-1]]\n",
    "        new_state = list(multinomial.rvs(1, p_tr)).index(1)\n",
    "        states.append(new_state)\n",
    "    return states"
   ]
  },
  {
   "cell_type": "code",
   "execution_count": null,
   "metadata": {},
   "outputs": [],
   "source": [
    "## generate markov sequence given available data ##\n",
    "\n",
    "states = markov_sequence(p_init, pT, sequence_length=10000)\n",
    "fig,  ax = plt.subplots(figsize=(12, 4))\n",
    "plt.plot(states)\n",
    "plt.xlabel(\"time step\")\n",
    "plt.ylabel(\"state\")\n",
    "plt.yticks([0, 1, 2])\n",
    "sns.despine()"
   ]
  },
  {
   "cell_type": "code",
   "execution_count": null,
   "metadata": {},
   "outputs": [],
   "source": [
    "def plot_prices(states, prices):\n",
    "    fig, axes = plt.subplots(figsize=(16, 8), nrows=2, ncols=1, sharex=True)\n",
    "\n",
    "    axes[0].plot(states)\n",
    "    axes[0].set_title(\"States\")\n",
    "    axes[1].plot(prices)\n",
    "    axes[1].set_title(\"Prices\")\n",
    "    sns.despine();"
   ]
  },
  {
   "cell_type": "code",
   "execution_count": null,
   "metadata": {},
   "outputs": [],
   "source": [
    "def price_evo_gaussian(states: List[int], mus: List[float], sigmas: List[float]) -> List[float]:\n",
    "    prices = []\n",
    "    prev_loc = 2.96\n",
    "    for state in states:\n",
    "        price = prev_loc*(1+(norm.rvs(mus[state],sigmas[state])))\n",
    "        prices.append(price)\n",
    "        prev_loc = price\n",
    "    return prices"
   ]
  },
  {
   "cell_type": "code",
   "execution_count": null,
   "metadata": {},
   "outputs": [],
   "source": [
    "hh_prices = price_evo_gaussian(states,mus=[0,0.0028,0.0668],sigmas = [0,0.03605,0.2357])"
   ]
  },
  {
   "cell_type": "code",
   "execution_count": null,
   "metadata": {},
   "outputs": [],
   "source": [
    "plot_prices(states,hh_prices)"
   ]
  },
  {
   "cell_type": "code",
   "execution_count": null,
   "metadata": {},
   "outputs": [],
   "source": []
  },
  {
   "cell_type": "code",
   "execution_count": null,
   "metadata": {},
   "outputs": [],
   "source": []
  }
 ],
 "metadata": {
  "kernelspec": {
   "display_name": "Python 3",
   "language": "python",
   "name": "python3"
  },
  "language_info": {
   "codemirror_mode": {
    "name": "ipython",
    "version": 3
   },
   "file_extension": ".py",
   "mimetype": "text/x-python",
   "name": "python",
   "nbconvert_exporter": "python",
   "pygments_lexer": "ipython3",
   "version": "3.8.5"
  }
 },
 "nbformat": 4,
 "nbformat_minor": 4
}
