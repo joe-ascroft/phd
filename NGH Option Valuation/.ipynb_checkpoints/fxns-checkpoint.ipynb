{
 "cells": [
  {
   "cell_type": "code",
   "execution_count": 1,
   "metadata": {},
   "outputs": [],
   "source": [
    "import numpy as np\n",
    "import pandas as pd\n",
    "import math\n",
    "import datetime as dt\n",
    "import datapackage\n",
    "import matplotlib.pyplot as plt\n",
    "from scipy.stats import norm\n",
    "from scipy.stats import multinomial\n",
    "from typing import List\n",
    "import seaborn as sns\n",
    "\n",
    "# extraction optimisation routine ##\n",
    "\n",
    "## this routine simulates optimal firm extraction behaviour under markov ECM ##\n",
    "\n",
    "## define stage and state characetristics \n",
    "\n",
    "class State: \n",
    "    def __init__(self,mean,eta,lambda_switch,sigma):\n",
    "        self.m = mean\n",
    "        self.e = eta \n",
    "        self.l = lambda_switch\n",
    "        self.s = sigma\n",
    "        \n",
    "state_1 = State(75,0.44,0.26,0.23)\n",
    "state_2 = State(30,1.05,0.28,0.44)\n",
    "\n",
    "## E => daily extraction, Pt => price for day t, vc and fc => variable and fixed costs ## \n",
    "\n",
    "## pi_tax => corporate rate, c_tax => carbon tax ##\n",
    "\n",
    "def profit_t(E,Pt,vc,fc,pi_tax,c_tax):\n",
    "    pi = ((E*(Pt-vc-c_tax))-fc)*(1-pi_tax)\n",
    "    return pi\n",
    "\n",
    "## T => days of extraction remaining, r => effective daily interest rate ##\n",
    "\n",
    "def value_simple(T,r,pi):\n",
    "    v = pi*(math.exp(-r*T))*(1/r)\n",
    "    return v"
   ]
  },
  {
   "cell_type": "code",
   "execution_count": 8,
   "metadata": {},
   "outputs": [
    {
     "name": "stdout",
     "output_type": "stream",
     "text": [
      "[-6800000.0, -5600000.0, -4400000.0, -3200000.0, -2000000.0, -800000.0, 400000.0, 1600000.0, 2800000.0, 4000000.0, 5200000.0, 6400000.0, 7600000.0, 8800000.0, 10000000.0, 11200000.0, 12400000.0, 13600000.0, 14800000.0, 16000000.0, 17200000.0, 18400000.0, 19600000.0, 20800000.0, 22000000.0, 23200000.0, 24400000.0, 25600000.0, 26800000.0, 28000000.0, 29200000.0, 30400000.0, 31600000.0, 32800000.0, 34000000.0, 35200000.0, 36400000.0, 37600000.0, 38800000.0, 40000000.0, 41200000.0, 42400000.0, 43600000.0, 44800000.0, 46000000.0, 47200000.0, 48400000.0, 49600000.0]\n"
     ]
    },
    {
     "data": {
      "text/plain": [
       "[<matplotlib.lines.Line2D at 0x7ffda0107d00>]"
      ]
     },
     "execution_count": 8,
     "metadata": {},
     "output_type": "execute_result"
    },
    {
     "data": {
      "image/png": "[encoded data removed]",
      "text/plain": [
       "<Figure size 432x288 with 1 Axes>"
      ]
     },
     "metadata": {
      "needs_background": "light"
     },
     "output_type": "display_data"
    }
   ],
   "source": [
    "prices = list(range(10,250,5))\n",
    "s0 = list(range(50,500,5))\n",
    "\n",
    "pi_p=[]\n",
    "for i in prices:\n",
    "    profit = profit_t(300000,i,20,1000000,0.2,15)\n",
    "    pi_p.append(profit)\n",
    "\n",
    "print(pi_p)\n",
    "plt.plot(prices,pi_p)"
   ]
  },
  {
   "cell_type": "code",
   "execution_count": null,
   "metadata": {},
   "outputs": [],
   "source": []
  },
  {
   "cell_type": "code",
   "execution_count": 7,
   "metadata": {},
   "outputs": [
    {
     "name": "stdout",
     "output_type": "stream",
     "text": [
      "[-76385923.89992766, -62906054.97641102, -49426186.05289437, -35946317.12937772, -22466448.205861077, -8986579.28234443, 4493289.641172215, 17973158.56468886, 31453027.48820551, 44932896.41172215, 58412765.33523881, 71892634.25875545, 85372503.1822721, 98852372.10578874, 112332241.02930538, 125812109.95282204, 139291978.8763387, 152771847.79985532, 166251716.72337198, 179731585.6468886, 193211454.57040527, 206691323.4939219]\n"
     ]
    },
    {
     "data": {
      "text/plain": [
       "[<matplotlib.lines.Line2D at 0x7ffd9003a820>]"
      ]
     },
     "execution_count": 7,
     "metadata": {},
     "output_type": "execute_result"
    },
    {
     "data": {
      "image/png": "[encoded data removed]",
      "text/plain": [
       "<Figure size 432x288 with 1 Axes>"
      ]
     },
     "metadata": {
      "needs_background": "light"
     },
     "output_type": "display_data"
    }
   ],
   "source": [
    "v_p=[]\n",
    "for i in pi_p:\n",
    "    value = value_simple(20,0.04,i)\n",
    "    v_p.append(value)\n",
    "\n",
    "print(v_p)\n",
    "plt.plot(prices,v_p)"
   ]
  },
  {
   "cell_type": "code",
   "execution_count": null,
   "metadata": {},
   "outputs": [],
   "source": [
    "class Stage: \n",
    "    def __init__(self,cost,extract):\n",
    "        self.c = cost\n",
    "        self.E = extract"
   ]
  }
 ],
 "metadata": {
  "kernelspec": {
   "display_name": "Python 3",
   "language": "python",
   "name": "python3"
  },
  "language_info": {
   "codemirror_mode": {
    "name": "ipython",
    "version": 3
   },
   "file_extension": ".py",
   "mimetype": "text/x-python",
   "name": "python",
   "nbconvert_exporter": "python",
   "pygments_lexer": "ipython3",
   "version": "3.8.5"
  }
 },
 "nbformat": 4,
 "nbformat_minor": 4
}
