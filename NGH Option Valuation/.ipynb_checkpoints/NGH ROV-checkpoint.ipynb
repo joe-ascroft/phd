{
 "cells": [
  {
   "cell_type": "code",
   "execution_count": 1,
   "metadata": {},
   "outputs": [],
   "source": [
    "import numpy as np\n",
    "import pandas as pd\n",
    "import math\n",
    "import datetime as dt\n",
    "import datapackage\n",
    "import matplotlib.pyplot as plt\n",
    "from scipy.stats import norm\n",
    "from scipy.stats import multinomial\n",
    "from typing import List\n",
    "import seaborn as sns\n",
    "\n",
    "## profit function ##\n",
    "\n",
    "def profit_t(E,P,vc,fc,pi_tax,c_tax):\n",
    "    pi = ((E*(P-vc-c_tax))-fc)*(1-pi_tax)\n",
    "    return pi\n",
    "\n",
    "## define State class\n",
    "\n",
    "class State: \n",
    "    def __init__(self,mean,eta,lambda_switch,sigma):\n",
    "        self.m = mean\n",
    "        self.e = eta \n",
    "        self.l = lambda_switch\n",
    "        self.s = sigma\n",
    "\n",
    "## state characterisation\n",
    "        \n",
    "state_1 = State(75,0.44,0.26,0.23)\n",
    "state_2 = State(30,1.05,0.28,0.44)\n",
    "\n",
    "## lattice parameters ##\n",
    "\n",
    "p_step = 10\n",
    "s0_step = 500\n",
    "\n",
    "p_1 = 10\n",
    "p_max = 200\n",
    "\n",
    "s0_1 = 5000\n",
    "s0_max = 50000\n",
    "\n",
    "## lattice construction ##\n",
    "\n",
    "P_grid = list(range(p_1,p_max,p_step))\n",
    "s0_grid = list(range(s0_1,s0_max,s0_step))\n",
    "\n",
    "## finite difference parameter definition ##\n",
    "\n",
    "## parameter defn for P_i in i = 2,...,i_max-1 ##\n",
    "\n",
    "def difference(P,p_step,sigma,eta,mean):\n",
    "    a_i_central = (sigma**2)*(P**2)/((p_step*2)*p_step) - eta*(mean-P)/(p_step*2)\n",
    "    b_i_central = (sigma**2)*(P**2)/((p_step*2)*p_step) - eta*(mean-P)/(p_step*2)\n",
    "    a_i_forward = (sigma**2)*(P**2)/((p_step*2)*p_step)\n",
    "    b_i_forward = (sigma**2)*(P**2)/((p_step*2)*p_step) - eta*(mean-P)/(p_step*2)\n",
    "    a_i_backward = (sigma**2)*(P**2)/((p_step*2)*p_step) - eta*(mean-P)/(p_step*2)\n",
    "    b_i_backward = (sigma**2)*(P**2)/((p_step*2)*p_step)\n",
    "    if {a_i_central and b_i_central >= 0}:\n",
    "        return [a_i_central,b_i_central]\n",
    "    elif b_i_forward >= 0:\n",
    "        return [a_i_forward,b_i_forward]\n",
    "    else: \n",
    "        return [a_i_backward,b_i_backward]\n",
    "    \n",
    "## parameter defn for P_i in i = 1 ##\n",
    "    \n",
    "def difference_min(P,p_step,eta,mean):\n",
    "    a_i = 0\n",
    "    b_i = eta*(mean-P)/(p_step)\n",
    "    return [a_i,b_i]\n",
    "\n",
    "## parameter defn for P_i in i = i_max ##\n",
    "\n",
    "def difference_max(P,p_step,eta,mean):\n",
    "    a_i = eta*(mean - P)/(p_step)\n",
    "    b_i = 0\n",
    "    return [a_i,b_i]\n",
    "\n",
    "def Profit(P,s_k):\n",
    "    for i in range(n):\n",
    "        if s_k > E:\n",
    "            pi = profit_t(E,P,vc,fc,pi_tax,c_tax)\n",
    "            return pi \n",
    "        elif s_k > 0:\n",
    "            pi = profit_t(s_k,P,vc,fc,pi_tax,c_tax)\n",
    "            return pi\n",
    "        else:\n",
    "            pi = 0\n",
    "            return pi"
   ]
  },
  {
   "cell_type": "code",
   "execution_count": 2,
   "metadata": {},
   "outputs": [],
   "source": [
    "## characterise project ##\n",
    "\n",
    "P = 60\n",
    "n = 30\n",
    "r = 0.05 \n",
    "E = 500\n",
    "vc = 20\n",
    "fc = 200000\n",
    "pi_tax = 0.2\n",
    "c_tax = 5\n",
    "\n",
    "## create reserves matrix ##\n",
    "\n",
    "s_r = []\n",
    "\n",
    "## create s_k matrix ##\n",
    "\n",
    "s_k = []\n",
    "\n",
    "## create empty profit and valuation vectors ##\n",
    "\n",
    "pi_p = []\n",
    "A = []\n",
    "A.append(0)"
   ]
  },
  {
   "cell_type": "code",
   "execution_count": 3,
   "metadata": {
    "scrolled": false
   },
   "outputs": [
    {
     "data": {
      "text/plain": [
       "19"
      ]
     },
     "execution_count": 3,
     "metadata": {},
     "output_type": "execute_result"
    }
   ],
   "source": [
    "## v_i_k defines iterative matrix of extraction option value for lattice nodes (P_i,S_k) \n",
    "\n",
    "v_i_k = np.zeros((len(P_grid),len(s0_grid)))\n",
    "len(P_grid)"
   ]
  },
  {
   "cell_type": "code",
   "execution_count": 4,
   "metadata": {},
   "outputs": [],
   "source": [
    "## we solve option value recursively over a lease length of n ##\n",
    "\n",
    "for t in range(n):   \n",
    "    \n",
    "## first we loop over implied profit generation ##\n",
    "\n",
    "## if implied profit (including fixed costs) exceeds fixed costs, then extraction occurs, else no extraction ##           \n",
    "\n",
    "    for i in range(len(P_grid)):\n",
    "        for k in range(len(s0_grid)):\n",
    "            \n",
    "            if profit_t(E,P_grid[i],vc,fc,pi_tax,c_tax) > fc:                            \n",
    "                \n",
    "                if t*E <= s0_grid[k]:\n",
    "                    v_i_k[i,k] = v_i_k[i,k] + profit_t(E,P_grid[i],vc,fc,pi_tax,c_tax)\n",
    "                \n",
    "                elif {t*E - s0_grid[k] > 0}:\n",
    "                    v_i_k[i,k] = v_i_k[i,k] + profit_t(t*E - s0_grid[k],P_grid[i],vc,fc,pi_tax,c_tax)\n",
    "                \n",
    "                else:\n",
    "                    v_i_k[i,k] = v_i_k[i,k] + 0\n",
    "            else:\n",
    "                v_i_k[i,k] = v_i_k[i,k] - fc    \n",
    "\n",
    "## then we loop over Lagrange differential for boundary nodes ##                \n",
    "\n",
    "    for k in range(len(s0_grid)):\n",
    "        diff = difference_min(P_grid[0],p_step,state_1.e,state_1.m)\n",
    "        Lv = diff[1]*v_i_k[1,k] - (diff[0]+diff[1]+r)*v_i_k[0,k]\n",
    "        v_i_k[0,k] = v_i_k[0,k] + Lv\n",
    "\n",
    "    for k in range(len(s0_grid)):\n",
    "        diff = difference_max(len(P_grid) - 1,p_step,state_1.e,state_1.m)\n",
    "        Lv = diff[0]*v_i_k[len(P_grid) - 2,k]  - (diff[0]+diff[1]+r)*v_i_k[len(P_grid) - 1,k]\n",
    "        v_i_k[len(P_grid) - 1,k] = v_i_k[len(P_grid) - 1,k] + Lv\n",
    "\n",
    "## then we loop over lagrange differential for nodes inside the boundary ##\n",
    "    \n",
    "    for i in range(1,len(P_grid) - 1):\n",
    "        for k in range(len(s0_grid)):\n",
    "            diff = difference(P_grid[i],p_step,state_1.s,state_1.e,state_1.m)\n",
    "            Lv = diff[0]*v_i_k[i - 1,k] + diff[1]*v_i_k[i + 1,k] - (diff[0]+diff[1]+r)*v_i_k[i,k]\n",
    "            v_i_k[i,k] = v_i_k[i,k] + Lv"
   ]
  },
  {
   "cell_type": "code",
   "execution_count": 5,
   "metadata": {},
   "outputs": [
    {
     "name": "stdout",
     "output_type": "stream",
     "text": [
      "[-9.99957975e+46 -7.50930830e+48  1.44743722e+51 -4.03425914e+53\n",
      "  2.45402842e+56  4.68035341e+59  1.60292637e+62  2.88610380e+64\n",
      "  3.41616541e+66  2.93491480e+68  1.93263173e+70  1.00768736e+72\n",
      "  4.24011346e+73  1.45223624e+75  4.04077042e+76  8.98213934e+77\n",
      "  1.52227159e+79  1.70653690e+80  1.99604299e+78]\n"
     ]
    }
   ],
   "source": [
    "print(v_i_k[:,20])"
   ]
  },
  {
   "cell_type": "code",
   "execution_count": null,
   "metadata": {},
   "outputs": [],
   "source": []
  },
  {
   "cell_type": "code",
   "execution_count": null,
   "metadata": {},
   "outputs": [],
   "source": []
  },
  {
   "cell_type": "code",
   "execution_count": null,
   "metadata": {},
   "outputs": [],
   "source": []
  }
 ],
 "metadata": {
  "kernelspec": {
   "display_name": "Python 3",
   "language": "python",
   "name": "python3"
  },
  "language_info": {
   "codemirror_mode": {
    "name": "ipython",
    "version": 3
   },
   "file_extension": ".py",
   "mimetype": "text/x-python",
   "name": "python",
   "nbconvert_exporter": "python",
   "pygments_lexer": "ipython3",
   "version": "3.8.5"
  }
 },
 "nbformat": 4,
 "nbformat_minor": 4
}
