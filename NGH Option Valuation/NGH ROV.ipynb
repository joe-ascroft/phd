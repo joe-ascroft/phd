{
 "cells": [
  {
   "cell_type": "code",
   "execution_count": 10,
   "metadata": {},
   "outputs": [],
   "source": [
    "import numpy as np\n",
    "import pandas as pd\n",
    "import math\n",
    "import datetime as dt\n",
    "import datapackage\n",
    "import matplotlib.pyplot as plt\n",
    "from scipy.stats import norm\n",
    "from scipy.stats import multinomial\n",
    "from typing import List\n",
    "import seaborn as sns\n",
    "\n",
    "## profit function ##\n",
    "\n",
    "def profit_t(E,P,vc,fc,pi_tax,c_tax):\n",
    "    pi = ((E*(P-vc-c_tax))-fc)*(1-pi_tax)\n",
    "    return pi\n",
    "\n",
    "## define State class\n",
    "\n",
    "class State: \n",
    "    def __init__(self,mean,eta,lambda_switch,sigma):\n",
    "        self.m = mean\n",
    "        self.e = eta \n",
    "        self.l = lambda_switch\n",
    "        self.s = sigma\n",
    "\n",
    "## state characterisation\n",
    "        \n",
    "state_1 = State(75,0.44,0.26,0.23)\n",
    "state_2 = State(30,1.05,0.28,0.44)\n",
    "\n",
    "## lattice parameters ##\n",
    "\n",
    "p_step = 5\n",
    "s0_step = 5000000\n",
    "\n",
    "p_1 = 10\n",
    "p_max = 250\n",
    "\n",
    "s0_1 = 50000000\n",
    "s0_max = 500000000\n",
    "\n",
    "## lattice construction ##\n",
    "\n",
    "P_grid = list(range(p_1,p_max,p_step))\n",
    "s0_grid = list(range(s0_1,s0_max,s0_step))\n",
    "\n",
    "## finite difference parameter definition ##\n",
    "\n",
    "## parameter defn for P_i in i = 2,...,i_max-1 ##\n",
    "\n",
    "def difference(P,p_step,sigma,eta,mean):\n",
    "    a_i_central = (sigma**2)*(P**2)/((p_step*2)*p_step) - eta*(mean-P)/(p_step*2)\n",
    "    b_i_central = (sigma**2)*(P**2)/((p_step*2)*p_step) - eta*(mean-P)/(p_step*2)\n",
    "    a_i_forward = (sigma**2)*(P**2)/((p_step*2)*p_step)\n",
    "    b_i_forward = (sigma**2)*(P**2)/((p_step*2)*p_step) - eta*(mean-P)/(p_step*2)\n",
    "    a_i_backward = (sigma**2)*(P**2)/((p_step*2)*p_step) - eta*(mean-P)/(p_step*2)\n",
    "    b_i_backward = (sigma**2)*(P**2)/((p_step*2)*p_step)\n",
    "    if {a_i_central and b_i_central >= 0}:\n",
    "        return [a_i_central,b_i_central]\n",
    "    elif b_i_forward >= 0:\n",
    "        return [a_i_forward,b_i_forward]\n",
    "    else: \n",
    "        return [a_i_backward,b_i_backward]\n",
    "    \n",
    "## parameter defn for P_i in i = 1 ##\n",
    "    \n",
    "def difference_min(P,p_step,eta):\n",
    "    a_i = 0\n",
    "    b_i = eta*(mean-P)/(p_step)\n",
    "    return [a_i,b_i]\n",
    "\n",
    "## parameter defn for P_i in i = i_max ##\n",
    "\n",
    "def difference_max(P,p_step,eta):\n",
    "    a_i = eta*(mean - P)/(p_step)\n",
    "    b_i = 0\n",
    "    return [a_i,b_i]\n",
    "\n",
    "def Profit(P,s_k):\n",
    "    for i in range(n):\n",
    "        if s_k > E:\n",
    "            pi = profit_t(E,P,vc,fc,pi_tax,c_tax)\n",
    "            return pi \n",
    "        elif s_k > 0:\n",
    "            pi = profit_t(s_k,P,vc,fc,pi_tax,c_tax)\n",
    "            return pi\n",
    "        else:\n",
    "            pi = 0\n",
    "            return pi"
   ]
  },
  {
   "cell_type": "code",
   "execution_count": 11,
   "metadata": {},
   "outputs": [],
   "source": [
    "## characterise project ##\n",
    "\n",
    "P = 60\n",
    "n = 30\n",
    "r = 0.05 \n",
    "E = 300000\n",
    "vc = 20\n",
    "fc = 200000\n",
    "pi_tax = 0.2\n",
    "c_tax = 5\n",
    "\n",
    "## create reserves vector ##\n",
    "\n",
    "s_k = []\n",
    "\n",
    "\n",
    "## create empty profit and valuation vectors ##\n",
    "\n",
    "pi_p = []\n",
    "A = []\n",
    "A.append(0)"
   ]
  },
  {
   "cell_type": "code",
   "execution_count": 13,
   "metadata": {
    "scrolled": false
   },
   "outputs": [
    {
     "name": "stdout",
     "output_type": "stream",
     "text": [
      "[[-3760000. -3760000. -3760000. ... -3760000. -3760000. -3760000.]\n",
      " [-2560000. -2560000. -2560000. ... -2560000. -2560000. -2560000.]\n",
      " [-1360000. -1360000. -1360000. ... -1360000. -1360000. -1360000.]\n",
      " ...\n",
      " [50240000. 50240000. 50240000. ... 50240000. 50240000. 50240000.]\n",
      " [51440000. 51440000. 51440000. ... 51440000. 51440000. 51440000.]\n",
      " [52640000. 52640000. 52640000. ... 52640000. 52640000. 52640000.]]\n"
     ]
    }
   ],
   "source": [
    "## v_i_k defines iterative matrix of extraction option value for lattice nodes (P_i,S_k) \n",
    "\n",
    "v_i_k = np.zeros((len(P_grid),len(s0_grid)))"
   ]
  },
  {
   "cell_type": "code",
   "execution_count": 21,
   "metadata": {},
   "outputs": [],
   "source": [
    "for t in range(n):   \n",
    "    for i in range(len(P_grid)):\n",
    "        for k in range(len(s0_grid)):\n",
    "            if t*E <= s0_grid[k]:\n",
    "                v_i_k[i,k] = v_i_k[i,k] + profit_t(E,P,vc,fc,pi_tax,c_tax)\n",
    "            elif {t*E - s0_grid[k] > 0}:\n",
    "                v_i_k[i,k] = v_i_k[i,k] + profit_t(t*E - s0_grid[k],P,vc,fc,pi_tax,c_tax)\n",
    "            else:\n",
    "                v_i_k[i,k] = v_i_k[i,k] + 0"
   ]
  },
  {
   "cell_type": "code",
   "execution_count": 22,
   "metadata": {},
   "outputs": [
    {
     "name": "stdout",
     "output_type": "stream",
     "text": [
      "[[-9.49600e+07 -9.49600e+07 -9.49600e+07 ... -9.49600e+07 -9.49600e+07\n",
      "  -9.49600e+07]\n",
      " [ 1.42400e+07  1.42400e+07  1.42400e+07 ...  1.42400e+07  1.42400e+07\n",
      "   1.42400e+07]\n",
      " [ 1.23440e+08  1.23440e+08  1.23440e+08 ...  1.23440e+08  1.23440e+08\n",
      "   1.23440e+08]\n",
      " ...\n",
      " [ 4.81904e+09  4.81904e+09  4.81904e+09 ...  4.81904e+09  4.81904e+09\n",
      "   4.81904e+09]\n",
      " [ 4.92824e+09  4.92824e+09  4.92824e+09 ...  4.92824e+09  4.92824e+09\n",
      "   4.92824e+09]\n",
      " [ 5.03744e+09  5.03744e+09  5.03744e+09 ...  5.03744e+09  5.03744e+09\n",
      "   5.03744e+09]]\n"
     ]
    }
   ],
   "source": [
    "print(v_i_k)"
   ]
  },
  {
   "cell_type": "code",
   "execution_count": null,
   "metadata": {},
   "outputs": [],
   "source": []
  },
  {
   "cell_type": "code",
   "execution_count": null,
   "metadata": {},
   "outputs": [],
   "source": []
  },
  {
   "cell_type": "code",
   "execution_count": null,
   "metadata": {},
   "outputs": [],
   "source": []
  }
 ],
 "metadata": {
  "kernelspec": {
   "display_name": "Python 3",
   "language": "python",
   "name": "python3"
  },
  "language_info": {
   "codemirror_mode": {
    "name": "ipython",
    "version": 3
   },
   "file_extension": ".py",
   "mimetype": "text/x-python",
   "name": "python",
   "nbconvert_exporter": "python",
   "pygments_lexer": "ipython3",
   "version": "3.7.7"
  }
 },
 "nbformat": 4,
 "nbformat_minor": 4
}
