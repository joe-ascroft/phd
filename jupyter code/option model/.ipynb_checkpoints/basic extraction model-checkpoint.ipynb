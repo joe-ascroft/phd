{
 "cells": [
  {
   "cell_type": "code",
   "execution_count": null,
   "metadata": {},
   "outputs": [],
   "source": [
    "## define simple extract function\n",
    "\n",
    "def extract(s_max,s_k,e_k):\n",
    "    gamma_t = 1 - ((s_max - s_k)/(s_max))^2\n",
    "    e_t = (e_k)*(gamma_t)\n",
    "    return(e_t)\n",
    "\n",
    "T = 30\n",
    "s_k = 1000000\n",
    "\n",
    "for t in T:\n",
    "    "
   ]
  }
 ],
 "metadata": {
  "kernelspec": {
   "display_name": "Python 3",
   "language": "python",
   "name": "python3"
  },
  "language_info": {
   "codemirror_mode": {
    "name": "ipython",
    "version": 3
   },
   "file_extension": ".py",
   "mimetype": "text/x-python",
   "name": "python",
   "nbconvert_exporter": "python",
   "pygments_lexer": "ipython3",
   "version": "3.7.7"
  }
 },
 "nbformat": 4,
 "nbformat_minor": 4
}
