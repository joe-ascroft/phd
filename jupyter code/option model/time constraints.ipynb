{
 "cells": [
  {
   "cell_type": "code",
   "execution_count": null,
   "metadata": {},
   "outputs": [],
   "source": [
    "## we apply time constraints with arbitrarily high costs ##\n",
    "    if t == 20:\n",
    "        cost[1,1] = 1500000\n",
    "    if t == 19:\n",
    "        cost[1,2] = 1500000\n",
    "    if t == 18:\n",
    "        cost[2,2] = 1500000\n",
    "        cost[2,3] = 1000000\n",
    "    if t == 17:\n",
    "        cost[3,3] = 1000000\n",
    "        cost[3,4] = 1000000\n",
    "    if t == 16:\n",
    "        cost[4,4] = 1000000\n",
    "        cost[3,2] = 1500000"
   ]
  }
 ],
 "metadata": {
  "kernelspec": {
   "display_name": "Python 3",
   "language": "python",
   "name": "python3"
  },
  "language_info": {
   "codemirror_mode": {
    "name": "ipython",
    "version": 3
   },
   "file_extension": ".py",
   "mimetype": "text/x-python",
   "name": "python",
   "nbconvert_exporter": "python",
   "pygments_lexer": "ipython3",
   "version": "3.7.7"
  }
 },
 "nbformat": 4,
 "nbformat_minor": 4
}
