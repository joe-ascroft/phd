{
 "cells": [
  {
   "cell_type": "code",
   "execution_count": null,
   "metadata": {},
   "outputs": [],
   "source": [
    "## characterise project ##\n",
    "\n",
    "P = 60\n",
    "n = 30\n",
    "r = 0.05 \n",
    "E = 5\n",
    "vc = 20\n",
    "fc = 200\n",
    "pi_tax = 0.2\n",
    "c_tax = 5\n",
    "\n",
    "## create reserves matrix ##\n",
    "\n",
    "s_r = []\n",
    "\n",
    "## create s_k matrix ##\n",
    "\n",
    "s_k = []\n",
    "\n",
    "## create empty profit and valuation vectors ##\n",
    "\n",
    "pi_p = []\n",
    "A = []\n",
    "A.append(0)\n",
    "\n",
    "## v_i_k defines iterative matrix of extraction option value for lattice nodes (P_i,S_k) \n",
    "\n",
    "v_i_k = np.zeros((len(P_grid),len(s0_grid)))\n",
    "len(P_grid)\n",
    "\n",
    "## Simple model with no price variation ##\n",
    "\n",
    "for t in range(n):   \n",
    "    \n",
    "## first we loop over implied profit generation ##\n",
    "\n",
    "## if implied profit (including fixed costs) exceeds fixed costs, then extraction occurs, else no extraction ##           \n",
    "\n",
    "    for i in range(len(P_grid)):\n",
    "        for k in range(len(s0_grid)):\n",
    "            \n",
    "            if profit_t(E,P_grid[i],vc,fc,pi_tax,c_tax) > fc:                            \n",
    "                \n",
    "                if t*E <= s0_grid[k]:\n",
    "                    v_i_k[i,k] = v_i_k[i,k] + profit_t(E,P_grid[i],vc,fc,pi_tax,c_tax)\n",
    "                \n",
    "                elif {t*E - s0_grid[k] > 0}:\n",
    "                    v_i_k[i,k] = v_i_k[i,k] + profit_t(t*E - s0_grid[k],P_grid[i],vc,fc,pi_tax,c_tax)\n",
    "                \n",
    "                else:\n",
    "                    v_i_k[i,k] = v_i_k[i,k] + 0\n",
    "            else:\n",
    "                v_i_k[i,k] = v_i_k[i,k] - fc  "
   ]
  }
 ],
 "metadata": {
  "kernelspec": {
   "display_name": "Python 3",
   "language": "python",
   "name": "python3"
  },
  "language_info": {
   "codemirror_mode": {
    "name": "ipython",
    "version": 3
   },
   "file_extension": ".py",
   "mimetype": "text/x-python",
   "name": "python",
   "nbconvert_exporter": "python",
   "pygments_lexer": "ipython3",
   "version": "3.8.5"
  }
 },
 "nbformat": 4,
 "nbformat_minor": 4
}
