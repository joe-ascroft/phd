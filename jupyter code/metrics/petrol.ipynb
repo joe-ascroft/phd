{
 "cells": [
  {
   "cell_type": "code",
   "execution_count": 27,
   "metadata": {},
   "outputs": [
    {
     "ename": "SyntaxError",
     "evalue": "unexpected EOF while parsing (<ipython-input-27-3d4e0e71a479>, line 19)",
     "output_type": "error",
     "traceback": [
      "\u001b[0;36m  File \u001b[0;32m\"<ipython-input-27-3d4e0e71a479>\"\u001b[0;36m, line \u001b[0;32m19\u001b[0m\n\u001b[0;31m    df[col] = pd.to_numeric(df[col],errors='coerce'\u001b[0m\n\u001b[0m                                                   ^\u001b[0m\n\u001b[0;31mSyntaxError\u001b[0m\u001b[0;31m:\u001b[0m unexpected EOF while parsing\n"
     ]
    }
   ],
   "source": [
    "import numpy as np\n",
    "import pandas as pd\n",
    "import datetime as dt\n",
    "import datapackage\n",
    "import matplotlib.pyplot as plt\n",
    "import matplotlib.dates as dates\n",
    "import statsmodels.api as sm\n",
    "import statsmodels.tsa.vector_ar.vecm as vecm\n",
    "import statsmodels.formula.api as smf\n",
    "import statsmodels.tsa.stattools as ts\n",
    "from statsmodels.tsa.stattools import adfuller\n",
    "\n",
    "\n",
    "## testing armington elastcities UK gas market ##\n",
    "\n",
    "url = 'https://raw.githubusercontent.com/joe-ascroft/phd/master/data/petrol_arm.csv'\n",
    "df = pd.read_csv(url)"
   ]
  },
  {
   "cell_type": "code",
   "execution_count": 2,
   "metadata": {},
   "outputs": [
    {
     "name": "stdout",
     "output_type": "stream",
     "text": [
      "       Date  ConsRatio  PriceRatio  ConsRatioL  ConsRatD  Q1  Q2  Q3  Q4  \\\n",
      "0    Mar-06  -0.803231    0.143038         NaN       NaN   1   0   0   0   \n",
      "1    Jun-06  -0.740313    0.052014   -0.803231  0.062918   0   1   0   0   \n",
      "2   Sept-06  -0.795364    0.167691   -0.740313 -0.055051   0   0   1   0   \n",
      "3    Dec-06  -0.482442    0.217325   -0.795364  0.312922   0   0   0   1   \n",
      "4    Mar-07  -0.400200    0.201160   -0.482442  0.082242   1   0   0   0   \n",
      "..      ...        ...         ...         ...       ...  ..  ..  ..  ..   \n",
      "59   Dec-20  -0.696740    0.455440   -0.082779 -0.613961   0   0   0   1   \n",
      "60   Mar-21   0.425316    0.276913   -0.696740  1.122056   1   0   0   0   \n",
      "61   Jun-21  -0.331717    0.202427    0.425316 -0.757033   0   1   0   0   \n",
      "62  Sept-21  -0.336606    0.222178   -0.331717 -0.004889   0   0   1   0   \n",
      "63   Dec-21  -0.745841    0.302228   -0.336606 -0.409235   0   0   0   1   \n",
      "\n",
      "    PriceRat2  PriceRatD  \n",
      "0    0.109982        NaN  \n",
      "1    0.077153  -0.032829  \n",
      "2    0.023132  -0.054021  \n",
      "3   -0.023184  -0.046316  \n",
      "4   -0.023241  -0.000057  \n",
      "..        ...        ...  \n",
      "59  -0.037717  -0.051819  \n",
      "60   0.034152   0.071869  \n",
      "61   0.093769   0.059616  \n",
      "62   0.070031  -0.023738  \n",
      "63  -0.022653  -0.092684  \n",
      "\n",
      "[64 rows x 11 columns]\n"
     ]
    }
   ],
   "source": [
    "print(df)"
   ]
  },
  {
   "cell_type": "code",
   "execution_count": null,
   "metadata": {},
   "outputs": [],
   "source": [
    "lag_order1 = vecm.select_order(data=df[['ConsRatio', 'PriceRat2']], maxlags=5, deterministic=\"ci\", exog=df[['Q1','Q2','Q3','Q4']])\n",
    "print(lag_order1.selected_orders)\n",
    "\n",
    "rank = vecm.select_coint_rank(endog=df[['ConsRatio', 'PriceRat2']],\n",
    "                              k_ar_diff=5,\n",
    "                              det_order=0)\n",
    "\n",
    "print(rank)"
   ]
  },
  {
   "cell_type": "code",
   "execution_count": 33,
   "metadata": {},
   "outputs": [
    {
     "data": {
      "text/html": [
       "<table class=\"simpletable\">\n",
       "<caption>Det. terms outside the coint. relation & lagged endog. parameters for equation ConsRatio</caption>\n",
       "<tr>\n",
       "        <td></td>           <th>coef</th>     <th>std err</th>      <th>z</th>      <th>P>|z|</th>  <th>[0.025</th>    <th>0.975]</th>  \n",
       "</tr>\n",
       "<tr>\n",
       "  <th>L1.ConsRatio</th>  <td>   -0.2676</td> <td>    0.119</td> <td>   -2.246</td> <td> 0.025</td> <td>   -0.501</td> <td>   -0.034</td>\n",
       "</tr>\n",
       "<tr>\n",
       "  <th>L1.PriceRatio</th> <td>    1.6056</td> <td>    0.483</td> <td>    3.322</td> <td> 0.001</td> <td>    0.658</td> <td>    2.553</td>\n",
       "</tr>\n",
       "</table>\n",
       "<table class=\"simpletable\">\n",
       "<caption>Det. terms outside the coint. relation & lagged endog. parameters for equation PriceRatio</caption>\n",
       "<tr>\n",
       "        <td></td>           <th>coef</th>     <th>std err</th>      <th>z</th>      <th>P>|z|</th>  <th>[0.025</th>    <th>0.975]</th>  \n",
       "</tr>\n",
       "<tr>\n",
       "  <th>L1.ConsRatio</th>  <td>   -0.0060</td> <td>    0.031</td> <td>   -0.195</td> <td> 0.845</td> <td>   -0.066</td> <td>    0.054</td>\n",
       "</tr>\n",
       "<tr>\n",
       "  <th>L1.PriceRatio</th> <td>   -0.1718</td> <td>    0.125</td> <td>   -1.376</td> <td> 0.169</td> <td>   -0.416</td> <td>    0.073</td>\n",
       "</tr>\n",
       "</table>\n",
       "<table class=\"simpletable\">\n",
       "<caption>Loading coefficients (alpha) for equation ConsRatio</caption>\n",
       "<tr>\n",
       "   <td></td>      <th>coef</th>     <th>std err</th>      <th>z</th>      <th>P>|z|</th>  <th>[0.025</th>    <th>0.975]</th>  \n",
       "</tr>\n",
       "<tr>\n",
       "  <th>ec1</th> <td>   -0.6011</td> <td>    0.171</td> <td>   -3.511</td> <td> 0.000</td> <td>   -0.937</td> <td>   -0.266</td>\n",
       "</tr>\n",
       "</table>\n",
       "<table class=\"simpletable\">\n",
       "<caption>Loading coefficients (alpha) for equation PriceRatio</caption>\n",
       "<tr>\n",
       "   <td></td>      <th>coef</th>     <th>std err</th>      <th>z</th>      <th>P>|z|</th>  <th>[0.025</th>    <th>0.975]</th>  \n",
       "</tr>\n",
       "<tr>\n",
       "  <th>ec1</th> <td>   -0.0725</td> <td>    0.044</td> <td>   -1.641</td> <td> 0.101</td> <td>   -0.159</td> <td>    0.014</td>\n",
       "</tr>\n",
       "</table>\n",
       "<table class=\"simpletable\">\n",
       "<caption>Cointegration relations for loading-coefficients-column 1</caption>\n",
       "<tr>\n",
       "     <td></td>       <th>coef</th>     <th>std err</th>      <th>z</th>      <th>P>|z|</th>  <th>[0.025</th>    <th>0.975]</th>  \n",
       "</tr>\n",
       "<tr>\n",
       "  <th>beta.1</th> <td>    1.0000</td> <td>        0</td> <td>        0</td> <td> 0.000</td> <td>    1.000</td> <td>    1.000</td>\n",
       "</tr>\n",
       "<tr>\n",
       "  <th>beta.2</th> <td>    0.4213</td> <td>    0.405</td> <td>    1.040</td> <td> 0.298</td> <td>   -0.373</td> <td>    1.215</td>\n",
       "</tr>\n",
       "<tr>\n",
       "  <th>const</th>  <td>    0.2451</td> <td>    0.136</td> <td>    1.798</td> <td> 0.072</td> <td>   -0.022</td> <td>    0.512</td>\n",
       "</tr>\n",
       "</table>"
      ],
      "text/plain": [
       "<class 'statsmodels.iolib.summary.Summary'>\n",
       "\"\"\"\n",
       "Det. terms outside the coint. relation & lagged endog. parameters for equation ConsRatio\n",
       "=================================================================================\n",
       "                    coef    std err          z      P>|z|      [0.025      0.975]\n",
       "---------------------------------------------------------------------------------\n",
       "L1.ConsRatio     -0.2676      0.119     -2.246      0.025      -0.501      -0.034\n",
       "L1.PriceRatio     1.6056      0.483      3.322      0.001       0.658       2.553\n",
       "Det. terms outside the coint. relation & lagged endog. parameters for equation PriceRatio\n",
       "=================================================================================\n",
       "                    coef    std err          z      P>|z|      [0.025      0.975]\n",
       "---------------------------------------------------------------------------------\n",
       "L1.ConsRatio     -0.0060      0.031     -0.195      0.845      -0.066       0.054\n",
       "L1.PriceRatio    -0.1718      0.125     -1.376      0.169      -0.416       0.073\n",
       "             Loading coefficients (alpha) for equation ConsRatio              \n",
       "==============================================================================\n",
       "                 coef    std err          z      P>|z|      [0.025      0.975]\n",
       "------------------------------------------------------------------------------\n",
       "ec1           -0.6011      0.171     -3.511      0.000      -0.937      -0.266\n",
       "             Loading coefficients (alpha) for equation PriceRatio             \n",
       "==============================================================================\n",
       "                 coef    std err          z      P>|z|      [0.025      0.975]\n",
       "------------------------------------------------------------------------------\n",
       "ec1           -0.0725      0.044     -1.641      0.101      -0.159       0.014\n",
       "          Cointegration relations for loading-coefficients-column 1           \n",
       "==============================================================================\n",
       "                 coef    std err          z      P>|z|      [0.025      0.975]\n",
       "------------------------------------------------------------------------------\n",
       "beta.1         1.0000          0          0      0.000       1.000       1.000\n",
       "beta.2         0.4213      0.405      1.040      0.298      -0.373       1.215\n",
       "const          0.2451      0.136      1.798      0.072      -0.022       0.512\n",
       "==============================================================================\n",
       "\"\"\""
      ]
     },
     "execution_count": 33,
     "metadata": {},
     "output_type": "execute_result"
    }
   ],
   "source": [
    "m1 = vecm.VECM(df[['ConsRatio', 'PriceRatio']], deterministic=\"ci\", k_ar_diff=1, coint_rank=1)  \n",
    "vecm_res_1 = m1.fit()\n",
    "vecm_res_1.summary()"
   ]
  },
  {
   "cell_type": "code",
   "execution_count": null,
   "metadata": {},
   "outputs": [],
   "source": [
    "granger_results = vecm_res_1.test_granger_causality(caused=\"ConsRatio\", signif=0.05)\n",
    "granger_results.summary()"
   ]
  },
  {
   "cell_type": "code",
   "execution_count": 37,
   "metadata": {},
   "outputs": [
    {
     "ename": "NameError",
     "evalue": "name 'PriceRat2' is not defined",
     "output_type": "error",
     "traceback": [
      "\u001b[0;31m---------------------------------------------------------------------------\u001b[0m",
      "\u001b[0;31mNameError\u001b[0m                                 Traceback (most recent call last)",
      "\u001b[0;32m<ipython-input-37-1d8c7cc45e4a>\u001b[0m in \u001b[0;36m<module>\u001b[0;34m\u001b[0m\n\u001b[0;32m----> 1\u001b[0;31m \u001b[0mPR_constant\u001b[0m \u001b[0;34m=\u001b[0m \u001b[0msm\u001b[0m\u001b[0;34m.\u001b[0m\u001b[0madd_constant\u001b[0m\u001b[0;34m(\u001b[0m\u001b[0mPriceRat2\u001b[0m\u001b[0;34m)\u001b[0m\u001b[0;34m\u001b[0m\u001b[0;34m\u001b[0m\u001b[0m\n\u001b[0m\u001b[1;32m      2\u001b[0m \u001b[0mresult1\u001b[0m \u001b[0;34m=\u001b[0m \u001b[0msmf\u001b[0m\u001b[0;34m.\u001b[0m\u001b[0mols\u001b[0m\u001b[0;34m(\u001b[0m\u001b[0mformula\u001b[0m\u001b[0;34m=\u001b[0m\u001b[0;34m\"ConsRatio ~ PR_constant\"\u001b[0m\u001b[0;34m,\u001b[0m \u001b[0mdata\u001b[0m\u001b[0;34m=\u001b[0m\u001b[0mdf\u001b[0m\u001b[0;34m)\u001b[0m\u001b[0;34m.\u001b[0m\u001b[0mfit\u001b[0m\u001b[0;34m(\u001b[0m\u001b[0;34m)\u001b[0m\u001b[0;34m\u001b[0m\u001b[0;34m\u001b[0m\u001b[0m\n\u001b[1;32m      3\u001b[0m \u001b[0mprint\u001b[0m\u001b[0;34m(\u001b[0m\u001b[0mresult1\u001b[0m\u001b[0;34m.\u001b[0m\u001b[0msummary\u001b[0m\u001b[0;34m(\u001b[0m\u001b[0;34m)\u001b[0m\u001b[0;34m)\u001b[0m\u001b[0;34m\u001b[0m\u001b[0;34m\u001b[0m\u001b[0m\n",
      "\u001b[0;31mNameError\u001b[0m: name 'PriceRat2' is not defined"
     ]
    }
   ],
   "source": [
    "PR_constant = sm.add_constant(PriceRat2)\n",
    "result1 = smf.ols(formula=\"ConsRatio ~ PR_constant\", data=df).fit()\n",
    "print(result1.summary())"
   ]
  },
  {
   "cell_type": "code",
   "execution_count": 15,
   "metadata": {},
   "outputs": [
    {
     "name": "stdout",
     "output_type": "stream",
     "text": [
      "(-2.2762490393890316, 0.17974257343235678, 4, 59, {'1%': -3.5463945337644063, '5%': -2.911939409384601, '10%': -2.5936515282964665}, -199.79911997411625)\n"
     ]
    }
   ],
   "source": [
    "test = ts.adfuller(df['PriceRat2'],autolag=\"AIC\")\n",
    "print(test)"
   ]
  },
  {
   "cell_type": "code",
   "execution_count": null,
   "metadata": {},
   "outputs": [],
   "source": []
  }
 ],
 "metadata": {
  "kernelspec": {
   "display_name": "Python 3",
   "language": "python",
   "name": "python3"
  },
  "language_info": {
   "codemirror_mode": {
    "name": "ipython",
    "version": 3
   },
   "file_extension": ".py",
   "mimetype": "text/x-python",
   "name": "python",
   "nbconvert_exporter": "python",
   "pygments_lexer": "ipython3",
   "version": "3.8.5"
  }
 },
 "nbformat": 4,
 "nbformat_minor": 4
}
