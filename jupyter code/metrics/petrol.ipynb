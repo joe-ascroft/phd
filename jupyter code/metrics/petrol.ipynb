{
 "cells": [
  {
   "cell_type": "code",
   "execution_count": 1,
   "metadata": {},
   "outputs": [],
   "source": [
    "import numpy as np\n",
    "import pandas as pd\n",
    "import datetime as dt\n",
    "import datapackage\n",
    "import matplotlib.pyplot as plt\n",
    "import matplotlib.dates as dates\n",
    "import statsmodels.api as sm\n",
    "import statsmodels.tsa.vector_ar.vecm as vecm\n",
    "import statsmodels.formula.api as smf\n",
    "import statsmodels.tsa.stattools as ts\n",
    "\n",
    "## testing armington elastcities UK gas market ##\n",
    "\n",
    "url = 'https://raw.githubusercontent.com/joe-ascroft/phd/master/data/petrol_arm.csv'\n",
    "df = pd.read_csv(url)"
   ]
  },
  {
   "cell_type": "code",
   "execution_count": 2,
   "metadata": {},
   "outputs": [
    {
     "name": "stdout",
     "output_type": "stream",
     "text": [
      "       Date  ConsRatio  PriceRatio  ConsRatioL  Q1  Q2  Q3  Q4  PriceRat2\n",
      "0    Mar-06  -0.803231    0.143038         NaN   1   0   0   0   0.109982\n",
      "1    Jun-06  -0.740313    0.052014   -0.803231   0   1   0   0   0.077153\n",
      "2   Sept-06  -0.795364    0.167691   -0.740313   0   0   1   0   0.023132\n",
      "3    Dec-06  -0.482442    0.217325   -0.795364   0   0   0   1  -0.023184\n",
      "4    Mar-07  -0.400200    0.201160   -0.482442   1   0   0   0  -0.023241\n",
      "..      ...        ...         ...         ...  ..  ..  ..  ..        ...\n",
      "59   Dec-20  -0.696740    0.455440   -0.082779   0   0   0   1  -0.037717\n",
      "60   Mar-21   0.425316    0.276913   -0.696740   1   0   0   0   0.034152\n",
      "61   Jun-21  -0.331717    0.202427    0.425316   0   1   0   0   0.093769\n",
      "62  Sept-21  -0.336606    0.222178   -0.331717   0   0   1   0   0.070031\n",
      "63   Dec-21  -0.745841    0.302228   -0.336606   0   0   0   1  -0.022653\n",
      "\n",
      "[64 rows x 9 columns]\n"
     ]
    }
   ],
   "source": [
    "print(df)"
   ]
  },
  {
   "cell_type": "code",
   "execution_count": 3,
   "metadata": {},
   "outputs": [
    {
     "name": "stdout",
     "output_type": "stream",
     "text": [
      "{'aic': 1, 'bic': 0, 'hqic': 0, 'fpe': 1}\n",
      "Johansen cointegration test using trace test statistic with 5% significance level\n",
      "=====================================\n",
      "r_0 r_1 test statistic critical value\n",
      "-------------------------------------\n",
      "  0   2          20.31          15.49\n",
      "  1   2          6.075          3.841\n",
      "-------------------------------------\n"
     ]
    }
   ],
   "source": [
    "lag_order1 = vecm.select_order(data=df[['ConsRatio', 'PriceRat2']], maxlags=5, deterministic=\"ci\", exog=df[['Q1','Q2','Q3','Q4']])\n",
    "print(lag_order1.selected_orders)\n",
    "\n",
    "rank = vecm.select_coint_rank(endog=df[['ConsRatio', 'PriceRat2']],\n",
    "                              k_ar_diff=5,\n",
    "                              det_order=0)\n",
    "\n",
    "print(rank)"
   ]
  },
  {
   "cell_type": "code",
   "execution_count": 4,
   "metadata": {},
   "outputs": [
    {
     "data": {
      "text/html": [
       "<table class=\"simpletable\">\n",
       "<caption>Det. terms outside the coint. relation & lagged endog. parameters for equation ConsRatio</caption>\n",
       "<tr>\n",
       "        <td></td>          <th>coef</th>     <th>std err</th>      <th>z</th>      <th>P>|z|</th>  <th>[0.025</th>    <th>0.975]</th>  \n",
       "</tr>\n",
       "<tr>\n",
       "  <th>L1.ConsRatio</th> <td>   -0.6083</td> <td>    0.105</td> <td>   -5.781</td> <td> 0.000</td> <td>   -0.815</td> <td>   -0.402</td>\n",
       "</tr>\n",
       "<tr>\n",
       "  <th>L1.PriceRat2</th> <td>   -2.3289</td> <td>    0.830</td> <td>   -2.805</td> <td> 0.005</td> <td>   -3.956</td> <td>   -0.702</td>\n",
       "</tr>\n",
       "</table>\n",
       "<table class=\"simpletable\">\n",
       "<caption>Det. terms outside the coint. relation & lagged endog. parameters for equation PriceRat2</caption>\n",
       "<tr>\n",
       "        <td></td>          <th>coef</th>     <th>std err</th>      <th>z</th>      <th>P>|z|</th>  <th>[0.025</th>    <th>0.975]</th>  \n",
       "</tr>\n",
       "<tr>\n",
       "  <th>L1.ConsRatio</th> <td>    0.0030</td> <td>    0.014</td> <td>    0.220</td> <td> 0.826</td> <td>   -0.024</td> <td>    0.030</td>\n",
       "</tr>\n",
       "<tr>\n",
       "  <th>L1.PriceRat2</th> <td>    0.2387</td> <td>    0.107</td> <td>    2.233</td> <td> 0.026</td> <td>    0.029</td> <td>    0.448</td>\n",
       "</tr>\n",
       "</table>\n",
       "<table class=\"simpletable\">\n",
       "<caption>Loading coefficients (alpha) for equation ConsRatio</caption>\n",
       "<tr>\n",
       "   <td></td>      <th>coef</th>     <th>std err</th>      <th>z</th>      <th>P>|z|</th>  <th>[0.025</th>    <th>0.975]</th>  \n",
       "</tr>\n",
       "<tr>\n",
       "  <th>ec1</th> <td>    0.0297</td> <td>    0.058</td> <td>    0.511</td> <td> 0.609</td> <td>   -0.084</td> <td>    0.144</td>\n",
       "</tr>\n",
       "</table>\n",
       "<table class=\"simpletable\">\n",
       "<caption>Loading coefficients (alpha) for equation PriceRat2</caption>\n",
       "<tr>\n",
       "   <td></td>      <th>coef</th>     <th>std err</th>      <th>z</th>      <th>P>|z|</th>  <th>[0.025</th>    <th>0.975]</th>  \n",
       "</tr>\n",
       "<tr>\n",
       "  <th>ec1</th> <td>    0.0434</td> <td>    0.007</td> <td>    5.805</td> <td> 0.000</td> <td>    0.029</td> <td>    0.058</td>\n",
       "</tr>\n",
       "</table>\n",
       "<table class=\"simpletable\">\n",
       "<caption>Cointegration relations for loading-coefficients-column 1</caption>\n",
       "<tr>\n",
       "     <td></td>       <th>coef</th>     <th>std err</th>      <th>z</th>      <th>P>|z|</th>  <th>[0.025</th>    <th>0.975]</th>  \n",
       "</tr>\n",
       "<tr>\n",
       "  <th>beta.1</th> <td>    1.0000</td> <td>        0</td> <td>        0</td> <td> 0.000</td> <td>    1.000</td> <td>    1.000</td>\n",
       "</tr>\n",
       "<tr>\n",
       "  <th>beta.2</th> <td>  -14.2215</td> <td>    2.476</td> <td>   -5.744</td> <td> 0.000</td> <td>  -19.074</td> <td>   -9.369</td>\n",
       "</tr>\n",
       "<tr>\n",
       "  <th>const</th>  <td>   -0.4501</td> <td>    0.190</td> <td>   -2.363</td> <td> 0.018</td> <td>   -0.823</td> <td>   -0.077</td>\n",
       "</tr>\n",
       "</table>"
      ],
      "text/plain": [
       "<class 'statsmodels.iolib.summary.Summary'>\n",
       "\"\"\"\n",
       "Det. terms outside the coint. relation & lagged endog. parameters for equation ConsRatio\n",
       "================================================================================\n",
       "                   coef    std err          z      P>|z|      [0.025      0.975]\n",
       "--------------------------------------------------------------------------------\n",
       "L1.ConsRatio    -0.6083      0.105     -5.781      0.000      -0.815      -0.402\n",
       "L1.PriceRat2    -2.3289      0.830     -2.805      0.005      -3.956      -0.702\n",
       "Det. terms outside the coint. relation & lagged endog. parameters for equation PriceRat2\n",
       "================================================================================\n",
       "                   coef    std err          z      P>|z|      [0.025      0.975]\n",
       "--------------------------------------------------------------------------------\n",
       "L1.ConsRatio     0.0030      0.014      0.220      0.826      -0.024       0.030\n",
       "L1.PriceRat2     0.2387      0.107      2.233      0.026       0.029       0.448\n",
       "             Loading coefficients (alpha) for equation ConsRatio              \n",
       "==============================================================================\n",
       "                 coef    std err          z      P>|z|      [0.025      0.975]\n",
       "------------------------------------------------------------------------------\n",
       "ec1            0.0297      0.058      0.511      0.609      -0.084       0.144\n",
       "             Loading coefficients (alpha) for equation PriceRat2              \n",
       "==============================================================================\n",
       "                 coef    std err          z      P>|z|      [0.025      0.975]\n",
       "------------------------------------------------------------------------------\n",
       "ec1            0.0434      0.007      5.805      0.000       0.029       0.058\n",
       "          Cointegration relations for loading-coefficients-column 1           \n",
       "==============================================================================\n",
       "                 coef    std err          z      P>|z|      [0.025      0.975]\n",
       "------------------------------------------------------------------------------\n",
       "beta.1         1.0000          0          0      0.000       1.000       1.000\n",
       "beta.2       -14.2215      2.476     -5.744      0.000     -19.074      -9.369\n",
       "const         -0.4501      0.190     -2.363      0.018      -0.823      -0.077\n",
       "==============================================================================\n",
       "\"\"\""
      ]
     },
     "execution_count": 4,
     "metadata": {},
     "output_type": "execute_result"
    }
   ],
   "source": [
    "m1 = vecm.VECM(df[['ConsRatio', 'PriceRat2']], deterministic=\"ci\", k_ar_diff=1, coint_rank=1)  \n",
    "vecm_res_1 = m1.fit()\n",
    "vecm_res_1.summary()"
   ]
  },
  {
   "cell_type": "code",
   "execution_count": 5,
   "metadata": {},
   "outputs": [
    {
     "data": {
      "text/html": [
       "<table class=\"simpletable\">\n",
       "<caption>Granger causality F-test. H_0: PriceRat2 does not Granger-cause ConsRatio. Conclusion: fail to reject H_0 at 5% significance level.</caption>\n",
       "<tr>\n",
       "  <th>Test statistic</th> <th>Critical value</th> <th>p-value</th>    <th>df</th>   \n",
       "</tr>\n",
       "<tr>\n",
       "       <td>2.362</td>          <td>3.080</td>      <td>0.099</td>  <td>(2, 108)</td>\n",
       "</tr>\n",
       "</table>"
      ],
      "text/plain": [
       "<class 'statsmodels.iolib.table.SimpleTable'>"
      ]
     },
     "execution_count": 5,
     "metadata": {},
     "output_type": "execute_result"
    }
   ],
   "source": [
    "granger_results = vecm_res_1.test_granger_causality(caused=\"ConsRatio\", signif=0.05)\n",
    "granger_results.summary()"
   ]
  },
  {
   "cell_type": "code",
   "execution_count": 9,
   "metadata": {},
   "outputs": [
    {
     "name": "stdout",
     "output_type": "stream",
     "text": [
      "                            OLS Regression Results                            \n",
      "==============================================================================\n",
      "Dep. Variable:              ConsRatio   R-squared:                       0.001\n",
      "Model:                            OLS   Adj. R-squared:                 -0.016\n",
      "Method:                 Least Squares   F-statistic:                   0.03123\n",
      "Date:                Mon, 17 Oct 2022   Prob (F-statistic):              0.860\n",
      "Time:                        20:54:27   Log-Likelihood:                -20.292\n",
      "No. Observations:                  64   AIC:                             44.58\n",
      "Df Residuals:                      62   BIC:                             48.90\n",
      "Df Model:                           1                                         \n",
      "Covariance Type:            nonrobust                                         \n",
      "==============================================================================\n",
      "                 coef    std err          t      P>|t|      [0.025      0.975]\n",
      "------------------------------------------------------------------------------\n",
      "Intercept     -0.4105      0.055     -7.396      0.000      -0.521      -0.300\n",
      "PriceRat2     -0.1191      0.674     -0.177      0.860      -1.466       1.228\n",
      "==============================================================================\n",
      "Omnibus:                        2.183   Durbin-Watson:                   1.974\n",
      "Prob(Omnibus):                  0.336   Jarque-Bera (JB):                2.149\n",
      "Skew:                           0.411   Prob(JB):                        0.341\n",
      "Kurtosis:                       2.639   Cond. No.                         16.0\n",
      "==============================================================================\n",
      "\n",
      "Notes:\n",
      "[1] Standard Errors assume that the covariance matrix of the errors is correctly specified.\n"
     ]
    },
    {
     "data": {
      "text/plain": [
       "[<matplotlib.lines.Line2D at 0x7ff4d00d3670>]"
      ]
     },
     "execution_count": 9,
     "metadata": {},
     "output_type": "execute_result"
    },
    {
     "data": {
      "image/png": "[encoded data removed]",
      "text/plain": [
       "<Figure size 432x288 with 1 Axes>"
      ]
     },
     "metadata": {
      "needs_background": "light"
     },
     "output_type": "display_data"
    }
   ],
   "source": [
    "result1 = smf.ols(formula=\"ConsRatio ~ PriceRat2\", data=df).fit()\n",
    "print(result1.summary())\n",
    "plt.plot(df['PriceRat2'])"
   ]
  },
  {
   "cell_type": "code",
   "execution_count": null,
   "metadata": {},
   "outputs": [],
   "source": []
  }
 ],
 "metadata": {
  "kernelspec": {
   "display_name": "Python 3",
   "language": "python",
   "name": "python3"
  },
  "language_info": {
   "codemirror_mode": {
    "name": "ipython",
    "version": 3
   },
   "file_extension": ".py",
   "mimetype": "text/x-python",
   "name": "python",
   "nbconvert_exporter": "python",
   "pygments_lexer": "ipython3",
   "version": "3.8.5"
  }
 },
 "nbformat": 4,
 "nbformat_minor": 4
}
