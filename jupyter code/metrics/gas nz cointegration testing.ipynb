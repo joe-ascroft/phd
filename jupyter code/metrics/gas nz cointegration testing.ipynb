{
 "cells": [
  {
   "cell_type": "code",
   "execution_count": 2,
   "metadata": {},
   "outputs": [
    {
     "name": "stdout",
     "output_type": "stream",
     "text": [
      "         DATE  Price_NZ    NZ_BTU  NZ_USD_Q  NZBTU_USD        HH    NBP_raw  \\\n",
      "0  1999-03-01  2.885704  3.044580  0.539400   1.642246  1.903333   9.825882   \n",
      "1  1999-06-01  2.936804  3.098492  0.537400   1.665130  2.290000   9.510690   \n",
      "2  1999-09-01  2.698549  2.847121  0.521433   1.484584  2.693333   9.767143   \n",
      "3  1999-12-01  2.827617  2.983294  0.511567   1.526154  2.383333  10.796316   \n",
      "4  2000-03-01  2.871244  3.029323  0.493033   1.493557  2.830000  14.691452   \n",
      "..        ...       ...       ...       ...        ...       ...        ...   \n",
      "86 2020-09-01  6.594163  6.957211  0.663333   4.614950  2.203333  23.882985   \n",
      "87 2020-12-01  6.825113  7.200877  0.704467   5.072778  2.636667  36.814286   \n",
      "88 2021-03-01  7.414286  7.822487  0.717100   5.609505  3.543333  49.338936   \n",
      "89 2021-06-01  9.099814  9.600814  0.710567   6.822018  3.336667  60.539615   \n",
      "90 2021-09-01  9.154261  9.658258  0.702267   6.782672  4.913333  54.578462   \n",
      "\n",
      "     NBP_USD      Brent  GBP_USD  \n",
      "0   1.605058  11.563175   1.6335  \n",
      "1   1.528368  15.847705   1.6070  \n",
      "2   1.564794  20.689846   1.6021  \n",
      "3   1.760447  23.865079   1.6306  \n",
      "4   2.360476  26.551406   1.6067  \n",
      "..       ...        ...      ...  \n",
      "86  3.084249  43.380000   1.2914  \n",
      "87  4.860958  45.276462   1.3204  \n",
      "88  6.804333  61.267619   1.3791  \n",
      "89  8.467676  68.965714   1.3987  \n",
      "90  7.520366        NaN   1.3779  \n",
      "\n",
      "[91 rows x 10 columns]\n"
     ]
    }
   ],
   "source": [
    "import numpy as np\n",
    "import pandas as pd\n",
    "import datetime as dt\n",
    "import datapackage\n",
    "import matplotlib.pyplot as plt\n",
    "import matplotlib.dates as dates\n",
    "import statsmodels.api as sm\n",
    "import statsmodels.formula.api as smf\n",
    "import statsmodels.tsa.stattools as ts\n",
    "\n",
    "### STARGAZER ###\n",
    "\n",
    "from stargazer.stargazer import Stargazer, LineLocation\n",
    "\n",
    "url = 'https://raw.githubusercontent.com/joe-ascroft/phd/master/data/df_nzgas_excl_coal.csv'\n",
    "df = pd.read_csv(url)\n",
    "df[\"DATE\"] = pd.to_datetime(df[\"DATE\"],dayfirst=True)\n",
    "for col in df.columns[1:]:\n",
    "    df[col] = pd.to_numeric(df[col],errors='coerce')\n",
    "\n",
    "df2 = df[(df['DATE'] >= '2009-3-1') & (df['DATE'] <= '2022-6-10')]\n",
    "\n",
    "df3 = df[(df['DATE'] < '2009-3-1')]\n",
    "\n",
    "print(df)"
   ]
  },
  {
   "cell_type": "code",
   "execution_count": null,
   "metadata": {},
   "outputs": [],
   "source": [
    "fig = plt.gcf()\n",
    "fig.set_size_inches(11.5, 6.5)\n",
    "plt.plot(df['DATE'],df['HH'],color='blue')\n",
    "plt.plot(df['DATE'],df['NZBTU_USD'],color='red')\n",
    "plt.xlabel('Date', fontsize=12)\n",
    "plt.ylabel('Nominal USD', fontsize=12)\n",
    "plt.legend([\"Henry Hub Front Month\", \"New Zealand Wholesale Gas\"], loc =\"upper right\")\n",
    "plt.grid(color=\"black\")\n",
    "\n",
    "plt.savefig('/Users/joe/Dropbox/PhD/Writing/TeX/Charts/}nz-us-gas.png', dpi=400)"
   ]
  },
  {
   "cell_type": "code",
   "execution_count": null,
   "metadata": {},
   "outputs": [],
   "source": [
    "result1 = smf.ols(formula=\"NZBTU_USD ~ HH\", data=df).fit()\n",
    "print(result1.summary())\n",
    "plt.plot(result1.resid)"
   ]
  },
  {
   "cell_type": "code",
   "execution_count": null,
   "metadata": {},
   "outputs": [],
   "source": [
    "test = ts.adfuller(result1.resid,autolag=\"AIC\")\n",
    "print(test)\n",
    "\n",
    "result = ts.coint(df['HH'],df['NZBTU_USD'])\n",
    "print(result)"
   ]
  },
  {
   "cell_type": "code",
   "execution_count": null,
   "metadata": {},
   "outputs": [],
   "source": [
    "test1 = ts.adfuller(df2['HH'],autolag=\"AIC\")\n",
    "print(test1)\n",
    "test2 = ts.adfuller(df2['NZBTU_USD'],autolag=\"AIC\")\n",
    "print(test2)\n",
    "\n",
    "\n",
    "fig = plt.gcf()\n",
    "fig.set_size_inches(18.5, 10.5)\n",
    "plt.plot(df2['DATE'],df2['HH'],color='blue')\n",
    "plt.plot(df2['DATE'],df2['NZBTU_USD'],color='red')\n",
    "plt.grid(color=\"black\")"
   ]
  },
  {
   "cell_type": "code",
   "execution_count": null,
   "metadata": {},
   "outputs": [],
   "source": [
    "result2 = smf.ols(formula=\"NZBTU_USD ~ HH\", data=df2).fit()\n",
    "print(result2.summary())\n",
    "plt.plot(df2[\"DATE\"],result2.resid)\n",
    "\n",
    "\n",
    "test = ts.adfuller(result2.resid,autolag=\"AIC\")\n",
    "print(test)\n",
    "\n",
    "result = ts.coint(df2['HH'],df2['NZBTU_USD'])\n",
    "print(result)"
   ]
  },
  {
   "cell_type": "code",
   "execution_count": null,
   "metadata": {},
   "outputs": [],
   "source": [
    "result_switch = smf.ols(formula=\"HH ~ NZBTU_USD\", data=df2).fit()\n",
    "print(result_switch.summary())\n",
    "plt.plot(df2[\"DATE\"],result_switch.resid)\n",
    "\n",
    "test = ts.adfuller(result.resid,autolag=\"AIC\")\n",
    "print(test)"
   ]
  },
  {
   "cell_type": "code",
   "execution_count": null,
   "metadata": {},
   "outputs": [],
   "source": [
    "test1 = ts.adfuller(df3['HH'],autolag=\"AIC\")\n",
    "print(test1)\n",
    "test2 = ts.adfuller(df3['NZBTU_USD'],autolag=\"AIC\")\n",
    "print(test2)\n",
    "\n",
    "\n",
    "fig = plt.gcf()\n",
    "fig.set_size_inches(18.5, 10.5)\n",
    "plt.plot(df3['DATE'],df3['HH'],color='blue')\n",
    "plt.plot(df3['DATE'],df3['NZBTU_USD'],color='red')\n",
    "plt.grid(color=\"black\")"
   ]
  },
  {
   "cell_type": "code",
   "execution_count": null,
   "metadata": {},
   "outputs": [],
   "source": [
    "result3 = smf.ols(formula=\"NZBTU_USD ~ HH\", data=df3).fit()\n",
    "print(result3.summary())\n",
    "plt.plot(df3[\"DATE\"],result3.resid)\n",
    "\n",
    "test = ts.adfuller(result3.resid,autolag=\"AIC\")\n",
    "print(test)"
   ]
  },
  {
   "cell_type": "code",
   "execution_count": null,
   "metadata": {},
   "outputs": [],
   "source": [
    "df['ratio'] = df[\"HH\"]/df[\"NZBTU_USD\"]\n",
    "plt.plot(df['DATE'],df['ratio'],color='blue')"
   ]
  },
  {
   "cell_type": "code",
   "execution_count": null,
   "metadata": {},
   "outputs": [],
   "source": [
    "mod = sm.tsa.MarkovRegression(df['ratio'].iloc[1:], k_regimes=2, order=1, switching_variance=True)\n",
    "res_mod = mod.fit()\n",
    "res_mod.summary()"
   ]
  },
  {
   "cell_type": "code",
   "execution_count": null,
   "metadata": {},
   "outputs": [],
   "source": [
    "res_mod.filtered_marginal_probabilities[1].plot(\n",
    "    title='Probability of being in high price/volatility regime', figsize=(12,2))"
   ]
  },
  {
   "cell_type": "code",
   "execution_count": null,
   "metadata": {},
   "outputs": [],
   "source": [
    "fig = plt.gcf()\n",
    "fig.set_size_inches(10.5, 8)\n",
    "plt.plot(df['DATE'],df['NZ_BTU'],color='green')\n",
    "fig.suptitle('Quarterly New Zealand Natural Gas Prices',fontsize=18)\n",
    "plt.xlabel('Date', fontsize=12)\n",
    "plt.ylabel('NZD/BTU', fontsize=12)\n",
    "plt.grid(color=\"black\")\n",
    "\n",
    "plt.savefig('C:/Users/User/Dropbox/PhD/Writing/TeX/Charts/nzbtu.png', dpi=400)"
   ]
  },
  {
   "cell_type": "code",
   "execution_count": null,
   "metadata": {},
   "outputs": [],
   "source": [
    "star = Stargazer([result1,result2,result3])\n",
    "print(star.render_latex())"
   ]
  },
  {
   "cell_type": "code",
   "execution_count": null,
   "metadata": {},
   "outputs": [],
   "source": [
    "fig = plt.gcf()\n",
    "fig.set_size_inches(11.5, 6.5)\n",
    "plt.plot(df['DATE'],df['NBP_USD'],color='blue')\n",
    "plt.plot(df['DATE'],df['NZBTU_USD'],color='red')\n",
    "plt.xlabel('Date', fontsize=12)\n",
    "plt.ylabel('Nominal USD', fontsize=12)\n",
    "plt.legend([\"NBP Front Month\", \"New Zealand Wholesale Gas\"], loc =\"upper right\")\n",
    "plt.grid(color=\"black\")\n",
    "\n",
    "plt.savefig('/Users/joe/Dropbox/PhD/Writing/TeX/Charts/}nz-uk-gas.png', dpi=400)"
   ]
  },
  {
   "cell_type": "code",
   "execution_count": null,
   "metadata": {},
   "outputs": [],
   "source": [
    "result_nbp = smf.ols(formula=\"NZBTU_USD ~ NBP_USD\", data=df).fit()\n",
    "print(result_nbp.summary())\n",
    "plt.plot(result_nbp.resid)\n",
    "test = ts.adfuller(result_nbp.resid,autolag=\"AIC\")\n",
    "print(test)"
   ]
  },
  {
   "cell_type": "code",
   "execution_count": null,
   "metadata": {},
   "outputs": [],
   "source": [
    "result = ts.coint(df['NZ_BTU'],df['NBP_USD'])\n",
    "print(result)"
   ]
  },
  {
   "cell_type": "code",
   "execution_count": null,
   "metadata": {},
   "outputs": [],
   "source": [
    "star = Stargazer([result_nbp])\n",
    "print(star.render_latex())"
   ]
  },
  {
   "cell_type": "code",
   "execution_count": null,
   "metadata": {},
   "outputs": [],
   "source": [
    "result2_nbp = smf.ols(formula=\"NZBTU_USD ~ NBP_USD\", data=df2).fit()\n",
    "plt.plot(result2_nbp.resid)\n",
    "test2 = ts.adfuller(result2_nbp.resid,autolag=\"AIC\")\n",
    "print(test2)"
   ]
  },
  {
   "cell_type": "code",
   "execution_count": null,
   "metadata": {},
   "outputs": [],
   "source": [
    "star = Stargazer([result_nbp, result2_nbp, result3_nbp ])\n",
    "print(star.render_latex())"
   ]
  },
  {
   "cell_type": "code",
   "execution_count": null,
   "metadata": {},
   "outputs": [],
   "source": [
    "result3_nbp = smf.ols(formula=\"NZBTU_USD ~ NBP_USD\", data=df3).fit()\n",
    "plt.plot(result3_nbp.resid)\n",
    "test3 = ts.adfuller(result3_nbp.resid,autolag=\"AIC\")\n",
    "print(test3)"
   ]
  },
  {
   "cell_type": "code",
   "execution_count": null,
   "metadata": {},
   "outputs": [],
   "source": [
    "result4 = smf.ols(formula=\"NZBTU_USD ~ NBP_USD + Brent + HH\", data=df3).fit()\n",
    "plt.plot(result4.resid)\n",
    "test4 = ts.adfuller(result4.resid,autolag=\"AIC\")\n",
    "print(test4)"
   ]
  },
  {
   "cell_type": "code",
   "execution_count": null,
   "metadata": {},
   "outputs": [],
   "source": [
    "print(result4.summary())"
   ]
  },
  {
   "cell_type": "code",
   "execution_count": 17,
   "metadata": {},
   "outputs": [
    {
     "ename": "KeyError",
     "evalue": "'NCF'",
     "output_type": "error",
     "traceback": [
      "\u001b[0;31m---------------------------------------------------------------------------\u001b[0m",
      "\u001b[0;31mKeyError\u001b[0m                                  Traceback (most recent call last)",
      "\u001b[0;32m~/opt/anaconda3/lib/python3.8/site-packages/pandas/core/indexes/base.py\u001b[0m in \u001b[0;36mget_loc\u001b[0;34m(self, key, method, tolerance)\u001b[0m\n\u001b[1;32m   2894\u001b[0m             \u001b[0;32mtry\u001b[0m\u001b[0;34m:\u001b[0m\u001b[0;34m\u001b[0m\u001b[0;34m\u001b[0m\u001b[0m\n\u001b[0;32m-> 2895\u001b[0;31m                 \u001b[0;32mreturn\u001b[0m \u001b[0mself\u001b[0m\u001b[0;34m.\u001b[0m\u001b[0m_engine\u001b[0m\u001b[0;34m.\u001b[0m\u001b[0mget_loc\u001b[0m\u001b[0;34m(\u001b[0m\u001b[0mcasted_key\u001b[0m\u001b[0;34m)\u001b[0m\u001b[0;34m\u001b[0m\u001b[0;34m\u001b[0m\u001b[0m\n\u001b[0m\u001b[1;32m   2896\u001b[0m             \u001b[0;32mexcept\u001b[0m \u001b[0mKeyError\u001b[0m \u001b[0;32mas\u001b[0m \u001b[0merr\u001b[0m\u001b[0;34m:\u001b[0m\u001b[0;34m\u001b[0m\u001b[0;34m\u001b[0m\u001b[0m\n",
      "\u001b[0;32mpandas/_libs/index.pyx\u001b[0m in \u001b[0;36mpandas._libs.index.IndexEngine.get_loc\u001b[0;34m()\u001b[0m\n",
      "\u001b[0;32mpandas/_libs/index.pyx\u001b[0m in \u001b[0;36mpandas._libs.index.IndexEngine.get_loc\u001b[0;34m()\u001b[0m\n",
      "\u001b[0;32mpandas/_libs/hashtable_class_helper.pxi\u001b[0m in \u001b[0;36mpandas._libs.hashtable.PyObjectHashTable.get_item\u001b[0;34m()\u001b[0m\n",
      "\u001b[0;32mpandas/_libs/hashtable_class_helper.pxi\u001b[0m in \u001b[0;36mpandas._libs.hashtable.PyObjectHashTable.get_item\u001b[0;34m()\u001b[0m\n",
      "\u001b[0;31mKeyError\u001b[0m: 'NCF'",
      "\nThe above exception was the direct cause of the following exception:\n",
      "\u001b[0;31mKeyError\u001b[0m                                  Traceback (most recent call last)",
      "\u001b[0;32m<ipython-input-17-beb7f5758186>\u001b[0m in \u001b[0;36m<module>\u001b[0;34m\u001b[0m\n\u001b[0;32m----> 1\u001b[0;31m \u001b[0mdf\u001b[0m\u001b[0;34m[\u001b[0m\u001b[0;34m'NCF'\u001b[0m\u001b[0;34m]\u001b[0m\u001b[0;34m.\u001b[0m\u001b[0mdescribe\u001b[0m\u001b[0;34m(\u001b[0m\u001b[0;34m)\u001b[0m\u001b[0;34m\u001b[0m\u001b[0;34m\u001b[0m\u001b[0m\n\u001b[0m",
      "\u001b[0;32m~/opt/anaconda3/lib/python3.8/site-packages/pandas/core/frame.py\u001b[0m in \u001b[0;36m__getitem__\u001b[0;34m(self, key)\u001b[0m\n\u001b[1;32m   2900\u001b[0m             \u001b[0;32mif\u001b[0m \u001b[0mself\u001b[0m\u001b[0;34m.\u001b[0m\u001b[0mcolumns\u001b[0m\u001b[0;34m.\u001b[0m\u001b[0mnlevels\u001b[0m \u001b[0;34m>\u001b[0m \u001b[0;36m1\u001b[0m\u001b[0;34m:\u001b[0m\u001b[0;34m\u001b[0m\u001b[0;34m\u001b[0m\u001b[0m\n\u001b[1;32m   2901\u001b[0m                 \u001b[0;32mreturn\u001b[0m \u001b[0mself\u001b[0m\u001b[0;34m.\u001b[0m\u001b[0m_getitem_multilevel\u001b[0m\u001b[0;34m(\u001b[0m\u001b[0mkey\u001b[0m\u001b[0;34m)\u001b[0m\u001b[0;34m\u001b[0m\u001b[0;34m\u001b[0m\u001b[0m\n\u001b[0;32m-> 2902\u001b[0;31m             \u001b[0mindexer\u001b[0m \u001b[0;34m=\u001b[0m \u001b[0mself\u001b[0m\u001b[0;34m.\u001b[0m\u001b[0mcolumns\u001b[0m\u001b[0;34m.\u001b[0m\u001b[0mget_loc\u001b[0m\u001b[0;34m(\u001b[0m\u001b[0mkey\u001b[0m\u001b[0;34m)\u001b[0m\u001b[0;34m\u001b[0m\u001b[0;34m\u001b[0m\u001b[0m\n\u001b[0m\u001b[1;32m   2903\u001b[0m             \u001b[0;32mif\u001b[0m \u001b[0mis_integer\u001b[0m\u001b[0;34m(\u001b[0m\u001b[0mindexer\u001b[0m\u001b[0;34m)\u001b[0m\u001b[0;34m:\u001b[0m\u001b[0;34m\u001b[0m\u001b[0;34m\u001b[0m\u001b[0m\n\u001b[1;32m   2904\u001b[0m                 \u001b[0mindexer\u001b[0m \u001b[0;34m=\u001b[0m \u001b[0;34m[\u001b[0m\u001b[0mindexer\u001b[0m\u001b[0;34m]\u001b[0m\u001b[0;34m\u001b[0m\u001b[0;34m\u001b[0m\u001b[0m\n",
      "\u001b[0;32m~/opt/anaconda3/lib/python3.8/site-packages/pandas/core/indexes/base.py\u001b[0m in \u001b[0;36mget_loc\u001b[0;34m(self, key, method, tolerance)\u001b[0m\n\u001b[1;32m   2895\u001b[0m                 \u001b[0;32mreturn\u001b[0m \u001b[0mself\u001b[0m\u001b[0;34m.\u001b[0m\u001b[0m_engine\u001b[0m\u001b[0;34m.\u001b[0m\u001b[0mget_loc\u001b[0m\u001b[0;34m(\u001b[0m\u001b[0mcasted_key\u001b[0m\u001b[0;34m)\u001b[0m\u001b[0;34m\u001b[0m\u001b[0;34m\u001b[0m\u001b[0m\n\u001b[1;32m   2896\u001b[0m             \u001b[0;32mexcept\u001b[0m \u001b[0mKeyError\u001b[0m \u001b[0;32mas\u001b[0m \u001b[0merr\u001b[0m\u001b[0;34m:\u001b[0m\u001b[0;34m\u001b[0m\u001b[0;34m\u001b[0m\u001b[0m\n\u001b[0;32m-> 2897\u001b[0;31m                 \u001b[0;32mraise\u001b[0m \u001b[0mKeyError\u001b[0m\u001b[0;34m(\u001b[0m\u001b[0mkey\u001b[0m\u001b[0;34m)\u001b[0m \u001b[0;32mfrom\u001b[0m \u001b[0merr\u001b[0m\u001b[0;34m\u001b[0m\u001b[0;34m\u001b[0m\u001b[0m\n\u001b[0m\u001b[1;32m   2898\u001b[0m \u001b[0;34m\u001b[0m\u001b[0m\n\u001b[1;32m   2899\u001b[0m         \u001b[0;32mif\u001b[0m \u001b[0mtolerance\u001b[0m \u001b[0;32mis\u001b[0m \u001b[0;32mnot\u001b[0m \u001b[0;32mNone\u001b[0m\u001b[0;34m:\u001b[0m\u001b[0;34m\u001b[0m\u001b[0;34m\u001b[0m\u001b[0m\n",
      "\u001b[0;31mKeyError\u001b[0m: 'NCF'"
     ]
    }
   ],
   "source": [
    "df['NCF'].describe()"
   ]
  },
  {
   "cell_type": "code",
   "execution_count": 27,
   "metadata": {},
   "outputs": [
    {
     "name": "stdout",
     "output_type": "stream",
     "text": [
      "(-3.2042838048935542, 0.019738050976324466, 1, 89, {'1%': -3.506057133647011, '5%': -2.8946066061911946, '10%': -2.5844100201994697}, 231.75939066334746)\n"
     ]
    }
   ],
   "source": [
    "test = ts.adfuller(df['HH'],autolag=\"AIC\")\n",
    "print(test)"
   ]
  },
  {
   "cell_type": "code",
   "execution_count": null,
   "metadata": {},
   "outputs": [],
   "source": []
  }
 ],
 "metadata": {
  "kernelspec": {
   "display_name": "Python 3",
   "language": "python",
   "name": "python3"
  },
  "language_info": {
   "codemirror_mode": {
    "name": "ipython",
    "version": 3
   },
   "file_extension": ".py",
   "mimetype": "text/x-python",
   "name": "python",
   "nbconvert_exporter": "python",
   "pygments_lexer": "ipython3",
   "version": "3.8.5"
  }
 },
 "nbformat": 4,
 "nbformat_minor": 4
}
