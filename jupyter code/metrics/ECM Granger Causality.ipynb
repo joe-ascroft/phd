{
 "cells": [
  {
   "cell_type": "code",
   "execution_count": 1,
   "metadata": {},
   "outputs": [],
   "source": [
    "import numpy as np\n",
    "import pandas as pd\n",
    "import datetime as dt\n",
    "import datapackage\n",
    "import matplotlib.pyplot as plt\n",
    "import matplotlib.dates as dates\n",
    "import statsmodels.api as sm\n",
    "import statsmodels.tsa.vector_ar.vecm as vecm\n",
    "\n",
    "url = 'https://raw.githubusercontent.com/joe-ascroft/phd/master/data/df_nzgas.csv'\n",
    "df = pd.read_csv(url)\n",
    "df[\"DATE\"] = pd.to_datetime(df[\"DATE\"],dayfirst=True)\n",
    "for col in df.columns[1:]:\n",
    "    df[col] = pd.to_numeric(df[col],errors='coerce')\n",
    "\n",
    "df2 = df[(df['DATE'] >= '2009-3-1') & (df['DATE'] <= '2022-6-10')]\n",
    "df3 = df[(df['DATE'] < '2009-3-1')]"
   ]
  },
  {
   "cell_type": "code",
   "execution_count": null,
   "metadata": {},
   "outputs": [],
   "source": [
    "## lag selection \n",
    "\n",
    "lag_order1 = vecm.select_order(data=df[['NZBTU_USD', 'HH' ]], maxlags=6, deterministic=\"ci\")\n",
    "\n",
    "lag_order2 = vecm.select_order(data=df2[['NZBTU_USD', 'HH' ]], maxlags=6, deterministic=\"ci\")\n",
    "\n",
    "lag_order3 = vecm.select_order(data=df3[['NZBTU_USD', 'HH' ]], maxlags=6, deterministic=\"ci\")\n",
    "\n",
    "print(lag_order1.selected_orders, lag_order2.selected_orders, lag_order3.selected_orders)"
   ]
  },
  {
   "cell_type": "code",
   "execution_count": 2,
   "metadata": {},
   "outputs": [
    {
     "name": "stderr",
     "output_type": "stream",
     "text": [
      "/Users/joe/opt/anaconda3/lib/python3.8/site-packages/statsmodels/tsa/base/tsa_model.py:578: ValueWarning: An unsupported index was provided and will be ignored when e.g. forecasting.\n",
      "  warnings.warn('An unsupported index was provided and will be'\n"
     ]
    }
   ],
   "source": [
    "## full data \n",
    "\n",
    "m1 = vecm.VECM(df[['NZBTU_USD', 'HH', 'NBP_USD'  ]], deterministic=\"ci\", k_ar_diff=1, coint_rank=1)  \n",
    "vecm_res_1 = m1.fit()\n",
    "\n",
    "## before shale \n",
    "m2 = vecm.VECM(df2[['NZBTU_USD', 'HH', 'NBP_USD' ]], deterministic=\"ci\", k_ar_diff=1, coint_rank=1)  \n",
    "vecm_res_2 = m2.fit()\n",
    "\n",
    "## after shale \n",
    "m3 = vecm.VECM(df3[['NZBTU_USD', 'HH', 'NBP_USD' ]], deterministic=\"ci\", k_ar_diff=1, coint_rank=1)  \n",
    "vecm_res_3 = m3.fit()"
   ]
  },
  {
   "cell_type": "code",
   "execution_count": 3,
   "metadata": {},
   "outputs": [
    {
     "name": "stdout",
     "output_type": "stream",
     "text": [
      "Det. terms outside the coint. relation & lagged endog. parameters for equation NZBTU_USD\n",
      "================================================================================\n",
      "                   coef    std err          z      P>|z|      [0.025      0.975]\n",
      "--------------------------------------------------------------------------------\n",
      "L1.NZBTU_USD     0.2310      0.174      1.331      0.183      -0.109       0.571\n",
      "L1.HH            0.0605      0.025      2.394      0.017       0.011       0.110\n",
      "L1.NBP_USD      -0.0618      0.034     -1.829      0.067      -0.128       0.004\n",
      "Det. terms outside the coint. relation & lagged endog. parameters for equation HH\n",
      "================================================================================\n",
      "                   coef    std err          z      P>|z|      [0.025      0.975]\n",
      "--------------------------------------------------------------------------------\n",
      "L1.NZBTU_USD    -2.0134      1.169     -1.722      0.085      -4.305       0.278\n",
      "L1.HH            0.0419      0.170      0.246      0.805      -0.291       0.375\n",
      "L1.NBP_USD       0.1945      0.228      0.855      0.393      -0.252       0.640\n",
      "Det. terms outside the coint. relation & lagged endog. parameters for equation NBP_USD\n",
      "================================================================================\n",
      "                   coef    std err          z      P>|z|      [0.025      0.975]\n",
      "--------------------------------------------------------------------------------\n",
      "L1.NZBTU_USD    -2.5409      0.713     -3.565      0.000      -3.938      -1.144\n",
      "L1.HH            0.1505      0.104      1.452      0.147      -0.053       0.354\n",
      "L1.NBP_USD       0.4605      0.139      3.320      0.001       0.189       0.732\n",
      "             Loading coefficients (alpha) for equation NZBTU_USD              \n",
      "==============================================================================\n",
      "                 coef    std err          z      P>|z|      [0.025      0.975]\n",
      "------------------------------------------------------------------------------\n",
      "ec1            0.0185      0.053      0.348      0.728      -0.086       0.123\n",
      "                 Loading coefficients (alpha) for equation HH                 \n",
      "==============================================================================\n",
      "                 coef    std err          z      P>|z|      [0.025      0.975]\n",
      "------------------------------------------------------------------------------\n",
      "ec1            0.6104      0.357      1.708      0.088      -0.090       1.311\n",
      "              Loading coefficients (alpha) for equation NBP_USD               \n",
      "==============================================================================\n",
      "                 coef    std err          z      P>|z|      [0.025      0.975]\n",
      "------------------------------------------------------------------------------\n",
      "ec1            1.0313      0.218      4.734      0.000       0.604       1.458\n",
      "          Cointegration relations for loading-coefficients-column 1           \n",
      "==============================================================================\n",
      "                 coef    std err          z      P>|z|      [0.025      0.975]\n",
      "------------------------------------------------------------------------------\n",
      "beta.1         1.0000          0          0      0.000       1.000       1.000\n",
      "beta.2         0.1305      0.104      1.255      0.210      -0.073       0.334\n",
      "beta.3        -0.4709      0.083     -5.696      0.000      -0.633      -0.309\n",
      "const         -0.5822      0.331     -1.760      0.078      -1.231       0.066\n",
      "==============================================================================\n"
     ]
    }
   ],
   "source": [
    "print(vecm_res_3.summary())"
   ]
  },
  {
   "cell_type": "code",
   "execution_count": 4,
   "metadata": {},
   "outputs": [
    {
     "data": {
      "text/html": [
       "<table class=\"simpletable\">\n",
       "<caption>Granger causality F-test. H_0: ['HH', 'NBP_USD'] do not Granger-cause NZBTU_USD. Conclusion: reject H_0 at 5% significance level.</caption>\n",
       "<tr>\n",
       "  <th>Test statistic</th> <th>Critical value</th> <th>p-value</th>   <th>df</th>   \n",
       "</tr>\n",
       "<tr>\n",
       "       <td>7.596</td>          <td>2.484</td>      <td>0.000</td>  <td>(4, 81)</td>\n",
       "</tr>\n",
       "</table>"
      ],
      "text/plain": [
       "<class 'statsmodels.iolib.table.SimpleTable'>"
      ]
     },
     "execution_count": 4,
     "metadata": {},
     "output_type": "execute_result"
    }
   ],
   "source": [
    "granger_results = vecm_res_3.test_granger_causality(caused=\"NZBTU_USD\", signif=0.05)\n",
    "granger_results.summary()"
   ]
  },
  {
   "cell_type": "code",
   "execution_count": null,
   "metadata": {},
   "outputs": [],
   "source": []
  }
 ],
 "metadata": {
  "kernelspec": {
   "display_name": "Python 3",
   "language": "python",
   "name": "python3"
  },
  "language_info": {
   "codemirror_mode": {
    "name": "ipython",
    "version": 3
   },
   "file_extension": ".py",
   "mimetype": "text/x-python",
   "name": "python",
   "nbconvert_exporter": "python",
   "pygments_lexer": "ipython3",
   "version": "3.8.5"
  }
 },
 "nbformat": 4,
 "nbformat_minor": 4
}
