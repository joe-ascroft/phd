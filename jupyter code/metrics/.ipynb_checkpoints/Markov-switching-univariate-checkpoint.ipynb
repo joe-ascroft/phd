{
 "cells": [
  {
   "cell_type": "code",
   "execution_count": 1,
   "metadata": {},
   "outputs": [
    {
     "name": "stdout",
     "output_type": "stream",
     "text": [
      "           DATE    NCF    RCF    WTI    HH  Brent  NBP_UK  GBP-USD       NBP\n",
      "1    2009-01-02  74.35  81.00  46.17  5.41  46.91   54.74   1.4453  7.911572\n",
      "4    2009-01-05  77.65  84.40  48.61  5.83  49.62   56.66   1.4708  8.333553\n",
      "5    2009-01-06  81.25  88.50  48.56  6.10  50.53   59.88   1.4919  8.933497\n",
      "6    2009-01-07  78.65  86.25  42.75  5.89  45.86   58.03   1.5111  8.768913\n",
      "7    2009-01-08  79.15  84.00  41.68  5.96  44.67   55.74   1.5202  8.473595\n",
      "...         ...    ...    ...    ...   ...    ...     ...      ...       ...\n",
      "4254 2020-08-25  49.75  48.90  43.17  2.54  45.86   24.61   1.3148  3.235723\n",
      "4255 2020-08-26  49.70  48.95  43.21  2.52  45.64   25.10   1.3193  3.311443\n",
      "4256 2020-08-27  49.80  48.90  42.88  2.52  45.09   26.68   1.3206  3.523361\n",
      "4257 2020-08-28  50.60  52.20  42.96  2.46  45.81   28.95   1.3344  3.863088\n",
      "4260 2020-08-31  51.95  52.90  42.61  2.30  45.28   28.95   1.3379  3.873220\n",
      "\n",
      "[2856 rows x 9 columns]\n"
     ]
    }
   ],
   "source": [
    "import numpy as np\n",
    "import pandas as pd\n",
    "import datetime as dt\n",
    "import datapackage\n",
    "import matplotlib.pyplot as plt\n",
    "import matplotlib.dates as dates\n",
    "import statsmodels.api as sm\n",
    "\n",
    "## investigating volatility linkages between oil, gas, and regionalised coal futures markets ##\n",
    "\n",
    "## load data from Github into new frame and remove rows with absent data ##\n",
    "\n",
    "url = 'https://raw.githubusercontent.com/joe-ascroft/phd/master/data/df-combined.csv'\n",
    "df = pd.read_csv(url)\n",
    "df[\"DATE\"] = pd.to_datetime(df[\"DATE\"],dayfirst=True)\n",
    "for col in df.columns[1:]:\n",
    "    df[col] = pd.to_numeric(df[col],errors='coerce')\n",
    "    \n",
    "df = df.dropna()\n",
    "print(df)"
   ]
  },
  {
   "cell_type": "code",
   "execution_count": 2,
   "metadata": {},
   "outputs": [
    {
     "name": "stdout",
     "output_type": "stream",
     "text": [
      "           DATE    NCF    RCF    WTI    HH  Brent  NBP_UK  GBP-USD       NBP  \\\n",
      "4    2009-01-05  77.65  84.40  48.61  5.83  49.62   56.66   1.4708  8.333553   \n",
      "5    2009-01-06  81.25  88.50  48.56  6.10  50.53   59.88   1.4919  8.933497   \n",
      "6    2009-01-07  78.65  86.25  42.75  5.89  45.86   58.03   1.5111  8.768913   \n",
      "7    2009-01-08  79.15  84.00  41.68  5.96  44.67   55.74   1.5202  8.473595   \n",
      "8    2009-01-09  76.90  83.50  40.69  5.60  44.42   56.42   1.5111  8.525626   \n",
      "...         ...    ...    ...    ...   ...    ...     ...      ...       ...   \n",
      "4254 2020-08-25  49.75  48.90  43.17  2.54  45.86   24.61   1.3148  3.235723   \n",
      "4255 2020-08-26  49.70  48.95  43.21  2.52  45.64   25.10   1.3193  3.311443   \n",
      "4256 2020-08-27  49.80  48.90  42.88  2.52  45.09   26.68   1.3206  3.523361   \n",
      "4257 2020-08-28  50.60  52.20  42.96  2.46  45.81   28.95   1.3344  3.863088   \n",
      "4260 2020-08-31  51.95  52.90  42.61  2.30  45.28   28.95   1.3379  3.873220   \n",
      "\n",
      "         NCF_r     RCF_r     WTI_r      HH_r   Brent_r  NBP_UK_r  GBP-USD_r  \\\n",
      "4     0.044385  0.041975  0.052848  0.077634  0.057770  0.035075   0.017643   \n",
      "5     0.046362  0.048578 -0.001029  0.046312  0.018339  0.056830   0.014346   \n",
      "6    -0.032000 -0.025424 -0.119646 -0.034426 -0.092420 -0.030895   0.012869   \n",
      "7     0.006357 -0.026087 -0.025029  0.011885 -0.025949 -0.039462   0.006022   \n",
      "8    -0.028427 -0.005952 -0.023752 -0.060403 -0.005597  0.012199  -0.005986   \n",
      "...        ...       ...       ...       ...       ...       ...        ...   \n",
      "4254  0.001006  0.002049  0.017201 -0.011673  0.016175  0.059862   0.006738   \n",
      "4255 -0.001005  0.001022  0.000927 -0.007874 -0.004797  0.019911   0.003423   \n",
      "4256  0.002012 -0.001021 -0.007637  0.000000 -0.012051  0.062948   0.000985   \n",
      "4257  0.016064  0.067485  0.001866 -0.023810  0.015968  0.085082   0.010450   \n",
      "4260  0.026680  0.013410 -0.008147 -0.065041 -0.011570  0.000000   0.002623   \n",
      "\n",
      "         NBP_r  \n",
      "4     0.053337  \n",
      "5     0.071991  \n",
      "6    -0.018423  \n",
      "7    -0.033678  \n",
      "8     0.006140  \n",
      "...        ...  \n",
      "4254  0.067004  \n",
      "4255  0.023401  \n",
      "4256  0.063996  \n",
      "4257  0.096421  \n",
      "4260  0.002623  \n",
      "\n",
      "[2855 rows x 17 columns]\n"
     ]
    }
   ],
   "source": [
    "## price return calculations ##\n",
    "\n",
    "for col in df.columns[1:9]:\n",
    "    df[col+'_r'] = (df[col].pct_change())\n",
    "df = df.dropna()\n",
    "print(df)"
   ]
  },
  {
   "cell_type": "code",
   "execution_count": 4,
   "metadata": {},
   "outputs": [
    {
     "name": "stderr",
     "output_type": "stream",
     "text": [
      "/Users/joe/opt/anaconda3/lib/python3.8/site-packages/statsmodels/tsa/base/tsa_model.py:578: ValueWarning: An unsupported index was provided and will be ignored when e.g. forecasting.\n",
      "  warnings.warn('An unsupported index was provided and will be'\n"
     ]
    },
    {
     "name": "stdout",
     "output_type": "stream",
     "text": [
      "\\begin{center}\n",
      "\\begin{tabular}{lclc}\n",
      "\\toprule\n",
      "\\textbf{Dep. Variable:} &      HH\\_r       & \\textbf{  No. Observations:  } &    2855     \\\\\n",
      "\\textbf{Model:}         & MarkovRegression & \\textbf{  Log Likelihood     } &  5611.123   \\\\\n",
      "\\textbf{Date:}          & Fri, 28 Jan 2022 & \\textbf{  AIC                } & -11210.246  \\\\\n",
      "\\textbf{Time:}          &     14:36:14     & \\textbf{  BIC                } & -11174.505  \\\\\n",
      "\\textbf{Sample:}        &        0         & \\textbf{  HQIC               } & -11197.358  \\\\\n",
      "\\textbf{}               &      - 2855      & \\textbf{                     } &             \\\\\n",
      "\\bottomrule\n",
      "\\end{tabular}\n",
      "\\begin{tabular}{lcccccc}\n",
      "                & \\textbf{coef} & \\textbf{std err} & \\textbf{z} & \\textbf{P$> |$z$|$} & \\textbf{[0.025} & \\textbf{0.975]}  \\\\\n",
      "\\midrule\n",
      "\\textbf{const}  &      -0.0006  &        0.001     &    -1.109  &         0.268        &       -0.002    &        0.000     \\\\\n",
      "\\textbf{sigma2} &       0.0008  &     3.14e-05     &    23.946  &         0.000        &        0.001    &        0.001     \\\\\n",
      "                & \\textbf{coef} & \\textbf{std err} & \\textbf{z} & \\textbf{P$> |$z$|$} & \\textbf{[0.025} & \\textbf{0.975]}  \\\\\n",
      "\\midrule\n",
      "\\textbf{const}  &       0.0125  &        0.007     &     1.737  &         0.082        &       -0.002    &        0.027     \\\\\n",
      "\\textbf{sigma2} &       0.0140  &        0.002     &     8.183  &         0.000        &        0.011    &        0.017     \\\\\n",
      "                   & \\textbf{coef} & \\textbf{std err} & \\textbf{z} & \\textbf{P$> |$z$|$} & \\textbf{[0.025} & \\textbf{0.975]}  \\\\\n",
      "\\midrule\n",
      "\\textbf{p[0-$>$0]} &       0.9831  &        0.004     &   264.559  &         0.000        &        0.976    &        0.990     \\\\\n",
      "\\textbf{p[1-$>$0]} &       0.1473  &        0.033     &     4.398  &         0.000        &        0.082    &        0.213     \\\\\n",
      "\\bottomrule\n",
      "\\end{tabular}\n",
      "%\\caption{Markov Switching Model Results}\n",
      "\\end{center}\n",
      "\n",
      "Warnings: \\newline\n",
      " [1] Covariance matrix calculated using numerical (complex-step) differentiation.\n"
     ]
    }
   ],
   "source": [
    "## markov regime switching for univariate analysis ##\n",
    "\n",
    "mod = sm.tsa.MarkovRegression(df[\"HH_r\"], k_regimes=2, switching_variance = True)\n",
    "res_mod = mod.fit()\n",
    "res_mod.summary()\n",
    "print(res_mod.summary().as_latex())"
   ]
  },
  {
   "cell_type": "code",
   "execution_count": null,
   "metadata": {},
   "outputs": [],
   "source": [
    "res_mod.filtered_marginal_probabilities[1].plot(\n",
    "    title='Probability of being in the high regime', figsize=(12,2))"
   ]
  },
  {
   "cell_type": "code",
   "execution_count": null,
   "metadata": {},
   "outputs": [],
   "source": [
    "plt.plot(df[\"NBP\"])"
   ]
  },
  {
   "cell_type": "code",
   "execution_count": null,
   "metadata": {},
   "outputs": [],
   "source": [
    "## markov regime switching for univariate returns analysis ##\n",
    "\n",
    "mod = sm.tsa.MarkovRegression(df[\"GBP-USD\"], k_regimes=3, switching_variance = True)\n",
    "res_mod = mod.fit()\n",
    "res_mod.summary()"
   ]
  },
  {
   "cell_type": "code",
   "execution_count": null,
   "metadata": {},
   "outputs": [],
   "source": []
  }
 ],
 "metadata": {
  "kernelspec": {
   "display_name": "Python 3",
   "language": "python",
   "name": "python3"
  },
  "language_info": {
   "codemirror_mode": {
    "name": "ipython",
    "version": 3
   },
   "file_extension": ".py",
   "mimetype": "text/x-python",
   "name": "python",
   "nbconvert_exporter": "python",
   "pygments_lexer": "ipython3",
   "version": "3.8.5"
  }
 },
 "nbformat": 4,
 "nbformat_minor": 4
}
