{
 "cells": [
  {
   "cell_type": "code",
   "execution_count": 1,
   "metadata": {},
   "outputs": [],
   "source": [
    "import numpy as np\n",
    "import pandas as pd\n",
    "import datetime as dt\n",
    "import datapackage\n",
    "import matplotlib.pyplot as plt\n",
    "import matplotlib.dates as dates\n",
    "import statsmodels.api as sm\n",
    "import statsmodels.tsa.vector_ar.vecm as vecm\n",
    "\n",
    "url = 'https://raw.githubusercontent.com/joe-ascroft/phd/master/data/df_nzgas.csv'\n",
    "df = pd.read_csv(url)\n",
    "df[\"DATE\"] = pd.to_datetime(df[\"DATE\"],dayfirst=True)\n",
    "for col in df.columns[1:]:\n",
    "    df[col] = pd.to_numeric(df[col],errors='coerce')\n",
    "\n",
    "df2 = df[(df['DATE'] >= '2009-3-1') & (df['DATE'] <= '2022-6-10')]\n",
    "df3 = df[(df['DATE'] < '2009-3-1')]"
   ]
  },
  {
   "cell_type": "code",
   "execution_count": 2,
   "metadata": {},
   "outputs": [
    {
     "name": "stdout",
     "output_type": "stream",
     "text": [
      "{'aic': 1, 'bic': 0, 'hqic': 0, 'fpe': 1} {'aic': 1, 'bic': 0, 'hqic': 1, 'fpe': 1} {'aic': 5, 'bic': 1, 'hqic': 1, 'fpe': 2}\n"
     ]
    },
    {
     "name": "stderr",
     "output_type": "stream",
     "text": [
      "/Users/joe/opt/anaconda3/lib/python3.8/site-packages/statsmodels/tsa/base/tsa_model.py:578: ValueWarning: An unsupported index was provided and will be ignored when e.g. forecasting.\n",
      "  warnings.warn('An unsupported index was provided and will be'\n",
      "/Users/joe/opt/anaconda3/lib/python3.8/site-packages/statsmodels/tsa/base/tsa_model.py:578: ValueWarning: An unsupported index was provided and will be ignored when e.g. forecasting.\n",
      "  warnings.warn('An unsupported index was provided and will be'\n",
      "/Users/joe/opt/anaconda3/lib/python3.8/site-packages/statsmodels/tsa/base/tsa_model.py:578: ValueWarning: An unsupported index was provided and will be ignored when e.g. forecasting.\n",
      "  warnings.warn('An unsupported index was provided and will be'\n",
      "/Users/joe/opt/anaconda3/lib/python3.8/site-packages/statsmodels/tsa/base/tsa_model.py:578: ValueWarning: An unsupported index was provided and will be ignored when e.g. forecasting.\n",
      "  warnings.warn('An unsupported index was provided and will be'\n",
      "/Users/joe/opt/anaconda3/lib/python3.8/site-packages/statsmodels/tsa/base/tsa_model.py:578: ValueWarning: An unsupported index was provided and will be ignored when e.g. forecasting.\n",
      "  warnings.warn('An unsupported index was provided and will be'\n",
      "/Users/joe/opt/anaconda3/lib/python3.8/site-packages/statsmodels/tsa/base/tsa_model.py:578: ValueWarning: An unsupported index was provided and will be ignored when e.g. forecasting.\n",
      "  warnings.warn('An unsupported index was provided and will be'\n",
      "/Users/joe/opt/anaconda3/lib/python3.8/site-packages/statsmodels/tsa/base/tsa_model.py:578: ValueWarning: An unsupported index was provided and will be ignored when e.g. forecasting.\n",
      "  warnings.warn('An unsupported index was provided and will be'\n"
     ]
    }
   ],
   "source": [
    "## lag selection \n",
    "\n",
    "lag_order1 = vecm.select_order(data=df[['NZBTU_USD', 'HH' ]], maxlags=6, deterministic=\"ci\")\n",
    "\n",
    "lag_order2 = vecm.select_order(data=df2[['NZBTU_USD', 'HH' ]], maxlags=6, deterministic=\"ci\")\n",
    "\n",
    "lag_order3 = vecm.select_order(data=df3[['NZBTU_USD', 'HH' ]], maxlags=6, deterministic=\"ci\")\n",
    "\n",
    "print(lag_order1.selected_orders, lag_order2.selected_orders, lag_order3.selected_orders)"
   ]
  },
  {
   "cell_type": "code",
   "execution_count": 3,
   "metadata": {},
   "outputs": [
    {
     "name": "stderr",
     "output_type": "stream",
     "text": [
      "/Users/joe/opt/anaconda3/lib/python3.8/site-packages/statsmodels/tsa/base/tsa_model.py:578: ValueWarning: An unsupported index was provided and will be ignored when e.g. forecasting.\n",
      "  warnings.warn('An unsupported index was provided and will be'\n"
     ]
    },
    {
     "data": {
      "text/html": [
       "<table class=\"simpletable\">\n",
       "<caption>Det. terms outside the coint. relation & lagged endog. parameters for equation NZBTU_USD</caption>\n",
       "<tr>\n",
       "        <td></td>          <th>coef</th>     <th>std err</th>      <th>z</th>      <th>P>|z|</th>  <th>[0.025</th>    <th>0.975]</th>  \n",
       "</tr>\n",
       "<tr>\n",
       "  <th>L1.NZBTU_USD</th> <td>    0.2899</td> <td>    0.140</td> <td>    2.070</td> <td> 0.038</td> <td>    0.015</td> <td>    0.564</td>\n",
       "</tr>\n",
       "<tr>\n",
       "  <th>L1.HH</th>        <td>   -0.0170</td> <td>    0.028</td> <td>   -0.607</td> <td> 0.544</td> <td>   -0.072</td> <td>    0.038</td>\n",
       "</tr>\n",
       "<tr>\n",
       "  <th>L2.NZBTU_USD</th> <td>    0.0537</td> <td>    0.156</td> <td>    0.345</td> <td> 0.730</td> <td>   -0.251</td> <td>    0.359</td>\n",
       "</tr>\n",
       "<tr>\n",
       "  <th>L2.HH</th>        <td>   -0.1066</td> <td>    0.026</td> <td>   -4.109</td> <td> 0.000</td> <td>   -0.157</td> <td>   -0.056</td>\n",
       "</tr>\n",
       "<tr>\n",
       "  <th>L3.NZBTU_USD</th> <td>    0.3000</td> <td>    0.146</td> <td>    2.050</td> <td> 0.040</td> <td>    0.013</td> <td>    0.587</td>\n",
       "</tr>\n",
       "<tr>\n",
       "  <th>L3.HH</th>        <td>   -0.0169</td> <td>    0.028</td> <td>   -0.594</td> <td> 0.553</td> <td>   -0.073</td> <td>    0.039</td>\n",
       "</tr>\n",
       "<tr>\n",
       "  <th>L4.NZBTU_USD</th> <td>    0.4964</td> <td>    0.139</td> <td>    3.581</td> <td> 0.000</td> <td>    0.225</td> <td>    0.768</td>\n",
       "</tr>\n",
       "<tr>\n",
       "  <th>L4.HH</th>        <td>   -0.0372</td> <td>    0.028</td> <td>   -1.333</td> <td> 0.182</td> <td>   -0.092</td> <td>    0.017</td>\n",
       "</tr>\n",
       "</table>\n",
       "<table class=\"simpletable\">\n",
       "<caption>Det. terms outside the coint. relation & lagged endog. parameters for equation HH</caption>\n",
       "<tr>\n",
       "        <td></td>          <th>coef</th>     <th>std err</th>      <th>z</th>      <th>P>|z|</th>  <th>[0.025</th>    <th>0.975]</th>  \n",
       "</tr>\n",
       "<tr>\n",
       "  <th>L1.NZBTU_USD</th> <td>   -1.8895</td> <td>    1.031</td> <td>   -1.833</td> <td> 0.067</td> <td>   -3.910</td> <td>    0.131</td>\n",
       "</tr>\n",
       "<tr>\n",
       "  <th>L1.HH</th>        <td>    0.2881</td> <td>    0.206</td> <td>    1.398</td> <td> 0.162</td> <td>   -0.116</td> <td>    0.692</td>\n",
       "</tr>\n",
       "<tr>\n",
       "  <th>L2.NZBTU_USD</th> <td>   -0.3403</td> <td>    1.145</td> <td>   -0.297</td> <td> 0.766</td> <td>   -2.585</td> <td>    1.904</td>\n",
       "</tr>\n",
       "<tr>\n",
       "  <th>L2.HH</th>        <td>   -0.0886</td> <td>    0.191</td> <td>   -0.464</td> <td> 0.643</td> <td>   -0.463</td> <td>    0.286</td>\n",
       "</tr>\n",
       "<tr>\n",
       "  <th>L3.NZBTU_USD</th> <td>    0.3284</td> <td>    1.077</td> <td>    0.305</td> <td> 0.760</td> <td>   -1.783</td> <td>    2.440</td>\n",
       "</tr>\n",
       "<tr>\n",
       "  <th>L3.HH</th>        <td>   -0.0669</td> <td>    0.209</td> <td>   -0.320</td> <td> 0.749</td> <td>   -0.477</td> <td>    0.344</td>\n",
       "</tr>\n",
       "<tr>\n",
       "  <th>L4.NZBTU_USD</th> <td>    1.1619</td> <td>    1.020</td> <td>    1.139</td> <td> 0.255</td> <td>   -0.838</td> <td>    3.162</td>\n",
       "</tr>\n",
       "<tr>\n",
       "  <th>L4.HH</th>        <td>   -0.1242</td> <td>    0.205</td> <td>   -0.605</td> <td> 0.545</td> <td>   -0.527</td> <td>    0.279</td>\n",
       "</tr>\n",
       "</table>\n",
       "<table class=\"simpletable\">\n",
       "<caption>Loading coefficients (alpha) for equation NZBTU_USD</caption>\n",
       "<tr>\n",
       "   <td></td>      <th>coef</th>     <th>std err</th>      <th>z</th>      <th>P>|z|</th>  <th>[0.025</th>    <th>0.975]</th>  \n",
       "</tr>\n",
       "<tr>\n",
       "  <th>ec1</th> <td>   -0.1900</td> <td>    0.060</td> <td>   -3.158</td> <td> 0.002</td> <td>   -0.308</td> <td>   -0.072</td>\n",
       "</tr>\n",
       "</table>\n",
       "<table class=\"simpletable\">\n",
       "<caption>Loading coefficients (alpha) for equation HH</caption>\n",
       "<tr>\n",
       "   <td></td>      <th>coef</th>     <th>std err</th>      <th>z</th>      <th>P>|z|</th>  <th>[0.025</th>    <th>0.975]</th>  \n",
       "</tr>\n",
       "<tr>\n",
       "  <th>ec1</th> <td>    0.8951</td> <td>    0.443</td> <td>    2.022</td> <td> 0.043</td> <td>    0.027</td> <td>    1.763</td>\n",
       "</tr>\n",
       "</table>\n",
       "<table class=\"simpletable\">\n",
       "<caption>Cointegration relations for loading-coefficients-column 1</caption>\n",
       "<tr>\n",
       "     <td></td>       <th>coef</th>     <th>std err</th>      <th>z</th>      <th>P>|z|</th>  <th>[0.025</th>    <th>0.975]</th>  \n",
       "</tr>\n",
       "<tr>\n",
       "  <th>beta.1</th> <td>    1.0000</td> <td>        0</td> <td>        0</td> <td> 0.000</td> <td>    1.000</td> <td>    1.000</td>\n",
       "</tr>\n",
       "<tr>\n",
       "  <th>beta.2</th> <td>   -0.5005</td> <td>    0.072</td> <td>   -6.948</td> <td> 0.000</td> <td>   -0.642</td> <td>   -0.359</td>\n",
       "</tr>\n",
       "<tr>\n",
       "  <th>const</th>  <td>    0.5679</td> <td>    0.411</td> <td>    1.382</td> <td> 0.167</td> <td>   -0.238</td> <td>    1.373</td>\n",
       "</tr>\n",
       "</table>"
      ],
      "text/plain": [
       "<class 'statsmodels.iolib.summary.Summary'>\n",
       "\"\"\"\n",
       "Det. terms outside the coint. relation & lagged endog. parameters for equation NZBTU_USD\n",
       "================================================================================\n",
       "                   coef    std err          z      P>|z|      [0.025      0.975]\n",
       "--------------------------------------------------------------------------------\n",
       "L1.NZBTU_USD     0.2899      0.140      2.070      0.038       0.015       0.564\n",
       "L1.HH           -0.0170      0.028     -0.607      0.544      -0.072       0.038\n",
       "L2.NZBTU_USD     0.0537      0.156      0.345      0.730      -0.251       0.359\n",
       "L2.HH           -0.1066      0.026     -4.109      0.000      -0.157      -0.056\n",
       "L3.NZBTU_USD     0.3000      0.146      2.050      0.040       0.013       0.587\n",
       "L3.HH           -0.0169      0.028     -0.594      0.553      -0.073       0.039\n",
       "L4.NZBTU_USD     0.4964      0.139      3.581      0.000       0.225       0.768\n",
       "L4.HH           -0.0372      0.028     -1.333      0.182      -0.092       0.017\n",
       "Det. terms outside the coint. relation & lagged endog. parameters for equation HH\n",
       "================================================================================\n",
       "                   coef    std err          z      P>|z|      [0.025      0.975]\n",
       "--------------------------------------------------------------------------------\n",
       "L1.NZBTU_USD    -1.8895      1.031     -1.833      0.067      -3.910       0.131\n",
       "L1.HH            0.2881      0.206      1.398      0.162      -0.116       0.692\n",
       "L2.NZBTU_USD    -0.3403      1.145     -0.297      0.766      -2.585       1.904\n",
       "L2.HH           -0.0886      0.191     -0.464      0.643      -0.463       0.286\n",
       "L3.NZBTU_USD     0.3284      1.077      0.305      0.760      -1.783       2.440\n",
       "L3.HH           -0.0669      0.209     -0.320      0.749      -0.477       0.344\n",
       "L4.NZBTU_USD     1.1619      1.020      1.139      0.255      -0.838       3.162\n",
       "L4.HH           -0.1242      0.205     -0.605      0.545      -0.527       0.279\n",
       "             Loading coefficients (alpha) for equation NZBTU_USD              \n",
       "==============================================================================\n",
       "                 coef    std err          z      P>|z|      [0.025      0.975]\n",
       "------------------------------------------------------------------------------\n",
       "ec1           -0.1900      0.060     -3.158      0.002      -0.308      -0.072\n",
       "                 Loading coefficients (alpha) for equation HH                 \n",
       "==============================================================================\n",
       "                 coef    std err          z      P>|z|      [0.025      0.975]\n",
       "------------------------------------------------------------------------------\n",
       "ec1            0.8951      0.443      2.022      0.043       0.027       1.763\n",
       "          Cointegration relations for loading-coefficients-column 1           \n",
       "==============================================================================\n",
       "                 coef    std err          z      P>|z|      [0.025      0.975]\n",
       "------------------------------------------------------------------------------\n",
       "beta.1         1.0000          0          0      0.000       1.000       1.000\n",
       "beta.2        -0.5005      0.072     -6.948      0.000      -0.642      -0.359\n",
       "const          0.5679      0.411      1.382      0.167      -0.238       1.373\n",
       "==============================================================================\n",
       "\"\"\""
      ]
     },
     "execution_count": 3,
     "metadata": {},
     "output_type": "execute_result"
    }
   ],
   "source": [
    "## full data \n",
    "\n",
    "m1 = vecm.VECM(df[['NZBTU_USD', 'HH' ]], deterministic=\"ci\", k_ar_diff=1, coint_rank=1)  \n",
    "vecm_res_1 = m1.fit()\n",
    "vecm_res_1.summary()\n",
    "\n",
    "## before shale \n",
    "m2 = vecm.VECM(df2[['NZBTU_USD', 'HH' ]], deterministic=\"ci\", k_ar_diff=1, coint_rank=1)  \n",
    "vecm_res_2 = m2.fit()\n",
    "vecm_res_2.summary()\n",
    "\n",
    "\n",
    "## after shale \n",
    "m3 = vecm.VECM(df3[['NZBTU_USD', 'HH' ]], deterministic=\"ci\", k_ar_diff=4, coint_rank=1)  \n",
    "vecm_res_3 = m3.fit()\n",
    "vecm_res_3.summary()"
   ]
  },
  {
   "cell_type": "code",
   "execution_count": 4,
   "metadata": {},
   "outputs": [
    {
     "name": "stdout",
     "output_type": "stream",
     "text": [
      "Det. terms outside the coint. relation & lagged endog. parameters for equation NZBTU_USD\n",
      "================================================================================\n",
      "                   coef    std err          z      P>|z|      [0.025      0.975]\n",
      "--------------------------------------------------------------------------------\n",
      "L1.NZBTU_USD     0.2899      0.140      2.070      0.038       0.015       0.564\n",
      "L1.HH           -0.0170      0.028     -0.607      0.544      -0.072       0.038\n",
      "L2.NZBTU_USD     0.0537      0.156      0.345      0.730      -0.251       0.359\n",
      "L2.HH           -0.1066      0.026     -4.109      0.000      -0.157      -0.056\n",
      "L3.NZBTU_USD     0.3000      0.146      2.050      0.040       0.013       0.587\n",
      "L3.HH           -0.0169      0.028     -0.594      0.553      -0.073       0.039\n",
      "L4.NZBTU_USD     0.4964      0.139      3.581      0.000       0.225       0.768\n",
      "L4.HH           -0.0372      0.028     -1.333      0.182      -0.092       0.017\n",
      "Det. terms outside the coint. relation & lagged endog. parameters for equation HH\n",
      "================================================================================\n",
      "                   coef    std err          z      P>|z|      [0.025      0.975]\n",
      "--------------------------------------------------------------------------------\n",
      "L1.NZBTU_USD    -1.8895      1.031     -1.833      0.067      -3.910       0.131\n",
      "L1.HH            0.2881      0.206      1.398      0.162      -0.116       0.692\n",
      "L2.NZBTU_USD    -0.3403      1.145     -0.297      0.766      -2.585       1.904\n",
      "L2.HH           -0.0886      0.191     -0.464      0.643      -0.463       0.286\n",
      "L3.NZBTU_USD     0.3284      1.077      0.305      0.760      -1.783       2.440\n",
      "L3.HH           -0.0669      0.209     -0.320      0.749      -0.477       0.344\n",
      "L4.NZBTU_USD     1.1619      1.020      1.139      0.255      -0.838       3.162\n",
      "L4.HH           -0.1242      0.205     -0.605      0.545      -0.527       0.279\n",
      "             Loading coefficients (alpha) for equation NZBTU_USD              \n",
      "==============================================================================\n",
      "                 coef    std err          z      P>|z|      [0.025      0.975]\n",
      "------------------------------------------------------------------------------\n",
      "ec1           -0.1900      0.060     -3.158      0.002      -0.308      -0.072\n",
      "                 Loading coefficients (alpha) for equation HH                 \n",
      "==============================================================================\n",
      "                 coef    std err          z      P>|z|      [0.025      0.975]\n",
      "------------------------------------------------------------------------------\n",
      "ec1            0.8951      0.443      2.022      0.043       0.027       1.763\n",
      "          Cointegration relations for loading-coefficients-column 1           \n",
      "==============================================================================\n",
      "                 coef    std err          z      P>|z|      [0.025      0.975]\n",
      "------------------------------------------------------------------------------\n",
      "beta.1         1.0000          0          0      0.000       1.000       1.000\n",
      "beta.2        -0.5005      0.072     -6.948      0.000      -0.642      -0.359\n",
      "const          0.5679      0.411      1.382      0.167      -0.238       1.373\n",
      "==============================================================================\n"
     ]
    }
   ],
   "source": [
    "print(vecm_res_3.summary())"
   ]
  },
  {
   "cell_type": "code",
   "execution_count": 5,
   "metadata": {},
   "outputs": [
    {
     "data": {
      "text/html": [
       "<table class=\"simpletable\">\n",
       "<caption>Granger causality F-test. H_0: HH does not Granger-cause NZBTU_USD. Conclusion: reject H_0 at 5% significance level.</caption>\n",
       "<tr>\n",
       "  <th>Test statistic</th> <th>Critical value</th> <th>p-value</th>   <th>df</th>   \n",
       "</tr>\n",
       "<tr>\n",
       "       <td>3.984</td>          <td>2.438</td>      <td>0.005</td>  <td>(5, 42)</td>\n",
       "</tr>\n",
       "</table>"
      ],
      "text/plain": [
       "<class 'statsmodels.iolib.table.SimpleTable'>"
      ]
     },
     "execution_count": 5,
     "metadata": {},
     "output_type": "execute_result"
    }
   ],
   "source": [
    "granger_results = vecm_res_3.test_granger_causality(caused=\"NZBTU_USD\", signif=0.05)\n",
    "granger_results.summary()"
   ]
  },
  {
   "cell_type": "code",
   "execution_count": null,
   "metadata": {},
   "outputs": [],
   "source": []
  }
 ],
 "metadata": {
  "kernelspec": {
   "display_name": "Python 3",
   "language": "python",
   "name": "python3"
  },
  "language_info": {
   "codemirror_mode": {
    "name": "ipython",
    "version": 3
   },
   "file_extension": ".py",
   "mimetype": "text/x-python",
   "name": "python",
   "nbconvert_exporter": "python",
   "pygments_lexer": "ipython3",
   "version": "3.8.5"
  }
 },
 "nbformat": 4,
 "nbformat_minor": 4
}
