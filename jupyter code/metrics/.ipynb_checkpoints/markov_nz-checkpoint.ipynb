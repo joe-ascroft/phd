{
 "cells": [
  {
   "cell_type": "code",
   "execution_count": 6,
   "metadata": {},
   "outputs": [
    {
     "name": "stdout",
     "output_type": "stream",
     "text": [
      "         DATE  Price_NZ    NZ_BTU  NZ_USD_Q  NZBTU_USD        HH  nzbtuusd_r\n",
      "1  1999-06-01  2.936804  3.098492  0.537400   1.665130  2.290000    0.013934\n",
      "2  1999-09-01  2.698549  2.847121  0.521433   1.484584  2.693333   -0.108428\n",
      "3  1999-12-01  2.827617  2.983294  0.511567   1.526154  2.383333    0.028001\n",
      "4  2000-03-01  2.871244  3.029323  0.493033   1.493557  2.830000   -0.021359\n",
      "5  2000-06-01  2.719361  2.869078  0.467333   1.340816  3.956667   -0.102267\n",
      "..        ...       ...       ...       ...        ...       ...         ...\n",
      "86 2020-09-01  6.594163  6.957211  0.663333   4.614950  2.203333    0.093243\n",
      "87 2020-12-01  6.825113  7.200877  0.704467   5.072778  2.636667    0.099205\n",
      "88 2021-03-01  7.414286  7.822487  0.717100   5.609505  3.543333    0.105805\n",
      "89 2021-06-01  9.099814  9.600814  0.710567   6.822018  3.336667    0.216153\n",
      "90 2021-09-01  9.154261  9.658258  0.702267   6.782672  4.913333   -0.005767\n",
      "\n",
      "[90 rows x 7 columns]\n"
     ]
    }
   ],
   "source": [
    "import numpy as np\n",
    "import pandas as pd\n",
    "import datetime as dt\n",
    "import datapackage\n",
    "import matplotlib.pyplot as plt\n",
    "import matplotlib.dates as dates\n",
    "import statsmodels.api as sm\n",
    "import statsmodels.formula.api as smf\n",
    "import statsmodels.tsa.stattools as ts\n",
    "from statsmodels.iolib.summary2 import summary_col\n",
    "\n",
    "### STARGAZER ###\n",
    "\n",
    "from stargazer.stargazer import Stargazer, LineLocation\n",
    "\n",
    "url = 'https://raw.githubusercontent.com/joe-ascroft/phd/master/data/df_nzgas.csv'\n",
    "df = pd.read_csv(url)\n",
    "df[\"DATE\"] = pd.to_datetime(df[\"DATE\"],dayfirst=True)\n",
    "for col in df.columns[1:]:\n",
    "    df[col] = pd.to_numeric(df[col],errors='coerce')\n",
    "\n",
    "df[\"nzbtuusd_r\"] = (df[\"NZBTU_USD\"].pct_change())\n",
    "df = df.dropna()\n",
    "print(df)"
   ]
  },
  {
   "cell_type": "code",
   "execution_count": 7,
   "metadata": {},
   "outputs": [
    {
     "name": "stderr",
     "output_type": "stream",
     "text": [
      "/Users/joe/opt/anaconda3/lib/python3.8/site-packages/statsmodels/tsa/base/tsa_model.py:578: ValueWarning: An unsupported index was provided and will be ignored when e.g. forecasting.\n",
      "  warnings.warn('An unsupported index was provided and will be'\n"
     ]
    },
    {
     "data": {
      "text/html": [
       "<table class=\"simpletable\">\n",
       "<caption>Markov Switching Model Results</caption>\n",
       "<tr>\n",
       "  <th>Dep. Variable:</th>      <td>nzbtuusd_r</td>    <th>  No. Observations:  </th>    <td>90</td>   \n",
       "</tr>\n",
       "<tr>\n",
       "  <th>Model:</th>           <td>MarkovRegression</td> <th>  Log Likelihood     </th>  <td>85.246</td> \n",
       "</tr>\n",
       "<tr>\n",
       "  <th>Date:</th>            <td>Fri, 18 Feb 2022</td> <th>  AIC                </th> <td>-158.493</td>\n",
       "</tr>\n",
       "<tr>\n",
       "  <th>Time:</th>                <td>15:25:19</td>     <th>  BIC                </th> <td>-143.494</td>\n",
       "</tr>\n",
       "<tr>\n",
       "  <th>Sample:</th>                  <td>0</td>        <th>  HQIC               </th> <td>-152.444</td>\n",
       "</tr>\n",
       "<tr>\n",
       "  <th></th>                       <td> - 90</td>      <th>                     </th>     <td> </td>   \n",
       "</tr>\n",
       "<tr>\n",
       "  <th>Covariance Type:</th>      <td>approx</td>      <th>                     </th>     <td> </td>   \n",
       "</tr>\n",
       "</table>\n",
       "<table class=\"simpletable\">\n",
       "<caption>Regime 0 parameters</caption>\n",
       "<tr>\n",
       "     <td></td>       <th>coef</th>     <th>std err</th>      <th>z</th>      <th>P>|z|</th>  <th>[0.025</th>    <th>0.975]</th>  \n",
       "</tr>\n",
       "<tr>\n",
       "  <th>const</th>  <td>   -0.0143</td> <td>    0.020</td> <td>   -0.703</td> <td> 0.482</td> <td>   -0.054</td> <td>    0.026</td>\n",
       "</tr>\n",
       "<tr>\n",
       "  <th>sigma2</th> <td>    0.0044</td> <td>    0.002</td> <td>    2.563</td> <td> 0.010</td> <td>    0.001</td> <td>    0.008</td>\n",
       "</tr>\n",
       "</table>\n",
       "<table class=\"simpletable\">\n",
       "<caption>Regime 1 parameters</caption>\n",
       "<tr>\n",
       "     <td></td>       <th>coef</th>     <th>std err</th>      <th>z</th>      <th>P>|z|</th>  <th>[0.025</th>    <th>0.975]</th>  \n",
       "</tr>\n",
       "<tr>\n",
       "  <th>const</th>  <td>    0.0447</td> <td>    0.025</td> <td>    1.776</td> <td> 0.076</td> <td>   -0.005</td> <td>    0.094</td>\n",
       "</tr>\n",
       "<tr>\n",
       "  <th>sigma2</th> <td>    0.0109</td> <td>    0.003</td> <td>    3.592</td> <td> 0.000</td> <td>    0.005</td> <td>    0.017</td>\n",
       "</tr>\n",
       "</table>\n",
       "<table class=\"simpletable\">\n",
       "<caption>Regime transition parameters</caption>\n",
       "<tr>\n",
       "     <td></td>        <th>coef</th>     <th>std err</th>      <th>z</th>      <th>P>|z|</th>  <th>[0.025</th>    <th>0.975]</th>  \n",
       "</tr>\n",
       "<tr>\n",
       "  <th>p[0->0]</th> <td>    0.7921</td> <td>    0.256</td> <td>    3.090</td> <td> 0.002</td> <td>    0.290</td> <td>    1.295</td>\n",
       "</tr>\n",
       "<tr>\n",
       "  <th>p[1->0]</th> <td>    0.1475</td> <td>    0.268</td> <td>    0.550</td> <td> 0.583</td> <td>   -0.378</td> <td>    0.673</td>\n",
       "</tr>\n",
       "</table><br/><br/>Warnings:<br/>[1] Covariance matrix calculated using numerical (complex-step) differentiation."
      ],
      "text/plain": [
       "<class 'statsmodels.iolib.summary.Summary'>\n",
       "\"\"\"\n",
       "                        Markov Switching Model Results                        \n",
       "==============================================================================\n",
       "Dep. Variable:             nzbtuusd_r   No. Observations:                   90\n",
       "Model:               MarkovRegression   Log Likelihood                  85.246\n",
       "Date:                Fri, 18 Feb 2022   AIC                           -158.493\n",
       "Time:                        15:25:19   BIC                           -143.494\n",
       "Sample:                             0   HQIC                          -152.444\n",
       "                                 - 90                                         \n",
       "Covariance Type:               approx                                         \n",
       "                             Regime 0 parameters                              \n",
       "==============================================================================\n",
       "                 coef    std err          z      P>|z|      [0.025      0.975]\n",
       "------------------------------------------------------------------------------\n",
       "const         -0.0143      0.020     -0.703      0.482      -0.054       0.026\n",
       "sigma2         0.0044      0.002      2.563      0.010       0.001       0.008\n",
       "                             Regime 1 parameters                              \n",
       "==============================================================================\n",
       "                 coef    std err          z      P>|z|      [0.025      0.975]\n",
       "------------------------------------------------------------------------------\n",
       "const          0.0447      0.025      1.776      0.076      -0.005       0.094\n",
       "sigma2         0.0109      0.003      3.592      0.000       0.005       0.017\n",
       "                         Regime transition parameters                         \n",
       "==============================================================================\n",
       "                 coef    std err          z      P>|z|      [0.025      0.975]\n",
       "------------------------------------------------------------------------------\n",
       "p[0->0]        0.7921      0.256      3.090      0.002       0.290       1.295\n",
       "p[1->0]        0.1475      0.268      0.550      0.583      -0.378       0.673\n",
       "==============================================================================\n",
       "\n",
       "Warnings:\n",
       "[1] Covariance matrix calculated using numerical (complex-step) differentiation.\n",
       "\"\"\""
      ]
     },
     "execution_count": 7,
     "metadata": {},
     "output_type": "execute_result"
    }
   ],
   "source": [
    "mod = sm.tsa.MarkovRegression(df[\"nzbtuusd_r\"], k_regimes=2, switching_variance = True)\n",
    "res_mod = mod.fit()\n",
    "res_mod.summary()"
   ]
  },
  {
   "cell_type": "code",
   "execution_count": 8,
   "metadata": {},
   "outputs": [
    {
     "data": {
      "text/plain": [
       "[<matplotlib.lines.Line2D at 0x7f95e011c9d0>]"
      ]
     },
     "execution_count": 8,
     "metadata": {},
     "output_type": "execute_result"
    },
    {
     "data": {
      "image/png": "[encoded data removed]",
      "text/plain": [
       "<Figure size 432x288 with 1 Axes>"
      ]
     },
     "metadata": {
      "needs_background": "light"
     },
     "output_type": "display_data"
    }
   ],
   "source": [
    "df['ratio'] = df[\"HH\"]/df[\"NZBTU_USD\"]\n",
    "plt.plot(df['DATE'],df['ratio'],color='blue')"
   ]
  },
  {
   "cell_type": "code",
   "execution_count": 17,
   "metadata": {},
   "outputs": [
    {
     "name": "stderr",
     "output_type": "stream",
     "text": [
      "/Users/joe/opt/anaconda3/lib/python3.8/site-packages/statsmodels/tsa/base/tsa_model.py:578: ValueWarning: An unsupported index was provided and will be ignored when e.g. forecasting.\n",
      "  warnings.warn('An unsupported index was provided and will be'\n",
      "/Users/joe/opt/anaconda3/lib/python3.8/site-packages/statsmodels/tsa/base/tsa_model.py:578: ValueWarning: An unsupported index was provided and will be ignored when e.g. forecasting.\n",
      "  warnings.warn('An unsupported index was provided and will be'\n",
      "/Users/joe/opt/anaconda3/lib/python3.8/site-packages/statsmodels/tsa/base/tsa_model.py:578: ValueWarning: An unsupported index was provided and will be ignored when e.g. forecasting.\n",
      "  warnings.warn('An unsupported index was provided and will be'\n",
      "/Users/joe/opt/anaconda3/lib/python3.8/site-packages/statsmodels/base/model.py:566: ConvergenceWarning: Maximum Likelihood optimization failed to converge. Check mle_retvals\n",
      "  warnings.warn(\"Maximum Likelihood optimization failed to \"\n"
     ]
    }
   ],
   "source": [
    "mod_1 = sm.tsa.MarkovRegression(df[\"ratio\"], k_regimes=2, switching_variance = True)\n",
    "res_mod_1 = mod_1.fit()\n",
    "mod_2 = sm.tsa.MarkovRegression(df[\"ratio\"], k_regimes=3, switching_variance = True)\n",
    "res_mod_2 = mod_2.fit()\n",
    "mod_3 = sm.tsa.MarkovRegression(df[\"ratio\"], k_regimes=4, switching_variance = True)\n",
    "res_mod_3 = mod_3.fit()"
   ]
  },
  {
   "cell_type": "code",
   "execution_count": null,
   "metadata": {},
   "outputs": [],
   "source": [
    "res_mod.filtered_marginal_probabilities[1].plot(\n",
    "    title='Probability of being in the high regime', figsize=(12,2))"
   ]
  },
  {
   "cell_type": "code",
   "execution_count": null,
   "metadata": {},
   "outputs": [],
   "source": [
    "star = Stargazer([res_mod_1,res_mod_2,result3])\n",
    "print(star.render_latex())"
   ]
  },
  {
   "cell_type": "code",
   "execution_count": null,
   "metadata": {},
   "outputs": [],
   "source": [
    "## example code for latex summary_col([reg0,reg1,reg2],stars=True,float_format='%0.2f') ##"
   ]
  }
 ],
 "metadata": {
  "kernelspec": {
   "display_name": "Python 3",
   "language": "python",
   "name": "python3"
  },
  "language_info": {
   "codemirror_mode": {
    "name": "ipython",
    "version": 3
   },
   "file_extension": ".py",
   "mimetype": "text/x-python",
   "name": "python",
   "nbconvert_exporter": "python",
   "pygments_lexer": "ipython3",
   "version": "3.8.5"
  }
 },
 "nbformat": 4,
 "nbformat_minor": 4
}
