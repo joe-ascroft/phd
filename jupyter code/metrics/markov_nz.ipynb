{
 "cells": [
  {
   "cell_type": "code",
   "execution_count": 1,
   "metadata": {},
   "outputs": [
    {
     "name": "stdout",
     "output_type": "stream",
     "text": [
      "         DATE  Price_NZ    NZ_BTU  NZ_USD_Q  NZBTU_USD        HH    NBP_raw  \\\n",
      "40 2009-03-01  6.739482  7.110531  0.538933   3.832102  3.993333  38.930000   \n",
      "41 2009-06-01  7.067294  7.456390  0.626667   4.672671  3.670000  30.123125   \n",
      "42 2009-09-01  6.931729  7.313362  0.705367   5.158602  3.380000  26.784030   \n",
      "43 2009-12-01  6.880381  7.259187  0.724933   5.262427  4.946667  31.911429   \n",
      "44 2010-03-01  7.198392  7.594707  0.704300   5.348952  4.546667  36.481774   \n",
      "45 2010-06-01  6.402182  6.754661  0.701033   4.735242  4.523333  38.841077   \n",
      "46 2010-09-01  7.423850  7.832577  0.730467   5.721436  3.880000  42.119118   \n",
      "47 2010-12-01  7.609725  8.028686  0.762800   6.124282  4.150000  47.904615   \n",
      "48 2011-03-01  7.300203  7.702123  0.763000   5.876720  4.100000  57.787302   \n",
      "49 2011-06-01  7.201765  7.598266  0.818767   6.221207  4.423333  58.159531   \n",
      "50 2011-09-01  7.321425  7.724513  0.813533   6.284149  3.843333  57.948806   \n",
      "51 2011-12-01  6.270751  6.615994  0.781067   5.167532  3.026667  59.474844   \n",
      "52 2012-03-01  6.584252  6.946755  0.824700   5.728989  2.210000  58.127812   \n",
      "53 2012-06-01  6.787404  7.161091  0.784833   5.620263  2.613333  56.873692   \n",
      "54 2012-09-01  6.727379  7.097762  0.815667   5.789407  3.003333  57.870937   \n",
      "55 2012-12-01  6.216690  6.558956  0.829500   5.440654  3.403333  63.578333   \n",
      "56 2013-03-01  6.886028  7.265145  0.838000   6.088192  3.770000  67.345469   \n",
      "57 2013-06-01  6.916332  7.297117  0.801933   5.851802  3.830000  65.945303   \n",
      "58 2013-09-01  7.051543  7.439773  0.813200   6.050023  3.576667  65.957344   \n",
      "59 2013-12-01  7.166571  7.561134  0.825833   6.244236  4.196667  68.945373   \n",
      "60 2014-03-01  6.851256  7.228459  0.847467   6.125878  5.186667  56.812424   \n",
      "61 2014-06-01  6.457523  6.813048  0.864233   5.888063  4.406667  47.315323   \n",
      "62 2014-09-01  7.140466  7.533592  0.815667   6.144900  3.870000  47.043651   \n",
      "63 2014-12-01  6.890010  7.269346  0.774533   5.630351  3.530000  53.091343   \n",
      "64 2015-03-01  6.176668  6.516730  0.750000   4.887548  2.770000  45.614127   \n",
      "65 2015-06-01  6.392942  6.744912  0.701200   4.729532  2.823333  43.136984   \n",
      "66 2015-09-01  6.411064  6.764031  0.651767   4.408570  2.590000  41.765373   \n",
      "67 2015-12-01  5.699209  6.012985  0.660800   3.973380  2.100000  39.487969   \n",
      "68 2016-03-01  5.876231  6.199753  0.675267   4.186487  1.880000  32.117213   \n",
      "69 2016-06-01  5.853776  6.176061  0.698667   4.315008  2.443333  32.359545   \n",
      "70 2016-09-01  5.788720  6.107423  0.723200   4.416889  2.930000  34.340299   \n",
      "71 2016-12-01  5.353445  5.648185  0.710900   4.015294  3.146667  42.572969   \n",
      "72 2017-03-01  6.557299  6.918317  0.706800   4.889867  2.943333  46.484769   \n",
      "73 2017-06-01  5.529057  5.833464  0.717033   4.182788  3.036667  40.582813   \n",
      "74 2017-09-01  6.214530  6.556677  0.720633   4.724960  2.920000  43.568154   \n",
      "75 2017-12-01  6.441667  6.796320  0.703200   4.779172  3.233333  50.732656   \n",
      "76 2018-03-01  6.125594  6.462845  0.727567   4.702150  2.720000  53.435323   \n",
      "77 2018-06-01  6.245768  6.589635  0.689400   4.542895  2.866667  55.870606   \n",
      "78 2018-09-01  6.854783  7.232180  0.659867   4.772274  3.080000  62.536154   \n",
      "79 2018-12-01  7.128071  7.520514  0.679000   5.106429  3.746667  65.029385   \n",
      "80 2019-03-01  6.587530  6.950213  0.679900   4.725450  2.763333  43.569683   \n",
      "81 2019-06-01  6.916013  7.296781  0.661467   4.826577  2.470000  33.910000   \n",
      "82 2019-09-01  6.617888  6.982243  0.637100   4.448387  2.370000  35.116250   \n",
      "83 2019-12-01  6.944566  7.326906  0.653033   4.784714  2.296667  39.191061   \n",
      "84 2020-03-01  6.748361  7.119899  0.614600   4.375890  1.813333  24.394545   \n",
      "85 2020-06-01  6.278793  6.624478  0.637233   4.221338  1.716667  17.556032   \n",
      "86 2020-09-01  6.594163  6.957211  0.663333   4.614950  2.203333  23.882985   \n",
      "\n",
      "      NBP_USD       Brent  GBP_USD         NCF  nzbtuusd_r  \n",
      "40   5.584898   45.681500   1.4346   72.953636    0.127519  \n",
      "41   4.669988   59.904918   1.5503   66.358596    0.219349  \n",
      "42   4.395527   68.858889   1.6411   71.378814    0.103994  \n",
      "43   5.215923   75.504194   1.6345   77.398305    0.020127  \n",
      "44   5.694805   77.375167   1.5610   94.525000    0.016442  \n",
      "45   5.790816   79.394098   1.4909  100.745690   -0.114735  \n",
      "46   6.533518   76.964603   1.5512   93.790339    0.208267  \n",
      "47   7.573241   87.504444   1.5809  107.053103    0.070410  \n",
      "48   9.262149  105.536557   1.6028  128.817857   -0.040423  \n",
      "49   9.474188  117.043771   1.6290  121.603448    0.058619  \n",
      "50   9.325122  112.031429   1.6092  121.619492    0.010117  \n",
      "51   9.347066  109.051148   1.5716  115.597321   -0.177688  \n",
      "52   9.133042  118.449062   1.5712  113.220968    0.108651  \n",
      "53   9.003105  108.763125   1.5830   97.019841   -0.018978  \n",
      "54   9.148238  109.418461   1.5808   90.094444    0.030095  \n",
      "55  10.211316  110.130615   1.6061   87.271094   -0.060240  \n",
      "56  10.441241  112.635484   1.5504   93.670833    0.119018  \n",
      "57  10.129199  103.346615   1.5360   86.578906   -0.038828  \n",
      "58  10.233282  109.652273   1.5515   77.721429    0.033874  \n",
      "59  11.162945  109.351539   1.6191   83.762500    0.032101  \n",
      "60   9.404161  107.871429   1.6553   78.622131   -0.018955  \n",
      "61   7.963642  109.757188   1.6831   73.248387   -0.038821  \n",
      "62   7.853467  103.456212   1.6694   68.541270    0.043620  \n",
      "63   8.403829   77.070462   1.5829   63.812857   -0.083736  \n",
      "64   6.908260   55.134444   1.5145   64.771311   -0.131928  \n",
      "65   6.615057   63.502969   1.5335   59.274194   -0.032330  \n",
      "66   6.469456   51.299545   1.5490   58.996875   -0.067863  \n",
      "67   5.990720   44.690923   1.5171   52.663281   -0.098714  \n",
      "68   4.595331   35.205714   1.4308   50.565833    0.053633  \n",
      "69   4.642300   47.027077   1.4346   51.746094    0.030699  \n",
      "70   4.508194   47.018636   1.3128   66.510156    0.023611  \n",
      "71   5.285860   51.101562   1.2416   93.957143   -0.090922  \n",
      "72   5.762252   54.631385   1.2396   81.930645    0.217810  \n",
      "73   5.194194   50.812812   1.2799   79.765079   -0.144601  \n",
      "74   5.703507   52.165231   1.3091   93.515323    0.129620  \n",
      "75   6.733745   61.434375   1.3273   97.815079    0.011474  \n",
      "76   7.438731   67.195397   1.3921  102.789167   -0.016116  \n",
      "77   7.603989   74.957077   1.3610  104.092857   -0.033869  \n",
      "78   8.152838   75.841231   1.3037  116.568254    0.050492  \n",
      "79   8.361478   68.618154   1.2858  105.609836    0.070020  \n",
      "80   5.676258   63.808413   1.3028   96.510656   -0.074608  \n",
      "81   4.358113   68.388750   1.2852   80.094444    0.021401  \n",
      "82   4.328429   62.005455   1.2326   68.694444   -0.078356  \n",
      "83   5.046633   62.350308   1.2877   66.914603    0.075606  \n",
      "84   3.120550   50.837656   1.2792   67.850806   -0.085444  \n",
      "85   2.180108   33.447344   1.2418   55.331746   -0.035319  \n",
      "86   3.084249   43.380000   1.2914   51.376190    0.093243  \n"
     ]
    }
   ],
   "source": [
    "import numpy as np\n",
    "import pandas as pd\n",
    "import datetime as dt\n",
    "import datapackage\n",
    "import matplotlib.pyplot as plt\n",
    "import matplotlib.dates as dates\n",
    "import statsmodels.api as sm\n",
    "import statsmodels.formula.api as smf\n",
    "import statsmodels.tsa.stattools as ts\n",
    "from statsmodels.iolib.summary2 import summary_col\n",
    "\n",
    "### STARGAZER ###\n",
    "\n",
    "from stargazer.stargazer import Stargazer, LineLocation\n",
    "\n",
    "url = 'https://raw.githubusercontent.com/joe-ascroft/phd/master/data/df_nzgas.csv'\n",
    "df = pd.read_csv(url)\n",
    "df[\"DATE\"] = pd.to_datetime(df[\"DATE\"],dayfirst=True)\n",
    "for col in df.columns[1:]:\n",
    "    df[col] = pd.to_numeric(df[col],errors='coerce')\n",
    "\n",
    "df[\"nzbtuusd_r\"] = (df[\"NZBTU_USD\"].pct_change())\n",
    "df = df.dropna()\n",
    "print(df)"
   ]
  },
  {
   "cell_type": "code",
   "execution_count": null,
   "metadata": {},
   "outputs": [],
   "source": [
    "mod = sm.tsa.MarkovRegression(df[\"nzbtuusd_r\"], k_regimes=2, switching_variance = True)\n",
    "res_mod = mod.fit()\n",
    "res_mod.summary()"
   ]
  },
  {
   "cell_type": "code",
   "execution_count": 3,
   "metadata": {},
   "outputs": [
    {
     "data": {
      "text/plain": [
       "[<matplotlib.lines.Line2D at 0x7fdce807ad60>]"
      ]
     },
     "execution_count": 3,
     "metadata": {},
     "output_type": "execute_result"
    },
    {
     "data": {
      "image/png": "[encoded data removed]",
      "text/plain": [
       "<Figure size 432x288 with 1 Axes>"
      ]
     },
     "metadata": {
      "needs_background": "light"
     },
     "output_type": "display_data"
    }
   ],
   "source": [
    "df['ratio'] = df[\"NBP_USD\"]/df[\"NZBTU_USD\"]\n",
    "plt.plot(df['DATE'],df['ratio'],color='blue')"
   ]
  },
  {
   "cell_type": "code",
   "execution_count": 4,
   "metadata": {},
   "outputs": [
    {
     "name": "stderr",
     "output_type": "stream",
     "text": [
      "/Users/joe/opt/anaconda3/lib/python3.8/site-packages/statsmodels/tsa/base/tsa_model.py:578: ValueWarning: An unsupported index was provided and will be ignored when e.g. forecasting.\n",
      "  warnings.warn('An unsupported index was provided and will be'\n",
      "/Users/joe/opt/anaconda3/lib/python3.8/site-packages/statsmodels/tsa/regime_switching/markov_regression.py:188: RuntimeWarning: divide by zero encountered in true_divide\n",
      "  -0.5 * resid**2 / variance - 0.5 * np.log(2 * np.pi * variance))\n",
      "/Users/joe/opt/anaconda3/lib/python3.8/site-packages/statsmodels/tsa/regime_switching/markov_regression.py:188: RuntimeWarning: invalid value encountered in true_divide\n",
      "  -0.5 * resid**2 / variance - 0.5 * np.log(2 * np.pi * variance))\n",
      "/Users/joe/opt/anaconda3/lib/python3.8/site-packages/statsmodels/tsa/regime_switching/markov_regression.py:188: RuntimeWarning: divide by zero encountered in log\n",
      "  -0.5 * resid**2 / variance - 0.5 * np.log(2 * np.pi * variance))\n",
      "/Users/joe/opt/anaconda3/lib/python3.8/site-packages/statsmodels/tsa/regime_switching/markov_regression.py:188: RuntimeWarning: invalid value encountered in subtract\n",
      "  -0.5 * resid**2 / variance - 0.5 * np.log(2 * np.pi * variance))\n",
      "/Users/joe/opt/anaconda3/lib/python3.8/site-packages/statsmodels/base/model.py:566: ConvergenceWarning: Maximum Likelihood optimization failed to converge. Check mle_retvals\n",
      "  warnings.warn(\"Maximum Likelihood optimization failed to \"\n"
     ]
    },
    {
     "data": {
      "text/html": [
       "<table class=\"simpletable\">\n",
       "<caption>Markov Switching Model Results</caption>\n",
       "<tr>\n",
       "  <th>Dep. Variable:</th>         <td>ratio</td>      <th>  No. Observations:  </th>  <td>47</td>  \n",
       "</tr>\n",
       "<tr>\n",
       "  <th>Model:</th>           <td>MarkovRegression</td> <th>  Log Likelihood     </th> <td>  nan</td>\n",
       "</tr>\n",
       "<tr>\n",
       "  <th>Date:</th>            <td>Sat, 26 Mar 2022</td> <th>  AIC                </th> <td>  nan</td>\n",
       "</tr>\n",
       "<tr>\n",
       "  <th>Time:</th>                <td>14:05:01</td>     <th>  BIC                </th> <td>  nan</td>\n",
       "</tr>\n",
       "<tr>\n",
       "  <th>Sample:</th>                  <td>0</td>        <th>  HQIC               </th> <td>  nan</td>\n",
       "</tr>\n",
       "<tr>\n",
       "  <th></th>                       <td> - 47</td>      <th>                     </th>   <td> </td>  \n",
       "</tr>\n",
       "<tr>\n",
       "  <th>Covariance Type:</th>      <td>approx</td>      <th>                     </th>   <td> </td>  \n",
       "</tr>\n",
       "</table>\n",
       "<table class=\"simpletable\">\n",
       "<caption>Regime 0 parameters</caption>\n",
       "<tr>\n",
       "     <td></td>       <th>coef</th>     <th>std err</th>      <th>z</th>      <th>P>|z|</th>  <th>[0.025</th>    <th>0.975]</th>  \n",
       "</tr>\n",
       "<tr>\n",
       "  <th>const</th>  <td>       nan</td> <td>      nan</td> <td>      nan</td> <td>   nan</td> <td>      nan</td> <td>      nan</td>\n",
       "</tr>\n",
       "<tr>\n",
       "  <th>sigma2</th> <td>       nan</td> <td>      nan</td> <td>      nan</td> <td>   nan</td> <td>      nan</td> <td>      nan</td>\n",
       "</tr>\n",
       "</table>\n",
       "<table class=\"simpletable\">\n",
       "<caption>Regime 1 parameters</caption>\n",
       "<tr>\n",
       "     <td></td>       <th>coef</th>     <th>std err</th>      <th>z</th>      <th>P>|z|</th>  <th>[0.025</th>    <th>0.975]</th>  \n",
       "</tr>\n",
       "<tr>\n",
       "  <th>const</th>  <td>       nan</td> <td>      nan</td> <td>      nan</td> <td>   nan</td> <td>      nan</td> <td>      nan</td>\n",
       "</tr>\n",
       "<tr>\n",
       "  <th>sigma2</th> <td>       nan</td> <td>      nan</td> <td>      nan</td> <td>   nan</td> <td>      nan</td> <td>      nan</td>\n",
       "</tr>\n",
       "</table>\n",
       "<table class=\"simpletable\">\n",
       "<caption>Regime transition parameters</caption>\n",
       "<tr>\n",
       "     <td></td>        <th>coef</th>     <th>std err</th>      <th>z</th>      <th>P>|z|</th>  <th>[0.025</th>    <th>0.975]</th>  \n",
       "</tr>\n",
       "<tr>\n",
       "  <th>p[0->0]</th> <td>       nan</td> <td>      nan</td> <td>      nan</td> <td>   nan</td> <td>      nan</td> <td>      nan</td>\n",
       "</tr>\n",
       "<tr>\n",
       "  <th>p[1->0]</th> <td>       nan</td> <td>      nan</td> <td>      nan</td> <td>   nan</td> <td>      nan</td> <td>      nan</td>\n",
       "</tr>\n",
       "</table><br/><br/>Warnings:<br/>[1] Covariance matrix is singular or near-singular, with condition number    nan. Standard errors may be unstable."
      ],
      "text/plain": [
       "<class 'statsmodels.iolib.summary.Summary'>\n",
       "\"\"\"\n",
       "                        Markov Switching Model Results                        \n",
       "==============================================================================\n",
       "Dep. Variable:                  ratio   No. Observations:                   47\n",
       "Model:               MarkovRegression   Log Likelihood                     nan\n",
       "Date:                Sat, 26 Mar 2022   AIC                                nan\n",
       "Time:                        14:05:01   BIC                                nan\n",
       "Sample:                             0   HQIC                               nan\n",
       "                                 - 47                                         \n",
       "Covariance Type:               approx                                         \n",
       "                             Regime 0 parameters                              \n",
       "==============================================================================\n",
       "                 coef    std err          z      P>|z|      [0.025      0.975]\n",
       "------------------------------------------------------------------------------\n",
       "const             nan        nan        nan        nan         nan         nan\n",
       "sigma2            nan        nan        nan        nan         nan         nan\n",
       "                             Regime 1 parameters                              \n",
       "==============================================================================\n",
       "                 coef    std err          z      P>|z|      [0.025      0.975]\n",
       "------------------------------------------------------------------------------\n",
       "const             nan        nan        nan        nan         nan         nan\n",
       "sigma2            nan        nan        nan        nan         nan         nan\n",
       "                         Regime transition parameters                         \n",
       "==============================================================================\n",
       "                 coef    std err          z      P>|z|      [0.025      0.975]\n",
       "------------------------------------------------------------------------------\n",
       "p[0->0]           nan        nan        nan        nan         nan         nan\n",
       "p[1->0]           nan        nan        nan        nan         nan         nan\n",
       "==============================================================================\n",
       "\n",
       "Warnings:\n",
       "[1] Covariance matrix is singular or near-singular, with condition number    nan. Standard errors may be unstable.\n",
       "\"\"\""
      ]
     },
     "execution_count": 4,
     "metadata": {},
     "output_type": "execute_result"
    }
   ],
   "source": [
    "mod = sm.tsa.MarkovRegression(df[\"ratio\"], k_regimes=2, switching_variance = True)\n",
    "res_mod = mod.fit()\n",
    "res_mod.summary()"
   ]
  },
  {
   "cell_type": "code",
   "execution_count": null,
   "metadata": {},
   "outputs": [],
   "source": [
    "mod_1 = sm.tsa.MarkovRegression(df[\"ratio\"], k_regimes=2, switching_variance = True)\n",
    "res_mod_1 = mod_1.fit()\n",
    "mod_2 = sm.tsa.MarkovRegression(df[\"ratio\"], k_regimes=3, switching_variance = True)\n",
    "res_mod_2 = mod_2.fit()\n",
    "mod_3 = sm.tsa.MarkovRegression(df[\"ratio\"], k_regimes=4, switching_variance = True)\n",
    "res_mod_3 = mod_3.fit()"
   ]
  },
  {
   "cell_type": "code",
   "execution_count": null,
   "metadata": {},
   "outputs": [],
   "source": [
    "res_mod.filtered_marginal_probabilities[1].plot(\n",
    "    title='Probability of being in high price/volatility regime', figsize=(12,2))\n",
    "plt.savefig('/Users/joe/Dropbox/PhD/Writing/TeX/Charts/nzhhmarkovprob.png', dpi=400)"
   ]
  },
  {
   "cell_type": "code",
   "execution_count": null,
   "metadata": {},
   "outputs": [],
   "source": [
    "print(res_mod.summary().as_latex())"
   ]
  },
  {
   "cell_type": "code",
   "execution_count": null,
   "metadata": {},
   "outputs": [],
   "source": [
    "## example code for latex summary_col([reg0,reg1,reg2],stars=True,float_format='%0.2f') ##"
   ]
  },
  {
   "cell_type": "code",
   "execution_count": null,
   "metadata": {},
   "outputs": [],
   "source": []
  },
  {
   "cell_type": "code",
   "execution_count": null,
   "metadata": {},
   "outputs": [],
   "source": []
  }
 ],
 "metadata": {
  "kernelspec": {
   "display_name": "Python 3",
   "language": "python",
   "name": "python3"
  },
  "language_info": {
   "codemirror_mode": {
    "name": "ipython",
    "version": 3
   },
   "file_extension": ".py",
   "mimetype": "text/x-python",
   "name": "python",
   "nbconvert_exporter": "python",
   "pygments_lexer": "ipython3",
   "version": "3.8.5"
  }
 },
 "nbformat": 4,
 "nbformat_minor": 4
}
