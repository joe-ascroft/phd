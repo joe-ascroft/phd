{
 "cells": [
  {
   "cell_type": "code",
   "execution_count": 2,
   "metadata": {},
   "outputs": [
    {
     "name": "stdout",
     "output_type": "stream",
     "text": [
      "         DATE  Price_NZ    NZ_BTU  NZ_USD_Q  NZBTU_USD        HH  nzbtuusd_r\n",
      "1  1999-06-01  2.936804  3.098492  0.537400   1.665130  2.290000    0.013934\n",
      "2  1999-09-01  2.698549  2.847121  0.521433   1.484584  2.693333   -0.108428\n",
      "3  1999-12-01  2.827617  2.983294  0.511567   1.526154  2.383333    0.028001\n",
      "4  2000-03-01  2.871244  3.029323  0.493033   1.493557  2.830000   -0.021359\n",
      "5  2000-06-01  2.719361  2.869078  0.467333   1.340816  3.956667   -0.102267\n",
      "..        ...       ...       ...       ...        ...       ...         ...\n",
      "86 2020-09-01  6.594163  6.957211  0.663333   4.614950  2.203333    0.093243\n",
      "87 2020-12-01  6.825113  7.200877  0.704467   5.072778  2.636667    0.099205\n",
      "88 2021-03-01  7.414286  7.822487  0.717100   5.609505  3.543333    0.105805\n",
      "89 2021-06-01  9.099814  9.600814  0.710567   6.822018  3.336667    0.216153\n",
      "90 2021-09-01  9.154261  9.658258  0.702267   6.782672  4.913333   -0.005767\n",
      "\n",
      "[90 rows x 7 columns]\n"
     ]
    }
   ],
   "source": [
    "import numpy as np\n",
    "import pandas as pd\n",
    "import datetime as dt\n",
    "import datapackage\n",
    "import matplotlib.pyplot as plt\n",
    "import matplotlib.dates as dates\n",
    "import statsmodels.api as sm\n",
    "import statsmodels.formula.api as smf\n",
    "import statsmodels.tsa.stattools as ts\n",
    "from statsmodels.iolib.summary2 import summary_col\n",
    "\n",
    "### STARGAZER ###\n",
    "\n",
    "from stargazer.stargazer import Stargazer, LineLocation\n",
    "\n",
    "url = 'https://raw.githubusercontent.com/joe-ascroft/phd/master/data/df_nzgas.csv'\n",
    "df = pd.read_csv(url)\n",
    "df[\"DATE\"] = pd.to_datetime(df[\"DATE\"],dayfirst=True)\n",
    "for col in df.columns[1:]:\n",
    "    df[col] = pd.to_numeric(df[col],errors='coerce')\n",
    "\n",
    "df[\"nzbtuusd_r\"] = (df[\"NZBTU_USD\"].pct_change())\n",
    "df = df.dropna()\n",
    "print(df)"
   ]
  },
  {
   "cell_type": "code",
   "execution_count": null,
   "metadata": {},
   "outputs": [],
   "source": [
    "mod = sm.tsa.MarkovRegression(df[\"nzbtuusd_r\"], k_regimes=2, switching_variance = True)\n",
    "res_mod = mod.fit()\n",
    "res_mod.summary()"
   ]
  },
  {
   "cell_type": "code",
   "execution_count": null,
   "metadata": {},
   "outputs": [],
   "source": [
    "df['ratio'] = df[\"HH\"]/df[\"NZBTU_USD\"]\n",
    "plt.plot(df['DATE'],df['ratio'],color='blue')"
   ]
  },
  {
   "cell_type": "code",
   "execution_count": null,
   "metadata": {},
   "outputs": [],
   "source": [
    "mod = sm.tsa.MarkovRegression(df[\"ratio\"], k_regimes=2, switching_variance = True)\n",
    "res_mod = mod.fit()\n",
    "res_mod.summary()"
   ]
  },
  {
   "cell_type": "code",
   "execution_count": null,
   "metadata": {},
   "outputs": [],
   "source": [
    "mod_1 = sm.tsa.MarkovRegression(df[\"ratio\"], k_regimes=2, switching_variance = True)\n",
    "res_mod_1 = mod_1.fit()\n",
    "mod_2 = sm.tsa.MarkovRegression(df[\"ratio\"], k_regimes=3, switching_variance = True)\n",
    "res_mod_2 = mod_2.fit()\n",
    "mod_3 = sm.tsa.MarkovRegression(df[\"ratio\"], k_regimes=4, switching_variance = True)\n",
    "res_mod_3 = mod_3.fit()"
   ]
  },
  {
   "cell_type": "code",
   "execution_count": null,
   "metadata": {},
   "outputs": [],
   "source": [
    "res_mod.filtered_marginal_probabilities[1].plot(\n",
    "    title='Probability of being in high price/volatility regime', figsize=(12,2))\n",
    "plt.savefig('/Users/joe/Dropbox/PhD/Writing/TeX/Charts/nzhhmarkovprob.png', dpi=400)"
   ]
  },
  {
   "cell_type": "code",
   "execution_count": null,
   "metadata": {},
   "outputs": [],
   "source": [
    "print(res_mod.summary().as_latex())"
   ]
  },
  {
   "cell_type": "code",
   "execution_count": 1,
   "metadata": {},
   "outputs": [],
   "source": [
    "## example code for latex summary_col([reg0,reg1,reg2],stars=True,float_format='%0.2f') ##"
   ]
  },
  {
   "cell_type": "code",
   "execution_count": 8,
   "metadata": {},
   "outputs": [
    {
     "ename": "ModuleNotFoundError",
     "evalue": "No module named 'statsmodels.tsa.vecm'",
     "output_type": "error",
     "traceback": [
      "\u001b[0;31m---------------------------------------------------------------------------\u001b[0m",
      "\u001b[0;31mModuleNotFoundError\u001b[0m                       Traceback (most recent call last)",
      "\u001b[0;32m<ipython-input-8-bea8afe4ac62>\u001b[0m in \u001b[0;36m<module>\u001b[0;34m\u001b[0m\n\u001b[0;32m----> 1\u001b[0;31m \u001b[0;32mimport\u001b[0m \u001b[0mstatsmodels\u001b[0m\u001b[0;34m.\u001b[0m\u001b[0mtsa\u001b[0m\u001b[0;34m.\u001b[0m\u001b[0mvecm\u001b[0m\u001b[0;34m.\u001b[0m\u001b[0mvecm\u001b[0m \u001b[0;32mas\u001b[0m \u001b[0mvecm\u001b[0m\u001b[0;34m\u001b[0m\u001b[0;34m\u001b[0m\u001b[0m\n\u001b[0m\u001b[1;32m      2\u001b[0m \u001b[0mdata\u001b[0m \u001b[0;34m=\u001b[0m \u001b[0mdf\u001b[0m\u001b[0;34m[\u001b[0m\u001b[0;34m[\u001b[0m\u001b[0mdf\u001b[0m\u001b[0;34m[\u001b[0m\u001b[0;34m\"NZBTU-USD\"\u001b[0m\u001b[0;34m]\u001b[0m\u001b[0;34m,\u001b[0m\u001b[0mdf\u001b[0m\u001b[0;34m[\u001b[0m\u001b[0;34m\"HH\"\u001b[0m\u001b[0;34m]\u001b[0m\u001b[0;34m]\u001b[0m\u001b[0;34m]\u001b[0m\u001b[0;34m\u001b[0m\u001b[0;34m\u001b[0m\u001b[0m\n\u001b[1;32m      3\u001b[0m \u001b[0mvecm\u001b[0m\u001b[0;34m.\u001b[0m\u001b[0mlag_order\u001b[0m \u001b[0;34m=\u001b[0m \u001b[0mselect_order\u001b[0m\u001b[0;34m(\u001b[0m\u001b[0mdata\u001b[0m\u001b[0;34m=\u001b[0m\u001b[0mdata\u001b[0m\u001b[0;34m,\u001b[0m \u001b[0mmaxlags\u001b[0m\u001b[0;34m=\u001b[0m\u001b[0;36m10\u001b[0m\u001b[0;34m,\u001b[0m \u001b[0mdeterministic\u001b[0m\u001b[0;34m=\u001b[0m\u001b[0;34m\"ci\"\u001b[0m\u001b[0;34m)\u001b[0m\u001b[0;34m\u001b[0m\u001b[0;34m\u001b[0m\u001b[0m\n",
      "\u001b[0;31mModuleNotFoundError\u001b[0m: No module named 'statsmodels.tsa.vecm'"
     ]
    }
   ],
   "source": []
  },
  {
   "cell_type": "code",
   "execution_count": null,
   "metadata": {},
   "outputs": [],
   "source": []
  }
 ],
 "metadata": {
  "kernelspec": {
   "display_name": "Python 3",
   "language": "python",
   "name": "python3"
  },
  "language_info": {
   "codemirror_mode": {
    "name": "ipython",
    "version": 3
   },
   "file_extension": ".py",
   "mimetype": "text/x-python",
   "name": "python",
   "nbconvert_exporter": "python",
   "pygments_lexer": "ipython3",
   "version": "3.8.5"
  }
 },
 "nbformat": 4,
 "nbformat_minor": 4
}
