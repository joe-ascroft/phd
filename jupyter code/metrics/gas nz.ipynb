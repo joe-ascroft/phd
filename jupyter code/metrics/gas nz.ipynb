{
 "cells": [
  {
   "cell_type": "code",
   "execution_count": 4,
   "metadata": {},
   "outputs": [
    {
     "name": "stdout",
     "output_type": "stream",
     "text": [
      "      DATE  Price_NZ    NZ_BTU  NZ_USD_Q  NZBTU_USD        HH\n",
      "0   Mar-99  2.885704  3.044580  0.539400   1.642246  1.903333\n",
      "1   Jun-99  2.936804  3.098492  0.537400   1.665130  2.290000\n",
      "2   Sep-99  2.698549  2.847121  0.521433   1.484584  2.693333\n",
      "3   Dec-99  2.827617  2.983294  0.511567   1.526154  2.383333\n",
      "4   Mar-00  2.871244  3.029323  0.493033   1.493557  2.830000\n",
      "..     ...       ...       ...       ...        ...       ...\n",
      "86  Sep-20  6.594163  6.957211  0.663333   4.614950  2.203333\n",
      "87  Dec-20  6.825113  7.200877  0.704467   5.072778  2.636667\n",
      "88  Mar-21  7.414286  7.822487  0.717100   5.609505  3.543333\n",
      "89  Jun-21  9.099814  9.600814  0.710567   6.822018  3.336667\n",
      "90  Sep-21  9.154261  9.658258  0.702267   6.782672  4.913333\n",
      "\n",
      "[91 rows x 6 columns]\n"
     ]
    }
   ],
   "source": [
    "import numpy as np\n",
    "import pandas as pd\n",
    "import datetime as dt\n",
    "import datapackage\n",
    "import matplotlib.pyplot as plt\n",
    "import matplotlib.dates as dates\n",
    "import statsmodels.api as sm\n",
    "import statsmodels.formula.api as smf\n",
    "\n",
    "url = 'https://raw.githubusercontent.com/joe-ascroft/phd/master/data/df_nzgas.csv'\n",
    "df = pd.read_csv(url)\n",
    "df[\"DATE\"] = pd.to_datetime(df[\"DATE\"],dayfirst=True)\n",
    "\n",
    "print(df)"
   ]
  },
  {
   "cell_type": "code",
   "execution_count": null,
   "metadata": {},
   "outputs": [],
   "source": [
    "result = smf.ols(formula=\"HH ~ NZBTU_USD\", data=df).fit()\n",
    "print(result.summary())"
   ]
  },
  {
   "cell_type": "code",
   "execution_count": null,
   "metadata": {},
   "outputs": [],
   "source": []
  }
 ],
 "metadata": {
  "kernelspec": {
   "display_name": "Python 3",
   "language": "python",
   "name": "python3"
  },
  "language_info": {
   "codemirror_mode": {
    "name": "ipython",
    "version": 3
   },
   "file_extension": ".py",
   "mimetype": "text/x-python",
   "name": "python",
   "nbconvert_exporter": "python",
   "pygments_lexer": "ipython3",
   "version": "3.8.5"
  }
 },
 "nbformat": 4,
 "nbformat_minor": 4
}
