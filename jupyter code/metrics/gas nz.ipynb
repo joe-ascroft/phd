{
 "cells": [
  {
   "cell_type": "code",
   "execution_count": null,
   "metadata": {},
   "outputs": [],
   "source": [
    "import numpy as np\n",
    "import pandas as pd\n",
    "import datetime as dt\n",
    "import datapackage\n",
    "import matplotlib.pyplot as plt\n",
    "import matplotlib.dates as dates\n",
    "import statsmodels.api as sm\n",
    "import statsmodels.formula.api as smf\n",
    "import statsmodels.tsa.stattools as ts\n",
    "\n",
    "### STARGAZER ###\n",
    "\n",
    "from stargazer.stargazer import Stargazer, LineLocation\n",
    "\n",
    "url = 'https://raw.githubusercontent.com/joe-ascroft/phd/master/data/df_nzgas.csv'\n",
    "df = pd.read_csv(url)\n",
    "df[\"DATE\"] = pd.to_datetime(df[\"DATE\"],dayfirst=True)\n",
    "for col in df.columns[1:]:\n",
    "    df[col] = pd.to_numeric(df[col],errors='coerce')\n",
    "\n",
    "df2 = df[(df['DATE'] >= '2009-3-1') & (df['DATE'] <= '2022-6-10')]\n",
    "\n",
    "df3 = df[(df['DATE'] < '2009-3-1')]\n",
    "\n",
    "print(df)"
   ]
  },
  {
   "cell_type": "code",
   "execution_count": null,
   "metadata": {},
   "outputs": [],
   "source": [
    "fig = plt.gcf()\n",
    "fig.set_size_inches(11.5, 6.5)\n",
    "plt.plot(df['DATE'],df['HH'],color='blue')\n",
    "plt.plot(df['DATE'],df['NZBTU_USD'],color='red')\n",
    "plt.xlabel('Date', fontsize=12)\n",
    "plt.ylabel('Nominal USD', fontsize=12)\n",
    "plt.legend([\"Henry Hub Front Month\", \"New Zealand Wholesale Gas\"], loc =\"upper right\")\n",
    "plt.grid(color=\"black\")\n",
    "\n",
    "plt.savefig('/Users/joe/Dropbox/PhD/Writing/TeX/Charts/}nz-us-gas.png', dpi=400)"
   ]
  },
  {
   "cell_type": "code",
   "execution_count": null,
   "metadata": {},
   "outputs": [],
   "source": [
    "result1 = smf.ols(formula=\"NZBTU_USD ~ HH\", data=df).fit()\n",
    "print(result1.summary())\n",
    "plt.plot(result1.resid)"
   ]
  },
  {
   "cell_type": "code",
   "execution_count": null,
   "metadata": {},
   "outputs": [],
   "source": [
    "test = ts.adfuller(result1.resid,autolag=\"AIC\")\n",
    "print(test)\n",
    "\n",
    "result = ts.coint(df['HH'],df['NZBTU_USD'])\n",
    "print(result)"
   ]
  },
  {
   "cell_type": "code",
   "execution_count": null,
   "metadata": {},
   "outputs": [],
   "source": [
    "test1 = ts.adfuller(df2['HH'],autolag=\"AIC\")\n",
    "print(test1)\n",
    "test2 = ts.adfuller(df2['NZBTU_USD'],autolag=\"AIC\")\n",
    "print(test2)\n",
    "\n",
    "\n",
    "fig = plt.gcf()\n",
    "fig.set_size_inches(18.5, 10.5)\n",
    "plt.plot(df2['DATE'],df2['HH'],color='blue')\n",
    "plt.plot(df2['DATE'],df2['NZBTU_USD'],color='red')\n",
    "plt.grid(color=\"black\")"
   ]
  },
  {
   "cell_type": "code",
   "execution_count": null,
   "metadata": {},
   "outputs": [],
   "source": [
    "result2 = smf.ols(formula=\"NZBTU_USD ~ HH\", data=df2).fit()\n",
    "print(result2.summary())\n",
    "plt.plot(df2[\"DATE\"],result2.resid)\n",
    "\n",
    "\n",
    "test = ts.adfuller(result2.resid,autolag=\"AIC\")\n",
    "print(test)\n",
    "\n",
    "result = ts.coint(df2['HH'],df2['NZBTU_USD'])\n",
    "print(result)"
   ]
  },
  {
   "cell_type": "code",
   "execution_count": null,
   "metadata": {},
   "outputs": [],
   "source": [
    "result_switch = smf.ols(formula=\"HH ~ NZBTU_USD\", data=df2).fit()\n",
    "print(result_switch.summary())\n",
    "plt.plot(df2[\"DATE\"],result_switch.resid)\n",
    "\n",
    "test = ts.adfuller(result.resid,autolag=\"AIC\")\n",
    "print(test)"
   ]
  },
  {
   "cell_type": "code",
   "execution_count": null,
   "metadata": {},
   "outputs": [],
   "source": [
    "test1 = ts.adfuller(df3['HH'],autolag=\"AIC\")\n",
    "print(test1)\n",
    "test2 = ts.adfuller(df3['NZBTU_USD'],autolag=\"AIC\")\n",
    "print(test2)\n",
    "\n",
    "\n",
    "fig = plt.gcf()\n",
    "fig.set_size_inches(18.5, 10.5)\n",
    "plt.plot(df3['DATE'],df3['HH'],color='blue')\n",
    "plt.plot(df3['DATE'],df3['NZBTU_USD'],color='red')\n",
    "plt.grid(color=\"black\")"
   ]
  },
  {
   "cell_type": "code",
   "execution_count": null,
   "metadata": {},
   "outputs": [],
   "source": [
    "result3 = smf.ols(formula=\"NZBTU_USD ~ HH\", data=df3).fit()\n",
    "print(result3.summary())\n",
    "plt.plot(df3[\"DATE\"],result3.resid)\n",
    "\n",
    "test = ts.adfuller(result3.resid,autolag=\"AIC\")\n",
    "print(test)"
   ]
  },
  {
   "cell_type": "code",
   "execution_count": null,
   "metadata": {},
   "outputs": [],
   "source": [
    "df['ratio'] = df[\"HH\"]/df[\"NZBTU_USD\"]\n",
    "plt.plot(df['DATE'],df['ratio'],color='blue')"
   ]
  },
  {
   "cell_type": "code",
   "execution_count": null,
   "metadata": {},
   "outputs": [],
   "source": [
    "mod = sm.tsa.MarkovRegression(df['ratio'].iloc[1:], k_regimes=2, order=1, switching_variance=True)\n",
    "res_mod = mod.fit()\n",
    "res_mod.summary()"
   ]
  },
  {
   "cell_type": "code",
   "execution_count": null,
   "metadata": {},
   "outputs": [],
   "source": [
    "res_mod.filtered_marginal_probabilities[1].plot(\n",
    "    title='Probability of being in high price/volatility regime', figsize=(12,2))"
   ]
  },
  {
   "cell_type": "code",
   "execution_count": null,
   "metadata": {},
   "outputs": [],
   "source": [
    "fig = plt.gcf()\n",
    "fig.set_size_inches(10.5, 8)\n",
    "plt.plot(df['DATE'],df['NZ_BTU'],color='green')\n",
    "fig.suptitle('Quarterly New Zealand Natural Gas Prices',fontsize=18)\n",
    "plt.xlabel('Date', fontsize=12)\n",
    "plt.ylabel('NZD/BTU', fontsize=12)\n",
    "plt.grid(color=\"black\")\n",
    "\n",
    "plt.savefig('C:/Users/User/Dropbox/PhD/Writing/TeX/Charts/nzbtu.png', dpi=400)"
   ]
  },
  {
   "cell_type": "code",
   "execution_count": null,
   "metadata": {},
   "outputs": [],
   "source": [
    "star = Stargazer([result1,result2,result3])\n",
    "print(star.render_latex())"
   ]
  },
  {
   "cell_type": "code",
   "execution_count": null,
   "metadata": {},
   "outputs": [],
   "source": [
    "fig = plt.gcf()\n",
    "fig.set_size_inches(11.5, 6.5)\n",
    "plt.plot(df['DATE'],df['NBP_USD'],color='blue')\n",
    "plt.plot(df['DATE'],df['NZBTU_USD'],color='red')\n",
    "plt.xlabel('Date', fontsize=12)\n",
    "plt.ylabel('Nominal USD', fontsize=12)\n",
    "plt.legend([\"NBP Front Month\", \"New Zealand Wholesale Gas\"], loc =\"upper right\")\n",
    "plt.grid(color=\"black\")\n",
    "\n",
    "plt.savefig('/Users/joe/Dropbox/PhD/Writing/TeX/Charts/}nz-uk-gas.png', dpi=400)"
   ]
  },
  {
   "cell_type": "code",
   "execution_count": null,
   "metadata": {},
   "outputs": [],
   "source": [
    "result_nbp = smf.ols(formula=\"NZBTU_USD ~ NBP_USD\", data=df).fit()\n",
    "print(result_nbp.summary())\n",
    "plt.plot(result_nbp.resid)\n",
    "test = ts.adfuller(result_nbp.resid,autolag=\"AIC\")\n",
    "print(test)"
   ]
  },
  {
   "cell_type": "code",
   "execution_count": null,
   "metadata": {},
   "outputs": [],
   "source": [
    "result = ts.coint(df['NZ_BTU'],df['NBP_USD'])\n",
    "print(result)"
   ]
  },
  {
   "cell_type": "code",
   "execution_count": null,
   "metadata": {},
   "outputs": [],
   "source": [
    "star = Stargazer([result_nbp])\n",
    "print(star.render_latex())"
   ]
  },
  {
   "cell_type": "code",
   "execution_count": null,
   "metadata": {},
   "outputs": [],
   "source": [
    "result2_nbp = smf.ols(formula=\"NZBTU_USD ~ NBP_USD\", data=df2).fit()\n",
    "plt.plot(result2_nbp.resid)\n",
    "test2 = ts.adfuller(result2_nbp.resid,autolag=\"AIC\")\n",
    "print(test2)"
   ]
  },
  {
   "cell_type": "code",
   "execution_count": null,
   "metadata": {},
   "outputs": [],
   "source": [
    "star = Stargazer([result_nbp, result2_nbp, result3_nbp ])\n",
    "print(star.render_latex())"
   ]
  },
  {
   "cell_type": "code",
   "execution_count": null,
   "metadata": {},
   "outputs": [],
   "source": [
    "result3_nbp = smf.ols(formula=\"NZBTU_USD ~ NBP_USD\", data=df3).fit()\n",
    "plt.plot(result3_nbp.resid)\n",
    "test3 = ts.adfuller(result3_nbp.resid,autolag=\"AIC\")\n",
    "print(test3)"
   ]
  },
  {
   "cell_type": "code",
   "execution_count": null,
   "metadata": {},
   "outputs": [],
   "source": []
  }
 ],
 "metadata": {
  "kernelspec": {
   "display_name": "Python 3",
   "language": "python",
   "name": "python3"
  },
  "language_info": {
   "codemirror_mode": {
    "name": "ipython",
    "version": 3
   },
   "file_extension": ".py",
   "mimetype": "text/x-python",
   "name": "python",
   "nbconvert_exporter": "python",
   "pygments_lexer": "ipython3",
   "version": "3.8.5"
  }
 },
 "nbformat": 4,
 "nbformat_minor": 4
}
