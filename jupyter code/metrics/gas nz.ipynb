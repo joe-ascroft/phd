{
 "cells": [
  {
   "cell_type": "code",
   "execution_count": 2,
   "metadata": {},
   "outputs": [
    {
     "name": "stdout",
     "output_type": "stream",
     "text": [
      "         DATE  Price_NZ    NZ_BTU  NZ_USD_Q  NZBTU_USD        HH    NBP-raw  \\\n",
      "0  1999-03-01  2.885704  3.044580  0.539400   1.642246  1.903333   9.825882   \n",
      "1  1999-06-01  2.936804  3.098492  0.537400   1.665130  2.290000   9.510690   \n",
      "2  1999-09-01  2.698549  2.847121  0.521433   1.484584  2.693333   9.767143   \n",
      "3  1999-12-01  2.827617  2.983294  0.511567   1.526154  2.383333  10.796316   \n",
      "4  2000-03-01  2.871244  3.029323  0.493033   1.493557  2.830000  14.691452   \n",
      "..        ...       ...       ...       ...        ...       ...        ...   \n",
      "86 2020-09-01  6.594163  6.957211  0.663333   4.614950  2.203333  23.882985   \n",
      "87 2020-12-01  6.825113  7.200877  0.704467   5.072778  2.636667  36.814286   \n",
      "88 2021-03-01  7.414286  7.822487  0.717100   5.609505  3.543333  49.338936   \n",
      "89 2021-06-01  9.099814  9.600814  0.710567   6.822018  3.336667  60.539615   \n",
      "90 2021-09-01  9.154261  9.658258  0.702267   6.782672  4.913333  54.578462   \n",
      "\n",
      "     NBP-USD  \n",
      "0   1.605058  \n",
      "1   1.528368  \n",
      "2   1.564794  \n",
      "3   1.760447  \n",
      "4   2.360476  \n",
      "..       ...  \n",
      "86  3.084249  \n",
      "87  4.860958  \n",
      "88  6.804333  \n",
      "89  8.467676  \n",
      "90  7.520366  \n",
      "\n",
      "[91 rows x 8 columns]\n"
     ]
    }
   ],
   "source": [
    "import numpy as np\n",
    "import pandas as pd\n",
    "import datetime as dt\n",
    "import datapackage\n",
    "import matplotlib.pyplot as plt\n",
    "import matplotlib.dates as dates\n",
    "import statsmodels.api as sm\n",
    "import statsmodels.formula.api as smf\n",
    "import statsmodels.tsa.stattools as ts\n",
    "\n",
    "### STARGAZER ###\n",
    "\n",
    "from stargazer.stargazer import Stargazer, LineLocation\n",
    "\n",
    "url = 'https://raw.githubusercontent.com/joe-ascroft/phd/master/data/df_nzgas.csv'\n",
    "df = pd.read_csv(url)\n",
    "df[\"DATE\"] = pd.to_datetime(df[\"DATE\"],dayfirst=True)\n",
    "for col in df.columns[1:]:\n",
    "    df[col] = pd.to_numeric(df[col],errors='coerce')\n",
    "\n",
    "df2 = df[(df['DATE'] >= '2009-3-1') & (df['DATE'] <= '2022-6-10')]\n",
    "\n",
    "df3 = df[(df['DATE'] < '2009-3-1')]\n",
    "\n",
    "print(df)"
   ]
  },
  {
   "cell_type": "code",
   "execution_count": null,
   "metadata": {},
   "outputs": [],
   "source": [
    "fig = plt.gcf()\n",
    "fig.set_size_inches(11.5, 6.5)\n",
    "plt.plot(df['DATE'],df['HH'],color='blue')\n",
    "plt.plot(df['DATE'],df['NZBTU_USD'],color='red')\n",
    "plt.xlabel('Date', fontsize=12)\n",
    "plt.ylabel('Nominal USD', fontsize=12)\n",
    "plt.legend([\"Henry Hub Front Month\", \"New Zealand Wholesale Gas\"], loc =\"upper right\")\n",
    "plt.grid(color=\"black\")\n",
    "\n",
    "plt.savefig('/Users/joe/Dropbox/PhD/Writing/TeX/Charts/}nz-us-gas.png', dpi=400)"
   ]
  },
  {
   "cell_type": "code",
   "execution_count": null,
   "metadata": {},
   "outputs": [],
   "source": [
    "result1 = smf.ols(formula=\"NZBTU_USD ~ HH\", data=df).fit()\n",
    "print(result1.summary())\n",
    "plt.plot(result1.resid)"
   ]
  },
  {
   "cell_type": "code",
   "execution_count": null,
   "metadata": {},
   "outputs": [],
   "source": [
    "test = ts.adfuller(result1.resid,autolag=\"AIC\")\n",
    "print(test)\n",
    "\n",
    "result = ts.coint(df['HH'],df['NZBTU_USD'])\n",
    "print(result)"
   ]
  },
  {
   "cell_type": "code",
   "execution_count": null,
   "metadata": {},
   "outputs": [],
   "source": [
    "test1 = ts.adfuller(df2['HH'],autolag=\"AIC\")\n",
    "print(test1)\n",
    "test2 = ts.adfuller(df2['NZBTU_USD'],autolag=\"AIC\")\n",
    "print(test2)\n",
    "\n",
    "\n",
    "fig = plt.gcf()\n",
    "fig.set_size_inches(18.5, 10.5)\n",
    "plt.plot(df2['DATE'],df2['HH'],color='blue')\n",
    "plt.plot(df2['DATE'],df2['NZBTU_USD'],color='red')\n",
    "plt.grid(color=\"black\")"
   ]
  },
  {
   "cell_type": "code",
   "execution_count": null,
   "metadata": {},
   "outputs": [],
   "source": [
    "result2 = smf.ols(formula=\"NZBTU_USD ~ HH\", data=df2).fit()\n",
    "print(result2.summary())\n",
    "plt.plot(df2[\"DATE\"],result2.resid)\n",
    "\n",
    "\n",
    "test = ts.adfuller(result2.resid,autolag=\"AIC\")\n",
    "print(test)\n",
    "\n",
    "result = ts.coint(df2['HH'],df2['NZBTU_USD'])\n",
    "print(result)"
   ]
  },
  {
   "cell_type": "code",
   "execution_count": null,
   "metadata": {},
   "outputs": [],
   "source": [
    "result_switch = smf.ols(formula=\"HH ~ NZBTU_USD\", data=df2).fit()\n",
    "print(result_switch.summary())\n",
    "plt.plot(df2[\"DATE\"],result_switch.resid)\n",
    "\n",
    "test = ts.adfuller(result.resid,autolag=\"AIC\")\n",
    "print(test)"
   ]
  },
  {
   "cell_type": "code",
   "execution_count": null,
   "metadata": {},
   "outputs": [],
   "source": [
    "test1 = ts.adfuller(df3['HH'],autolag=\"AIC\")\n",
    "print(test1)\n",
    "test2 = ts.adfuller(df3['NZBTU_USD'],autolag=\"AIC\")\n",
    "print(test2)\n",
    "\n",
    "\n",
    "fig = plt.gcf()\n",
    "fig.set_size_inches(18.5, 10.5)\n",
    "plt.plot(df3['DATE'],df3['HH'],color='blue')\n",
    "plt.plot(df3['DATE'],df3['NZBTU_USD'],color='red')\n",
    "plt.grid(color=\"black\")"
   ]
  },
  {
   "cell_type": "code",
   "execution_count": null,
   "metadata": {},
   "outputs": [],
   "source": [
    "result3 = smf.ols(formula=\"NZBTU_USD ~ HH\", data=df3).fit()\n",
    "print(result3.summary())\n",
    "plt.plot(df3[\"DATE\"],result3.resid)\n",
    "\n",
    "test = ts.adfuller(result3.resid,autolag=\"AIC\")\n",
    "print(test)"
   ]
  },
  {
   "cell_type": "code",
   "execution_count": null,
   "metadata": {},
   "outputs": [],
   "source": [
    "df['ratio'] = df[\"HH\"]/df[\"NZBTU_USD\"]\n",
    "plt.plot(df['DATE'],df['ratio'],color='blue')"
   ]
  },
  {
   "cell_type": "code",
   "execution_count": null,
   "metadata": {},
   "outputs": [],
   "source": [
    "mod = sm.tsa.MarkovRegression(df['ratio'].iloc[1:], k_regimes=2, order=1, switching_variance=True)\n",
    "res_mod = mod.fit()\n",
    "res_mod.summary()"
   ]
  },
  {
   "cell_type": "code",
   "execution_count": null,
   "metadata": {},
   "outputs": [],
   "source": [
    "res_mod.filtered_marginal_probabilities[1].plot(\n",
    "    title='Probability of being in high price/volatility regime', figsize=(12,2))"
   ]
  },
  {
   "cell_type": "code",
   "execution_count": null,
   "metadata": {},
   "outputs": [],
   "source": [
    "fig = plt.gcf()\n",
    "fig.set_size_inches(10.5, 8)\n",
    "plt.plot(df['DATE'],df['NZ_BTU'],color='green')\n",
    "fig.suptitle('Quarterly New Zealand Natural Gas Prices',fontsize=18)\n",
    "plt.xlabel('Date', fontsize=12)\n",
    "plt.ylabel('NZD/BTU', fontsize=12)\n",
    "plt.grid(color=\"black\")\n",
    "\n",
    "plt.savefig('C:/Users/User/Dropbox/PhD/Writing/TeX/Charts/nzbtu.png', dpi=400)"
   ]
  },
  {
   "cell_type": "code",
   "execution_count": null,
   "metadata": {},
   "outputs": [],
   "source": [
    "star = Stargazer([result1,result2,result3])\n",
    "print(star.render_latex())"
   ]
  },
  {
   "cell_type": "code",
   "execution_count": 3,
   "metadata": {},
   "outputs": [
    {
     "data": {
      "image/png": "[encoded data removed]",
      "text/plain": [
       "<Figure size 828x468 with 1 Axes>"
      ]
     },
     "metadata": {
      "needs_background": "light"
     },
     "output_type": "display_data"
    }
   ],
   "source": [
    "fig = plt.gcf()\n",
    "fig.set_size_inches(11.5, 6.5)\n",
    "plt.plot(df['DATE'],df['NBP-USD'],color='blue')\n",
    "plt.plot(df['DATE'],df['NZBTU_USD'],color='red')\n",
    "plt.xlabel('Date', fontsize=12)\n",
    "plt.ylabel('Nominal USD', fontsize=12)\n",
    "plt.legend([\"NBP Front Month\", \"New Zealand Wholesale Gas\"], loc =\"upper right\")\n",
    "plt.grid(color=\"black\")\n",
    "\n",
    "plt.savefig('/Users/joe/Dropbox/PhD/Writing/TeX/Charts/}nz-uk-gas.png', dpi=400)"
   ]
  },
  {
   "cell_type": "code",
   "execution_count": null,
   "metadata": {},
   "outputs": [],
   "source": []
  },
  {
   "cell_type": "code",
   "execution_count": null,
   "metadata": {},
   "outputs": [],
   "source": []
  }
 ],
 "metadata": {
  "kernelspec": {
   "display_name": "Python 3",
   "language": "python",
   "name": "python3"
  },
  "language_info": {
   "codemirror_mode": {
    "name": "ipython",
    "version": 3
   },
   "file_extension": ".py",
   "mimetype": "text/x-python",
   "name": "python",
   "nbconvert_exporter": "python",
   "pygments_lexer": "ipython3",
   "version": "3.8.5"
  }
 },
 "nbformat": 4,
 "nbformat_minor": 4
}
