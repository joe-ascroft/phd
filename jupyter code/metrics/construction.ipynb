{
 "cells": [
  {
   "cell_type": "code",
   "execution_count": 1,
   "metadata": {},
   "outputs": [],
   "source": [
    "import numpy as np\n",
    "import pandas as pd\n",
    "import datetime as dt\n",
    "import datapackage\n",
    "import matplotlib.pyplot as plt\n",
    "import matplotlib.dates as dates\n",
    "import statsmodels.api as sm\n",
    "import statsmodels.tsa.vector_ar.vecm as vecm\n",
    "import statsmodels.formula.api as smf\n",
    "import statsmodels.tsa.stattools as ts\n",
    "\n",
    "## testing armington elastcities UK gas market ##\n",
    "\n",
    "url = 'https://raw.githubusercontent.com/joe-ascroft/phd/master/data/CPI_CCCI_test.csv'\n",
    "df = pd.read_csv(url)\n",
    "df[\"Date\"] = pd.to_datetime(df[\"Date\"],dayfirst=True)\n",
    "for col in df.columns[1:]:\n",
    "    df[col] = pd.to_numeric(df[col],errors='coerce')\n",
    "\n",
    "\n",
    "df2 = df[(df['Date'] < '2021-3-1')]"
   ]
  },
  {
   "cell_type": "code",
   "execution_count": 2,
   "metadata": {},
   "outputs": [
    {
     "name": "stdout",
     "output_type": "stream",
     "text": [
      "         Date   CPI  CCCI  Maint  Serv\n",
      "0  2013-12-01  1.10   0.8   0.73  1.62\n",
      "1  2014-03-01  1.24   0.4  -0.32  1.52\n",
      "2  2014-06-01  1.22   0.5   0.72 -0.15\n",
      "3  2014-09-01  1.13   1.2   0.64  1.05\n",
      "4  2014-12-01  1.72   0.6   0.16  0.22\n",
      "5  2015-03-01  0.81   0.8  -0.24  0.74\n",
      "6  2015-06-01  1.53   0.6   0.63  0.37\n",
      "7  2015-09-01  1.36   1.0   0.39  0.44\n",
      "8  2015-12-01  1.20   0.5   0.94  0.44\n",
      "9  2016-03-01  0.84   0.8  -0.23  1.38\n",
      "10 2016-06-01  2.08   0.3   1.64  0.64\n",
      "11 2016-09-01  2.04   0.7   0.54  0.64\n",
      "12 2016-12-01  1.40   0.9   0.08  0.71\n",
      "13 2017-03-01  0.99   1.7   0.23  0.63\n",
      "14 2017-06-01  1.82   1.9   0.76  0.77\n",
      "15 2017-09-01  1.09   1.8   0.53  1.25\n",
      "16 2017-12-01  1.30   1.1  -0.72  1.63\n",
      "17 2018-03-01  0.39   1.1   0.30  1.55\n",
      "18 2018-06-01  1.07   1.0   0.50  0.57\n",
      "19 2018-09-01  1.25   1.1   1.09  0.57\n",
      "20 2018-12-01  0.86   1.3   0.29  0.76\n",
      "21 2019-03-01  0.66   1.3  -0.98  0.75\n",
      "22 2019-06-01  0.66   0.6   1.39  0.56\n",
      "23 2019-09-01  0.56   1.0   1.17  1.02\n",
      "24 2019-12-01  0.46   0.9   0.00  0.73\n",
      "25 2020-03-01  1.01   1.0  -0.29  1.09\n",
      "26 2020-06-01  0.73   1.0   1.36  0.99\n",
      "27 2020-09-01  0.27   0.6   0.48  0.54\n",
      "28 2020-12-01  1.26   0.4  -0.19  0.53\n"
     ]
    }
   ],
   "source": [
    "print(df2)"
   ]
  },
  {
   "cell_type": "code",
   "execution_count": 5,
   "metadata": {},
   "outputs": [
    {
     "name": "stdout",
     "output_type": "stream",
     "text": [
      "                            OLS Regression Results                            \n",
      "==============================================================================\n",
      "Dep. Variable:                   Serv   R-squared:                       0.069\n",
      "Model:                            OLS   Adj. R-squared:                  0.034\n",
      "Method:                 Least Squares   F-statistic:                     1.988\n",
      "Date:                Sun, 16 Oct 2022   Prob (F-statistic):              0.170\n",
      "Time:                        17:08:16   Log-Likelihood:                -15.465\n",
      "No. Observations:                  29   AIC:                             34.93\n",
      "Df Residuals:                      27   BIC:                             37.66\n",
      "Df Model:                           1                                         \n",
      "Covariance Type:            nonrobust                                         \n",
      "==============================================================================\n",
      "                 coef    std err          t      P>|t|      [0.025      0.975]\n",
      "------------------------------------------------------------------------------\n",
      "Intercept      0.5523      0.201      2.750      0.011       0.140       0.964\n",
      "CCCI           0.2804      0.199      1.410      0.170      -0.128       0.689\n",
      "==============================================================================\n",
      "Omnibus:                        2.476   Durbin-Watson:                   1.584\n",
      "Prob(Omnibus):                  0.290   Jarque-Bera (JB):                1.879\n",
      "Skew:                           0.621   Prob(JB):                        0.391\n",
      "Kurtosis:                       2.882   Cond. No.                         4.86\n",
      "==============================================================================\n",
      "\n",
      "Notes:\n",
      "[1] Standard Errors assume that the covariance matrix of the errors is correctly specified.\n"
     ]
    },
    {
     "data": {
      "text/plain": [
       "[<matplotlib.lines.Line2D at 0x7fa570041520>]"
      ]
     },
     "execution_count": 5,
     "metadata": {},
     "output_type": "execute_result"
    },
    {
     "data": {
      "image/png": "[encoded data removed]",
      "text/plain": [
       "<Figure size 432x288 with 1 Axes>"
      ]
     },
     "metadata": {
      "needs_background": "light"
     },
     "output_type": "display_data"
    }
   ],
   "source": [
    "result1 = smf.ols(formula=\"Serv ~ CCCI\", data=df2).fit()\n",
    "print(result1.summary())\n",
    "plt.plot(result1.resid)"
   ]
  },
  {
   "cell_type": "code",
   "execution_count": null,
   "metadata": {},
   "outputs": [],
   "source": [
    "test = ts.adfuller(result1.resid,autolag=\"AIC\")\n",
    "print(test)"
   ]
  },
  {
   "cell_type": "code",
   "execution_count": 6,
   "metadata": {},
   "outputs": [
    {
     "name": "stdout",
     "output_type": "stream",
     "text": [
      "{'aic': 3, 'bic': 0, 'hqic': 0, 'fpe': 0}\n"
     ]
    }
   ],
   "source": [
    "lag_order1 = vecm.select_order(data=df2[['CPI', 'CCCI']], maxlags=5, deterministic=\"ci\")\n",
    "print(lag_order1.selected_orders)"
   ]
  },
  {
   "cell_type": "code",
   "execution_count": 13,
   "metadata": {},
   "outputs": [
    {
     "data": {
      "text/html": [
       "<table class=\"simpletable\">\n",
       "<caption>Det. terms outside the coint. relation & lagged endog. parameters for equation CPI</caption>\n",
       "<tr>\n",
       "     <td></td>        <th>coef</th>     <th>std err</th>      <th>z</th>      <th>P>|z|</th>  <th>[0.025</th>    <th>0.975]</th>  \n",
       "</tr>\n",
       "<tr>\n",
       "  <th>L1.CPI</th>  <td>   -0.1116</td> <td>    0.186</td> <td>   -0.601</td> <td> 0.548</td> <td>   -0.476</td> <td>    0.253</td>\n",
       "</tr>\n",
       "<tr>\n",
       "  <th>L1.CCCI</th> <td>    0.6130</td> <td>    0.234</td> <td>    2.615</td> <td> 0.009</td> <td>    0.154</td> <td>    1.072</td>\n",
       "</tr>\n",
       "</table>\n",
       "<table class=\"simpletable\">\n",
       "<caption>Det. terms outside the coint. relation & lagged endog. parameters for equation CCCI</caption>\n",
       "<tr>\n",
       "     <td></td>        <th>coef</th>     <th>std err</th>      <th>z</th>      <th>P>|z|</th>  <th>[0.025</th>    <th>0.975]</th>  \n",
       "</tr>\n",
       "<tr>\n",
       "  <th>L1.CPI</th>  <td>    0.1989</td> <td>    0.165</td> <td>    1.202</td> <td> 0.229</td> <td>   -0.125</td> <td>    0.523</td>\n",
       "</tr>\n",
       "<tr>\n",
       "  <th>L1.CCCI</th> <td>   -0.1760</td> <td>    0.209</td> <td>   -0.843</td> <td> 0.399</td> <td>   -0.585</td> <td>    0.233</td>\n",
       "</tr>\n",
       "</table>\n",
       "<table class=\"simpletable\">\n",
       "<caption>Loading coefficients (alpha) for equation CPI</caption>\n",
       "<tr>\n",
       "   <td></td>      <th>coef</th>     <th>std err</th>      <th>z</th>      <th>P>|z|</th>  <th>[0.025</th>    <th>0.975]</th>  \n",
       "</tr>\n",
       "<tr>\n",
       "  <th>ec1</th> <td>   -0.6039</td> <td>    0.180</td> <td>   -3.350</td> <td> 0.001</td> <td>   -0.957</td> <td>   -0.251</td>\n",
       "</tr>\n",
       "</table>\n",
       "<table class=\"simpletable\">\n",
       "<caption>Loading coefficients (alpha) for equation CCCI</caption>\n",
       "<tr>\n",
       "   <td></td>      <th>coef</th>     <th>std err</th>      <th>z</th>      <th>P>|z|</th>  <th>[0.025</th>    <th>0.975]</th>  \n",
       "</tr>\n",
       "<tr>\n",
       "  <th>ec1</th> <td>   -0.0245</td> <td>    0.161</td> <td>   -0.152</td> <td> 0.879</td> <td>   -0.339</td> <td>    0.290</td>\n",
       "</tr>\n",
       "</table>\n",
       "<table class=\"simpletable\">\n",
       "<caption>Cointegration relations for loading-coefficients-column 1</caption>\n",
       "<tr>\n",
       "     <td></td>       <th>coef</th>     <th>std err</th>      <th>z</th>      <th>P>|z|</th>  <th>[0.025</th>    <th>0.975]</th>  \n",
       "</tr>\n",
       "<tr>\n",
       "  <th>beta.1</th> <td>    1.0000</td> <td>        0</td> <td>        0</td> <td> 0.000</td> <td>    1.000</td> <td>    1.000</td>\n",
       "</tr>\n",
       "<tr>\n",
       "  <th>beta.2</th> <td>    0.7728</td> <td>    0.356</td> <td>    2.173</td> <td> 0.030</td> <td>    0.076</td> <td>    1.470</td>\n",
       "</tr>\n",
       "<tr>\n",
       "  <th>const</th>  <td>   -1.8408</td> <td>    0.361</td> <td>   -5.101</td> <td> 0.000</td> <td>   -2.548</td> <td>   -1.133</td>\n",
       "</tr>\n",
       "</table>"
      ],
      "text/plain": [
       "<class 'statsmodels.iolib.summary.Summary'>\n",
       "\"\"\"\n",
       "Det. terms outside the coint. relation & lagged endog. parameters for equation CPI\n",
       "==============================================================================\n",
       "                 coef    std err          z      P>|z|      [0.025      0.975]\n",
       "------------------------------------------------------------------------------\n",
       "L1.CPI        -0.1116      0.186     -0.601      0.548      -0.476       0.253\n",
       "L1.CCCI        0.6130      0.234      2.615      0.009       0.154       1.072\n",
       "Det. terms outside the coint. relation & lagged endog. parameters for equation CCCI\n",
       "==============================================================================\n",
       "                 coef    std err          z      P>|z|      [0.025      0.975]\n",
       "------------------------------------------------------------------------------\n",
       "L1.CPI         0.1989      0.165      1.202      0.229      -0.125       0.523\n",
       "L1.CCCI       -0.1760      0.209     -0.843      0.399      -0.585       0.233\n",
       "                Loading coefficients (alpha) for equation CPI                 \n",
       "==============================================================================\n",
       "                 coef    std err          z      P>|z|      [0.025      0.975]\n",
       "------------------------------------------------------------------------------\n",
       "ec1           -0.6039      0.180     -3.350      0.001      -0.957      -0.251\n",
       "                Loading coefficients (alpha) for equation CCCI                \n",
       "==============================================================================\n",
       "                 coef    std err          z      P>|z|      [0.025      0.975]\n",
       "------------------------------------------------------------------------------\n",
       "ec1           -0.0245      0.161     -0.152      0.879      -0.339       0.290\n",
       "          Cointegration relations for loading-coefficients-column 1           \n",
       "==============================================================================\n",
       "                 coef    std err          z      P>|z|      [0.025      0.975]\n",
       "------------------------------------------------------------------------------\n",
       "beta.1         1.0000          0          0      0.000       1.000       1.000\n",
       "beta.2         0.7728      0.356      2.173      0.030       0.076       1.470\n",
       "const         -1.8408      0.361     -5.101      0.000      -2.548      -1.133\n",
       "==============================================================================\n",
       "\"\"\""
      ]
     },
     "execution_count": 13,
     "metadata": {},
     "output_type": "execute_result"
    }
   ],
   "source": [
    "m1 = vecm.VECM(df2[['CPI', 'CCCI']], deterministic=\"ci\", k_ar_diff=1, coint_rank=1)  \n",
    "vecm_res_1 = m1.fit()\n",
    "vecm_res_1.summary()"
   ]
  },
  {
   "cell_type": "code",
   "execution_count": null,
   "metadata": {},
   "outputs": [],
   "source": [
    "granger_results = vecm_res_1.test_granger_causality(caused=\"Maint\", signif=0.05)\n",
    "granger_results.summary()"
   ]
  },
  {
   "cell_type": "code",
   "execution_count": null,
   "metadata": {},
   "outputs": [],
   "source": []
  }
 ],
 "metadata": {
  "kernelspec": {
   "display_name": "Python 3",
   "language": "python",
   "name": "python3"
  },
  "language_info": {
   "codemirror_mode": {
    "name": "ipython",
    "version": 3
   },
   "file_extension": ".py",
   "mimetype": "text/x-python",
   "name": "python",
   "nbconvert_exporter": "python",
   "pygments_lexer": "ipython3",
   "version": "3.8.5"
  }
 },
 "nbformat": 4,
 "nbformat_minor": 4
}
