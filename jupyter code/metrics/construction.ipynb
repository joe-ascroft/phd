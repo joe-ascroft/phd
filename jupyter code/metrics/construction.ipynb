{
 "cells": [
  {
   "cell_type": "code",
   "execution_count": 4,
   "metadata": {},
   "outputs": [],
   "source": [
    "import numpy as np\n",
    "import pandas as pd\n",
    "import datetime as dt\n",
    "import datapackage\n",
    "import matplotlib.pyplot as plt\n",
    "import matplotlib.dates as dates\n",
    "import statsmodels.api as sm\n",
    "import statsmodels.tsa.vector_ar.vecm as vecm\n",
    "import statsmodels.formula.api as smf\n",
    "import statsmodels.tsa.stattools as ts\n",
    "\n",
    "## testing armington elastcities UK gas market ##\n",
    "\n",
    "url = 'https://raw.githubusercontent.com/joe-ascroft/phd/master/data/CPI_CCCI_test.csv'\n",
    "df = pd.read_csv(url)"
   ]
  },
  {
   "cell_type": "code",
   "execution_count": 5,
   "metadata": {},
   "outputs": [
    {
     "name": "stdout",
     "output_type": "stream",
     "text": [
      "       Date   CPI  CCCI\n",
      "0   1/12/13  1.10   0.8\n",
      "1   1/03/14  1.24   0.4\n",
      "2   1/06/14  1.22   0.5\n",
      "3   1/09/14  1.13   1.2\n",
      "4   1/12/14  1.72   0.6\n",
      "5   1/03/15  0.81   0.8\n",
      "6   1/06/15  1.53   0.6\n",
      "7   1/09/15  1.36   1.0\n",
      "8   1/12/15  1.20   0.5\n",
      "9   1/03/16  0.84   0.8\n",
      "10  1/06/16  2.08   0.3\n",
      "11  1/09/16  2.04   0.7\n",
      "12  1/12/16  1.40   0.9\n",
      "13  1/03/17  0.99   1.7\n",
      "14  1/06/17  1.82   1.9\n",
      "15  1/09/17  1.09   1.8\n",
      "16  1/12/17  1.30   1.1\n",
      "17  1/03/18  0.39   1.1\n",
      "18  1/06/18  1.07   1.0\n",
      "19  1/09/18  1.25   1.1\n",
      "20  1/12/18  0.86   1.3\n",
      "21  1/03/19  0.66   1.3\n",
      "22  1/06/19  0.66   0.6\n",
      "23  1/09/19  0.56   1.0\n",
      "24  1/12/19  0.46   0.9\n",
      "25  1/03/20  1.01   1.0\n",
      "26  1/06/20  0.73   1.0\n",
      "27  1/09/20  0.27   0.6\n",
      "28  1/12/20  1.26   0.4\n",
      "29  1/03/21  1.16   1.3\n",
      "30  1/06/21  4.58   2.2\n",
      "31  1/09/21  4.55   1.6\n",
      "32  1/12/21  4.59   0.9\n",
      "33  1/03/22  3.47   2.4\n",
      "34  1/06/22  4.54   2.6\n"
     ]
    }
   ],
   "source": [
    "print(df)"
   ]
  },
  {
   "cell_type": "code",
   "execution_count": 6,
   "metadata": {},
   "outputs": [
    {
     "name": "stdout",
     "output_type": "stream",
     "text": [
      "                            OLS Regression Results                            \n",
      "==============================================================================\n",
      "Dep. Variable:                    CPI   R-squared:                       0.283\n",
      "Model:                            OLS   Adj. R-squared:                  0.262\n",
      "Method:                 Least Squares   F-statistic:                     13.05\n",
      "Date:                Sun, 16 Oct 2022   Prob (F-statistic):           0.000996\n",
      "Time:                        16:38:45   Log-Likelihood:                -50.691\n",
      "No. Observations:                  35   AIC:                             105.4\n",
      "Df Residuals:                      33   BIC:                             108.5\n",
      "Df Model:                           1                                         \n",
      "Covariance Type:            nonrobust                                         \n",
      "==============================================================================\n",
      "                 coef    std err          t      P>|t|      [0.025      0.975]\n",
      "------------------------------------------------------------------------------\n",
      "Intercept      0.3160      0.391      0.809      0.424      -0.479       1.111\n",
      "CCCI           1.1578      0.321      3.613      0.001       0.506       1.810\n",
      "==============================================================================\n",
      "Omnibus:                       11.778   Durbin-Watson:                   0.960\n",
      "Prob(Omnibus):                  0.003   Jarque-Bera (JB):               11.181\n",
      "Skew:                           1.214   Prob(JB):                      0.00373\n",
      "Kurtosis:                       4.331   Cond. No.                         4.21\n",
      "==============================================================================\n",
      "\n",
      "Notes:\n",
      "[1] Standard Errors assume that the covariance matrix of the errors is correctly specified.\n"
     ]
    },
    {
     "data": {
      "text/plain": [
       "[<matplotlib.lines.Line2D at 0x7fc91269f430>]"
      ]
     },
     "execution_count": 6,
     "metadata": {},
     "output_type": "execute_result"
    },
    {
     "data": {
      "image/png": "[encoded data removed]",
      "text/plain": [
       "<Figure size 432x288 with 1 Axes>"
      ]
     },
     "metadata": {
      "needs_background": "light"
     },
     "output_type": "display_data"
    }
   ],
   "source": [
    "result1 = smf.ols(formula=\"CPI ~ CCCI\", data=df).fit()\n",
    "print(result1.summary())\n",
    "plt.plot(result1.resid)"
   ]
  },
  {
   "cell_type": "code",
   "execution_count": 7,
   "metadata": {},
   "outputs": [
    {
     "name": "stdout",
     "output_type": "stream",
     "text": [
      "(-3.084948375301031, 0.027687314760578986, 0, 34, {'1%': -3.639224104416853, '5%': -2.9512301791166293, '10%': -2.614446989619377}, 68.7452219438726)\n"
     ]
    }
   ],
   "source": [
    "test = ts.adfuller(result1.resid,autolag=\"AIC\")\n",
    "print(test)"
   ]
  },
  {
   "cell_type": "code",
   "execution_count": 8,
   "metadata": {},
   "outputs": [
    {
     "name": "stdout",
     "output_type": "stream",
     "text": [
      "{'aic': 2, 'bic': 0, 'hqic': 0, 'fpe': 2}\n"
     ]
    }
   ],
   "source": [
    "lag_order1 = vecm.select_order(data=df[['CPI', 'CCCI']], maxlags=5, deterministic=\"ci\")\n",
    "print(lag_order1.selected_orders)"
   ]
  },
  {
   "cell_type": "code",
   "execution_count": 19,
   "metadata": {},
   "outputs": [
    {
     "data": {
      "text/html": [
       "<table class=\"simpletable\">\n",
       "<caption>Det. terms outside the coint. relation & lagged endog. parameters for equation CPI</caption>\n",
       "<tr>\n",
       "     <td></td>        <th>coef</th>     <th>std err</th>      <th>z</th>      <th>P>|z|</th>  <th>[0.025</th>    <th>0.975]</th>  \n",
       "</tr>\n",
       "<tr>\n",
       "  <th>L1.CPI</th>  <td>   -0.0991</td> <td>    0.220</td> <td>   -0.451</td> <td> 0.652</td> <td>   -0.530</td> <td>    0.332</td>\n",
       "</tr>\n",
       "<tr>\n",
       "  <th>L1.CCCI</th> <td>    0.6872</td> <td>    0.282</td> <td>    2.441</td> <td> 0.015</td> <td>    0.135</td> <td>    1.239</td>\n",
       "</tr>\n",
       "<tr>\n",
       "  <th>L2.CPI</th>  <td>    0.1543</td> <td>    0.181</td> <td>    0.853</td> <td> 0.393</td> <td>   -0.200</td> <td>    0.509</td>\n",
       "</tr>\n",
       "<tr>\n",
       "  <th>L2.CCCI</th> <td>   -0.1667</td> <td>    0.348</td> <td>   -0.479</td> <td> 0.632</td> <td>   -0.848</td> <td>    0.515</td>\n",
       "</tr>\n",
       "</table>\n",
       "<table class=\"simpletable\">\n",
       "<caption>Det. terms outside the coint. relation & lagged endog. parameters for equation CCCI</caption>\n",
       "<tr>\n",
       "     <td></td>        <th>coef</th>     <th>std err</th>      <th>z</th>      <th>P>|z|</th>  <th>[0.025</th>    <th>0.975]</th>  \n",
       "</tr>\n",
       "<tr>\n",
       "  <th>L1.CPI</th>  <td>   -0.1942</td> <td>    0.124</td> <td>   -1.561</td> <td> 0.119</td> <td>   -0.438</td> <td>    0.050</td>\n",
       "</tr>\n",
       "<tr>\n",
       "  <th>L1.CCCI</th> <td>    0.1245</td> <td>    0.159</td> <td>    0.782</td> <td> 0.434</td> <td>   -0.188</td> <td>    0.437</td>\n",
       "</tr>\n",
       "<tr>\n",
       "  <th>L2.CPI</th>  <td>   -0.3021</td> <td>    0.102</td> <td>   -2.954</td> <td> 0.003</td> <td>   -0.503</td> <td>   -0.102</td>\n",
       "</tr>\n",
       "<tr>\n",
       "  <th>L2.CCCI</th> <td>   -0.1289</td> <td>    0.197</td> <td>   -0.655</td> <td> 0.512</td> <td>   -0.514</td> <td>    0.257</td>\n",
       "</tr>\n",
       "</table>\n",
       "<table class=\"simpletable\">\n",
       "<caption>Loading coefficients (alpha) for equation CPI</caption>\n",
       "<tr>\n",
       "   <td></td>      <th>coef</th>     <th>std err</th>      <th>z</th>      <th>P>|z|</th>  <th>[0.025</th>    <th>0.975]</th>  \n",
       "</tr>\n",
       "<tr>\n",
       "  <th>ec1</th> <td>   -0.1148</td> <td>    0.144</td> <td>   -0.798</td> <td> 0.425</td> <td>   -0.397</td> <td>    0.167</td>\n",
       "</tr>\n",
       "</table>\n",
       "<table class=\"simpletable\">\n",
       "<caption>Loading coefficients (alpha) for equation CCCI</caption>\n",
       "<tr>\n",
       "   <td></td>      <th>coef</th>     <th>std err</th>      <th>z</th>      <th>P>|z|</th>  <th>[0.025</th>    <th>0.975]</th>  \n",
       "</tr>\n",
       "<tr>\n",
       "  <th>ec1</th> <td>    0.3285</td> <td>    0.081</td> <td>    4.038</td> <td> 0.000</td> <td>    0.169</td> <td>    0.488</td>\n",
       "</tr>\n",
       "</table>\n",
       "<table class=\"simpletable\">\n",
       "<caption>Cointegration relations for loading-coefficients-column 1</caption>\n",
       "<tr>\n",
       "     <td></td>       <th>coef</th>     <th>std err</th>      <th>z</th>      <th>P>|z|</th>  <th>[0.025</th>    <th>0.975]</th>  \n",
       "</tr>\n",
       "<tr>\n",
       "  <th>beta.1</th> <td>    1.0000</td> <td>        0</td> <td>        0</td> <td> 0.000</td> <td>    1.000</td> <td>    1.000</td>\n",
       "</tr>\n",
       "<tr>\n",
       "  <th>beta.2</th> <td>   -1.9063</td> <td>    0.551</td> <td>   -3.459</td> <td> 0.001</td> <td>   -2.986</td> <td>   -0.826</td>\n",
       "</tr>\n",
       "<tr>\n",
       "  <th>const</th>  <td>    0.7942</td> <td>    0.594</td> <td>    1.338</td> <td> 0.181</td> <td>   -0.369</td> <td>    1.958</td>\n",
       "</tr>\n",
       "</table>"
      ],
      "text/plain": [
       "<class 'statsmodels.iolib.summary.Summary'>\n",
       "\"\"\"\n",
       "Det. terms outside the coint. relation & lagged endog. parameters for equation CPI\n",
       "==============================================================================\n",
       "                 coef    std err          z      P>|z|      [0.025      0.975]\n",
       "------------------------------------------------------------------------------\n",
       "L1.CPI        -0.0991      0.220     -0.451      0.652      -0.530       0.332\n",
       "L1.CCCI        0.6872      0.282      2.441      0.015       0.135       1.239\n",
       "L2.CPI         0.1543      0.181      0.853      0.393      -0.200       0.509\n",
       "L2.CCCI       -0.1667      0.348     -0.479      0.632      -0.848       0.515\n",
       "Det. terms outside the coint. relation & lagged endog. parameters for equation CCCI\n",
       "==============================================================================\n",
       "                 coef    std err          z      P>|z|      [0.025      0.975]\n",
       "------------------------------------------------------------------------------\n",
       "L1.CPI        -0.1942      0.124     -1.561      0.119      -0.438       0.050\n",
       "L1.CCCI        0.1245      0.159      0.782      0.434      -0.188       0.437\n",
       "L2.CPI        -0.3021      0.102     -2.954      0.003      -0.503      -0.102\n",
       "L2.CCCI       -0.1289      0.197     -0.655      0.512      -0.514       0.257\n",
       "                Loading coefficients (alpha) for equation CPI                 \n",
       "==============================================================================\n",
       "                 coef    std err          z      P>|z|      [0.025      0.975]\n",
       "------------------------------------------------------------------------------\n",
       "ec1           -0.1148      0.144     -0.798      0.425      -0.397       0.167\n",
       "                Loading coefficients (alpha) for equation CCCI                \n",
       "==============================================================================\n",
       "                 coef    std err          z      P>|z|      [0.025      0.975]\n",
       "------------------------------------------------------------------------------\n",
       "ec1            0.3285      0.081      4.038      0.000       0.169       0.488\n",
       "          Cointegration relations for loading-coefficients-column 1           \n",
       "==============================================================================\n",
       "                 coef    std err          z      P>|z|      [0.025      0.975]\n",
       "------------------------------------------------------------------------------\n",
       "beta.1         1.0000          0          0      0.000       1.000       1.000\n",
       "beta.2        -1.9063      0.551     -3.459      0.001      -2.986      -0.826\n",
       "const          0.7942      0.594      1.338      0.181      -0.369       1.958\n",
       "==============================================================================\n",
       "\"\"\""
      ]
     },
     "execution_count": 19,
     "metadata": {},
     "output_type": "execute_result"
    }
   ],
   "source": [
    "m1 = vecm.VECM(df[['CPI', 'CCCI']], deterministic=\"ci\", k_ar_diff=2, coint_rank=1)  \n",
    "vecm_res_1 = m1.fit()\n",
    "vecm_res_1.summary()"
   ]
  },
  {
   "cell_type": "code",
   "execution_count": 11,
   "metadata": {},
   "outputs": [
    {
     "data": {
      "text/html": [
       "<table class=\"simpletable\">\n",
       "<caption>Granger causality F-test. H_0: CCCI does not Granger-cause CPI. Conclusion: reject H_0 at 5% significance level.</caption>\n",
       "<tr>\n",
       "  <th>Test statistic</th> <th>Critical value</th> <th>p-value</th>   <th>df</th>   \n",
       "</tr>\n",
       "<tr>\n",
       "       <td>4.437</td>          <td>2.816</td>      <td>0.008</td>  <td>(3, 44)</td>\n",
       "</tr>\n",
       "</table>"
      ],
      "text/plain": [
       "<class 'statsmodels.iolib.table.SimpleTable'>"
      ]
     },
     "execution_count": 11,
     "metadata": {},
     "output_type": "execute_result"
    }
   ],
   "source": [
    "granger_results = vecm_res_1.test_granger_causality(caused=\"CPI\", signif=0.05)\n",
    "granger_results.summary()"
   ]
  },
  {
   "cell_type": "code",
   "execution_count": null,
   "metadata": {},
   "outputs": [],
   "source": []
  }
 ],
 "metadata": {
  "kernelspec": {
   "display_name": "Python 3",
   "language": "python",
   "name": "python3"
  },
  "language_info": {
   "codemirror_mode": {
    "name": "ipython",
    "version": 3
   },
   "file_extension": ".py",
   "mimetype": "text/x-python",
   "name": "python",
   "nbconvert_exporter": "python",
   "pygments_lexer": "ipython3",
   "version": "3.8.5"
  }
 },
 "nbformat": 4,
 "nbformat_minor": 4
}
