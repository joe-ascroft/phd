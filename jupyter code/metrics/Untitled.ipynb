{
 "cells": [
  {
   "cell_type": "code",
   "execution_count": 1,
   "metadata": {},
   "outputs": [],
   "source": [
    "import numpy as np\n",
    "import pandas as pd\n",
    "import datetime as dt\n",
    "import datapackage\n",
    "import matplotlib.pyplot as plt\n",
    "import matplotlib.dates as dates\n",
    "import statsmodels.api as sm\n",
    "import statsmodels.tsa.vector_ar.vecm as vecm\n",
    "\n",
    "## testing armington elastcities UK gas market ##\n",
    "\n",
    "url = 'https://raw.githubusercontent.com/joe-ascroft/phd/master/data/UKlng.csv'\n",
    "df = pd.read_csv(url)\n",
    "df[\"Date\"] = pd.to_datetime(df[\"Date\"],dayfirst=True)\n",
    "for col in df.columns[1:]:\n",
    "    df[col] = pd.to_numeric(df[col],errors='coerce')"
   ]
  },
  {
   "cell_type": "code",
   "execution_count": 2,
   "metadata": {},
   "outputs": [
    {
     "name": "stdout",
     "output_type": "stream",
     "text": [
      "         Date       LNG   Domestic      lnMD        NBP        HH    lnPdPm\n",
      "0  2009-03-01  13422.80  198753.92 -2.695113   6.544974  4.577455  0.357554\n",
      "1  2009-06-01  19025.23  181093.51 -2.253248   4.275921  3.701228  0.144335\n",
      "2  2009-09-01  30321.50  129951.46 -1.455304   3.826394  3.164407  0.189957\n",
      "3  2009-12-01  49467.99  169545.34 -1.231795   5.196570  4.355763  0.176499\n",
      "4  2010-03-01  48753.68  178842.46 -1.299725   5.230260  5.126481  0.020041\n",
      "5  2010-06-01  49206.12  169541.99 -1.237083   5.526589  4.305862  0.249593\n",
      "6  2010-09-01  44496.09  140433.57 -1.149333   6.595826  4.288814  0.430427\n",
      "7  2010-12-01  64390.11  153696.67 -0.870021   8.173289  3.802931  0.765099\n",
      "8  2011-03-01  79545.14  146728.71 -0.612261   9.087511  4.192500  0.773604\n",
      "9  2011-06-01  82736.41  127397.62 -0.431653   9.468383  4.365517  0.774221\n",
      "10 2011-09-01  60813.75  101190.31 -0.509187   9.152192  4.120508  0.798017\n",
      "11 2011-12-01  51698.93  136035.52 -0.967479   9.661959  3.325536  1.066566\n",
      "12 2012-03-01  39224.45  128431.21 -1.186093   9.046866  2.440000  1.310420\n",
      "13 2012-06-01  48076.31  110756.23 -0.834542   8.855165  2.285079  1.354600\n",
      "14 2012-09-01  35223.42   89433.88 -0.931788   8.988032  2.879524  1.138269\n",
      "15 2012-12-01  27573.50  106320.09 -1.349599  10.612874  3.398125  1.138844\n",
      "16 2013-03-01  16226.15  109769.94 -1.911763  10.485537  3.489333  1.100286\n",
      "17 2013-06-01  44195.74  108900.48 -0.901806   9.998646  4.017031  0.911907\n",
      "18 2013-09-01  19427.60   86889.32 -1.497940  10.154324  3.553175  1.050058\n",
      "19 2013-12-01  22770.84  104900.37 -1.527530  11.352732  3.849531  1.081507\n",
      "20 2014-03-01  12911.18  112347.87 -2.163506  10.031585  5.179672  0.660997\n",
      "21 2014-06-01  43973.47  105343.27 -0.873638   7.608295  4.607581  0.501536\n",
      "22 2014-09-01  40150.92   91184.86 -0.820244   7.290051  3.964921  0.609025\n",
      "23 2014-12-01  26874.29  106638.96 -1.378279   8.644506  3.774921  0.828545\n",
      "24 2015-03-01  35618.03  112571.79 -1.150739   7.186826  2.898197  0.908161\n",
      "25 2015-06-01  36580.54  118538.79 -1.175724   6.642216  2.746935  0.882960\n",
      "26 2015-09-01  39206.95   99295.98 -0.929251   6.405189  2.760000  0.841878\n",
      "27 2015-12-01  41000.95  121030.51 -1.082447   5.757293  2.125781  0.996328\n",
      "28 2016-03-01  36068.78  118588.38 -1.190231   4.256733  1.976500  0.767174\n",
      "29 2016-06-01  34482.96  112598.81 -1.183366   4.364658  2.151719  0.707273\n",
      "30 2016-09-01  34145.21  110387.39 -1.173374   4.411997  2.880000  0.426537\n",
      "31 2016-12-01  12307.75  121739.86 -2.291657   5.912207  3.036349  0.666363\n",
      "32 2017-03-01  14084.27  124552.13 -2.179666   5.975704  3.002742  0.688176\n",
      "33 2017-06-01  23858.88  120188.29 -1.616903   4.784517  3.076825  0.441487\n",
      "34 2017-09-01  19194.55   98056.57 -1.630918   5.470089  2.952419  0.616670\n",
      "35 2017-12-01  16270.91  122184.27 -2.016151   7.199678  2.905238  0.907521\n",
      "36 2018-03-01   8330.65  119306.55 -2.661755   7.076024  3.080000  0.831783\n",
      "37 2018-06-01  18246.42  111859.25 -1.813272   7.217525  2.855556  0.927246\n",
      "38 2018-09-01   9542.98  104737.35 -2.395650   8.428291  2.928730  1.057025\n",
      "39 2018-12-01  41990.56  115253.50 -1.009689   8.853841  3.768852  0.854081\n",
      "40 2019-03-01  46023.21  112087.05 -0.890130   6.316304  2.923934  0.770204\n",
      "41 2019-06-01  54139.86  105839.62 -0.670354   4.084074  2.565397  0.464982\n",
      "42 2019-09-01  19459.77   97246.68 -1.608902   3.939787  2.376667  0.505428\n",
      "43 2019-12-01  74823.71  121034.34 -0.480939   5.147500  2.389206  0.767550\n",
      "44 2020-03-01  69409.25  115732.49 -0.511261   3.102460  1.904677  0.487883\n",
      "45 2020-06-01  59001.10  116044.91 -0.676421   1.668579  1.704603 -0.021360\n",
      "46 2020-09-01  26157.42   97645.20 -1.317208   2.370773  2.034762  0.152837\n"
     ]
    }
   ],
   "source": [
    "print(df)"
   ]
  },
  {
   "cell_type": "code",
   "execution_count": 6,
   "metadata": {},
   "outputs": [
    {
     "name": "stdout",
     "output_type": "stream",
     "text": [
      "{'aic': 0, 'bic': 0, 'hqic': 0, 'fpe': 0}\n",
      "Johansen cointegration test using trace test statistic with 5% significance level\n",
      "=====================================\n",
      "r_0 r_1 test statistic critical value\n",
      "-------------------------------------\n",
      "  0   2          16.85          15.49\n",
      "  1   2          6.564          3.841\n",
      "-------------------------------------\n"
     ]
    }
   ],
   "source": [
    "lag_order1 = vecm.select_order(data=df[['lnPdPm', 'lnMD']], maxlags=5, deterministic=\"ci\")\n",
    "print(lag_order1.selected_orders)\n",
    "\n",
    "rank = vecm.select_coint_rank(endog=df[['lnPdPm', 'lnMD']],\n",
    "                              k_ar_diff=5,\n",
    "                              det_order=0)\n",
    "\n",
    "print(rank)"
   ]
  },
  {
   "cell_type": "code",
   "execution_count": 7,
   "metadata": {},
   "outputs": [
    {
     "data": {
      "text/html": [
       "<table class=\"simpletable\">\n",
       "<caption>Det. terms outside the coint. relation & lagged endog. parameters for equation lnPdPm</caption>\n",
       "<tr>\n",
       "      <td></td>         <th>coef</th>     <th>std err</th>      <th>z</th>      <th>P>|z|</th>  <th>[0.025</th>    <th>0.975]</th>  \n",
       "</tr>\n",
       "<tr>\n",
       "  <th>L1.lnPdPm</th> <td>    0.0574</td> <td>    0.151</td> <td>    0.381</td> <td> 0.703</td> <td>   -0.238</td> <td>    0.353</td>\n",
       "</tr>\n",
       "<tr>\n",
       "  <th>L1.lnMD</th>   <td>   -0.0031</td> <td>    0.059</td> <td>   -0.052</td> <td> 0.959</td> <td>   -0.119</td> <td>    0.113</td>\n",
       "</tr>\n",
       "</table>\n",
       "<table class=\"simpletable\">\n",
       "<caption>Det. terms outside the coint. relation & lagged endog. parameters for equation lnMD</caption>\n",
       "<tr>\n",
       "      <td></td>         <th>coef</th>     <th>std err</th>      <th>z</th>      <th>P>|z|</th>  <th>[0.025</th>    <th>0.975]</th>  \n",
       "</tr>\n",
       "<tr>\n",
       "  <th>L1.lnPdPm</th> <td>    0.1648</td> <td>    0.357</td> <td>    0.461</td> <td> 0.645</td> <td>   -0.536</td> <td>    0.865</td>\n",
       "</tr>\n",
       "<tr>\n",
       "  <th>L1.lnMD</th>   <td>   -0.0986</td> <td>    0.140</td> <td>   -0.705</td> <td> 0.481</td> <td>   -0.373</td> <td>    0.176</td>\n",
       "</tr>\n",
       "</table>\n",
       "<table class=\"simpletable\">\n",
       "<caption>Loading coefficients (alpha) for equation lnPdPm</caption>\n",
       "<tr>\n",
       "   <td></td>      <th>coef</th>     <th>std err</th>      <th>z</th>      <th>P>|z|</th>  <th>[0.025</th>    <th>0.975]</th>  \n",
       "</tr>\n",
       "<tr>\n",
       "  <th>ec1</th> <td>   -0.0053</td> <td>    0.023</td> <td>   -0.230</td> <td> 0.818</td> <td>   -0.051</td> <td>    0.040</td>\n",
       "</tr>\n",
       "</table>\n",
       "<table class=\"simpletable\">\n",
       "<caption>Loading coefficients (alpha) for equation lnMD</caption>\n",
       "<tr>\n",
       "   <td></td>      <th>coef</th>     <th>std err</th>      <th>z</th>      <th>P>|z|</th>  <th>[0.025</th>    <th>0.975]</th>  \n",
       "</tr>\n",
       "<tr>\n",
       "  <th>ec1</th> <td>   -0.1914</td> <td>    0.055</td> <td>   -3.493</td> <td> 0.000</td> <td>   -0.299</td> <td>   -0.084</td>\n",
       "</tr>\n",
       "</table>\n",
       "<table class=\"simpletable\">\n",
       "<caption>Cointegration relations for loading-coefficients-column 1</caption>\n",
       "<tr>\n",
       "     <td></td>       <th>coef</th>     <th>std err</th>      <th>z</th>      <th>P>|z|</th>  <th>[0.025</th>    <th>0.975]</th>  \n",
       "</tr>\n",
       "<tr>\n",
       "  <th>beta.1</th> <td>    1.0000</td> <td>        0</td> <td>        0</td> <td> 0.000</td> <td>    1.000</td> <td>    1.000</td>\n",
       "</tr>\n",
       "<tr>\n",
       "  <th>beta.2</th> <td>    2.3982</td> <td>    0.693</td> <td>    3.462</td> <td> 0.001</td> <td>    1.040</td> <td>    3.756</td>\n",
       "</tr>\n",
       "<tr>\n",
       "  <th>const</th>  <td>    2.2138</td> <td>    0.967</td> <td>    2.289</td> <td> 0.022</td> <td>    0.319</td> <td>    4.109</td>\n",
       "</tr>\n",
       "</table>"
      ],
      "text/plain": [
       "<class 'statsmodels.iolib.summary.Summary'>\n",
       "\"\"\"\n",
       "Det. terms outside the coint. relation & lagged endog. parameters for equation lnPdPm\n",
       "==============================================================================\n",
       "                 coef    std err          z      P>|z|      [0.025      0.975]\n",
       "------------------------------------------------------------------------------\n",
       "L1.lnPdPm      0.0574      0.151      0.381      0.703      -0.238       0.353\n",
       "L1.lnMD       -0.0031      0.059     -0.052      0.959      -0.119       0.113\n",
       "Det. terms outside the coint. relation & lagged endog. parameters for equation lnMD\n",
       "==============================================================================\n",
       "                 coef    std err          z      P>|z|      [0.025      0.975]\n",
       "------------------------------------------------------------------------------\n",
       "L1.lnPdPm      0.1648      0.357      0.461      0.645      -0.536       0.865\n",
       "L1.lnMD       -0.0986      0.140     -0.705      0.481      -0.373       0.176\n",
       "               Loading coefficients (alpha) for equation lnPdPm               \n",
       "==============================================================================\n",
       "                 coef    std err          z      P>|z|      [0.025      0.975]\n",
       "------------------------------------------------------------------------------\n",
       "ec1           -0.0053      0.023     -0.230      0.818      -0.051       0.040\n",
       "                Loading coefficients (alpha) for equation lnMD                \n",
       "==============================================================================\n",
       "                 coef    std err          z      P>|z|      [0.025      0.975]\n",
       "------------------------------------------------------------------------------\n",
       "ec1           -0.1914      0.055     -3.493      0.000      -0.299      -0.084\n",
       "          Cointegration relations for loading-coefficients-column 1           \n",
       "==============================================================================\n",
       "                 coef    std err          z      P>|z|      [0.025      0.975]\n",
       "------------------------------------------------------------------------------\n",
       "beta.1         1.0000          0          0      0.000       1.000       1.000\n",
       "beta.2         2.3982      0.693      3.462      0.001       1.040       3.756\n",
       "const          2.2138      0.967      2.289      0.022       0.319       4.109\n",
       "==============================================================================\n",
       "\"\"\""
      ]
     },
     "execution_count": 7,
     "metadata": {},
     "output_type": "execute_result"
    }
   ],
   "source": [
    "m1 = vecm.VECM(df[['lnPdPm', 'lnMD']], deterministic=\"ci\", k_ar_diff=1, coint_rank=1)  \n",
    "vecm_res_1 = m1.fit()\n",
    "vecm_res_1.summary()"
   ]
  },
  {
   "cell_type": "code",
   "execution_count": 8,
   "metadata": {},
   "outputs": [
    {
     "data": {
      "text/html": [
       "<table class=\"simpletable\">\n",
       "<caption>Granger causality F-test. H_0: lnPdPm does not Granger-cause lnMD. Conclusion: fail to reject H_0 at 5% significance level.</caption>\n",
       "<tr>\n",
       "  <th>Test statistic</th> <th>Critical value</th> <th>p-value</th>   <th>df</th>   \n",
       "</tr>\n",
       "<tr>\n",
       "      <td>0.7536</td>          <td>3.120</td>      <td>0.474</td>  <td>(2, 74)</td>\n",
       "</tr>\n",
       "</table>"
      ],
      "text/plain": [
       "<class 'statsmodels.iolib.table.SimpleTable'>"
      ]
     },
     "execution_count": 8,
     "metadata": {},
     "output_type": "execute_result"
    }
   ],
   "source": [
    "granger_results = vecm_res_1.test_granger_causality(caused=\"lnMD\", signif=0.05)\n",
    "granger_results.summary()"
   ]
  },
  {
   "cell_type": "code",
   "execution_count": null,
   "metadata": {},
   "outputs": [],
   "source": []
  }
 ],
 "metadata": {
  "kernelspec": {
   "display_name": "Python 3",
   "language": "python",
   "name": "python3"
  },
  "language_info": {
   "codemirror_mode": {
    "name": "ipython",
    "version": 3
   },
   "file_extension": ".py",
   "mimetype": "text/x-python",
   "name": "python",
   "nbconvert_exporter": "python",
   "pygments_lexer": "ipython3",
   "version": "3.8.5"
  }
 },
 "nbformat": 4,
 "nbformat_minor": 4
}
