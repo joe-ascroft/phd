{
 "cells": [
  {
   "cell_type": "code",
   "execution_count": 1,
   "metadata": {},
   "outputs": [
    {
     "name": "stdout",
     "output_type": "stream",
     "text": [
      "           DATE     WTI_HH   NCF_RCF   NCF_WTI     NCF_HH    NCF_NBP  \\\n",
      "0    2009-01-05   8.337907  0.920024  1.597408  13.319039   9.317755   \n",
      "1    2009-01-06   7.960656  0.918079  1.673188  13.319672   9.094982   \n",
      "2    2009-01-07   7.258065  0.911884  1.839766  13.353141   8.969184   \n",
      "3    2009-01-08   6.993289  0.942262  1.898992  13.280201   9.340782   \n",
      "4    2009-01-09   7.266071  0.920958  1.889899  13.732143   9.019865   \n",
      "...         ...        ...       ...       ...        ...        ...   \n",
      "2850 2020-08-25  16.996063  1.017382  1.152421  19.586614  15.375235   \n",
      "2851 2020-08-26  17.146825  1.015322  1.150197  19.722222  15.008563   \n",
      "2852 2020-08-27  17.015873  1.018405  1.161381  19.761905  14.134232   \n",
      "2853 2020-08-28  17.463415  0.969349  1.177840  20.569106  13.098330   \n",
      "2854 2020-08-31  18.526087  0.982042  1.219197  22.586957  13.412611   \n",
      "\n",
      "         NCF_B     RCF_B    RCF_NBP     WTI_B  ...  NCF_RCF_r  NCF_WTI_r  \\\n",
      "0     1.564893  1.700927  10.127733  0.979645  ...   1.057399   0.839852   \n",
      "1     1.607956  1.751435   9.906535  0.961013  ...   0.954376 -45.073020   \n",
      "2     1.715002  1.880724   9.835882  0.932185  ...   1.258667   0.267456   \n",
      "3     1.771883  1.880457   9.913148  0.933065  ...  -0.243696  -0.253994   \n",
      "4     1.731202  1.879784   9.794002  0.916029  ...   4.775742   1.196807   \n",
      "...        ...       ...        ...       ...  ...        ...        ...   \n",
      "2850  1.084823  1.066289  15.112543  0.941343  ...   0.490946   0.058488   \n",
      "2851  1.088957  1.072524  14.782075  0.946757  ...  -0.982915  -1.084673   \n",
      "2852  1.104458  1.084498  13.878794  0.950987  ...  -1.969819  -0.263460   \n",
      "2853  1.104562  1.139489  13.512506  0.937787  ...   0.238043   8.610442   \n",
      "2854  1.147306  1.168286  13.657885  0.941034  ...   1.989554  -3.274760   \n",
      "\n",
      "      NCF_HH_r  NCF_NBP_r   NCF_B_r   RCF_B_r  RCF_NBP_r   WTI_B_r   NBP_B_r  \\\n",
      "0     0.571717   0.832153  0.768297  0.726591   0.786981  0.914800  0.923264   \n",
      "1     1.001073   0.643992  2.527996  2.648846   0.674778 -0.056087  3.925511   \n",
      "2     0.929524   1.736937  0.346244  0.275088   1.379982  1.294583  0.199342   \n",
      "3     0.534920  -0.188767 -0.244996  1.005334   0.774602  0.964572  1.297872   \n",
      "4     0.470625  -4.629497  5.079343  1.063571  -0.969377  4.244079 -1.097170   \n",
      "...        ...        ...       ...       ...        ...       ...       ...   \n",
      "2850 -0.086184   0.015015  0.062195  0.126684   0.030583  1.063384  4.142296   \n",
      "2851  0.127638  -0.042947  0.209502 -0.213144   0.043694 -0.193148 -4.878113   \n",
      "2852       inf   0.031441 -0.166965  0.084762  -0.015961  0.633742 -5.310472   \n",
      "2853 -0.674699   0.166605  1.006024  4.226227   0.699893  0.116838  6.038387   \n",
      "2854 -0.410203  10.171880 -2.306044 -1.159076   5.112644  0.704187 -0.226708   \n",
      "\n",
      "      NBP_HH_r  \n",
      "0     0.687033  \n",
      "1     1.554482  \n",
      "2     0.535151  \n",
      "3    -2.833754  \n",
      "4    -0.101658  \n",
      "...        ...  \n",
      "2850 -5.739982  \n",
      "2851 -2.971968  \n",
      "2852       inf  \n",
      "2853 -4.049697  \n",
      "2854 -0.040327  \n",
      "\n",
      "[2855 rows x 24 columns]\n"
     ]
    }
   ],
   "source": [
    "import numpy as np\n",
    "import pandas as pd\n",
    "import datetime as dt\n",
    "import datapackage\n",
    "import matplotlib.pyplot as plt\n",
    "import matplotlib.dates as dates\n",
    "import statsmodels.api as sm\n",
    "\n",
    "## investigating volatility linkages between oil, gas, and regionalised coal futures markets ##\n",
    "\n",
    "url = 'https://raw.githubusercontent.com/joe-ascroft/phd/master/data/df_rr.csv'\n",
    "\n",
    "df_rr = pd.read_csv(url)\n",
    "df_rr[\"DATE\"] = pd.to_datetime(df_rr[\"DATE\"],dayfirst=True)\n",
    "for col in df_rr.columns[1:]:\n",
    "    df_rr[col] = pd.to_numeric(df_rr[col],errors='coerce')\n",
    "\n",
    "print(df_rr)"
   ]
  },
  {
   "cell_type": "code",
   "execution_count": null,
   "metadata": {},
   "outputs": [],
   "source": [
    "## markov regime switching for price ratio returns ##\n",
    "\n",
    "mod = sm.tsa.MarkovRegression(df_rr['WTI_HH'], k_regimes=3, order=1, switching_variance=True)\n",
    "res_mod = mod.fit()\n",
    "res_mod.summary()"
   ]
  },
  {
   "cell_type": "code",
   "execution_count": null,
   "metadata": {},
   "outputs": [],
   "source": [
    "print(res_mod.summary().as_latex())"
   ]
  },
  {
   "cell_type": "code",
   "execution_count": null,
   "metadata": {},
   "outputs": [],
   "source": [
    "res_mod.filtered_marginal_probabilities[1].plot(\n",
    "    title='Probability of being in the high regime', figsize=(12,2))"
   ]
  },
  {
   "cell_type": "code",
   "execution_count": null,
   "metadata": {},
   "outputs": [],
   "source": [
    "plt.plot(df_rr['DATE'],df_rr['RCF_HH'],color='blue')"
   ]
  },
  {
   "cell_type": "code",
   "execution_count": null,
   "metadata": {},
   "outputs": [],
   "source": []
  }
 ],
 "metadata": {
  "kernelspec": {
   "display_name": "Python 3",
   "language": "python",
   "name": "python3"
  },
  "language_info": {
   "codemirror_mode": {
    "name": "ipython",
    "version": 3
   },
   "file_extension": ".py",
   "mimetype": "text/x-python",
   "name": "python",
   "nbconvert_exporter": "python",
   "pygments_lexer": "ipython3",
   "version": "3.8.5"
  }
 },
 "nbformat": 4,
 "nbformat_minor": 4
}
