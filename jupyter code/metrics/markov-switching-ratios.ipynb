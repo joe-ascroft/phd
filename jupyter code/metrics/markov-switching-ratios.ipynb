{
 "cells": [
  {
   "cell_type": "code",
   "execution_count": 1,
   "metadata": {},
   "outputs": [
    {
     "name": "stdout",
     "output_type": "stream",
     "text": [
      "           DATE     WTI_HH   NCF_RCF   NCF_WTI     NCF_HH    NCF_NBP  \\\n",
      "0    2009-01-05   8.337907  0.920024  1.597408  13.319039   9.317755   \n",
      "1    2009-01-06   7.960656  0.918079  1.673188  13.319672   9.094982   \n",
      "2    2009-01-07   7.258065  0.911884  1.839766  13.353141   8.969184   \n",
      "3    2009-01-08   6.993289  0.942262  1.898992  13.280201   9.340782   \n",
      "4    2009-01-09   7.266071  0.920958  1.889899  13.732143   9.019865   \n",
      "...         ...        ...       ...       ...        ...        ...   \n",
      "2850 2020-08-25  16.996063  1.017382  1.152421  19.586614  15.375235   \n",
      "2851 2020-08-26  17.146825  1.015322  1.150197  19.722222  15.008563   \n",
      "2852 2020-08-27  17.015873  1.018405  1.161381  19.761905  14.134232   \n",
      "2853 2020-08-28  17.463415  0.969349  1.177840  20.569106  13.098330   \n",
      "2854 2020-08-31  18.526087  0.982042  1.219197  22.586957  13.412611   \n",
      "\n",
      "         NCF_B     RCF_B    RCF_NBP     WTI_B  ...  NCF_RCF_r  NCF_WTI_r  \\\n",
      "0     1.564893  1.700927  10.127733  0.979645  ...   1.057399   0.839852   \n",
      "1     1.607956  1.751435   9.906535  0.961013  ...   0.954376 -45.073020   \n",
      "2     1.715002  1.880724   9.835882  0.932185  ...   1.258667   0.267456   \n",
      "3     1.771883  1.880457   9.913148  0.933065  ...  -0.243696  -0.253994   \n",
      "4     1.731202  1.879784   9.794002  0.916029  ...   4.775742   1.196807   \n",
      "...        ...       ...        ...       ...  ...        ...        ...   \n",
      "2850  1.084823  1.066289  15.112543  0.941343  ...   0.490946   0.058488   \n",
      "2851  1.088957  1.072524  14.782075  0.946757  ...  -0.982915  -1.084673   \n",
      "2852  1.104458  1.084498  13.878794  0.950987  ...  -1.969819  -0.263460   \n",
      "2853  1.104562  1.139489  13.512506  0.937787  ...   0.238043   8.610442   \n",
      "2854  1.147306  1.168286  13.657885  0.941034  ...   1.989554  -3.274760   \n",
      "\n",
      "      NCF_HH_r  NCF_NBP_r   NCF_B_r   RCF_B_r  RCF_NBP_r   WTI_B_r   NBP_B_r  \\\n",
      "0     0.571717   0.832153  0.768297  0.726591   0.786981  0.914800  0.923264   \n",
      "1     1.001073   0.643992  2.527996  2.648846   0.674778 -0.056087  3.925511   \n",
      "2     0.929524   1.736937  0.346244  0.275088   1.379982  1.294583  0.199342   \n",
      "3     0.534920  -0.188767 -0.244996  1.005334   0.774602  0.964572  1.297872   \n",
      "4     0.470625  -4.629497  5.079343  1.063571  -0.969377  4.244079 -1.097170   \n",
      "...        ...        ...       ...       ...        ...       ...       ...   \n",
      "2850 -0.086184   0.015015  0.062195  0.126684   0.030583  1.063384  4.142296   \n",
      "2851  0.127638  -0.042947  0.209502 -0.213144   0.043694 -0.193148 -4.878113   \n",
      "2852       inf   0.031441 -0.166965  0.084762  -0.015961  0.633742 -5.310472   \n",
      "2853 -0.674699   0.166605  1.006024  4.226227   0.699893  0.116838  6.038387   \n",
      "2854 -0.410203  10.171880 -2.306044 -1.159076   5.112644  0.704187 -0.226708   \n",
      "\n",
      "      NBP_HH_r  \n",
      "0     0.687033  \n",
      "1     1.554482  \n",
      "2     0.535151  \n",
      "3    -2.833754  \n",
      "4    -0.101658  \n",
      "...        ...  \n",
      "2850 -5.739982  \n",
      "2851 -2.971968  \n",
      "2852       inf  \n",
      "2853 -4.049697  \n",
      "2854 -0.040327  \n",
      "\n",
      "[2855 rows x 23 columns]\n"
     ]
    }
   ],
   "source": [
    "import numpy as np\n",
    "import pandas as pd\n",
    "import datetime as dt\n",
    "import datapackage\n",
    "import matplotlib.pyplot as plt\n",
    "import matplotlib.dates as dates\n",
    "import statsmodels.api as sm\n",
    "\n",
    "## investigating volatility linkages between oil, gas, and regionalised coal futures markets ##\n",
    "\n",
    "url = 'https://raw.githubusercontent.com/joe-ascroft/phd/master/data/df_rr.csv'\n",
    "\n",
    "df_rr = pd.read_csv(url)\n",
    "df_rr[\"DATE\"] = pd.to_datetime(df_rr[\"DATE\"],dayfirst=True)\n",
    "for col in df_rr.columns[1:]:\n",
    "    df_rr[col] = pd.to_numeric(df_rr[col],errors='coerce')\n",
    "\n",
    "print(df_rr)"
   ]
  },
  {
   "cell_type": "code",
   "execution_count": 2,
   "metadata": {},
   "outputs": [
    {
     "name": "stdout",
     "output_type": "stream",
     "text": [
      "0       0.680735\n",
      "1      -0.022210\n",
      "2       3.475426\n",
      "3      -2.106032\n",
      "4       0.393234\n",
      "          ...   \n",
      "2850   -1.473531\n",
      "2851   -0.117674\n",
      "2852        -inf\n",
      "2853   -0.078358\n",
      "2854    0.125262\n",
      "Name: WTI_HH_r, Length: 2855, dtype: float64\n"
     ]
    },
    {
     "data": {
      "text/html": [
       "<table class=\"simpletable\">\n",
       "<caption>Markov Switching Model Results</caption>\n",
       "<tr>\n",
       "  <th>Dep. Variable:</th>        <td>WTI_HH</td>      <th>  No. Observations:  </th>   <td>2855</td>   \n",
       "</tr>\n",
       "<tr>\n",
       "  <th>Model:</th>           <td>MarkovRegression</td> <th>  Log Likelihood     </th> <td>-8386.317</td>\n",
       "</tr>\n",
       "<tr>\n",
       "  <th>Date:</th>            <td>Fri, 28 Jan 2022</td> <th>  AIC                </th> <td>16784.635</td>\n",
       "</tr>\n",
       "<tr>\n",
       "  <th>Time:</th>                <td>15:14:40</td>     <th>  BIC                </th> <td>16820.376</td>\n",
       "</tr>\n",
       "<tr>\n",
       "  <th>Sample:</th>                  <td>0</td>        <th>  HQIC               </th> <td>16797.523</td>\n",
       "</tr>\n",
       "<tr>\n",
       "  <th></th>                      <td> - 2855</td>     <th>                     </th>     <td> </td>    \n",
       "</tr>\n",
       "<tr>\n",
       "  <th>Covariance Type:</th>      <td>approx</td>      <th>                     </th>     <td> </td>    \n",
       "</tr>\n",
       "</table>\n",
       "<table class=\"simpletable\">\n",
       "<caption>Regime 0 parameters</caption>\n",
       "<tr>\n",
       "     <td></td>       <th>coef</th>     <th>std err</th>      <th>z</th>      <th>P>|z|</th>  <th>[0.025</th>    <th>0.975]</th>  \n",
       "</tr>\n",
       "<tr>\n",
       "  <th>const</th>  <td>   19.3696</td> <td>    0.105</td> <td>  183.618</td> <td> 0.000</td> <td>   19.163</td> <td>   19.576</td>\n",
       "</tr>\n",
       "<tr>\n",
       "  <th>sigma2</th> <td>   15.2464</td> <td>    0.504</td> <td>   30.271</td> <td> 0.000</td> <td>   14.259</td> <td>   16.234</td>\n",
       "</tr>\n",
       "</table>\n",
       "<table class=\"simpletable\">\n",
       "<caption>Regime 1 parameters</caption>\n",
       "<tr>\n",
       "     <td></td>       <th>coef</th>     <th>std err</th>      <th>z</th>      <th>P>|z|</th>  <th>[0.025</th>    <th>0.975]</th>  \n",
       "</tr>\n",
       "<tr>\n",
       "  <th>const</th>  <td>   30.9521</td> <td>    0.409</td> <td>   75.751</td> <td> 0.000</td> <td>   30.151</td> <td>   31.753</td>\n",
       "</tr>\n",
       "<tr>\n",
       "  <th>sigma2</th> <td>   55.2382</td> <td>    3.415</td> <td>   16.175</td> <td> 0.000</td> <td>   48.545</td> <td>   61.931</td>\n",
       "</tr>\n",
       "</table>\n",
       "<table class=\"simpletable\">\n",
       "<caption>Regime transition parameters</caption>\n",
       "<tr>\n",
       "     <td></td>        <th>coef</th>     <th>std err</th>      <th>z</th>      <th>P>|z|</th>  <th>[0.025</th>    <th>0.975]</th>  \n",
       "</tr>\n",
       "<tr>\n",
       "  <th>p[0->0]</th> <td>    0.9966</td> <td>    0.001</td> <td>  766.896</td> <td> 0.000</td> <td>    0.994</td> <td>    0.999</td>\n",
       "</tr>\n",
       "<tr>\n",
       "  <th>p[1->0]</th> <td>    0.0134</td> <td>    0.005</td> <td>    2.743</td> <td> 0.006</td> <td>    0.004</td> <td>    0.023</td>\n",
       "</tr>\n",
       "</table><br/><br/>Warnings:<br/>[1] Covariance matrix calculated using numerical (complex-step) differentiation."
      ],
      "text/plain": [
       "<class 'statsmodels.iolib.summary.Summary'>\n",
       "\"\"\"\n",
       "                        Markov Switching Model Results                        \n",
       "==============================================================================\n",
       "Dep. Variable:                 WTI_HH   No. Observations:                 2855\n",
       "Model:               MarkovRegression   Log Likelihood               -8386.317\n",
       "Date:                Fri, 28 Jan 2022   AIC                          16784.635\n",
       "Time:                        15:14:40   BIC                          16820.376\n",
       "Sample:                             0   HQIC                         16797.523\n",
       "                               - 2855                                         \n",
       "Covariance Type:               approx                                         \n",
       "                             Regime 0 parameters                              \n",
       "==============================================================================\n",
       "                 coef    std err          z      P>|z|      [0.025      0.975]\n",
       "------------------------------------------------------------------------------\n",
       "const         19.3696      0.105    183.618      0.000      19.163      19.576\n",
       "sigma2        15.2464      0.504     30.271      0.000      14.259      16.234\n",
       "                             Regime 1 parameters                              \n",
       "==============================================================================\n",
       "                 coef    std err          z      P>|z|      [0.025      0.975]\n",
       "------------------------------------------------------------------------------\n",
       "const         30.9521      0.409     75.751      0.000      30.151      31.753\n",
       "sigma2        55.2382      3.415     16.175      0.000      48.545      61.931\n",
       "                         Regime transition parameters                         \n",
       "==============================================================================\n",
       "                 coef    std err          z      P>|z|      [0.025      0.975]\n",
       "------------------------------------------------------------------------------\n",
       "p[0->0]        0.9966      0.001    766.896      0.000       0.994       0.999\n",
       "p[1->0]        0.0134      0.005      2.743      0.006       0.004       0.023\n",
       "==============================================================================\n",
       "\n",
       "Warnings:\n",
       "[1] Covariance matrix calculated using numerical (complex-step) differentiation.\n",
       "\"\"\""
      ]
     },
     "execution_count": 2,
     "metadata": {},
     "output_type": "execute_result"
    }
   ],
   "source": [
    "## markov regime switching for price ratio returns ##\n",
    "\n",
    "print(df_rr['WTI_HH_r'])\n",
    "mod = sm.tsa.MarkovRegression(df_rr['WTI_HH'], k_regimes=2, order=1, switching_variance=True)\n",
    "res_mod = mod.fit()\n",
    "res_mod.summary()\n"
   ]
  },
  {
   "cell_type": "code",
   "execution_count": 4,
   "metadata": {},
   "outputs": [
    {
     "name": "stdout",
     "output_type": "stream",
     "text": [
      "\\begin{center}\n",
      "\\begin{tabular}{lclc}\n",
      "\\toprule\n",
      "\\textbf{Dep. Variable:} &     WTI\\_HH      & \\textbf{  No. Observations:  } &    2855     \\\\\n",
      "\\textbf{Model:}         & MarkovRegression & \\textbf{  Log Likelihood     } & -8386.317   \\\\\n",
      "\\textbf{Date:}          & Fri, 28 Jan 2022 & \\textbf{  AIC                } & 16784.635   \\\\\n",
      "\\textbf{Time:}          &     16:28:55     & \\textbf{  BIC                } & 16820.376   \\\\\n",
      "\\textbf{Sample:}        &        0         & \\textbf{  HQIC               } & 16797.523   \\\\\n",
      "\\textbf{}               &      - 2855      & \\textbf{                     } &             \\\\\n",
      "\\bottomrule\n",
      "\\end{tabular}\n",
      "\\begin{tabular}{lcccccc}\n",
      "                & \\textbf{coef} & \\textbf{std err} & \\textbf{z} & \\textbf{P$> |$z$|$} & \\textbf{[0.025} & \\textbf{0.975]}  \\\\\n",
      "\\midrule\n",
      "\\textbf{const}  &      19.3696  &        0.105     &   183.618  &         0.000        &       19.163    &       19.576     \\\\\n",
      "\\textbf{sigma2} &      15.2464  &        0.504     &    30.271  &         0.000        &       14.259    &       16.234     \\\\\n",
      "                & \\textbf{coef} & \\textbf{std err} & \\textbf{z} & \\textbf{P$> |$z$|$} & \\textbf{[0.025} & \\textbf{0.975]}  \\\\\n",
      "\\midrule\n",
      "\\textbf{const}  &      30.9521  &        0.409     &    75.751  &         0.000        &       30.151    &       31.753     \\\\\n",
      "\\textbf{sigma2} &      55.2382  &        3.415     &    16.175  &         0.000        &       48.545    &       61.931     \\\\\n",
      "                   & \\textbf{coef} & \\textbf{std err} & \\textbf{z} & \\textbf{P$> |$z$|$} & \\textbf{[0.025} & \\textbf{0.975]}  \\\\\n",
      "\\midrule\n",
      "\\textbf{p[0-$>$0]} &       0.9966  &        0.001     &   766.896  &         0.000        &        0.994    &        0.999     \\\\\n",
      "\\textbf{p[1-$>$0]} &       0.0134  &        0.005     &     2.743  &         0.006        &        0.004    &        0.023     \\\\\n",
      "\\bottomrule\n",
      "\\end{tabular}\n",
      "%\\caption{Markov Switching Model Results}\n",
      "\\end{center}\n",
      "\n",
      "Warnings: \\newline\n",
      " [1] Covariance matrix calculated using numerical (complex-step) differentiation.\n"
     ]
    },
    {
     "data": {
      "text/plain": [
       "[<matplotlib.lines.Line2D at 0x7fd02417ea30>]"
      ]
     },
     "execution_count": 4,
     "metadata": {},
     "output_type": "execute_result"
    },
    {
     "data": {
      "image/png": "[encoded data removed]",
      "text/plain": [
       "<Figure size 1008x576 with 1 Axes>"
      ]
     },
     "metadata": {
      "needs_background": "light"
     },
     "output_type": "display_data"
    }
   ],
   "source": [
    "print(res_mod.summary().as_latex())\n",
    "plt.figure(figsize=(14,8)) \n",
    "plt.plot(df_rr[\"DATE\"],df_rr[\"WTI_HH\"])"
   ]
  },
  {
   "cell_type": "code",
   "execution_count": null,
   "metadata": {},
   "outputs": [],
   "source": []
  },
  {
   "cell_type": "code",
   "execution_count": null,
   "metadata": {},
   "outputs": [],
   "source": []
  }
 ],
 "metadata": {
  "kernelspec": {
   "display_name": "Python 3",
   "language": "python",
   "name": "python3"
  },
  "language_info": {
   "codemirror_mode": {
    "name": "ipython",
    "version": 3
   },
   "file_extension": ".py",
   "mimetype": "text/x-python",
   "name": "python",
   "nbconvert_exporter": "python",
   "pygments_lexer": "ipython3",
   "version": "3.8.5"
  }
 },
 "nbformat": 4,
 "nbformat_minor": 4
}
