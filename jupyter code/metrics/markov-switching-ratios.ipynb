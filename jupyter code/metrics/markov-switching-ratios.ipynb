{
 "cells": [
  {
   "cell_type": "code",
   "execution_count": 1,
   "metadata": {},
   "outputs": [
    {
     "name": "stdout",
     "output_type": "stream",
     "text": [
      "           DATE     WTI_HH     WTI_B    WTI_NBP   WTI_NCF   WTI_RCF      HH_B  \\\n",
      "0    2009-01-02   8.534196  0.984225   5.835755  0.620982  0.570000  0.115327   \n",
      "1    2009-01-05   8.337907  0.979645   5.833046  0.626014  0.575948  0.117493   \n",
      "2    2009-01-06   7.960656  0.961013   5.435721  0.597662  0.548701  0.120720   \n",
      "3    2009-01-07   7.258065  0.932185   4.875176  0.543547  0.495652  0.128434   \n",
      "4    2009-01-08   6.993289  0.933065   4.918810  0.526595  0.496190  0.133423   \n",
      "...         ...        ...       ...        ...       ...       ...       ...   \n",
      "2851 2020-08-25  16.996063  0.941343  13.341687  0.867739  0.882822  0.055386   \n",
      "2852 2020-08-26  17.146825  0.946757  13.048692  0.869416  0.882737  0.055215   \n",
      "2853 2020-08-27  17.015873  0.950987  12.170198  0.861044  0.876892  0.055888   \n",
      "2854 2020-08-28  17.463415  0.937787  11.120637  0.849012  0.822989  0.053700   \n",
      "2855 2020-08-31  18.526087  0.941034  11.001181  0.820212  0.805482  0.050795   \n",
      "\n",
      "        HH_NBP    HH_NCF    HH_RCF      B_NBP     B_NCF     B_RCF   NBP_NCF  \\\n",
      "0     0.683808  0.072764  0.066790   5.929289  0.630935  0.579136  0.106410   \n",
      "1     0.699582  0.075080  0.069076   5.954243  0.639021  0.587915  0.107322   \n",
      "2     0.682823  0.075077  0.068927   5.656240  0.621908  0.570960  0.109951   \n",
      "3     0.671691  0.074889  0.068290   5.229838  0.583090  0.531710  0.111493   \n",
      "4     0.703361  0.075300  0.070952   5.271671  0.564371  0.531786  0.107057   \n",
      "...        ...       ...       ...        ...       ...       ...       ...   \n",
      "2851  0.784987  0.051055  0.051943  14.173031  0.921809  0.937832  0.065040   \n",
      "2852  0.760998  0.050704  0.051481  13.782511  0.918310  0.932380  0.066629   \n",
      "2853  0.715226  0.050602  0.051534  12.797440  0.905422  0.922086  0.070750   \n",
      "2854  0.636796  0.048617  0.047126  11.858389  0.905336  0.877586  0.076346   \n",
      "2855  0.593821  0.044273  0.043478  11.690530  0.871607  0.855955  0.074557   \n",
      "\n",
      "       NBP_RCF   NCF_RCF  \n",
      "0     0.097674  0.917901  \n",
      "1     0.098739  0.920024  \n",
      "2     0.100943  0.918079  \n",
      "3     0.101669  0.911884  \n",
      "4     0.100876  0.942262  \n",
      "...        ...       ...  \n",
      "2851  0.066170  1.017382  \n",
      "2852  0.067649  1.015322  \n",
      "2853  0.072052  1.018405  \n",
      "2854  0.074006  0.969349  \n",
      "2855  0.073218  0.982042  \n",
      "\n",
      "[2856 rows x 16 columns]\n"
     ]
    }
   ],
   "source": [
    "import numpy as np\n",
    "import pandas as pd\n",
    "import datetime as dt\n",
    "import datapackage\n",
    "import matplotlib.pyplot as plt\n",
    "import matplotlib.dates as dates\n",
    "import statsmodels.api as sm\n",
    "\n",
    "## investigating volatility linkages between oil, gas, and regionalised coal futures markets ##\n",
    "\n",
    "url = 'https://raw.githubusercontent.com/joe-ascroft/phd/master/data/df_ratio.csv'\n",
    "\n",
    "df_ratio = pd.read_csv(url)\n",
    "df_ratio[\"DATE\"] = pd.to_datetime(df_ratio[\"DATE\"],dayfirst=True)\n",
    "for col in df_ratio.columns[1:]:\n",
    "    df_ratio[col] = pd.to_numeric(df_ratio[col],errors='coerce')\n",
    "\n",
    "print(df_ratio)"
   ]
  },
  {
   "cell_type": "code",
   "execution_count": 2,
   "metadata": {},
   "outputs": [],
   "source": [
    "## markov regime switching for price ratio returns ##\n",
    "\n",
    "mod1 = sm.tsa.MarkovRegression(df_ratio[\"WTI_HH\"], k_regimes=2, order=1, switching_variance=True)\n",
    "mod2 = sm.tsa.MarkovRegression(df_ratio[\"WTI_B\"], k_regimes=2, order=1, switching_variance=True)\n",
    "mod3 = sm.tsa.MarkovRegression(df_ratio[\"WTI_NBP\"], k_regimes=2, order=1, switching_variance=True)\n",
    "mod4 = sm.tsa.MarkovRegression(df_ratio[\"WTI_NCF\"], k_regimes=2, order=1, switching_variance=True)\n",
    "mod5 = sm.tsa.MarkovRegression(df_ratio[\"WTI_RCF\"], k_regimes=2, order=1, switching_variance=False)\n",
    "\n",
    "mod6 = sm.tsa.MarkovRegression(df_ratio[\"HH_B\"], k_regimes=2, order=1, switching_variance=True)\n",
    "mod7 = sm.tsa.MarkovRegression(df_ratio[\"HH_NBP\"], k_regimes=2, order=1, switching_variance=True)\n",
    "mod8 = sm.tsa.MarkovRegression(df_ratio[\"HH_NCF\"], k_regimes=2, order=1, switching_variance=True)\n",
    "mod9 = sm.tsa.MarkovRegression(df_ratio[\"HH_RCF\"], k_regimes=2, order=1, switching_variance=True)\n",
    "\n",
    "mod10 = sm.tsa.MarkovRegression(df_ratio[\"B_NBP\"], k_regimes=2, order=1, switching_variance=True)\n",
    "mod11 = sm.tsa.MarkovRegression(df_ratio[\"B_NCF\"], k_regimes=2, order=1, switching_variance=True)\n",
    "mod12 = sm.tsa.MarkovRegression(df_ratio[\"B_RCF\"], k_regimes=2, order=1, switching_variance=True)\n",
    "\n",
    "mod13 = sm.tsa.MarkovRegression(df_ratio[\"NBP_NCF\"], k_regimes=2, order=1, switching_variance=True)\n",
    "mod14 = sm.tsa.MarkovRegression(df_ratio[\"NBP_RCF\"], k_regimes=2, order=1, switching_variance=True)\n",
    "\n",
    "mod15 = sm.tsa.MarkovRegression(df_ratio[\"NCF_RCF\"], k_regimes=2, order=1, switching_variance=True)"
   ]
  },
  {
   "cell_type": "code",
   "execution_count": 15,
   "metadata": {},
   "outputs": [
    {
     "data": {
      "text/html": [
       "<table class=\"simpletable\">\n",
       "<caption>Markov Switching Model Results</caption>\n",
       "<tr>\n",
       "  <th>Dep. Variable:</th>        <td>HH_NCF</td>      <th>  No. Observations:  </th>    <td>2856</td>   \n",
       "</tr>\n",
       "<tr>\n",
       "  <th>Model:</th>           <td>MarkovRegression</td> <th>  Log Likelihood     </th>  <td>10217.501</td>\n",
       "</tr>\n",
       "<tr>\n",
       "  <th>Date:</th>            <td>Sun, 03 Apr 2022</td> <th>  AIC                </th> <td>-20423.002</td>\n",
       "</tr>\n",
       "<tr>\n",
       "  <th>Time:</th>                <td>16:32:39</td>     <th>  BIC                </th> <td>-20387.259</td>\n",
       "</tr>\n",
       "<tr>\n",
       "  <th>Sample:</th>                  <td>0</td>        <th>  HQIC               </th> <td>-20410.114</td>\n",
       "</tr>\n",
       "<tr>\n",
       "  <th></th>                      <td> - 2856</td>     <th>                     </th>      <td> </td>    \n",
       "</tr>\n",
       "<tr>\n",
       "  <th>Covariance Type:</th>      <td>approx</td>      <th>                     </th>      <td> </td>    \n",
       "</tr>\n",
       "</table>\n",
       "<table class=\"simpletable\">\n",
       "<caption>Regime 0 parameters</caption>\n",
       "<tr>\n",
       "     <td></td>       <th>coef</th>     <th>std err</th>      <th>z</th>      <th>P>|z|</th>  <th>[0.025</th>    <th>0.975]</th>  \n",
       "</tr>\n",
       "<tr>\n",
       "  <th>const</th>  <td>    0.0500</td> <td>    0.000</td> <td>  179.752</td> <td> 0.000</td> <td>    0.049</td> <td>    0.051</td>\n",
       "</tr>\n",
       "<tr>\n",
       "  <th>sigma2</th> <td>  8.33e-05</td> <td> 3.25e-06</td> <td>   25.598</td> <td> 0.000</td> <td> 7.69e-05</td> <td> 8.97e-05</td>\n",
       "</tr>\n",
       "</table>\n",
       "<table class=\"simpletable\">\n",
       "<caption>Regime 1 parameters</caption>\n",
       "<tr>\n",
       "     <td></td>       <th>coef</th>     <th>std err</th>      <th>z</th>      <th>P>|z|</th>  <th>[0.025</th>    <th>0.975]</th>  \n",
       "</tr>\n",
       "<tr>\n",
       "  <th>const</th>  <td>    0.0314</td> <td>    0.000</td> <td>  210.456</td> <td> 0.000</td> <td>    0.031</td> <td>    0.032</td>\n",
       "</tr>\n",
       "<tr>\n",
       "  <th>sigma2</th> <td>  2.39e-05</td> <td> 9.82e-07</td> <td>   24.335</td> <td> 0.000</td> <td>  2.2e-05</td> <td> 2.58e-05</td>\n",
       "</tr>\n",
       "</table>\n",
       "<table class=\"simpletable\">\n",
       "<caption>Regime transition parameters</caption>\n",
       "<tr>\n",
       "     <td></td>        <th>coef</th>     <th>std err</th>      <th>z</th>      <th>P>|z|</th>  <th>[0.025</th>    <th>0.975]</th>  \n",
       "</tr>\n",
       "<tr>\n",
       "  <th>p[0->0]</th> <td>    0.9917</td> <td>    0.003</td> <td>  389.980</td> <td> 0.000</td> <td>    0.987</td> <td>    0.997</td>\n",
       "</tr>\n",
       "<tr>\n",
       "  <th>p[1->0]</th> <td>    0.0079</td> <td>    0.002</td> <td>    3.416</td> <td> 0.001</td> <td>    0.003</td> <td>    0.013</td>\n",
       "</tr>\n",
       "</table><br/><br/>Warnings:<br/>[1] Covariance matrix calculated using numerical (complex-step) differentiation."
      ],
      "text/plain": [
       "<class 'statsmodels.iolib.summary.Summary'>\n",
       "\"\"\"\n",
       "                        Markov Switching Model Results                        \n",
       "==============================================================================\n",
       "Dep. Variable:                 HH_NCF   No. Observations:                 2856\n",
       "Model:               MarkovRegression   Log Likelihood               10217.501\n",
       "Date:                Sun, 03 Apr 2022   AIC                         -20423.002\n",
       "Time:                        16:32:39   BIC                         -20387.259\n",
       "Sample:                             0   HQIC                        -20410.114\n",
       "                               - 2856                                         \n",
       "Covariance Type:               approx                                         \n",
       "                             Regime 0 parameters                              \n",
       "==============================================================================\n",
       "                 coef    std err          z      P>|z|      [0.025      0.975]\n",
       "------------------------------------------------------------------------------\n",
       "const          0.0500      0.000    179.752      0.000       0.049       0.051\n",
       "sigma2       8.33e-05   3.25e-06     25.598      0.000    7.69e-05    8.97e-05\n",
       "                             Regime 1 parameters                              \n",
       "==============================================================================\n",
       "                 coef    std err          z      P>|z|      [0.025      0.975]\n",
       "------------------------------------------------------------------------------\n",
       "const          0.0314      0.000    210.456      0.000       0.031       0.032\n",
       "sigma2       2.39e-05   9.82e-07     24.335      0.000     2.2e-05    2.58e-05\n",
       "                         Regime transition parameters                         \n",
       "==============================================================================\n",
       "                 coef    std err          z      P>|z|      [0.025      0.975]\n",
       "------------------------------------------------------------------------------\n",
       "p[0->0]        0.9917      0.003    389.980      0.000       0.987       0.997\n",
       "p[1->0]        0.0079      0.002      3.416      0.001       0.003       0.013\n",
       "==============================================================================\n",
       "\n",
       "Warnings:\n",
       "[1] Covariance matrix calculated using numerical (complex-step) differentiation.\n",
       "\"\"\""
      ]
     },
     "execution_count": 15,
     "metadata": {},
     "output_type": "execute_result"
    }
   ],
   "source": [
    "res_mod8 = mod8.fit()\n",
    "res_mod8.summary()"
   ]
  },
  {
   "cell_type": "code",
   "execution_count": null,
   "metadata": {},
   "outputs": [],
   "source": [
    "print(res_mod.summary().as_latex())"
   ]
  },
  {
   "cell_type": "code",
   "execution_count": 16,
   "metadata": {},
   "outputs": [
    {
     "data": {
      "text/plain": [
       "<AxesSubplot:title={'center':'Probability of being in the high regime'}>"
      ]
     },
     "execution_count": 16,
     "metadata": {},
     "output_type": "execute_result"
    },
    {
     "data": {
      "image/png": "[encoded data removed]",
      "text/plain": [
       "<Figure size 864x144 with 1 Axes>"
      ]
     },
     "metadata": {
      "needs_background": "light"
     },
     "output_type": "display_data"
    }
   ],
   "source": [
    "res_mod8.filtered_marginal_probabilities[1].plot(\n",
    "    title='Probability of being in the high regime', figsize=(12,2))"
   ]
  },
  {
   "cell_type": "code",
   "execution_count": null,
   "metadata": {},
   "outputs": [],
   "source": [
    "plt.plot(df_rr['DATE'],df_rr['RCF_HH'],color='blue')"
   ]
  },
  {
   "cell_type": "code",
   "execution_count": null,
   "metadata": {},
   "outputs": [],
   "source": []
  }
 ],
 "metadata": {
  "kernelspec": {
   "display_name": "Python 3",
   "language": "python",
   "name": "python3"
  },
  "language_info": {
   "codemirror_mode": {
    "name": "ipython",
    "version": 3
   },
   "file_extension": ".py",
   "mimetype": "text/x-python",
   "name": "python",
   "nbconvert_exporter": "python",
   "pygments_lexer": "ipython3",
   "version": "3.8.5"
  }
 },
 "nbformat": 4,
 "nbformat_minor": 4
}
