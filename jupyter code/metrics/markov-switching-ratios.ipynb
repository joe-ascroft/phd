{
 "cells": [
  {
   "cell_type": "code",
   "execution_count": 1,
   "metadata": {},
   "outputs": [
    {
     "name": "stdout",
     "output_type": "stream",
     "text": [
      "           DATE     WTI_HH   NCF_RCF   NCF_WTI     NCF_HH    NCF_NBP  \\\n",
      "0    2009-01-05   8.337907  0.920024  1.597408  13.319039   9.317755   \n",
      "1    2009-01-06   7.960656  0.918079  1.673188  13.319672   9.094982   \n",
      "2    2009-01-07   7.258065  0.911884  1.839766  13.353141   8.969184   \n",
      "3    2009-01-08   6.993289  0.942262  1.898992  13.280201   9.340782   \n",
      "4    2009-01-09   7.266071  0.920958  1.889899  13.732143   9.019865   \n",
      "...         ...        ...       ...       ...        ...        ...   \n",
      "2850 2020-08-25  16.996063  1.017382  1.152421  19.586614  15.375235   \n",
      "2851 2020-08-26  17.146825  1.015322  1.150197  19.722222  15.008563   \n",
      "2852 2020-08-27  17.015873  1.018405  1.161381  19.761905  14.134232   \n",
      "2853 2020-08-28  17.463415  0.969349  1.177840  20.569106  13.098330   \n",
      "2854 2020-08-31  18.526087  0.982042  1.219197  22.586957  13.412611   \n",
      "\n",
      "         NCF_B     RCF_B    RCF_NBP     WTI_B  ...  NCF_RCF_r  NCF_WTI_r  \\\n",
      "0     1.564893  1.700927  10.127733  0.979645  ...   1.057399   0.839852   \n",
      "1     1.607956  1.751435   9.906535  0.961013  ...   0.954376 -45.073020   \n",
      "2     1.715002  1.880724   9.835882  0.932185  ...   1.258667   0.267456   \n",
      "3     1.771883  1.880457   9.913148  0.933065  ...  -0.243696  -0.253994   \n",
      "4     1.731202  1.879784   9.794002  0.916029  ...   4.775742   1.196807   \n",
      "...        ...       ...        ...       ...  ...        ...        ...   \n",
      "2850  1.084823  1.066289  15.112543  0.941343  ...   0.490946   0.058488   \n",
      "2851  1.088957  1.072524  14.782075  0.946757  ...  -0.982915  -1.084673   \n",
      "2852  1.104458  1.084498  13.878794  0.950987  ...  -1.969819  -0.263460   \n",
      "2853  1.104562  1.139489  13.512506  0.937787  ...   0.238043   8.610442   \n",
      "2854  1.147306  1.168286  13.657885  0.941034  ...   1.989554  -3.274760   \n",
      "\n",
      "      NCF_HH_r  NCF_NBP_r   NCF_B_r   RCF_B_r  RCF_NBP_r   WTI_B_r   NBP_B_r  \\\n",
      "0     0.571717   0.832153  0.768297  0.726591   0.786981  0.914800  0.923264   \n",
      "1     1.001073   0.643992  2.527996  2.648846   0.674778 -0.056087  3.925511   \n",
      "2     0.929524   1.736937  0.346244  0.275088   1.379982  1.294583  0.199342   \n",
      "3     0.534920  -0.188767 -0.244996  1.005334   0.774602  0.964572  1.297872   \n",
      "4     0.470625  -4.629497  5.079343  1.063571  -0.969377  4.244079 -1.097170   \n",
      "...        ...        ...       ...       ...        ...       ...       ...   \n",
      "2850 -0.086184   0.015015  0.062195  0.126684   0.030583  1.063384  4.142296   \n",
      "2851  0.127638  -0.042947  0.209502 -0.213144   0.043694 -0.193148 -4.878113   \n",
      "2852       inf   0.031441 -0.166965  0.084762  -0.015961  0.633742 -5.310472   \n",
      "2853 -0.674699   0.166605  1.006024  4.226227   0.699893  0.116838  6.038387   \n",
      "2854 -0.410203  10.171880 -2.306044 -1.159076   5.112644  0.704187 -0.226708   \n",
      "\n",
      "      NBP_HH_r  \n",
      "0     0.687033  \n",
      "1     1.554482  \n",
      "2     0.535151  \n",
      "3    -2.833754  \n",
      "4    -0.101658  \n",
      "...        ...  \n",
      "2850 -5.739982  \n",
      "2851 -2.971968  \n",
      "2852       inf  \n",
      "2853 -4.049697  \n",
      "2854 -0.040327  \n",
      "\n",
      "[2855 rows x 24 columns]\n"
     ]
    }
   ],
   "source": [
    "import numpy as np\n",
    "import pandas as pd\n",
    "import datetime as dt\n",
    "import datapackage\n",
    "import matplotlib.pyplot as plt\n",
    "import matplotlib.dates as dates\n",
    "import statsmodels.api as sm\n",
    "\n",
    "## investigating volatility linkages between oil, gas, and regionalised coal futures markets ##\n",
    "\n",
    "url = 'https://raw.githubusercontent.com/joe-ascroft/phd/master/data/df_rr.csv'\n",
    "\n",
    "df_rr = pd.read_csv(url)\n",
    "df_rr[\"DATE\"] = pd.to_datetime(df_rr[\"DATE\"],dayfirst=True)\n",
    "for col in df_rr.columns[1:]:\n",
    "    df_rr[col] = pd.to_numeric(df_rr[col],errors='coerce')\n",
    "\n",
    "print(df_rr)"
   ]
  },
  {
   "cell_type": "code",
   "execution_count": 3,
   "metadata": {},
   "outputs": [
    {
     "name": "stderr",
     "output_type": "stream",
     "text": [
      "/Users/joe/opt/anaconda3/lib/python3.8/site-packages/statsmodels/tsa/regime_switching/markov_switching.py:1283: EstimationWarning: Invalid regime transition probabilities estimated in EM iteration; probabilities have been re-scaled to continue estimation.\n",
      "  warnings.warn('Invalid regime transition probabilities'\n",
      "/Users/joe/opt/anaconda3/lib/python3.8/site-packages/statsmodels/tsa/regime_switching/markov_switching.py:1283: EstimationWarning: Invalid regime transition probabilities estimated in EM iteration; probabilities have been re-scaled to continue estimation.\n",
      "  warnings.warn('Invalid regime transition probabilities'\n",
      "/Users/joe/opt/anaconda3/lib/python3.8/site-packages/statsmodels/tsa/regime_switching/markov_switching.py:1283: EstimationWarning: Invalid regime transition probabilities estimated in EM iteration; probabilities have been re-scaled to continue estimation.\n",
      "  warnings.warn('Invalid regime transition probabilities'\n",
      "/Users/joe/opt/anaconda3/lib/python3.8/site-packages/statsmodels/tsa/regime_switching/markov_switching.py:1283: EstimationWarning: Invalid regime transition probabilities estimated in EM iteration; probabilities have been re-scaled to continue estimation.\n",
      "  warnings.warn('Invalid regime transition probabilities'\n",
      "/Users/joe/opt/anaconda3/lib/python3.8/site-packages/statsmodels/tsa/regime_switching/markov_switching.py:1283: EstimationWarning: Invalid regime transition probabilities estimated in EM iteration; probabilities have been re-scaled to continue estimation.\n",
      "  warnings.warn('Invalid regime transition probabilities'\n"
     ]
    },
    {
     "data": {
      "text/html": [
       "<table class=\"simpletable\">\n",
       "<caption>Markov Switching Model Results</caption>\n",
       "<tr>\n",
       "  <th>Dep. Variable:</th>        <td>RCF_HH</td>      <th>  No. Observations:  </th>   <td>2855</td>   \n",
       "</tr>\n",
       "<tr>\n",
       "  <th>Model:</th>           <td>MarkovRegression</td> <th>  Log Likelihood     </th> <td>-7218.893</td>\n",
       "</tr>\n",
       "<tr>\n",
       "  <th>Date:</th>            <td>Mon, 28 Feb 2022</td> <th>  AIC                </th> <td>14461.786</td>\n",
       "</tr>\n",
       "<tr>\n",
       "  <th>Time:</th>                <td>11:45:23</td>     <th>  BIC                </th> <td>14533.268</td>\n",
       "</tr>\n",
       "<tr>\n",
       "  <th>Sample:</th>                  <td>0</td>        <th>  HQIC               </th> <td>14487.563</td>\n",
       "</tr>\n",
       "<tr>\n",
       "  <th></th>                      <td> - 2855</td>     <th>                     </th>     <td> </td>    \n",
       "</tr>\n",
       "<tr>\n",
       "  <th>Covariance Type:</th>      <td>approx</td>      <th>                     </th>     <td> </td>    \n",
       "</tr>\n",
       "</table>\n",
       "<table class=\"simpletable\">\n",
       "<caption>Regime 0 parameters</caption>\n",
       "<tr>\n",
       "     <td></td>       <th>coef</th>     <th>std err</th>      <th>z</th>      <th>P>|z|</th>  <th>[0.025</th>    <th>0.975]</th>  \n",
       "</tr>\n",
       "<tr>\n",
       "  <th>const</th>  <td>   16.1532</td> <td>    0.138</td> <td>  117.057</td> <td> 0.000</td> <td>   15.883</td> <td>   16.424</td>\n",
       "</tr>\n",
       "<tr>\n",
       "  <th>sigma2</th> <td>    2.9011</td> <td>    0.275</td> <td>   10.538</td> <td> 0.000</td> <td>    2.362</td> <td>    3.441</td>\n",
       "</tr>\n",
       "</table>\n",
       "<table class=\"simpletable\">\n",
       "<caption>Regime 1 parameters</caption>\n",
       "<tr>\n",
       "     <td></td>       <th>coef</th>     <th>std err</th>      <th>z</th>      <th>P>|z|</th>  <th>[0.025</th>    <th>0.975]</th>  \n",
       "</tr>\n",
       "<tr>\n",
       "  <th>const</th>  <td>   21.1702</td> <td>    0.066</td> <td>  322.167</td> <td> 0.000</td> <td>   21.041</td> <td>   21.299</td>\n",
       "</tr>\n",
       "<tr>\n",
       "  <th>sigma2</th> <td>    2.4290</td> <td>    0.135</td> <td>   18.058</td> <td> 0.000</td> <td>    2.165</td> <td>    2.693</td>\n",
       "</tr>\n",
       "</table>\n",
       "<table class=\"simpletable\">\n",
       "<caption>Regime 2 parameters</caption>\n",
       "<tr>\n",
       "     <td></td>       <th>coef</th>     <th>std err</th>      <th>z</th>      <th>P>|z|</th>  <th>[0.025</th>    <th>0.975]</th>  \n",
       "</tr>\n",
       "<tr>\n",
       "  <th>const</th>  <td>   29.8881</td> <td>    0.141</td> <td>  212.362</td> <td> 0.000</td> <td>   29.612</td> <td>   30.164</td>\n",
       "</tr>\n",
       "<tr>\n",
       "  <th>sigma2</th> <td>   25.3507</td> <td>    0.952</td> <td>   26.630</td> <td> 0.000</td> <td>   23.485</td> <td>   27.216</td>\n",
       "</tr>\n",
       "</table>\n",
       "<table class=\"simpletable\">\n",
       "<caption>Regime transition parameters</caption>\n",
       "<tr>\n",
       "     <td></td>        <th>coef</th>     <th>std err</th>      <th>z</th>      <th>P>|z|</th>  <th>[0.025</th>    <th>0.975]</th>  \n",
       "</tr>\n",
       "<tr>\n",
       "  <th>p[0->0]</th> <td>    0.9819</td> <td>    0.001</td> <td>  787.804</td> <td> 0.000</td> <td>    0.979</td> <td>    0.984</td>\n",
       "</tr>\n",
       "<tr>\n",
       "  <th>p[1->0]</th> <td>    0.0066</td> <td>    0.003</td> <td>    2.548</td> <td> 0.011</td> <td>    0.002</td> <td>    0.012</td>\n",
       "</tr>\n",
       "<tr>\n",
       "  <th>p[2->0]</th> <td> 2.498e-09</td> <td>      nan</td> <td>      nan</td> <td>   nan</td> <td>      nan</td> <td>      nan</td>\n",
       "</tr>\n",
       "<tr>\n",
       "  <th>p[0->1]</th> <td>    0.0181</td> <td>    0.000</td> <td>   43.865</td> <td> 0.000</td> <td>    0.017</td> <td>    0.019</td>\n",
       "</tr>\n",
       "<tr>\n",
       "  <th>p[1->1]</th> <td>    0.9781</td> <td>    0.005</td> <td>  212.644</td> <td> 0.000</td> <td>    0.969</td> <td>    0.987</td>\n",
       "</tr>\n",
       "<tr>\n",
       "  <th>p[2->1]</th> <td>    0.0121</td> <td>    0.003</td> <td>    4.136</td> <td> 0.000</td> <td>    0.006</td> <td>    0.018</td>\n",
       "</tr>\n",
       "</table><br/><br/>Warnings:<br/>[1] Covariance matrix calculated using numerical (complex-step) differentiation."
      ],
      "text/plain": [
       "<class 'statsmodels.iolib.summary.Summary'>\n",
       "\"\"\"\n",
       "                        Markov Switching Model Results                        \n",
       "==============================================================================\n",
       "Dep. Variable:                 RCF_HH   No. Observations:                 2855\n",
       "Model:               MarkovRegression   Log Likelihood               -7218.893\n",
       "Date:                Mon, 28 Feb 2022   AIC                          14461.786\n",
       "Time:                        11:45:23   BIC                          14533.268\n",
       "Sample:                             0   HQIC                         14487.563\n",
       "                               - 2855                                         \n",
       "Covariance Type:               approx                                         \n",
       "                             Regime 0 parameters                              \n",
       "==============================================================================\n",
       "                 coef    std err          z      P>|z|      [0.025      0.975]\n",
       "------------------------------------------------------------------------------\n",
       "const         16.1532      0.138    117.057      0.000      15.883      16.424\n",
       "sigma2         2.9011      0.275     10.538      0.000       2.362       3.441\n",
       "                             Regime 1 parameters                              \n",
       "==============================================================================\n",
       "                 coef    std err          z      P>|z|      [0.025      0.975]\n",
       "------------------------------------------------------------------------------\n",
       "const         21.1702      0.066    322.167      0.000      21.041      21.299\n",
       "sigma2         2.4290      0.135     18.058      0.000       2.165       2.693\n",
       "                             Regime 2 parameters                              \n",
       "==============================================================================\n",
       "                 coef    std err          z      P>|z|      [0.025      0.975]\n",
       "------------------------------------------------------------------------------\n",
       "const         29.8881      0.141    212.362      0.000      29.612      30.164\n",
       "sigma2        25.3507      0.952     26.630      0.000      23.485      27.216\n",
       "                         Regime transition parameters                         \n",
       "==============================================================================\n",
       "                 coef    std err          z      P>|z|      [0.025      0.975]\n",
       "------------------------------------------------------------------------------\n",
       "p[0->0]        0.9819      0.001    787.804      0.000       0.979       0.984\n",
       "p[1->0]        0.0066      0.003      2.548      0.011       0.002       0.012\n",
       "p[2->0]     2.498e-09        nan        nan        nan         nan         nan\n",
       "p[0->1]        0.0181      0.000     43.865      0.000       0.017       0.019\n",
       "p[1->1]        0.9781      0.005    212.644      0.000       0.969       0.987\n",
       "p[2->1]        0.0121      0.003      4.136      0.000       0.006       0.018\n",
       "==============================================================================\n",
       "\n",
       "Warnings:\n",
       "[1] Covariance matrix calculated using numerical (complex-step) differentiation.\n",
       "\"\"\""
      ]
     },
     "execution_count": 3,
     "metadata": {},
     "output_type": "execute_result"
    }
   ],
   "source": [
    "## markov regime switching for price ratio returns ##\n",
    "\n",
    "mod = sm.tsa.MarkovRegression(df_rr['RCF_HH'], k_regimes=3, order=1, switching_variance=True)\n",
    "res_mod = mod.fit()\n",
    "res_mod.summary()"
   ]
  },
  {
   "cell_type": "code",
   "execution_count": 4,
   "metadata": {},
   "outputs": [
    {
     "name": "stdout",
     "output_type": "stream",
     "text": [
      "\\begin{center}\n",
      "\\begin{tabular}{lclc}\n",
      "\\toprule\n",
      "\\textbf{Dep. Variable:} &     RCF\\_HH      & \\textbf{  No. Observations:  } &    2855     \\\\\n",
      "\\textbf{Model:}         & MarkovRegression & \\textbf{  Log Likelihood     } & -7218.893   \\\\\n",
      "\\textbf{Date:}          & Mon, 28 Feb 2022 & \\textbf{  AIC                } & 14461.786   \\\\\n",
      "\\textbf{Time:}          &     11:45:49     & \\textbf{  BIC                } & 14533.268   \\\\\n",
      "\\textbf{Sample:}        &        0         & \\textbf{  HQIC               } & 14487.563   \\\\\n",
      "\\textbf{}               &      - 2855      & \\textbf{                     } &             \\\\\n",
      "\\bottomrule\n",
      "\\end{tabular}\n",
      "\\begin{tabular}{lcccccc}\n",
      "                & \\textbf{coef} & \\textbf{std err} & \\textbf{z} & \\textbf{P$> |$z$|$} & \\textbf{[0.025} & \\textbf{0.975]}  \\\\\n",
      "\\midrule\n",
      "\\textbf{const}  &      16.1532  &        0.138     &   117.057  &         0.000        &       15.883    &       16.424     \\\\\n",
      "\\textbf{sigma2} &       2.9011  &        0.275     &    10.538  &         0.000        &        2.362    &        3.441     \\\\\n",
      "                & \\textbf{coef} & \\textbf{std err} & \\textbf{z} & \\textbf{P$> |$z$|$} & \\textbf{[0.025} & \\textbf{0.975]}  \\\\\n",
      "\\midrule\n",
      "\\textbf{const}  &      21.1702  &        0.066     &   322.167  &         0.000        &       21.041    &       21.299     \\\\\n",
      "\\textbf{sigma2} &       2.4290  &        0.135     &    18.058  &         0.000        &        2.165    &        2.693     \\\\\n",
      "                & \\textbf{coef} & \\textbf{std err} & \\textbf{z} & \\textbf{P$> |$z$|$} & \\textbf{[0.025} & \\textbf{0.975]}  \\\\\n",
      "\\midrule\n",
      "\\textbf{const}  &      29.8881  &        0.141     &   212.362  &         0.000        &       29.612    &       30.164     \\\\\n",
      "\\textbf{sigma2} &      25.3507  &        0.952     &    26.630  &         0.000        &       23.485    &       27.216     \\\\\n",
      "                   & \\textbf{coef} & \\textbf{std err} & \\textbf{z} & \\textbf{P$> |$z$|$} & \\textbf{[0.025} & \\textbf{0.975]}  \\\\\n",
      "\\midrule\n",
      "\\textbf{p[0-$>$0]} &       0.9819  &        0.001     &   787.804  &         0.000        &        0.979    &        0.984     \\\\\n",
      "\\textbf{p[1-$>$0]} &       0.0066  &        0.003     &     2.548  &         0.011        &        0.002    &        0.012     \\\\\n",
      "\\textbf{p[2-$>$0]} &    2.498e-09  &          nan     &       nan  &           nan        &          nan    &          nan     \\\\\n",
      "\\textbf{p[0-$>$1]} &       0.0181  &        0.000     &    43.865  &         0.000        &        0.017    &        0.019     \\\\\n",
      "\\textbf{p[1-$>$1]} &       0.9781  &        0.005     &   212.644  &         0.000        &        0.969    &        0.987     \\\\\n",
      "\\textbf{p[2-$>$1]} &       0.0121  &        0.003     &     4.136  &         0.000        &        0.006    &        0.018     \\\\\n",
      "\\bottomrule\n",
      "\\end{tabular}\n",
      "%\\caption{Markov Switching Model Results}\n",
      "\\end{center}\n",
      "\n",
      "Warnings: \\newline\n",
      " [1] Covariance matrix calculated using numerical (complex-step) differentiation.\n"
     ]
    }
   ],
   "source": [
    "print(res_mod.summary().as_latex())"
   ]
  },
  {
   "cell_type": "code",
   "execution_count": 5,
   "metadata": {},
   "outputs": [
    {
     "data": {
      "text/plain": [
       "<AxesSubplot:title={'center':'Probability of being in the high regime'}>"
      ]
     },
     "execution_count": 5,
     "metadata": {},
     "output_type": "execute_result"
    },
    {
     "data": {
      "image/png": "[encoded data removed]",
      "text/plain": [
       "<Figure size 864x144 with 1 Axes>"
      ]
     },
     "metadata": {
      "needs_background": "light"
     },
     "output_type": "display_data"
    }
   ],
   "source": [
    "res_mod.filtered_marginal_probabilities[1].plot(\n",
    "    title='Probability of being in the high regime', figsize=(12,2))"
   ]
  },
  {
   "cell_type": "code",
   "execution_count": 6,
   "metadata": {},
   "outputs": [
    {
     "data": {
      "text/plain": [
       "[<matplotlib.lines.Line2D at 0x7fdf90085520>]"
      ]
     },
     "execution_count": 6,
     "metadata": {},
     "output_type": "execute_result"
    },
    {
     "data": {
      "image/png": "[encoded data removed]",
      "text/plain": [
       "<Figure size 432x288 with 1 Axes>"
      ]
     },
     "metadata": {
      "needs_background": "light"
     },
     "output_type": "display_data"
    }
   ],
   "source": [
    "plt.plot(df_rr['DATE'],df_rr['RCF_HH'],color='blue')"
   ]
  },
  {
   "cell_type": "code",
   "execution_count": null,
   "metadata": {},
   "outputs": [],
   "source": []
  }
 ],
 "metadata": {
  "kernelspec": {
   "display_name": "Python 3",
   "language": "python",
   "name": "python3"
  },
  "language_info": {
   "codemirror_mode": {
    "name": "ipython",
    "version": 3
   },
   "file_extension": ".py",
   "mimetype": "text/x-python",
   "name": "python",
   "nbconvert_exporter": "python",
   "pygments_lexer": "ipython3",
   "version": "3.8.5"
  }
 },
 "nbformat": 4,
 "nbformat_minor": 4
}
