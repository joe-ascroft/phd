{
 "cells": [
  {
   "cell_type": "code",
   "execution_count": 1,
   "metadata": {},
   "outputs": [
    {
     "name": "stdout",
     "output_type": "stream",
     "text": [
      "           DATE    NCF    RCF    WTI    HH  Brent  NBP_UK  GBP-USD       NBP\n",
      "1    2009-01-02  74.35  81.00  46.17  5.41  46.91   54.74   1.4453  7.911572\n",
      "4    2009-01-05  77.65  84.40  48.61  5.83  49.62   56.66   1.4708  8.333553\n",
      "5    2009-01-06  81.25  88.50  48.56  6.10  50.53   59.88   1.4919  8.933497\n",
      "6    2009-01-07  78.65  86.25  42.75  5.89  45.86   58.03   1.5111  8.768913\n",
      "7    2009-01-08  79.15  84.00  41.68  5.96  44.67   55.74   1.5202  8.473595\n",
      "...         ...    ...    ...    ...   ...    ...     ...      ...       ...\n",
      "4254 2020-08-25  49.75  48.90  43.17  2.54  45.86   24.61   1.3148  3.235723\n",
      "4255 2020-08-26  49.70  48.95  43.21  2.52  45.64   25.10   1.3193  3.311443\n",
      "4256 2020-08-27  49.80  48.90  42.88  2.52  45.09   26.68   1.3206  3.523361\n",
      "4257 2020-08-28  50.60  52.20  42.96  2.46  45.81   28.95   1.3344  3.863088\n",
      "4260 2020-08-31  51.95  52.90  42.61  2.30  45.28   28.95   1.3379  3.873220\n",
      "\n",
      "[2856 rows x 9 columns]\n"
     ]
    }
   ],
   "source": [
    "import numpy as np\n",
    "import pandas as pd\n",
    "import datetime as dt\n",
    "import datapackage\n",
    "import matplotlib.pyplot as plt\n",
    "import matplotlib.dates as dates\n",
    "import statsmodels.api as sm\n",
    "\n",
    "## investigating volatility linkages between oil, gas, and regionalised coal futures markets ##\n",
    "\n",
    "## load data from Github into new frame and remove rows with absent data ##\n",
    "\n",
    "url = 'https://raw.githubusercontent.com/joe-ascroft/phd/master/data/df-combined.csv'\n",
    "df = pd.read_csv(url)\n",
    "df[\"DATE\"] = pd.to_datetime(df[\"DATE\"],dayfirst=True)\n",
    "for col in df.columns[1:]:\n",
    "    df[col] = pd.to_numeric(df[col],errors='coerce')\n",
    "    \n",
    "df = df.dropna()\n",
    "print(df)"
   ]
  },
  {
   "cell_type": "code",
   "execution_count": 2,
   "metadata": {},
   "outputs": [
    {
     "name": "stdout",
     "output_type": "stream",
     "text": [
      "           DATE    NCF    RCF    WTI    HH  Brent  NBP_UK  GBP-USD       NBP  \\\n",
      "4    2009-01-05  77.65  84.40  48.61  5.83  49.62   56.66   1.4708  8.333553   \n",
      "5    2009-01-06  81.25  88.50  48.56  6.10  50.53   59.88   1.4919  8.933497   \n",
      "6    2009-01-07  78.65  86.25  42.75  5.89  45.86   58.03   1.5111  8.768913   \n",
      "7    2009-01-08  79.15  84.00  41.68  5.96  44.67   55.74   1.5202  8.473595   \n",
      "8    2009-01-09  76.90  83.50  40.69  5.60  44.42   56.42   1.5111  8.525626   \n",
      "...         ...    ...    ...    ...   ...    ...     ...      ...       ...   \n",
      "4254 2020-08-25  49.75  48.90  43.17  2.54  45.86   24.61   1.3148  3.235723   \n",
      "4255 2020-08-26  49.70  48.95  43.21  2.52  45.64   25.10   1.3193  3.311443   \n",
      "4256 2020-08-27  49.80  48.90  42.88  2.52  45.09   26.68   1.3206  3.523361   \n",
      "4257 2020-08-28  50.60  52.20  42.96  2.46  45.81   28.95   1.3344  3.863088   \n",
      "4260 2020-08-31  51.95  52.90  42.61  2.30  45.28   28.95   1.3379  3.873220   \n",
      "\n",
      "         NCF_r     RCF_r     WTI_r      HH_r   Brent_r  NBP_UK_r  GBP-USD_r  \\\n",
      "4     0.044385  0.041975  0.052848  0.077634  0.057770  0.035075   0.017643   \n",
      "5     0.046362  0.048578 -0.001029  0.046312  0.018339  0.056830   0.014346   \n",
      "6    -0.032000 -0.025424 -0.119646 -0.034426 -0.092420 -0.030895   0.012869   \n",
      "7     0.006357 -0.026087 -0.025029  0.011885 -0.025949 -0.039462   0.006022   \n",
      "8    -0.028427 -0.005952 -0.023752 -0.060403 -0.005597  0.012199  -0.005986   \n",
      "...        ...       ...       ...       ...       ...       ...        ...   \n",
      "4254  0.001006  0.002049  0.017201 -0.011673  0.016175  0.059862   0.006738   \n",
      "4255 -0.001005  0.001022  0.000927 -0.007874 -0.004797  0.019911   0.003423   \n",
      "4256  0.002012 -0.001021 -0.007637  0.000000 -0.012051  0.062948   0.000985   \n",
      "4257  0.016064  0.067485  0.001866 -0.023810  0.015968  0.085082   0.010450   \n",
      "4260  0.026680  0.013410 -0.008147 -0.065041 -0.011570  0.000000   0.002623   \n",
      "\n",
      "         NBP_r  \n",
      "4     0.053337  \n",
      "5     0.071991  \n",
      "6    -0.018423  \n",
      "7    -0.033678  \n",
      "8     0.006140  \n",
      "...        ...  \n",
      "4254  0.067004  \n",
      "4255  0.023401  \n",
      "4256  0.063996  \n",
      "4257  0.096421  \n",
      "4260  0.002623  \n",
      "\n",
      "[2855 rows x 17 columns]\n"
     ]
    }
   ],
   "source": [
    "## price return calculations ##\n",
    "\n",
    "for col in df.columns[1:9]:\n",
    "    df[col+'_r'] = (df[col].pct_change())\n",
    "df = df.dropna()\n",
    "print(df)"
   ]
  },
  {
   "cell_type": "code",
   "execution_count": 3,
   "metadata": {},
   "outputs": [
    {
     "name": "stderr",
     "output_type": "stream",
     "text": [
      "C:\\Users\\User\\Anaconda3\\envs\\joe_phd\\lib\\site-packages\\statsmodels\\tsa\\base\\tsa_model.py:214: ValueWarning: An unsupported index was provided and will be ignored when e.g. forecasting.\n",
      "  ' ignored when e.g. forecasting.', ValueWarning)\n"
     ]
    },
    {
     "data": {
      "text/html": [
       "<table class=\"simpletable\">\n",
       "<caption>Markov Switching Model Results</caption>\n",
       "<tr>\n",
       "  <th>Dep. Variable:</th>          <td>HH</td>        <th>  No. Observations:  </th>   <td>2855</td>   \n",
       "</tr>\n",
       "<tr>\n",
       "  <th>Model:</th>           <td>MarkovRegression</td> <th>  Log Likelihood     </th> <td>-2306.739</td>\n",
       "</tr>\n",
       "<tr>\n",
       "  <th>Date:</th>            <td>Mon, 15 Nov 2021</td> <th>  AIC                </th> <td>4625.477</td> \n",
       "</tr>\n",
       "<tr>\n",
       "  <th>Time:</th>                <td>17:52:26</td>     <th>  BIC                </th> <td>4661.218</td> \n",
       "</tr>\n",
       "<tr>\n",
       "  <th>Sample:</th>                  <td>0</td>        <th>  HQIC               </th> <td>4638.366</td> \n",
       "</tr>\n",
       "<tr>\n",
       "  <th></th>                      <td> - 2855</td>     <th>                     </th>     <td> </td>    \n",
       "</tr>\n",
       "<tr>\n",
       "  <th>Covariance Type:</th>      <td>approx</td>      <th>                     </th>     <td> </td>    \n",
       "</tr>\n",
       "</table>\n",
       "<table class=\"simpletable\">\n",
       "<caption>Regime 0 parameters</caption>\n",
       "<tr>\n",
       "     <td></td>       <th>coef</th>     <th>std err</th>      <th>z</th>      <th>P>|z|</th>  <th>[0.025</th>    <th>0.975]</th>  \n",
       "</tr>\n",
       "<tr>\n",
       "  <th>const</th>  <td>    2.5834</td> <td>    0.014</td> <td>  190.277</td> <td> 0.000</td> <td>    2.557</td> <td>    2.610</td>\n",
       "</tr>\n",
       "<tr>\n",
       "  <th>sigma2</th> <td>    0.1964</td> <td>    0.008</td> <td>   24.811</td> <td> 0.000</td> <td>    0.181</td> <td>    0.212</td>\n",
       "</tr>\n",
       "</table>\n",
       "<table class=\"simpletable\">\n",
       "<caption>Regime 1 parameters</caption>\n",
       "<tr>\n",
       "     <td></td>       <th>coef</th>     <th>std err</th>      <th>z</th>      <th>P>|z|</th>  <th>[0.025</th>    <th>0.975]</th>  \n",
       "</tr>\n",
       "<tr>\n",
       "  <th>const</th>  <td>    4.0697</td> <td>    0.021</td> <td>  191.624</td> <td> 0.000</td> <td>    4.028</td> <td>    4.111</td>\n",
       "</tr>\n",
       "<tr>\n",
       "  <th>sigma2</th> <td>    0.4399</td> <td>    0.018</td> <td>   24.967</td> <td> 0.000</td> <td>    0.405</td> <td>    0.474</td>\n",
       "</tr>\n",
       "</table>\n",
       "<table class=\"simpletable\">\n",
       "<caption>Regime transition parameters</caption>\n",
       "<tr>\n",
       "     <td></td>        <th>coef</th>     <th>std err</th>      <th>z</th>      <th>P>|z|</th>  <th>[0.025</th>    <th>0.975]</th>  \n",
       "</tr>\n",
       "<tr>\n",
       "  <th>p[0->0]</th> <td>    0.9961</td> <td>    0.002</td> <td>  604.942</td> <td> 0.000</td> <td>    0.993</td> <td>    0.999</td>\n",
       "</tr>\n",
       "<tr>\n",
       "  <th>p[1->0]</th> <td>    0.0047</td> <td>    0.002</td> <td>    2.388</td> <td> 0.017</td> <td>    0.001</td> <td>    0.008</td>\n",
       "</tr>\n",
       "</table><br/><br/>Warnings:<br/>[1] Covariance matrix calculated using numerical (complex-step) differentiation."
      ],
      "text/plain": [
       "<class 'statsmodels.iolib.summary.Summary'>\n",
       "\"\"\"\n",
       "                        Markov Switching Model Results                        \n",
       "==============================================================================\n",
       "Dep. Variable:                     HH   No. Observations:                 2855\n",
       "Model:               MarkovRegression   Log Likelihood               -2306.739\n",
       "Date:                Mon, 15 Nov 2021   AIC                           4625.477\n",
       "Time:                        17:52:26   BIC                           4661.218\n",
       "Sample:                             0   HQIC                          4638.366\n",
       "                               - 2855                                         \n",
       "Covariance Type:               approx                                         \n",
       "                             Regime 0 parameters                              \n",
       "==============================================================================\n",
       "                 coef    std err          z      P>|z|      [0.025      0.975]\n",
       "------------------------------------------------------------------------------\n",
       "const          2.5834      0.014    190.277      0.000       2.557       2.610\n",
       "sigma2         0.1964      0.008     24.811      0.000       0.181       0.212\n",
       "                             Regime 1 parameters                              \n",
       "==============================================================================\n",
       "                 coef    std err          z      P>|z|      [0.025      0.975]\n",
       "------------------------------------------------------------------------------\n",
       "const          4.0697      0.021    191.624      0.000       4.028       4.111\n",
       "sigma2         0.4399      0.018     24.967      0.000       0.405       0.474\n",
       "                         Regime transition parameters                         \n",
       "==============================================================================\n",
       "                 coef    std err          z      P>|z|      [0.025      0.975]\n",
       "------------------------------------------------------------------------------\n",
       "p[0->0]        0.9961      0.002    604.942      0.000       0.993       0.999\n",
       "p[1->0]        0.0047      0.002      2.388      0.017       0.001       0.008\n",
       "==============================================================================\n",
       "\n",
       "Warnings:\n",
       "[1] Covariance matrix calculated using numerical (complex-step) differentiation.\n",
       "\"\"\""
      ]
     },
     "execution_count": 3,
     "metadata": {},
     "output_type": "execute_result"
    }
   ],
   "source": [
    "## markov regime switching for univariate analysis ##\n",
    "\n",
    "mod = sm.tsa.MarkovRegression(df[\"HH\"], k_regimes=2, switching_variance = True)\n",
    "res_mod = mod.fit()\n",
    "res_mod.summary()"
   ]
  },
  {
   "cell_type": "code",
   "execution_count": 4,
   "metadata": {},
   "outputs": [
    {
     "data": {
      "text/plain": [
       "<matplotlib.axes._subplots.AxesSubplot at 0x1865f8c97c8>"
      ]
     },
     "execution_count": 4,
     "metadata": {},
     "output_type": "execute_result"
    },
    {
     "data": {
      "image/png": "[encoded data removed]",
      "text/plain": [
       "<Figure size 864x144 with 1 Axes>"
      ]
     },
     "metadata": {
      "needs_background": "light"
     },
     "output_type": "display_data"
    }
   ],
   "source": [
    "res_mod.filtered_marginal_probabilities[1].plot(\n",
    "    title='Probability of being in the high regime', figsize=(12,2))"
   ]
  },
  {
   "cell_type": "code",
   "execution_count": 5,
   "metadata": {},
   "outputs": [
    {
     "data": {
      "text/plain": [
       "[<matplotlib.lines.Line2D at 0x1865c770dc8>]"
      ]
     },
     "execution_count": 5,
     "metadata": {},
     "output_type": "execute_result"
    },
    {
     "data": {
      "image/png": "[encoded data removed]",
      "text/plain": [
       "<Figure size 432x288 with 1 Axes>"
      ]
     },
     "metadata": {
      "needs_background": "light"
     },
     "output_type": "display_data"
    }
   ],
   "source": [
    "plt.plot(df[\"WTI\"])"
   ]
  },
  {
   "cell_type": "code",
   "execution_count": 6,
   "metadata": {},
   "outputs": [
    {
     "name": "stderr",
     "output_type": "stream",
     "text": [
      "C:\\Users\\User\\Anaconda3\\envs\\joe_phd\\lib\\site-packages\\statsmodels\\tsa\\base\\tsa_model.py:214: ValueWarning: An unsupported index was provided and will be ignored when e.g. forecasting.\n",
      "  ' ignored when e.g. forecasting.', ValueWarning)\n",
      "C:\\Users\\User\\Anaconda3\\envs\\joe_phd\\lib\\site-packages\\statsmodels\\tsa\\regime_switching\\markov_switching.py:1287: EstimationWarning: Invalid regime transition probabilities estimated in EM iteration; probabilities have been re-scaled to continue estimation.\n",
      "  EstimationWarning)\n",
      "C:\\Users\\User\\Anaconda3\\envs\\joe_phd\\lib\\site-packages\\statsmodels\\tsa\\regime_switching\\markov_switching.py:1287: EstimationWarning: Invalid regime transition probabilities estimated in EM iteration; probabilities have been re-scaled to continue estimation.\n",
      "  EstimationWarning)\n",
      "C:\\Users\\User\\Anaconda3\\envs\\joe_phd\\lib\\site-packages\\statsmodels\\tsa\\regime_switching\\markov_switching.py:1457: RuntimeWarning: divide by zero encountered in log\n",
      "  np.log(1 + sum_exp - exp[i]) +\n"
     ]
    },
    {
     "ename": "ValueError",
     "evalue": "Could not untransform parameters.",
     "output_type": "error",
     "traceback": [
      "\u001b[1;31m---------------------------------------------------------------------------\u001b[0m",
      "\u001b[1;31mValueError\u001b[0m                                Traceback (most recent call last)",
      "\u001b[1;32m<ipython-input-6-8cc4b9dadaa1>\u001b[0m in \u001b[0;36m<module>\u001b[1;34m\u001b[0m\n\u001b[0;32m      2\u001b[0m \u001b[1;33m\u001b[0m\u001b[0m\n\u001b[0;32m      3\u001b[0m \u001b[0mmod\u001b[0m \u001b[1;33m=\u001b[0m \u001b[0msm\u001b[0m\u001b[1;33m.\u001b[0m\u001b[0mtsa\u001b[0m\u001b[1;33m.\u001b[0m\u001b[0mMarkovRegression\u001b[0m\u001b[1;33m(\u001b[0m\u001b[0mdf\u001b[0m\u001b[1;33m[\u001b[0m\u001b[1;34m\"GBP-USD\"\u001b[0m\u001b[1;33m]\u001b[0m\u001b[1;33m,\u001b[0m \u001b[0mk_regimes\u001b[0m\u001b[1;33m=\u001b[0m\u001b[1;36m3\u001b[0m\u001b[1;33m,\u001b[0m \u001b[0mswitching_variance\u001b[0m \u001b[1;33m=\u001b[0m \u001b[1;32mTrue\u001b[0m\u001b[1;33m)\u001b[0m\u001b[1;33m\u001b[0m\u001b[1;33m\u001b[0m\u001b[0m\n\u001b[1;32m----> 4\u001b[1;33m \u001b[0mres_mod\u001b[0m \u001b[1;33m=\u001b[0m \u001b[0mmod\u001b[0m\u001b[1;33m.\u001b[0m\u001b[0mfit\u001b[0m\u001b[1;33m(\u001b[0m\u001b[1;33m)\u001b[0m\u001b[1;33m\u001b[0m\u001b[1;33m\u001b[0m\u001b[0m\n\u001b[0m\u001b[0;32m      5\u001b[0m \u001b[0mres_mod\u001b[0m\u001b[1;33m.\u001b[0m\u001b[0msummary\u001b[0m\u001b[1;33m(\u001b[0m\u001b[1;33m)\u001b[0m\u001b[1;33m\u001b[0m\u001b[1;33m\u001b[0m\u001b[0m\n",
      "\u001b[1;32m~\\Anaconda3\\envs\\joe_phd\\lib\\site-packages\\statsmodels\\tsa\\regime_switching\\markov_switching.py\u001b[0m in \u001b[0;36mfit\u001b[1;34m(self, start_params, transformed, cov_type, cov_kwds, method, maxiter, full_output, disp, callback, return_params, em_iter, search_reps, search_iter, search_scale, **kwargs)\u001b[0m\n\u001b[0;32m   1111\u001b[0m \u001b[1;33m\u001b[0m\u001b[0m\n\u001b[0;32m   1112\u001b[0m         \u001b[1;32mif\u001b[0m \u001b[0mtransformed\u001b[0m\u001b[1;33m:\u001b[0m\u001b[1;33m\u001b[0m\u001b[1;33m\u001b[0m\u001b[0m\n\u001b[1;32m-> 1113\u001b[1;33m             \u001b[0mstart_params\u001b[0m \u001b[1;33m=\u001b[0m \u001b[0mself\u001b[0m\u001b[1;33m.\u001b[0m\u001b[0muntransform_params\u001b[0m\u001b[1;33m(\u001b[0m\u001b[0mstart_params\u001b[0m\u001b[1;33m)\u001b[0m\u001b[1;33m\u001b[0m\u001b[1;33m\u001b[0m\u001b[0m\n\u001b[0m\u001b[0;32m   1114\u001b[0m \u001b[1;33m\u001b[0m\u001b[0m\n\u001b[0;32m   1115\u001b[0m         \u001b[1;31m# Maximum likelihood estimation by scoring\u001b[0m\u001b[1;33m\u001b[0m\u001b[1;33m\u001b[0m\u001b[1;33m\u001b[0m\u001b[0m\n",
      "\u001b[1;32m~\\Anaconda3\\envs\\joe_phd\\lib\\site-packages\\statsmodels\\tsa\\regime_switching\\markov_regression.py\u001b[0m in \u001b[0;36muntransform_params\u001b[1;34m(self, constrained)\u001b[0m\n\u001b[0;32m    402\u001b[0m         \u001b[1;31m# Inherited parameters\u001b[0m\u001b[1;33m\u001b[0m\u001b[1;33m\u001b[0m\u001b[1;33m\u001b[0m\u001b[0m\n\u001b[0;32m    403\u001b[0m         unconstrained = super(MarkovRegression, self).untransform_params(\n\u001b[1;32m--> 404\u001b[1;33m             constrained)\n\u001b[0m\u001b[0;32m    405\u001b[0m \u001b[1;33m\u001b[0m\u001b[0m\n\u001b[0;32m    406\u001b[0m         \u001b[1;31m# Nothing to do for regression coefficients\u001b[0m\u001b[1;33m\u001b[0m\u001b[1;33m\u001b[0m\u001b[1;33m\u001b[0m\u001b[0m\n",
      "\u001b[1;32m~\\Anaconda3\\envs\\joe_phd\\lib\\site-packages\\statsmodels\\tsa\\regime_switching\\markov_switching.py\u001b[0m in \u001b[0;36muntransform_params\u001b[1;34m(self, constrained)\u001b[0m\n\u001b[0;32m   1501\u001b[0m                                args=(constrained[s],))\n\u001b[0;32m   1502\u001b[0m                     \u001b[1;32mif\u001b[0m \u001b[1;32mnot\u001b[0m \u001b[0mout\u001b[0m\u001b[1;33m[\u001b[0m\u001b[1;34m'success'\u001b[0m\u001b[1;33m]\u001b[0m\u001b[1;33m:\u001b[0m\u001b[1;33m\u001b[0m\u001b[1;33m\u001b[0m\u001b[0m\n\u001b[1;32m-> 1503\u001b[1;33m                         \u001b[1;32mraise\u001b[0m \u001b[0mValueError\u001b[0m\u001b[1;33m(\u001b[0m\u001b[1;34m'Could not untransform parameters.'\u001b[0m\u001b[1;33m)\u001b[0m\u001b[1;33m\u001b[0m\u001b[1;33m\u001b[0m\u001b[0m\n\u001b[0m\u001b[0;32m   1504\u001b[0m                     \u001b[0munconstrained\u001b[0m\u001b[1;33m[\u001b[0m\u001b[0ms\u001b[0m\u001b[1;33m]\u001b[0m \u001b[1;33m=\u001b[0m \u001b[0mout\u001b[0m\u001b[1;33m[\u001b[0m\u001b[1;34m'x'\u001b[0m\u001b[1;33m]\u001b[0m\u001b[1;33m\u001b[0m\u001b[1;33m\u001b[0m\u001b[0m\n\u001b[0;32m   1505\u001b[0m \u001b[1;33m\u001b[0m\u001b[0m\n",
      "\u001b[1;31mValueError\u001b[0m: Could not untransform parameters."
     ]
    }
   ],
   "source": [
    "## markov regime switching for univariate returns analysis ##\n",
    "\n",
    "mod = sm.tsa.MarkovRegression(df[\"GBP-USD\"], k_regimes=3, switching_variance = True)\n",
    "res_mod = mod.fit()\n",
    "res_mod.summary()"
   ]
  },
  {
   "cell_type": "code",
   "execution_count": null,
   "metadata": {},
   "outputs": [],
   "source": []
  }
 ],
 "metadata": {
  "kernelspec": {
   "display_name": "Python 3",
   "language": "python",
   "name": "python3"
  },
  "language_info": {
   "codemirror_mode": {
    "name": "ipython",
    "version": 3
   },
   "file_extension": ".py",
   "mimetype": "text/x-python",
   "name": "python",
   "nbconvert_exporter": "python",
   "pygments_lexer": "ipython3",
   "version": "3.7.7"
  }
 },
 "nbformat": 4,
 "nbformat_minor": 4
}
