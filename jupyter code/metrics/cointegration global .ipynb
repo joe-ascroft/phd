{
 "cells": [
  {
   "cell_type": "code",
   "execution_count": 1,
   "metadata": {},
   "outputs": [
    {
     "name": "stdout",
     "output_type": "stream",
     "text": [
      "           DATE    NCF    RCF    WTI    HH  Brent  NBP_UK  GBP-USD       NBP\n",
      "0    2009-01-02  74.35  81.00  46.17  5.41  46.91   54.74   1.4453  7.911572\n",
      "1    2009-01-05  77.65  84.40  48.61  5.83  49.62   56.66   1.4708  8.333553\n",
      "2    2009-01-06  81.25  88.50  48.56  6.10  50.53   59.88   1.4919  8.933497\n",
      "3    2009-01-07  78.65  86.25  42.75  5.89  45.86   58.03   1.5111  8.768913\n",
      "4    2009-01-08  79.15  84.00  41.68  5.96  44.67   55.74   1.5202  8.473595\n",
      "...         ...    ...    ...    ...   ...    ...     ...      ...       ...\n",
      "2851 2020-08-25  49.75  48.90  43.17  2.54  45.86   24.61   1.3148  3.235723\n",
      "2852 2020-08-26  49.70  48.95  43.21  2.52  45.64   25.10   1.3193  3.311443\n",
      "2853 2020-08-27  49.80  48.90  42.88  2.52  45.09   26.68   1.3206  3.523361\n",
      "2854 2020-08-28  50.60  52.20  42.96  2.46  45.81   28.95   1.3344  3.863088\n",
      "2855 2020-08-31  51.95  52.90  42.61  2.30  45.28   28.95   1.3379  3.873220\n",
      "\n",
      "[2856 rows x 9 columns]\n"
     ]
    }
   ],
   "source": [
    "import numpy as np\n",
    "import pandas as pd\n",
    "import datetime as dt\n",
    "import datapackage\n",
    "import matplotlib.pyplot as plt\n",
    "import matplotlib.dates as dates\n",
    "import statsmodels.api as sm\n",
    "import statsmodels.formula.api as smf\n",
    "import statsmodels.tsa.stattools as ts\n",
    "\n",
    "### STARGAZER ###\n",
    "\n",
    "from stargazer.stargazer import Stargazer, LineLocation\n",
    "\n",
    "url = 'https://raw.githubusercontent.com/joe-ascroft/phd/master/data/df_clean.csv'\n",
    "df = pd.read_csv(url)\n",
    "df[\"DATE\"] = pd.to_datetime(df[\"DATE\"],dayfirst=True)\n",
    "for col in df.columns[1:]:\n",
    "    df[col] = pd.to_numeric(df[col],errors='coerce')\n",
    "\n",
    "print(df)"
   ]
  },
  {
   "cell_type": "code",
   "execution_count": 7,
   "metadata": {},
   "outputs": [],
   "source": [
    "## WTI cointegration testing ##\n",
    "\n",
    "result1 = smf.ols(formula=\"WTI ~ HH\", data=df).fit()\n",
    "result2 = smf.ols(formula=\"WTI ~ NCF\", data=df).fit()\n",
    "result3 = smf.ols(formula=\"WTI ~ RCF\", data=df).fit()\n",
    "result4 = smf.ols(formula=\"WTI ~ NBP\", data=df).fit()\n",
    "result5 = smf.ols(formula=\"WTI ~ Brent\", data=df).fit()"
   ]
  },
  {
   "cell_type": "code",
   "execution_count": 8,
   "metadata": {},
   "outputs": [],
   "source": [
    "test1 = ts.adfuller(result1.resid,autolag=\"AIC\")\n",
    "test2 = ts.adfuller(result2.resid,autolag=\"AIC\")\n",
    "test3 = ts.adfuller(result3.resid,autolag=\"AIC\")\n",
    "test4 = ts.adfuller(result4.resid,autolag=\"AIC\")\n",
    "test5 = ts.adfuller(result5.resid,autolag=\"AIC\")"
   ]
  },
  {
   "cell_type": "code",
   "execution_count": 17,
   "metadata": {},
   "outputs": [
    {
     "name": "stdout",
     "output_type": "stream",
     "text": [
      "(-4.212271761042187, 0.0006280830081228729, 22, 2833, {'1%': -3.4326603547704777, '5%': -2.8625607552127157, '10%': -2.56731337858398}, 9952.946655619027)\n"
     ]
    }
   ],
   "source": [
    "print(test5)\n"
   ]
  },
  {
   "cell_type": "code",
   "execution_count": 3,
   "metadata": {},
   "outputs": [
    {
     "name": "stdout",
     "output_type": "stream",
     "text": [
      "\\begin{table}[!htbp] \\centering\n",
      "\\begin{tabular}{@{\\extracolsep{5pt}}lccccc}\n",
      "\\\\[-1.8ex]\\hline\n",
      "\\hline \\\\[-1.8ex]\n",
      "& \\multicolumn{5}{c}{\\textit{Dependent variable:}} \\\n",
      "\\cr \\cline{5-6}\n",
      "\\\\[-1.8ex] & (1) & (2) & (3) & (4) & (5) \\\\\n",
      "\\hline \\\\[-1.8ex]\n",
      " Brent & & & & & 0.846$^{***}$ \\\\\n",
      "  & & & & & (0.003) \\\\\n",
      " HH & 13.154$^{***}$ & & & & \\\\\n",
      "  & (0.386) & & & & \\\\\n",
      " Intercept & 26.498$^{***}$ & 21.251$^{***}$ & 14.569$^{***}$ & 20.768$^{***}$ & 4.898$^{***}$ \\\\\n",
      "  & (1.307) & (1.492) & (1.269) & (0.843) & (0.273) \\\\\n",
      " NBP & & & & 7.058$^{***}$ & \\\\\n",
      "  & & & & (0.116) & \\\\\n",
      " NCF & & 0.573$^{***}$ & & & \\\\\n",
      "  & & (0.017) & & & \\\\\n",
      " RCF & & & 0.699$^{***}$ & & \\\\\n",
      "  & & & (0.016) & & \\\\\n",
      "\\hline \\\\[-1.8ex]\n",
      " Observations & 2,856 & 2,856 & 2,856 & 2,856 & 2,856 \\\\\n",
      " $R^2$ & 0.290 & 0.279 & 0.412 & 0.567 & 0.956 \\\\\n",
      " Adjusted $R^2$ & 0.289 & 0.279 & 0.411 & 0.567 & 0.956 \\\\\n",
      " Residual Std. Error & 19.068(df = 2854) & 19.208(df = 2854) & 17.355(df = 2854) & 14.893(df = 2854) & 4.739(df = 2854)  \\\\\n",
      " F Statistic & 1163.781$^{***}$ (df = 1.0; 2854.0) & 1105.351$^{***}$ (df = 1.0; 2854.0) & 1995.976$^{***}$ (df = 1.0; 2854.0) & 3732.430$^{***}$ (df = 1.0; 2854.0) & 62197.873$^{***}$ (df = 1.0; 2854.0) \\\\\n",
      "\\hline\n",
      "\\hline \\\\[-1.8ex]\n",
      "\\textit{Note:} & \\multicolumn{5}{r}{$^{*}$p$<$0.1; $^{**}$p$<$0.05; $^{***}$p$<$0.01} \\\\\n",
      "\\end{tabular}\n",
      "\\end{table}\n"
     ]
    }
   ],
   "source": [
    "star = Stargazer([result1,result2,result3,result4,result5])\n",
    "print(star.render_latex())"
   ]
  },
  {
   "cell_type": "code",
   "execution_count": 45,
   "metadata": {},
   "outputs": [],
   "source": [
    "## HH cointegration testing ##\n",
    "\n",
    "\n",
    "result3 = smf.ols(formula=\"Brent ~ NBP\", data=df).fit()\n",
    "\n",
    "test3 = ts.adfuller(result3.resid,autolag=\"AIC\")"
   ]
  },
  {
   "cell_type": "code",
   "execution_count": 46,
   "metadata": {},
   "outputs": [
    {
     "name": "stdout",
     "output_type": "stream",
     "text": [
      "(-3.74713043326244, 0.0034969994026860956, 0, 2855, {'1%': -3.432642535640906, '5%': -2.8625528854376623, '10%': -2.567309188752335}, 11626.906643935337)\n"
     ]
    }
   ],
   "source": [
    "print(test3)"
   ]
  },
  {
   "cell_type": "code",
   "execution_count": 5,
   "metadata": {},
   "outputs": [
    {
     "name": "stdout",
     "output_type": "stream",
     "text": [
      "\\begin{table}[!htbp] \\centering\n",
      "\\begin{tabular}{@{\\extracolsep{5pt}}lcccc}\n",
      "\\\\[-1.8ex]\\hline\n",
      "\\hline \\\\[-1.8ex]\n",
      "& \\multicolumn{4}{c}{\\textit{Dependent variable:}} \\\n",
      "\\cr \\cline{4-5}\n",
      "\\\\[-1.8ex] & (1) & (2) & (3) & (4) \\\\\n",
      "\\hline \\\\[-1.8ex]\n",
      " Brent & & & & 0.017$^{***}$ \\\\\n",
      "  & & & & (0.001) \\\\\n",
      " Intercept & 1.926$^{***}$ & 1.551$^{***}$ & 2.053$^{***}$ & 1.981$^{***}$ \\\\\n",
      "  & (0.067) & (0.059) & (0.047) & (0.047) \\\\\n",
      " NBP & & & 0.175$^{***}$ & \\\\\n",
      "  & & & (0.006) & \\\\\n",
      " NCF & 0.016$^{***}$ & & & \\\\\n",
      "  & (0.001) & & & \\\\\n",
      " RCF & & 0.022$^{***}$ & & \\\\\n",
      "  & & (0.001) & & \\\\\n",
      "\\hline \\\\[-1.8ex]\n",
      " Observations & 2,856 & 2,856 & 2,856 & 2,856 \\\\\n",
      " $R^2$ & 0.128 & 0.239 & 0.209 & 0.225 \\\\\n",
      " Adjusted $R^2$ & 0.128 & 0.239 & 0.209 & 0.224 \\\\\n",
      " Residual Std. Error & 0.864(df = 2854) & 0.807(df = 2854) & 0.823(df = 2854) & 0.815(df = 2854)  \\\\\n",
      " F Statistic & 419.917$^{***}$ (df = 1.0; 2854.0) & 897.358$^{***}$ (df = 1.0; 2854.0) & 753.579$^{***}$ (df = 1.0; 2854.0) & 827.237$^{***}$ (df = 1.0; 2854.0) \\\\\n",
      "\\hline\n",
      "\\hline \\\\[-1.8ex]\n",
      "\\textit{Note:} & \\multicolumn{4}{r}{$^{*}$p$<$0.1; $^{**}$p$<$0.05; $^{***}$p$<$0.01} \\\\\n",
      "\\end{tabular}\n",
      "\\end{table}\n"
     ]
    }
   ],
   "source": [
    "star = Stargazer([result1,result2,result3,result4])\n",
    "print(star.render_latex())"
   ]
  },
  {
   "cell_type": "code",
   "execution_count": null,
   "metadata": {},
   "outputs": [],
   "source": []
  }
 ],
 "metadata": {
  "kernelspec": {
   "display_name": "Python 3",
   "language": "python",
   "name": "python3"
  },
  "language_info": {
   "codemirror_mode": {
    "name": "ipython",
    "version": 3
   },
   "file_extension": ".py",
   "mimetype": "text/x-python",
   "name": "python",
   "nbconvert_exporter": "python",
   "pygments_lexer": "ipython3",
   "version": "3.8.5"
  }
 },
 "nbformat": 4,
 "nbformat_minor": 4
}
