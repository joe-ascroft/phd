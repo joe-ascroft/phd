{
 "cells": [
  {
   "cell_type": "code",
   "execution_count": 2,
   "metadata": {},
   "outputs": [
    {
     "name": "stdout",
     "output_type": "stream",
     "text": [
      "          DATE    NCF    RCF    WTI    HH  Brent  NBP_UK  GBP-USD       NBP\n",
      "0      2/01/09  74.35  81.00  46.17  5.41  46.91   54.74   1.4453  7.911572\n",
      "1      5/01/09  77.65  84.40  48.61  5.83  49.62   56.66   1.4708  8.333553\n",
      "2      6/01/09  81.25  88.50  48.56  6.10  50.53   59.88   1.4919  8.933497\n",
      "3      7/01/09  78.65  86.25  42.75  5.89  45.86   58.03   1.5111  8.768913\n",
      "4      8/01/09  79.15  84.00  41.68  5.96  44.67   55.74   1.5202  8.473595\n",
      "...        ...    ...    ...    ...   ...    ...     ...      ...       ...\n",
      "2851  25/08/20  49.75  48.90  43.17  2.54  45.86   24.61   1.3148  3.235723\n",
      "2852  26/08/20  49.70  48.95  43.21  2.52  45.64   25.10   1.3193  3.311443\n",
      "2853  27/08/20  49.80  48.90  42.88  2.52  45.09   26.68   1.3206  3.523361\n",
      "2854  28/08/20  50.60  52.20  42.96  2.46  45.81   28.95   1.3344  3.863088\n",
      "2855  31/08/20  51.95  52.90  42.61  2.30  45.28   28.95   1.3379  3.873220\n",
      "\n",
      "[2856 rows x 9 columns]\n"
     ]
    }
   ],
   "source": [
    "import numpy as np\n",
    "import pandas as pd\n",
    "import datetime as dt\n",
    "import datapackage\n",
    "import matplotlib.pyplot as plt\n",
    "import matplotlib.dates as dates\n",
    "\n",
    "## investigating volatility linkages between oil, gas, and regionalised coal futures markets ##\n",
    "\n",
    "## load data from Github into new frame and remove rows with absent data ##\n",
    "\n",
    "url = 'https://raw.githubusercontent.com/joe-ascroft/phd/master/data/df_clean.csv'\n",
    "df = pd.read_csv(url)\n",
    "for col in df.columns[1:]:\n",
    "    df[col] = pd.to_numeric(df[col],errors='coerce')\n",
    "\n",
    "df = df.dropna()\n",
    "print(df)"
   ]
  },
  {
   "cell_type": "code",
   "execution_count": 3,
   "metadata": {},
   "outputs": [
    {
     "name": "stdout",
     "output_type": "stream",
     "text": [
      "          DATE     WTI_HH     WTI_B    WTI_NBP   WTI_NCF   WTI_RCF      HH_B  \\\n",
      "0      2/01/09   8.534196  0.984225   5.835755  0.620982  0.570000  0.115327   \n",
      "1      5/01/09   8.337907  0.979645   5.833046  0.626014  0.575948  0.117493   \n",
      "2      6/01/09   7.960656  0.961013   5.435721  0.597662  0.548701  0.120720   \n",
      "3      7/01/09   7.258065  0.932185   4.875176  0.543547  0.495652  0.128434   \n",
      "4      8/01/09   6.993289  0.933065   4.918810  0.526595  0.496190  0.133423   \n",
      "...        ...        ...       ...        ...       ...       ...       ...   \n",
      "2851  25/08/20  16.996063  0.941343  13.341687  0.867739  0.882822  0.055386   \n",
      "2852  26/08/20  17.146825  0.946757  13.048692  0.869416  0.882737  0.055215   \n",
      "2853  27/08/20  17.015873  0.950987  12.170198  0.861044  0.876892  0.055888   \n",
      "2854  28/08/20  17.463415  0.937787  11.120637  0.849012  0.822989  0.053700   \n",
      "2855  31/08/20  18.526087  0.941034  11.001181  0.820212  0.805482  0.050795   \n",
      "\n",
      "        HH_NBP    HH_NCF    HH_RCF      B_NBP     B_NCF     B_RCF   NBP_NCF  \\\n",
      "0     0.683808  0.072764  0.066790   5.929289  0.630935  0.579136  0.106410   \n",
      "1     0.699582  0.075080  0.069076   5.954243  0.639021  0.587915  0.107322   \n",
      "2     0.682823  0.075077  0.068927   5.656240  0.621908  0.570960  0.109951   \n",
      "3     0.671691  0.074889  0.068290   5.229838  0.583090  0.531710  0.111493   \n",
      "4     0.703361  0.075300  0.070952   5.271671  0.564371  0.531786  0.107057   \n",
      "...        ...       ...       ...        ...       ...       ...       ...   \n",
      "2851  0.784987  0.051055  0.051943  14.173031  0.921809  0.937832  0.065040   \n",
      "2852  0.760998  0.050704  0.051481  13.782511  0.918310  0.932380  0.066629   \n",
      "2853  0.715226  0.050602  0.051534  12.797440  0.905422  0.922086  0.070750   \n",
      "2854  0.636796  0.048617  0.047126  11.858389  0.905336  0.877586  0.076346   \n",
      "2855  0.593821  0.044273  0.043478  11.690530  0.871607  0.855955  0.074557   \n",
      "\n",
      "       NBP_RCF   NCF_RCF  \n",
      "0     0.097674  0.917901  \n",
      "1     0.098739  0.920024  \n",
      "2     0.100943  0.918079  \n",
      "3     0.101669  0.911884  \n",
      "4     0.100876  0.942262  \n",
      "...        ...       ...  \n",
      "2851  0.066170  1.017382  \n",
      "2852  0.067649  1.015322  \n",
      "2853  0.072052  1.018405  \n",
      "2854  0.074006  0.969349  \n",
      "2855  0.073218  0.982042  \n",
      "\n",
      "[2856 rows x 16 columns]\n"
     ]
    }
   ],
   "source": [
    "## price ratio calculations \n",
    "\n",
    "df_ratio = df[[\"DATE\"]].copy()\n",
    "df_ratio[\"WTI_HH\"] = df[\"WTI\"]/df[\"HH\"]\n",
    "df_ratio[\"WTI_B\"] = df[\"WTI\"]/df[\"Brent\"]\n",
    "df_ratio[\"WTI_NBP\"] = df[\"WTI\"]/df[\"NBP\"]\n",
    "df_ratio[\"WTI_NCF\"] = df[\"WTI\"]/df[\"NCF\"]\n",
    "df_ratio[\"WTI_RCF\"] = df[\"WTI\"]/df[\"RCF\"]\n",
    "\n",
    "\n",
    "df_ratio[\"HH_B\"] = df[\"HH\"]/df[\"Brent\"]\n",
    "df_ratio[\"HH_NBP\"] = df[\"HH\"]/df[\"NBP\"]\n",
    "df_ratio[\"HH_NCF\"] = df[\"HH\"]/df[\"NCF\"]\n",
    "df_ratio[\"HH_RCF\"] = df[\"HH\"]/df[\"RCF\"]\n",
    "\n",
    "\n",
    "df_ratio[\"B_NBP\"] = df[\"Brent\"]/df[\"NBP\"]\n",
    "df_ratio[\"B_NCF\"] = df[\"Brent\"]/df[\"NCF\"]\n",
    "df_ratio[\"B_RCF\"] = df[\"Brent\"]/df[\"RCF\"]\n",
    "\n",
    "df_ratio[\"NBP_NCF\"] = df[\"NBP\"]/df[\"NCF\"]\n",
    "df_ratio[\"NBP_RCF\"] = df[\"NBP\"]/df[\"RCF\"]\n",
    "\n",
    "df_ratio[\"NCF_RCF\"] = df[\"NCF\"]/df[\"RCF\"]\n",
    "\n",
    "print(df_ratio)"
   ]
  },
  {
   "cell_type": "code",
   "execution_count": null,
   "metadata": {},
   "outputs": [],
   "source": [
    "## price ratio return calculations ##\n",
    "\n",
    "df_returns[\"WTI_HH_r\"] = df[\"WTI_r\"]/df[\"HH_r\"]\n",
    "df_returns[\"NCF_RCF_r\"] = df[\"NCF_r\"]/df[\"RCF_r\"]\n",
    "df_returns[\"NCF_WTI_r\"] = df[\"NCF_r\"]/df[\"WTI_r\"]\n",
    "df_returns[\"NCF_HH_r\"] = df[\"NCF_r\"]/df[\"HH_r\"]\n",
    "df_returns[\"NCF_NBP_r\"] = df[\"NCF_r\"]/df[\"NBP_r\"]\n",
    "df_returns[\"NCF_B_r\"] = df[\"NCF_r\"]/df[\"Brent_r\"]\n",
    "df_returns[\"RCF_B_r\"] = df[\"RCF_r\"]/df[\"Brent_r\"]\n",
    "df_returns[\"RCF_NBP_r\"] = df[\"RCF_r\"]/df[\"NBP_r\"]\n",
    "df_returns[\"WTI_B_r\"] = df[\"WTI_r\"]/df[\"Brent_r\"]\n",
    "df_returns[\"NBP_B_r\"] = df[\"NBP_r\"]/df[\"Brent_r\"]\n",
    "df_returns[\"NBP_HH_r\"] = df[\"NBP_r\"]/df[\"HH_r\"]\n",
    "print(df_returns)"
   ]
  },
  {
   "cell_type": "code",
   "execution_count": 4,
   "metadata": {},
   "outputs": [],
   "source": [
    "df_ratio.to_csv('/Users/joe/Documents/GitHub/phd/data/df_ratio.csv',index=False,)"
   ]
  },
  {
   "cell_type": "code",
   "execution_count": null,
   "metadata": {},
   "outputs": [],
   "source": []
  },
  {
   "cell_type": "code",
   "execution_count": null,
   "metadata": {},
   "outputs": [],
   "source": []
  }
 ],
 "metadata": {
  "kernelspec": {
   "display_name": "Python 3",
   "language": "python",
   "name": "python3"
  },
  "language_info": {
   "codemirror_mode": {
    "name": "ipython",
    "version": 3
   },
   "file_extension": ".py",
   "mimetype": "text/x-python",
   "name": "python",
   "nbconvert_exporter": "python",
   "pygments_lexer": "ipython3",
   "version": "3.8.5"
  }
 },
 "nbformat": 4,
 "nbformat_minor": 4
}
